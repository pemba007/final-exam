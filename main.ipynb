{
  "nbformat": 4,
  "nbformat_minor": 0,
  "metadata": {
    "colab": {
      "name": "main.ipynb",
      "provenance": [],
      "authorship_tag": "ABX9TyOff1tIK6b6LNNO/HTIOMW0",
      "include_colab_link": true
    },
    "kernelspec": {
      "name": "python3",
      "display_name": "Python 3"
    },
    "language_info": {
      "name": "python"
    }
  },
  "cells": [
    {
      "cell_type": "markdown",
      "metadata": {
        "id": "view-in-github",
        "colab_type": "text"
      },
      "source": [
        "<a href=\"https://colab.research.google.com/github/pemba007/final-exam/blob/main/main.ipynb\" target=\"_parent\"><img src=\"https://colab.research.google.com/assets/colab-badge.svg\" alt=\"Open In Colab\"/></a>"
      ]
    },
    {
      "cell_type": "code",
      "source": [
        "# Installing required libraries\n",
        "!pip install fuzzy-c-means\n",
        "!pip install hmmlearn\n",
        "!pip install ReliefF"
      ],
      "metadata": {
        "id": "6kiwbDvJjhsp",
        "outputId": "07f4ec32-f6f1-4085-d734-84ba4b3b849f",
        "colab": {
          "base_uri": "https://localhost:8080/"
        }
      },
      "execution_count": 616,
      "outputs": [
        {
          "output_type": "stream",
          "name": "stdout",
          "text": [
            "Requirement already satisfied: fuzzy-c-means in /usr/local/lib/python3.7/dist-packages (1.6.3)\n",
            "Requirement already satisfied: numpy<2.0.0,>=1.21.1 in /usr/local/lib/python3.7/dist-packages (from fuzzy-c-means) (1.21.6)\n",
            "Requirement already satisfied: pydantic<2.0.0,>=1.8.2 in /usr/local/lib/python3.7/dist-packages (from fuzzy-c-means) (1.9.0)\n",
            "Requirement already satisfied: tabulate<0.9.0,>=0.8.9 in /usr/local/lib/python3.7/dist-packages (from fuzzy-c-means) (0.8.9)\n",
            "Requirement already satisfied: typer<0.4.0,>=0.3.2 in /usr/local/lib/python3.7/dist-packages (from fuzzy-c-means) (0.3.2)\n",
            "Requirement already satisfied: typing-extensions>=3.7.4.3 in /usr/local/lib/python3.7/dist-packages (from pydantic<2.0.0,>=1.8.2->fuzzy-c-means) (4.2.0)\n",
            "Requirement already satisfied: click<7.2.0,>=7.1.1 in /usr/local/lib/python3.7/dist-packages (from typer<0.4.0,>=0.3.2->fuzzy-c-means) (7.1.2)\n",
            "Requirement already satisfied: hmmlearn in /usr/local/lib/python3.7/dist-packages (0.2.7)\n",
            "Requirement already satisfied: scikit-learn>=0.16 in /usr/local/lib/python3.7/dist-packages (from hmmlearn) (1.0.2)\n",
            "Requirement already satisfied: scipy>=0.19 in /usr/local/lib/python3.7/dist-packages (from hmmlearn) (1.4.1)\n",
            "Requirement already satisfied: numpy>=1.10 in /usr/local/lib/python3.7/dist-packages (from hmmlearn) (1.21.6)\n",
            "Requirement already satisfied: threadpoolctl>=2.0.0 in /usr/local/lib/python3.7/dist-packages (from scikit-learn>=0.16->hmmlearn) (3.1.0)\n",
            "Requirement already satisfied: joblib>=0.11 in /usr/local/lib/python3.7/dist-packages (from scikit-learn>=0.16->hmmlearn) (1.1.0)\n",
            "Requirement already satisfied: ReliefF in /usr/local/lib/python3.7/dist-packages (0.1.2)\n",
            "Requirement already satisfied: numpy in /usr/local/lib/python3.7/dist-packages (from ReliefF) (1.21.6)\n",
            "Requirement already satisfied: scikit-learn in /usr/local/lib/python3.7/dist-packages (from ReliefF) (1.0.2)\n",
            "Requirement already satisfied: scipy in /usr/local/lib/python3.7/dist-packages (from ReliefF) (1.4.1)\n",
            "Requirement already satisfied: threadpoolctl>=2.0.0 in /usr/local/lib/python3.7/dist-packages (from scikit-learn->ReliefF) (3.1.0)\n",
            "Requirement already satisfied: joblib>=0.11 in /usr/local/lib/python3.7/dist-packages (from scikit-learn->ReliefF) (1.1.0)\n"
          ]
        }
      ]
    },
    {
      "cell_type": "code",
      "execution_count": 617,
      "metadata": {
        "id": "BxhosiDlY8dU"
      },
      "outputs": [],
      "source": [
        "# Importing libraries\n",
        "\n",
        "import pandas as pd\n",
        "import numpy as np\n",
        "\n",
        "import matplotlib.pyplot as plt\n",
        "import seaborn as sns"
      ]
    },
    {
      "cell_type": "code",
      "source": [
        "# Ignoring warnings\n",
        "import warnings\n",
        "warnings.filterwarnings(\"ignore\")"
      ],
      "metadata": {
        "id": "kQPC_Ekudyo8"
      },
      "execution_count": 618,
      "outputs": []
    },
    {
      "cell_type": "code",
      "source": [
        "# Reading all the datasets\n",
        "df_3 = pd.read_csv('QCM3.csv')\n",
        "df_6 = pd.read_csv('QCM6.csv')\n",
        "df_7 = pd.read_csv('QCM7.csv')\n",
        "df_10 = pd.read_csv('QCM10.csv')\n",
        "df_12 = pd.read_csv('QCM12.csv')"
      ],
      "metadata": {
        "id": "ShtbeFsFeQuK"
      },
      "execution_count": 619,
      "outputs": []
    },
    {
      "cell_type": "code",
      "source": [
        "# Libraries for preprocessing\n",
        "from sklearn.preprocessing import Normalizer\n",
        "\n",
        "# Library for model selection\n",
        "from sklearn.model_selection import train_test_split\n",
        "\n",
        "# Library for MLP, SVM, hmmlearn, K means and FCMeans\n",
        "from sklearn.neural_network import MLPClassifier\n",
        "from sklearn.svm import SVC\n",
        "from hmmlearn.hmm import GaussianHMM\n",
        "from sklearn.cluster import KMeans\n",
        "from fcmeans import FCM\n",
        "\n",
        "# Library for metrics\n",
        "from sklearn.metrics import accuracy_score, multilabel_confusion_matrix"
      ],
      "metadata": {
        "id": "ht5d6EfGgrmc"
      },
      "execution_count": 620,
      "outputs": []
    },
    {
      "cell_type": "markdown",
      "source": [
        "# Using QCM3 sensor data for classification"
      ],
      "metadata": {
        "id": "_ahFtcQKgkmZ"
      }
    },
    {
      "cell_type": "code",
      "source": [
        "# Separating features and target variable\n",
        "y = df_3['Class']\n",
        "X = df_3.drop(columns = ['Class'])"
      ],
      "metadata": {
        "id": "bapxtNSEf6SH"
      },
      "execution_count": 621,
      "outputs": []
    },
    {
      "cell_type": "markdown",
      "source": [
        "## Preprocessing"
      ],
      "metadata": {
        "id": "FoX1w8oQhIVL"
      }
    },
    {
      "cell_type": "code",
      "source": [
        "X = Normalizer().fit_transform(X)"
      ],
      "metadata": {
        "id": "wcQEmQhMhFs_"
      },
      "execution_count": 622,
      "outputs": []
    },
    {
      "cell_type": "code",
      "source": [
        "X_train, X_test, y_train, y_test = train_test_split(X, y, test_size=0.2, stratify = y)"
      ],
      "metadata": {
        "id": "lpRerygahPjY"
      },
      "execution_count": 623,
      "outputs": []
    },
    {
      "cell_type": "markdown",
      "source": [
        "## Implementing MLP"
      ],
      "metadata": {
        "id": "IzWa5WAJjWjo"
      }
    },
    {
      "cell_type": "code",
      "source": [
        "clf = MLPClassifier()\n",
        "clf.fit(X_train, y_train)\n",
        "y_pred = clf.predict(X_test)"
      ],
      "metadata": {
        "id": "b2P63xVXjYSb"
      },
      "execution_count": 624,
      "outputs": []
    },
    {
      "cell_type": "markdown",
      "source": [
        "### Metrics for MLP"
      ],
      "metadata": {
        "id": "haywXlkJkOiT"
      }
    },
    {
      "cell_type": "code",
      "source": [
        "cm = multilabel_confusion_matrix(y_test, y_pred, labels= range(5))\n",
        "\n",
        "res = []\n",
        "\n",
        "for l in range(5):\n",
        "    x = cm[l]\n",
        "    tn, fp = x[0]\n",
        "    fn, tp = x[1]\n",
        "    sensitivity = tp / (tp + fn)\n",
        "    specificity = tn / (tn + fp)\n",
        "    precision = tp / (tp + fp)\n",
        "    f1 = (2 * precision * sensitivity) / (precision + sensitivity)\n",
        "    res.append([l+1,sensitivity, specificity, f1])\n",
        "\n",
        "performance = pd.DataFrame(res, columns = ['Class','Sensitivity(Recall)','Specificity', 'F1 score'])\n",
        "\n",
        "performance['F1 score'] = performance['F1 score'].fillna(0)\n",
        "performance['Sensitivity(Recall)'] = performance['Sensitivity(Recall)'].fillna(0)\n",
        "performance['Specificity'] = performance['Specificity'].fillna(0)\n",
        "\n",
        "total_accuracy = accuracy_score(y_test, y_pred)\n",
        "print(\"The total accuracy is\", total_accuracy)\n",
        "performance"
      ],
      "metadata": {
        "colab": {
          "base_uri": "https://localhost:8080/",
          "height": 224
        },
        "id": "Grkss5FvkPmx",
        "outputId": "bcc1d0f7-2fc6-476f-8054-0a703e601e5c"
      },
      "execution_count": 625,
      "outputs": [
        {
          "output_type": "stream",
          "name": "stdout",
          "text": [
            "The total accuracy is 1.0\n"
          ]
        },
        {
          "output_type": "execute_result",
          "data": {
            "text/plain": [
              "   Class  Sensitivity(Recall)  Specificity  F1 score\n",
              "0      1                  1.0          1.0       1.0\n",
              "1      2                  1.0          1.0       1.0\n",
              "2      3                  1.0          1.0       1.0\n",
              "3      4                  1.0          1.0       1.0\n",
              "4      5                  1.0          1.0       1.0"
            ],
            "text/html": [
              "\n",
              "  <div id=\"df-57c5340e-3f9b-4443-8e69-537f10ce2262\">\n",
              "    <div class=\"colab-df-container\">\n",
              "      <div>\n",
              "<style scoped>\n",
              "    .dataframe tbody tr th:only-of-type {\n",
              "        vertical-align: middle;\n",
              "    }\n",
              "\n",
              "    .dataframe tbody tr th {\n",
              "        vertical-align: top;\n",
              "    }\n",
              "\n",
              "    .dataframe thead th {\n",
              "        text-align: right;\n",
              "    }\n",
              "</style>\n",
              "<table border=\"1\" class=\"dataframe\">\n",
              "  <thead>\n",
              "    <tr style=\"text-align: right;\">\n",
              "      <th></th>\n",
              "      <th>Class</th>\n",
              "      <th>Sensitivity(Recall)</th>\n",
              "      <th>Specificity</th>\n",
              "      <th>F1 score</th>\n",
              "    </tr>\n",
              "  </thead>\n",
              "  <tbody>\n",
              "    <tr>\n",
              "      <th>0</th>\n",
              "      <td>1</td>\n",
              "      <td>1.0</td>\n",
              "      <td>1.0</td>\n",
              "      <td>1.0</td>\n",
              "    </tr>\n",
              "    <tr>\n",
              "      <th>1</th>\n",
              "      <td>2</td>\n",
              "      <td>1.0</td>\n",
              "      <td>1.0</td>\n",
              "      <td>1.0</td>\n",
              "    </tr>\n",
              "    <tr>\n",
              "      <th>2</th>\n",
              "      <td>3</td>\n",
              "      <td>1.0</td>\n",
              "      <td>1.0</td>\n",
              "      <td>1.0</td>\n",
              "    </tr>\n",
              "    <tr>\n",
              "      <th>3</th>\n",
              "      <td>4</td>\n",
              "      <td>1.0</td>\n",
              "      <td>1.0</td>\n",
              "      <td>1.0</td>\n",
              "    </tr>\n",
              "    <tr>\n",
              "      <th>4</th>\n",
              "      <td>5</td>\n",
              "      <td>1.0</td>\n",
              "      <td>1.0</td>\n",
              "      <td>1.0</td>\n",
              "    </tr>\n",
              "  </tbody>\n",
              "</table>\n",
              "</div>\n",
              "      <button class=\"colab-df-convert\" onclick=\"convertToInteractive('df-57c5340e-3f9b-4443-8e69-537f10ce2262')\"\n",
              "              title=\"Convert this dataframe to an interactive table.\"\n",
              "              style=\"display:none;\">\n",
              "        \n",
              "  <svg xmlns=\"http://www.w3.org/2000/svg\" height=\"24px\"viewBox=\"0 0 24 24\"\n",
              "       width=\"24px\">\n",
              "    <path d=\"M0 0h24v24H0V0z\" fill=\"none\"/>\n",
              "    <path d=\"M18.56 5.44l.94 2.06.94-2.06 2.06-.94-2.06-.94-.94-2.06-.94 2.06-2.06.94zm-11 1L8.5 8.5l.94-2.06 2.06-.94-2.06-.94L8.5 2.5l-.94 2.06-2.06.94zm10 10l.94 2.06.94-2.06 2.06-.94-2.06-.94-.94-2.06-.94 2.06-2.06.94z\"/><path d=\"M17.41 7.96l-1.37-1.37c-.4-.4-.92-.59-1.43-.59-.52 0-1.04.2-1.43.59L10.3 9.45l-7.72 7.72c-.78.78-.78 2.05 0 2.83L4 21.41c.39.39.9.59 1.41.59.51 0 1.02-.2 1.41-.59l7.78-7.78 2.81-2.81c.8-.78.8-2.07 0-2.86zM5.41 20L4 18.59l7.72-7.72 1.47 1.35L5.41 20z\"/>\n",
              "  </svg>\n",
              "      </button>\n",
              "      \n",
              "  <style>\n",
              "    .colab-df-container {\n",
              "      display:flex;\n",
              "      flex-wrap:wrap;\n",
              "      gap: 12px;\n",
              "    }\n",
              "\n",
              "    .colab-df-convert {\n",
              "      background-color: #E8F0FE;\n",
              "      border: none;\n",
              "      border-radius: 50%;\n",
              "      cursor: pointer;\n",
              "      display: none;\n",
              "      fill: #1967D2;\n",
              "      height: 32px;\n",
              "      padding: 0 0 0 0;\n",
              "      width: 32px;\n",
              "    }\n",
              "\n",
              "    .colab-df-convert:hover {\n",
              "      background-color: #E2EBFA;\n",
              "      box-shadow: 0px 1px 2px rgba(60, 64, 67, 0.3), 0px 1px 3px 1px rgba(60, 64, 67, 0.15);\n",
              "      fill: #174EA6;\n",
              "    }\n",
              "\n",
              "    [theme=dark] .colab-df-convert {\n",
              "      background-color: #3B4455;\n",
              "      fill: #D2E3FC;\n",
              "    }\n",
              "\n",
              "    [theme=dark] .colab-df-convert:hover {\n",
              "      background-color: #434B5C;\n",
              "      box-shadow: 0px 1px 3px 1px rgba(0, 0, 0, 0.15);\n",
              "      filter: drop-shadow(0px 1px 2px rgba(0, 0, 0, 0.3));\n",
              "      fill: #FFFFFF;\n",
              "    }\n",
              "  </style>\n",
              "\n",
              "      <script>\n",
              "        const buttonEl =\n",
              "          document.querySelector('#df-57c5340e-3f9b-4443-8e69-537f10ce2262 button.colab-df-convert');\n",
              "        buttonEl.style.display =\n",
              "          google.colab.kernel.accessAllowed ? 'block' : 'none';\n",
              "\n",
              "        async function convertToInteractive(key) {\n",
              "          const element = document.querySelector('#df-57c5340e-3f9b-4443-8e69-537f10ce2262');\n",
              "          const dataTable =\n",
              "            await google.colab.kernel.invokeFunction('convertToInteractive',\n",
              "                                                     [key], {});\n",
              "          if (!dataTable) return;\n",
              "\n",
              "          const docLinkHtml = 'Like what you see? Visit the ' +\n",
              "            '<a target=\"_blank\" href=https://colab.research.google.com/notebooks/data_table.ipynb>data table notebook</a>'\n",
              "            + ' to learn more about interactive tables.';\n",
              "          element.innerHTML = '';\n",
              "          dataTable['output_type'] = 'display_data';\n",
              "          await google.colab.output.renderOutput(dataTable, element);\n",
              "          const docLink = document.createElement('div');\n",
              "          docLink.innerHTML = docLinkHtml;\n",
              "          element.appendChild(docLink);\n",
              "        }\n",
              "      </script>\n",
              "    </div>\n",
              "  </div>\n",
              "  "
            ]
          },
          "metadata": {},
          "execution_count": 625
        }
      ]
    },
    {
      "cell_type": "markdown",
      "source": [
        "## Implementing SVC"
      ],
      "metadata": {
        "id": "CDwQwPQ9lIDV"
      }
    },
    {
      "cell_type": "code",
      "source": [
        "clf = SVC()\n",
        "clf.fit(X_train, y_train)\n",
        "y_pred = clf.predict(X_test)"
      ],
      "metadata": {
        "id": "ytTbSIG5k7dD"
      },
      "execution_count": 626,
      "outputs": []
    },
    {
      "cell_type": "markdown",
      "source": [
        "### Metrics for SVC"
      ],
      "metadata": {
        "id": "y3pZbgXClrp-"
      }
    },
    {
      "cell_type": "code",
      "source": [
        "cm = multilabel_confusion_matrix(y_test, y_pred, labels= range(5))\n",
        "\n",
        "res = []\n",
        "\n",
        "for l in range(5):\n",
        "    x = cm[l]\n",
        "    tn, fp = x[0]\n",
        "    fn, tp = x[1]\n",
        "    sensitivity = tp / (tp + fn)\n",
        "    specificity = tn / (tn + fp)\n",
        "    precision = tp / (tp + fp)\n",
        "    f1 = (2 * precision * sensitivity) / (precision + sensitivity)\n",
        "    res.append([l+1,sensitivity, specificity, f1])\n",
        "\n",
        "performance = pd.DataFrame(res, columns = ['Class','Sensitivity(Recall)','Specificity', 'F1 score'])\n",
        "\n",
        "performance['F1 score'] = performance['F1 score'].fillna(0)\n",
        "performance['Sensitivity(Recall)'] = performance['Sensitivity(Recall)'].fillna(0)\n",
        "performance['Specificity'] = performance['Specificity'].fillna(0)\n",
        "\n",
        "total_accuracy = accuracy_score(y_test, y_pred)\n",
        "print(\"The total accuracy is\", total_accuracy)\n",
        "performance"
      ],
      "metadata": {
        "colab": {
          "base_uri": "https://localhost:8080/",
          "height": 224
        },
        "id": "rLCly3-4lqB-",
        "outputId": "ca4387f3-2c30-45d2-d72a-8f4013d312d8"
      },
      "execution_count": 627,
      "outputs": [
        {
          "output_type": "stream",
          "name": "stdout",
          "text": [
            "The total accuracy is 1.0\n"
          ]
        },
        {
          "output_type": "execute_result",
          "data": {
            "text/plain": [
              "   Class  Sensitivity(Recall)  Specificity  F1 score\n",
              "0      1                  1.0          1.0       1.0\n",
              "1      2                  1.0          1.0       1.0\n",
              "2      3                  1.0          1.0       1.0\n",
              "3      4                  1.0          1.0       1.0\n",
              "4      5                  1.0          1.0       1.0"
            ],
            "text/html": [
              "\n",
              "  <div id=\"df-636209c0-a298-499c-b007-dadd762952da\">\n",
              "    <div class=\"colab-df-container\">\n",
              "      <div>\n",
              "<style scoped>\n",
              "    .dataframe tbody tr th:only-of-type {\n",
              "        vertical-align: middle;\n",
              "    }\n",
              "\n",
              "    .dataframe tbody tr th {\n",
              "        vertical-align: top;\n",
              "    }\n",
              "\n",
              "    .dataframe thead th {\n",
              "        text-align: right;\n",
              "    }\n",
              "</style>\n",
              "<table border=\"1\" class=\"dataframe\">\n",
              "  <thead>\n",
              "    <tr style=\"text-align: right;\">\n",
              "      <th></th>\n",
              "      <th>Class</th>\n",
              "      <th>Sensitivity(Recall)</th>\n",
              "      <th>Specificity</th>\n",
              "      <th>F1 score</th>\n",
              "    </tr>\n",
              "  </thead>\n",
              "  <tbody>\n",
              "    <tr>\n",
              "      <th>0</th>\n",
              "      <td>1</td>\n",
              "      <td>1.0</td>\n",
              "      <td>1.0</td>\n",
              "      <td>1.0</td>\n",
              "    </tr>\n",
              "    <tr>\n",
              "      <th>1</th>\n",
              "      <td>2</td>\n",
              "      <td>1.0</td>\n",
              "      <td>1.0</td>\n",
              "      <td>1.0</td>\n",
              "    </tr>\n",
              "    <tr>\n",
              "      <th>2</th>\n",
              "      <td>3</td>\n",
              "      <td>1.0</td>\n",
              "      <td>1.0</td>\n",
              "      <td>1.0</td>\n",
              "    </tr>\n",
              "    <tr>\n",
              "      <th>3</th>\n",
              "      <td>4</td>\n",
              "      <td>1.0</td>\n",
              "      <td>1.0</td>\n",
              "      <td>1.0</td>\n",
              "    </tr>\n",
              "    <tr>\n",
              "      <th>4</th>\n",
              "      <td>5</td>\n",
              "      <td>1.0</td>\n",
              "      <td>1.0</td>\n",
              "      <td>1.0</td>\n",
              "    </tr>\n",
              "  </tbody>\n",
              "</table>\n",
              "</div>\n",
              "      <button class=\"colab-df-convert\" onclick=\"convertToInteractive('df-636209c0-a298-499c-b007-dadd762952da')\"\n",
              "              title=\"Convert this dataframe to an interactive table.\"\n",
              "              style=\"display:none;\">\n",
              "        \n",
              "  <svg xmlns=\"http://www.w3.org/2000/svg\" height=\"24px\"viewBox=\"0 0 24 24\"\n",
              "       width=\"24px\">\n",
              "    <path d=\"M0 0h24v24H0V0z\" fill=\"none\"/>\n",
              "    <path d=\"M18.56 5.44l.94 2.06.94-2.06 2.06-.94-2.06-.94-.94-2.06-.94 2.06-2.06.94zm-11 1L8.5 8.5l.94-2.06 2.06-.94-2.06-.94L8.5 2.5l-.94 2.06-2.06.94zm10 10l.94 2.06.94-2.06 2.06-.94-2.06-.94-.94-2.06-.94 2.06-2.06.94z\"/><path d=\"M17.41 7.96l-1.37-1.37c-.4-.4-.92-.59-1.43-.59-.52 0-1.04.2-1.43.59L10.3 9.45l-7.72 7.72c-.78.78-.78 2.05 0 2.83L4 21.41c.39.39.9.59 1.41.59.51 0 1.02-.2 1.41-.59l7.78-7.78 2.81-2.81c.8-.78.8-2.07 0-2.86zM5.41 20L4 18.59l7.72-7.72 1.47 1.35L5.41 20z\"/>\n",
              "  </svg>\n",
              "      </button>\n",
              "      \n",
              "  <style>\n",
              "    .colab-df-container {\n",
              "      display:flex;\n",
              "      flex-wrap:wrap;\n",
              "      gap: 12px;\n",
              "    }\n",
              "\n",
              "    .colab-df-convert {\n",
              "      background-color: #E8F0FE;\n",
              "      border: none;\n",
              "      border-radius: 50%;\n",
              "      cursor: pointer;\n",
              "      display: none;\n",
              "      fill: #1967D2;\n",
              "      height: 32px;\n",
              "      padding: 0 0 0 0;\n",
              "      width: 32px;\n",
              "    }\n",
              "\n",
              "    .colab-df-convert:hover {\n",
              "      background-color: #E2EBFA;\n",
              "      box-shadow: 0px 1px 2px rgba(60, 64, 67, 0.3), 0px 1px 3px 1px rgba(60, 64, 67, 0.15);\n",
              "      fill: #174EA6;\n",
              "    }\n",
              "\n",
              "    [theme=dark] .colab-df-convert {\n",
              "      background-color: #3B4455;\n",
              "      fill: #D2E3FC;\n",
              "    }\n",
              "\n",
              "    [theme=dark] .colab-df-convert:hover {\n",
              "      background-color: #434B5C;\n",
              "      box-shadow: 0px 1px 3px 1px rgba(0, 0, 0, 0.15);\n",
              "      filter: drop-shadow(0px 1px 2px rgba(0, 0, 0, 0.3));\n",
              "      fill: #FFFFFF;\n",
              "    }\n",
              "  </style>\n",
              "\n",
              "      <script>\n",
              "        const buttonEl =\n",
              "          document.querySelector('#df-636209c0-a298-499c-b007-dadd762952da button.colab-df-convert');\n",
              "        buttonEl.style.display =\n",
              "          google.colab.kernel.accessAllowed ? 'block' : 'none';\n",
              "\n",
              "        async function convertToInteractive(key) {\n",
              "          const element = document.querySelector('#df-636209c0-a298-499c-b007-dadd762952da');\n",
              "          const dataTable =\n",
              "            await google.colab.kernel.invokeFunction('convertToInteractive',\n",
              "                                                     [key], {});\n",
              "          if (!dataTable) return;\n",
              "\n",
              "          const docLinkHtml = 'Like what you see? Visit the ' +\n",
              "            '<a target=\"_blank\" href=https://colab.research.google.com/notebooks/data_table.ipynb>data table notebook</a>'\n",
              "            + ' to learn more about interactive tables.';\n",
              "          element.innerHTML = '';\n",
              "          dataTable['output_type'] = 'display_data';\n",
              "          await google.colab.output.renderOutput(dataTable, element);\n",
              "          const docLink = document.createElement('div');\n",
              "          docLink.innerHTML = docLinkHtml;\n",
              "          element.appendChild(docLink);\n",
              "        }\n",
              "      </script>\n",
              "    </div>\n",
              "  </div>\n",
              "  "
            ]
          },
          "metadata": {},
          "execution_count": 627
        }
      ]
    },
    {
      "cell_type": "markdown",
      "source": [
        "# hmm remain"
      ],
      "metadata": {
        "id": "lUUPjUBVmSu0"
      }
    },
    {
      "cell_type": "markdown",
      "source": [
        "# Implementing clustering algorithms"
      ],
      "metadata": {
        "id": "KgheqY1pmXtm"
      }
    },
    {
      "cell_type": "code",
      "source": [
        "y = y.to_numpy()"
      ],
      "metadata": {
        "id": "pfCrst8jpMcW"
      },
      "execution_count": 628,
      "outputs": []
    },
    {
      "cell_type": "markdown",
      "source": [
        "# Implementing K means"
      ],
      "metadata": {
        "id": "vuVDuPgHmU8F"
      }
    },
    {
      "cell_type": "code",
      "source": [
        "kmeans = KMeans(n_clusters = 5, random_state=0).fit(X)\n",
        "y_pred = kmeans.predict(X)"
      ],
      "metadata": {
        "id": "jgZFCduylt-U"
      },
      "execution_count": 629,
      "outputs": []
    },
    {
      "cell_type": "code",
      "source": [
        "df = pd.DataFrame(y_pred, columns=['Class'])\n",
        "y_pred = df.replace({y_pred[0]: y[0], y_pred[6]: y[6], y_pred[11]: y[11], y_pred[16]: y[16],y_pred[21]: y[21]}).to_numpy()"
      ],
      "metadata": {
        "id": "be8zrgykw5IO"
      },
      "execution_count": 630,
      "outputs": []
    },
    {
      "cell_type": "markdown",
      "source": [
        "### Metrics for KMeans"
      ],
      "metadata": {
        "id": "eekP9UGKyyJW"
      }
    },
    {
      "cell_type": "code",
      "source": [
        "cm = multilabel_confusion_matrix(y, y_pred, labels= range(5))\n",
        "\n",
        "res = []\n",
        "\n",
        "for l in range(5):\n",
        "    x = cm[l]\n",
        "    tn, fp = x[0]\n",
        "    fn, tp = x[1]\n",
        "    sensitivity = tp / (tp + fn)\n",
        "    specificity = tn / (tn + fp)\n",
        "    precision = tp / (tp + fp)\n",
        "    f1 = (2 * precision * sensitivity) / (precision + sensitivity)\n",
        "    res.append([l+1,sensitivity, specificity, f1])\n",
        "\n",
        "performance = pd.DataFrame(res, columns = ['Class','Sensitivity(Recall)','Specificity', 'F1 score'])\n",
        "\n",
        "performance['F1 score'] = performance['F1 score'].fillna(0)\n",
        "performance['Sensitivity(Recall)'] = performance['Sensitivity(Recall)'].fillna(0)\n",
        "performance['Specificity'] = performance['Specificity'].fillna(0)\n",
        "\n",
        "total_accuracy = accuracy_score(y, y_pred)\n",
        "print(\"The total accuracy is\", total_accuracy)\n",
        "performance"
      ],
      "metadata": {
        "colab": {
          "base_uri": "https://localhost:8080/",
          "height": 224
        },
        "id": "kCE0gpFEp_OD",
        "outputId": "37d63ef5-7f6f-41d4-fc91-c5166dc0a403"
      },
      "execution_count": 631,
      "outputs": [
        {
          "output_type": "stream",
          "name": "stdout",
          "text": [
            "The total accuracy is 1.0\n"
          ]
        },
        {
          "output_type": "execute_result",
          "data": {
            "text/plain": [
              "   Class  Sensitivity(Recall)  Specificity  F1 score\n",
              "0      1                  1.0          1.0       1.0\n",
              "1      2                  1.0          1.0       1.0\n",
              "2      3                  1.0          1.0       1.0\n",
              "3      4                  1.0          1.0       1.0\n",
              "4      5                  1.0          1.0       1.0"
            ],
            "text/html": [
              "\n",
              "  <div id=\"df-8f5a6078-8b6d-481d-81ff-9dc62c7b765d\">\n",
              "    <div class=\"colab-df-container\">\n",
              "      <div>\n",
              "<style scoped>\n",
              "    .dataframe tbody tr th:only-of-type {\n",
              "        vertical-align: middle;\n",
              "    }\n",
              "\n",
              "    .dataframe tbody tr th {\n",
              "        vertical-align: top;\n",
              "    }\n",
              "\n",
              "    .dataframe thead th {\n",
              "        text-align: right;\n",
              "    }\n",
              "</style>\n",
              "<table border=\"1\" class=\"dataframe\">\n",
              "  <thead>\n",
              "    <tr style=\"text-align: right;\">\n",
              "      <th></th>\n",
              "      <th>Class</th>\n",
              "      <th>Sensitivity(Recall)</th>\n",
              "      <th>Specificity</th>\n",
              "      <th>F1 score</th>\n",
              "    </tr>\n",
              "  </thead>\n",
              "  <tbody>\n",
              "    <tr>\n",
              "      <th>0</th>\n",
              "      <td>1</td>\n",
              "      <td>1.0</td>\n",
              "      <td>1.0</td>\n",
              "      <td>1.0</td>\n",
              "    </tr>\n",
              "    <tr>\n",
              "      <th>1</th>\n",
              "      <td>2</td>\n",
              "      <td>1.0</td>\n",
              "      <td>1.0</td>\n",
              "      <td>1.0</td>\n",
              "    </tr>\n",
              "    <tr>\n",
              "      <th>2</th>\n",
              "      <td>3</td>\n",
              "      <td>1.0</td>\n",
              "      <td>1.0</td>\n",
              "      <td>1.0</td>\n",
              "    </tr>\n",
              "    <tr>\n",
              "      <th>3</th>\n",
              "      <td>4</td>\n",
              "      <td>1.0</td>\n",
              "      <td>1.0</td>\n",
              "      <td>1.0</td>\n",
              "    </tr>\n",
              "    <tr>\n",
              "      <th>4</th>\n",
              "      <td>5</td>\n",
              "      <td>1.0</td>\n",
              "      <td>1.0</td>\n",
              "      <td>1.0</td>\n",
              "    </tr>\n",
              "  </tbody>\n",
              "</table>\n",
              "</div>\n",
              "      <button class=\"colab-df-convert\" onclick=\"convertToInteractive('df-8f5a6078-8b6d-481d-81ff-9dc62c7b765d')\"\n",
              "              title=\"Convert this dataframe to an interactive table.\"\n",
              "              style=\"display:none;\">\n",
              "        \n",
              "  <svg xmlns=\"http://www.w3.org/2000/svg\" height=\"24px\"viewBox=\"0 0 24 24\"\n",
              "       width=\"24px\">\n",
              "    <path d=\"M0 0h24v24H0V0z\" fill=\"none\"/>\n",
              "    <path d=\"M18.56 5.44l.94 2.06.94-2.06 2.06-.94-2.06-.94-.94-2.06-.94 2.06-2.06.94zm-11 1L8.5 8.5l.94-2.06 2.06-.94-2.06-.94L8.5 2.5l-.94 2.06-2.06.94zm10 10l.94 2.06.94-2.06 2.06-.94-2.06-.94-.94-2.06-.94 2.06-2.06.94z\"/><path d=\"M17.41 7.96l-1.37-1.37c-.4-.4-.92-.59-1.43-.59-.52 0-1.04.2-1.43.59L10.3 9.45l-7.72 7.72c-.78.78-.78 2.05 0 2.83L4 21.41c.39.39.9.59 1.41.59.51 0 1.02-.2 1.41-.59l7.78-7.78 2.81-2.81c.8-.78.8-2.07 0-2.86zM5.41 20L4 18.59l7.72-7.72 1.47 1.35L5.41 20z\"/>\n",
              "  </svg>\n",
              "      </button>\n",
              "      \n",
              "  <style>\n",
              "    .colab-df-container {\n",
              "      display:flex;\n",
              "      flex-wrap:wrap;\n",
              "      gap: 12px;\n",
              "    }\n",
              "\n",
              "    .colab-df-convert {\n",
              "      background-color: #E8F0FE;\n",
              "      border: none;\n",
              "      border-radius: 50%;\n",
              "      cursor: pointer;\n",
              "      display: none;\n",
              "      fill: #1967D2;\n",
              "      height: 32px;\n",
              "      padding: 0 0 0 0;\n",
              "      width: 32px;\n",
              "    }\n",
              "\n",
              "    .colab-df-convert:hover {\n",
              "      background-color: #E2EBFA;\n",
              "      box-shadow: 0px 1px 2px rgba(60, 64, 67, 0.3), 0px 1px 3px 1px rgba(60, 64, 67, 0.15);\n",
              "      fill: #174EA6;\n",
              "    }\n",
              "\n",
              "    [theme=dark] .colab-df-convert {\n",
              "      background-color: #3B4455;\n",
              "      fill: #D2E3FC;\n",
              "    }\n",
              "\n",
              "    [theme=dark] .colab-df-convert:hover {\n",
              "      background-color: #434B5C;\n",
              "      box-shadow: 0px 1px 3px 1px rgba(0, 0, 0, 0.15);\n",
              "      filter: drop-shadow(0px 1px 2px rgba(0, 0, 0, 0.3));\n",
              "      fill: #FFFFFF;\n",
              "    }\n",
              "  </style>\n",
              "\n",
              "      <script>\n",
              "        const buttonEl =\n",
              "          document.querySelector('#df-8f5a6078-8b6d-481d-81ff-9dc62c7b765d button.colab-df-convert');\n",
              "        buttonEl.style.display =\n",
              "          google.colab.kernel.accessAllowed ? 'block' : 'none';\n",
              "\n",
              "        async function convertToInteractive(key) {\n",
              "          const element = document.querySelector('#df-8f5a6078-8b6d-481d-81ff-9dc62c7b765d');\n",
              "          const dataTable =\n",
              "            await google.colab.kernel.invokeFunction('convertToInteractive',\n",
              "                                                     [key], {});\n",
              "          if (!dataTable) return;\n",
              "\n",
              "          const docLinkHtml = 'Like what you see? Visit the ' +\n",
              "            '<a target=\"_blank\" href=https://colab.research.google.com/notebooks/data_table.ipynb>data table notebook</a>'\n",
              "            + ' to learn more about interactive tables.';\n",
              "          element.innerHTML = '';\n",
              "          dataTable['output_type'] = 'display_data';\n",
              "          await google.colab.output.renderOutput(dataTable, element);\n",
              "          const docLink = document.createElement('div');\n",
              "          docLink.innerHTML = docLinkHtml;\n",
              "          element.appendChild(docLink);\n",
              "        }\n",
              "      </script>\n",
              "    </div>\n",
              "  </div>\n",
              "  "
            ]
          },
          "metadata": {},
          "execution_count": 631
        }
      ]
    },
    {
      "cell_type": "markdown",
      "source": [
        "# Implementing FCMeans"
      ],
      "metadata": {
        "id": "hvGZhdFUzP4M"
      }
    },
    {
      "cell_type": "code",
      "source": [
        "from fcmeans import FCM\n",
        "fcm = FCM(n_clusters = 5)\n",
        "fcm.fit(X)\n",
        "y_pred = fcm.predict(X)"
      ],
      "metadata": {
        "id": "bp12cQGqqB1P"
      },
      "execution_count": 632,
      "outputs": []
    },
    {
      "cell_type": "code",
      "source": [
        "df = pd.DataFrame(y_pred, columns=['Class'])\n",
        "y_pred = df.replace({y_pred[0]: y[0], y_pred[6]: y[6], y_pred[11]: y[11], y_pred[16]: y[16],y_pred[21]: y[21]}).to_numpy()"
      ],
      "metadata": {
        "id": "TupH52UazjRe"
      },
      "execution_count": 633,
      "outputs": []
    },
    {
      "cell_type": "markdown",
      "source": [
        "### Metrics for FCMeans"
      ],
      "metadata": {
        "id": "CcGslR6IzkcG"
      }
    },
    {
      "cell_type": "code",
      "source": [
        "cm = multilabel_confusion_matrix(y, y_pred, labels= range(5))\n",
        "\n",
        "res = []\n",
        "\n",
        "for l in range(5):\n",
        "    x = cm[l]\n",
        "    tn, fp = x[0]\n",
        "    fn, tp = x[1]\n",
        "    sensitivity = tp / (tp + fn)\n",
        "    specificity = tn / (tn + fp)\n",
        "    precision = tp / (tp + fp)\n",
        "    f1 = (2 * precision * sensitivity) / (precision + sensitivity)\n",
        "    res.append([l+1,sensitivity, specificity, f1])\n",
        "\n",
        "performance = pd.DataFrame(res, columns = ['Class','Sensitivity(Recall)','Specificity', 'F1 score'])\n",
        "\n",
        "performance['F1 score'] = performance['F1 score'].fillna(0)\n",
        "performance['Sensitivity(Recall)'] = performance['Sensitivity(Recall)'].fillna(0)\n",
        "performance['Specificity'] = performance['Specificity'].fillna(0)\n",
        "\n",
        "total_accuracy = accuracy_score(y, y_pred)\n",
        "print(\"The total accuracy is\", total_accuracy)\n",
        "performance"
      ],
      "metadata": {
        "colab": {
          "base_uri": "https://localhost:8080/",
          "height": 224
        },
        "id": "TIqF6fShzmGm",
        "outputId": "3948e415-3799-4c0d-c9c5-f52483c25d11"
      },
      "execution_count": 634,
      "outputs": [
        {
          "output_type": "stream",
          "name": "stdout",
          "text": [
            "The total accuracy is 1.0\n"
          ]
        },
        {
          "output_type": "execute_result",
          "data": {
            "text/plain": [
              "   Class  Sensitivity(Recall)  Specificity  F1 score\n",
              "0      1                  1.0          1.0       1.0\n",
              "1      2                  1.0          1.0       1.0\n",
              "2      3                  1.0          1.0       1.0\n",
              "3      4                  1.0          1.0       1.0\n",
              "4      5                  1.0          1.0       1.0"
            ],
            "text/html": [
              "\n",
              "  <div id=\"df-f40f2b18-65df-4652-8afe-53ee85bbcbfa\">\n",
              "    <div class=\"colab-df-container\">\n",
              "      <div>\n",
              "<style scoped>\n",
              "    .dataframe tbody tr th:only-of-type {\n",
              "        vertical-align: middle;\n",
              "    }\n",
              "\n",
              "    .dataframe tbody tr th {\n",
              "        vertical-align: top;\n",
              "    }\n",
              "\n",
              "    .dataframe thead th {\n",
              "        text-align: right;\n",
              "    }\n",
              "</style>\n",
              "<table border=\"1\" class=\"dataframe\">\n",
              "  <thead>\n",
              "    <tr style=\"text-align: right;\">\n",
              "      <th></th>\n",
              "      <th>Class</th>\n",
              "      <th>Sensitivity(Recall)</th>\n",
              "      <th>Specificity</th>\n",
              "      <th>F1 score</th>\n",
              "    </tr>\n",
              "  </thead>\n",
              "  <tbody>\n",
              "    <tr>\n",
              "      <th>0</th>\n",
              "      <td>1</td>\n",
              "      <td>1.0</td>\n",
              "      <td>1.0</td>\n",
              "      <td>1.0</td>\n",
              "    </tr>\n",
              "    <tr>\n",
              "      <th>1</th>\n",
              "      <td>2</td>\n",
              "      <td>1.0</td>\n",
              "      <td>1.0</td>\n",
              "      <td>1.0</td>\n",
              "    </tr>\n",
              "    <tr>\n",
              "      <th>2</th>\n",
              "      <td>3</td>\n",
              "      <td>1.0</td>\n",
              "      <td>1.0</td>\n",
              "      <td>1.0</td>\n",
              "    </tr>\n",
              "    <tr>\n",
              "      <th>3</th>\n",
              "      <td>4</td>\n",
              "      <td>1.0</td>\n",
              "      <td>1.0</td>\n",
              "      <td>1.0</td>\n",
              "    </tr>\n",
              "    <tr>\n",
              "      <th>4</th>\n",
              "      <td>5</td>\n",
              "      <td>1.0</td>\n",
              "      <td>1.0</td>\n",
              "      <td>1.0</td>\n",
              "    </tr>\n",
              "  </tbody>\n",
              "</table>\n",
              "</div>\n",
              "      <button class=\"colab-df-convert\" onclick=\"convertToInteractive('df-f40f2b18-65df-4652-8afe-53ee85bbcbfa')\"\n",
              "              title=\"Convert this dataframe to an interactive table.\"\n",
              "              style=\"display:none;\">\n",
              "        \n",
              "  <svg xmlns=\"http://www.w3.org/2000/svg\" height=\"24px\"viewBox=\"0 0 24 24\"\n",
              "       width=\"24px\">\n",
              "    <path d=\"M0 0h24v24H0V0z\" fill=\"none\"/>\n",
              "    <path d=\"M18.56 5.44l.94 2.06.94-2.06 2.06-.94-2.06-.94-.94-2.06-.94 2.06-2.06.94zm-11 1L8.5 8.5l.94-2.06 2.06-.94-2.06-.94L8.5 2.5l-.94 2.06-2.06.94zm10 10l.94 2.06.94-2.06 2.06-.94-2.06-.94-.94-2.06-.94 2.06-2.06.94z\"/><path d=\"M17.41 7.96l-1.37-1.37c-.4-.4-.92-.59-1.43-.59-.52 0-1.04.2-1.43.59L10.3 9.45l-7.72 7.72c-.78.78-.78 2.05 0 2.83L4 21.41c.39.39.9.59 1.41.59.51 0 1.02-.2 1.41-.59l7.78-7.78 2.81-2.81c.8-.78.8-2.07 0-2.86zM5.41 20L4 18.59l7.72-7.72 1.47 1.35L5.41 20z\"/>\n",
              "  </svg>\n",
              "      </button>\n",
              "      \n",
              "  <style>\n",
              "    .colab-df-container {\n",
              "      display:flex;\n",
              "      flex-wrap:wrap;\n",
              "      gap: 12px;\n",
              "    }\n",
              "\n",
              "    .colab-df-convert {\n",
              "      background-color: #E8F0FE;\n",
              "      border: none;\n",
              "      border-radius: 50%;\n",
              "      cursor: pointer;\n",
              "      display: none;\n",
              "      fill: #1967D2;\n",
              "      height: 32px;\n",
              "      padding: 0 0 0 0;\n",
              "      width: 32px;\n",
              "    }\n",
              "\n",
              "    .colab-df-convert:hover {\n",
              "      background-color: #E2EBFA;\n",
              "      box-shadow: 0px 1px 2px rgba(60, 64, 67, 0.3), 0px 1px 3px 1px rgba(60, 64, 67, 0.15);\n",
              "      fill: #174EA6;\n",
              "    }\n",
              "\n",
              "    [theme=dark] .colab-df-convert {\n",
              "      background-color: #3B4455;\n",
              "      fill: #D2E3FC;\n",
              "    }\n",
              "\n",
              "    [theme=dark] .colab-df-convert:hover {\n",
              "      background-color: #434B5C;\n",
              "      box-shadow: 0px 1px 3px 1px rgba(0, 0, 0, 0.15);\n",
              "      filter: drop-shadow(0px 1px 2px rgba(0, 0, 0, 0.3));\n",
              "      fill: #FFFFFF;\n",
              "    }\n",
              "  </style>\n",
              "\n",
              "      <script>\n",
              "        const buttonEl =\n",
              "          document.querySelector('#df-f40f2b18-65df-4652-8afe-53ee85bbcbfa button.colab-df-convert');\n",
              "        buttonEl.style.display =\n",
              "          google.colab.kernel.accessAllowed ? 'block' : 'none';\n",
              "\n",
              "        async function convertToInteractive(key) {\n",
              "          const element = document.querySelector('#df-f40f2b18-65df-4652-8afe-53ee85bbcbfa');\n",
              "          const dataTable =\n",
              "            await google.colab.kernel.invokeFunction('convertToInteractive',\n",
              "                                                     [key], {});\n",
              "          if (!dataTable) return;\n",
              "\n",
              "          const docLinkHtml = 'Like what you see? Visit the ' +\n",
              "            '<a target=\"_blank\" href=https://colab.research.google.com/notebooks/data_table.ipynb>data table notebook</a>'\n",
              "            + ' to learn more about interactive tables.';\n",
              "          element.innerHTML = '';\n",
              "          dataTable['output_type'] = 'display_data';\n",
              "          await google.colab.output.renderOutput(dataTable, element);\n",
              "          const docLink = document.createElement('div');\n",
              "          docLink.innerHTML = docLinkHtml;\n",
              "          element.appendChild(docLink);\n",
              "        }\n",
              "      </script>\n",
              "    </div>\n",
              "  </div>\n",
              "  "
            ]
          },
          "metadata": {},
          "execution_count": 634
        }
      ]
    },
    {
      "cell_type": "markdown",
      "source": [
        "# Using QCM6 sensor data for classification"
      ],
      "metadata": {
        "id": "q-lnCfzf1a_A"
      }
    },
    {
      "cell_type": "code",
      "source": [
        "# Separating features and target variable\n",
        "y = df_6['Class']\n",
        "X = df_6.drop(columns = ['Class'])"
      ],
      "metadata": {
        "id": "rHf00fCz1a_A"
      },
      "execution_count": 635,
      "outputs": []
    },
    {
      "cell_type": "markdown",
      "source": [
        "## Preprocessing"
      ],
      "metadata": {
        "id": "G2WlmSCg1a_B"
      }
    },
    {
      "cell_type": "code",
      "source": [
        "X = Normalizer().fit_transform(X)"
      ],
      "metadata": {
        "id": "pvF0u87t1a_B"
      },
      "execution_count": 636,
      "outputs": []
    },
    {
      "cell_type": "code",
      "source": [
        "X_train, X_test, y_train, y_test = train_test_split(X, y, test_size=0.2, stratify = y)"
      ],
      "metadata": {
        "id": "tc-0KWO21a_B"
      },
      "execution_count": 637,
      "outputs": []
    },
    {
      "cell_type": "markdown",
      "source": [
        "## Implementing MLP"
      ],
      "metadata": {
        "id": "X_PZcQqt1a_B"
      }
    },
    {
      "cell_type": "code",
      "source": [
        "clf = MLPClassifier()\n",
        "clf.fit(X_train, y_train)\n",
        "y_pred = clf.predict(X_test)"
      ],
      "metadata": {
        "id": "p6yxsFFg1a_B"
      },
      "execution_count": 638,
      "outputs": []
    },
    {
      "cell_type": "markdown",
      "source": [
        "### Metrics for MLP"
      ],
      "metadata": {
        "id": "E5Mqgqw91a_B"
      }
    },
    {
      "cell_type": "code",
      "source": [
        "cm = multilabel_confusion_matrix(y_test, y_pred, labels= range(5))\n",
        "for l in range(5):\n",
        "    x = cm[l]\n",
        "    tn, fp = x[0]\n",
        "    fn, tp = x[1]\n",
        "    sensitivity = tp / (tp + fn)\n",
        "    specificity = tn / (tn + fp)\n",
        "    precision = tp / (tp + fp)\n",
        "    f1 = (2 * precision * sensitivity) / (precision + sensitivity)\n",
        "    res.append([l+1,sensitivity, specificity, f1])\n",
        "\n",
        "performance = pd.DataFrame(res, columns = ['Class','Sensitivity(Recall)','Specificity', 'F1 score'])\n",
        "\n",
        "performance['F1 score'] = performance['F1 score'].fillna(0)\n",
        "performance['Sensitivity(Recall)'] = performance['Sensitivity(Recall)'].fillna(0)\n",
        "performance['Specificity'] = performance['Specificity'].fillna(0)\n",
        "\n",
        "total_accuracy = accuracy_score(y_test, y_pred)\n",
        "print(\"The total accuracy is\", total_accuracy)\n",
        "performance"
      ],
      "metadata": {
        "colab": {
          "base_uri": "https://localhost:8080/",
          "height": 380
        },
        "outputId": "5313a7a9-ba45-4a4a-a379-1c52b00d2ba4",
        "id": "JmzeJ3dW1a_C"
      },
      "execution_count": 639,
      "outputs": [
        {
          "output_type": "stream",
          "name": "stdout",
          "text": [
            "The total accuracy is 1.0\n"
          ]
        },
        {
          "output_type": "execute_result",
          "data": {
            "text/plain": [
              "   Class  Sensitivity(Recall)  Specificity  F1 score\n",
              "0      1                  1.0          1.0       1.0\n",
              "1      2                  1.0          1.0       1.0\n",
              "2      3                  1.0          1.0       1.0\n",
              "3      4                  1.0          1.0       1.0\n",
              "4      5                  1.0          1.0       1.0\n",
              "5      1                  1.0          1.0       1.0\n",
              "6      2                  1.0          1.0       1.0\n",
              "7      3                  1.0          1.0       1.0\n",
              "8      4                  1.0          1.0       1.0\n",
              "9      5                  1.0          1.0       1.0"
            ],
            "text/html": [
              "\n",
              "  <div id=\"df-01692688-26ce-467e-a341-1db76b85928c\">\n",
              "    <div class=\"colab-df-container\">\n",
              "      <div>\n",
              "<style scoped>\n",
              "    .dataframe tbody tr th:only-of-type {\n",
              "        vertical-align: middle;\n",
              "    }\n",
              "\n",
              "    .dataframe tbody tr th {\n",
              "        vertical-align: top;\n",
              "    }\n",
              "\n",
              "    .dataframe thead th {\n",
              "        text-align: right;\n",
              "    }\n",
              "</style>\n",
              "<table border=\"1\" class=\"dataframe\">\n",
              "  <thead>\n",
              "    <tr style=\"text-align: right;\">\n",
              "      <th></th>\n",
              "      <th>Class</th>\n",
              "      <th>Sensitivity(Recall)</th>\n",
              "      <th>Specificity</th>\n",
              "      <th>F1 score</th>\n",
              "    </tr>\n",
              "  </thead>\n",
              "  <tbody>\n",
              "    <tr>\n",
              "      <th>0</th>\n",
              "      <td>1</td>\n",
              "      <td>1.0</td>\n",
              "      <td>1.0</td>\n",
              "      <td>1.0</td>\n",
              "    </tr>\n",
              "    <tr>\n",
              "      <th>1</th>\n",
              "      <td>2</td>\n",
              "      <td>1.0</td>\n",
              "      <td>1.0</td>\n",
              "      <td>1.0</td>\n",
              "    </tr>\n",
              "    <tr>\n",
              "      <th>2</th>\n",
              "      <td>3</td>\n",
              "      <td>1.0</td>\n",
              "      <td>1.0</td>\n",
              "      <td>1.0</td>\n",
              "    </tr>\n",
              "    <tr>\n",
              "      <th>3</th>\n",
              "      <td>4</td>\n",
              "      <td>1.0</td>\n",
              "      <td>1.0</td>\n",
              "      <td>1.0</td>\n",
              "    </tr>\n",
              "    <tr>\n",
              "      <th>4</th>\n",
              "      <td>5</td>\n",
              "      <td>1.0</td>\n",
              "      <td>1.0</td>\n",
              "      <td>1.0</td>\n",
              "    </tr>\n",
              "    <tr>\n",
              "      <th>5</th>\n",
              "      <td>1</td>\n",
              "      <td>1.0</td>\n",
              "      <td>1.0</td>\n",
              "      <td>1.0</td>\n",
              "    </tr>\n",
              "    <tr>\n",
              "      <th>6</th>\n",
              "      <td>2</td>\n",
              "      <td>1.0</td>\n",
              "      <td>1.0</td>\n",
              "      <td>1.0</td>\n",
              "    </tr>\n",
              "    <tr>\n",
              "      <th>7</th>\n",
              "      <td>3</td>\n",
              "      <td>1.0</td>\n",
              "      <td>1.0</td>\n",
              "      <td>1.0</td>\n",
              "    </tr>\n",
              "    <tr>\n",
              "      <th>8</th>\n",
              "      <td>4</td>\n",
              "      <td>1.0</td>\n",
              "      <td>1.0</td>\n",
              "      <td>1.0</td>\n",
              "    </tr>\n",
              "    <tr>\n",
              "      <th>9</th>\n",
              "      <td>5</td>\n",
              "      <td>1.0</td>\n",
              "      <td>1.0</td>\n",
              "      <td>1.0</td>\n",
              "    </tr>\n",
              "  </tbody>\n",
              "</table>\n",
              "</div>\n",
              "      <button class=\"colab-df-convert\" onclick=\"convertToInteractive('df-01692688-26ce-467e-a341-1db76b85928c')\"\n",
              "              title=\"Convert this dataframe to an interactive table.\"\n",
              "              style=\"display:none;\">\n",
              "        \n",
              "  <svg xmlns=\"http://www.w3.org/2000/svg\" height=\"24px\"viewBox=\"0 0 24 24\"\n",
              "       width=\"24px\">\n",
              "    <path d=\"M0 0h24v24H0V0z\" fill=\"none\"/>\n",
              "    <path d=\"M18.56 5.44l.94 2.06.94-2.06 2.06-.94-2.06-.94-.94-2.06-.94 2.06-2.06.94zm-11 1L8.5 8.5l.94-2.06 2.06-.94-2.06-.94L8.5 2.5l-.94 2.06-2.06.94zm10 10l.94 2.06.94-2.06 2.06-.94-2.06-.94-.94-2.06-.94 2.06-2.06.94z\"/><path d=\"M17.41 7.96l-1.37-1.37c-.4-.4-.92-.59-1.43-.59-.52 0-1.04.2-1.43.59L10.3 9.45l-7.72 7.72c-.78.78-.78 2.05 0 2.83L4 21.41c.39.39.9.59 1.41.59.51 0 1.02-.2 1.41-.59l7.78-7.78 2.81-2.81c.8-.78.8-2.07 0-2.86zM5.41 20L4 18.59l7.72-7.72 1.47 1.35L5.41 20z\"/>\n",
              "  </svg>\n",
              "      </button>\n",
              "      \n",
              "  <style>\n",
              "    .colab-df-container {\n",
              "      display:flex;\n",
              "      flex-wrap:wrap;\n",
              "      gap: 12px;\n",
              "    }\n",
              "\n",
              "    .colab-df-convert {\n",
              "      background-color: #E8F0FE;\n",
              "      border: none;\n",
              "      border-radius: 50%;\n",
              "      cursor: pointer;\n",
              "      display: none;\n",
              "      fill: #1967D2;\n",
              "      height: 32px;\n",
              "      padding: 0 0 0 0;\n",
              "      width: 32px;\n",
              "    }\n",
              "\n",
              "    .colab-df-convert:hover {\n",
              "      background-color: #E2EBFA;\n",
              "      box-shadow: 0px 1px 2px rgba(60, 64, 67, 0.3), 0px 1px 3px 1px rgba(60, 64, 67, 0.15);\n",
              "      fill: #174EA6;\n",
              "    }\n",
              "\n",
              "    [theme=dark] .colab-df-convert {\n",
              "      background-color: #3B4455;\n",
              "      fill: #D2E3FC;\n",
              "    }\n",
              "\n",
              "    [theme=dark] .colab-df-convert:hover {\n",
              "      background-color: #434B5C;\n",
              "      box-shadow: 0px 1px 3px 1px rgba(0, 0, 0, 0.15);\n",
              "      filter: drop-shadow(0px 1px 2px rgba(0, 0, 0, 0.3));\n",
              "      fill: #FFFFFF;\n",
              "    }\n",
              "  </style>\n",
              "\n",
              "      <script>\n",
              "        const buttonEl =\n",
              "          document.querySelector('#df-01692688-26ce-467e-a341-1db76b85928c button.colab-df-convert');\n",
              "        buttonEl.style.display =\n",
              "          google.colab.kernel.accessAllowed ? 'block' : 'none';\n",
              "\n",
              "        async function convertToInteractive(key) {\n",
              "          const element = document.querySelector('#df-01692688-26ce-467e-a341-1db76b85928c');\n",
              "          const dataTable =\n",
              "            await google.colab.kernel.invokeFunction('convertToInteractive',\n",
              "                                                     [key], {});\n",
              "          if (!dataTable) return;\n",
              "\n",
              "          const docLinkHtml = 'Like what you see? Visit the ' +\n",
              "            '<a target=\"_blank\" href=https://colab.research.google.com/notebooks/data_table.ipynb>data table notebook</a>'\n",
              "            + ' to learn more about interactive tables.';\n",
              "          element.innerHTML = '';\n",
              "          dataTable['output_type'] = 'display_data';\n",
              "          await google.colab.output.renderOutput(dataTable, element);\n",
              "          const docLink = document.createElement('div');\n",
              "          docLink.innerHTML = docLinkHtml;\n",
              "          element.appendChild(docLink);\n",
              "        }\n",
              "      </script>\n",
              "    </div>\n",
              "  </div>\n",
              "  "
            ]
          },
          "metadata": {},
          "execution_count": 639
        }
      ]
    },
    {
      "cell_type": "markdown",
      "source": [
        "## Implementing SVC"
      ],
      "metadata": {
        "id": "tpG1P8q41a_C"
      }
    },
    {
      "cell_type": "code",
      "source": [
        "clf = SVC()\n",
        "clf.fit(X_train, y_train)\n",
        "y_pred = clf.predict(X_test)"
      ],
      "metadata": {
        "id": "D2JMPzlK1a_C"
      },
      "execution_count": 640,
      "outputs": []
    },
    {
      "cell_type": "markdown",
      "source": [
        "### Metrics for SVC"
      ],
      "metadata": {
        "id": "gtLTI5Eh1a_D"
      }
    },
    {
      "cell_type": "code",
      "source": [
        "cm = multilabel_confusion_matrix(y_test, y_pred, labels= range(5))\n",
        "\n",
        "res = []\n",
        "\n",
        "for l in range(5):\n",
        "    x = cm[l]\n",
        "    tn, fp = x[0]\n",
        "    fn, tp = x[1]\n",
        "    sensitivity = tp / (tp + fn)\n",
        "    specificity = tn / (tn + fp)\n",
        "    precision = tp / (tp + fp)\n",
        "    f1 = (2 * precision * sensitivity) / (precision + sensitivity)\n",
        "    res.append([l+1,sensitivity, specificity, f1])\n",
        "\n",
        "performance = pd.DataFrame(res, columns = ['Class','Sensitivity(Recall)','Specificity', 'F1 score'])\n",
        "\n",
        "performance['F1 score'] = performance['F1 score'].fillna(0)\n",
        "performance['Sensitivity(Recall)'] = performance['Sensitivity(Recall)'].fillna(0)\n",
        "performance['Specificity'] = performance['Specificity'].fillna(0)\n",
        "\n",
        "total_accuracy = accuracy_score(y_test, y_pred)\n",
        "print(\"The total accuracy is\", total_accuracy)\n",
        "performance"
      ],
      "metadata": {
        "colab": {
          "base_uri": "https://localhost:8080/",
          "height": 224
        },
        "outputId": "859c1727-b7fe-4ab4-f90f-9caa1e57337c",
        "id": "POYjz0fn1a_D"
      },
      "execution_count": 641,
      "outputs": [
        {
          "output_type": "stream",
          "name": "stdout",
          "text": [
            "The total accuracy is 1.0\n"
          ]
        },
        {
          "output_type": "execute_result",
          "data": {
            "text/plain": [
              "   Class  Sensitivity(Recall)  Specificity  F1 score\n",
              "0      1                  1.0          1.0       1.0\n",
              "1      2                  1.0          1.0       1.0\n",
              "2      3                  1.0          1.0       1.0\n",
              "3      4                  1.0          1.0       1.0\n",
              "4      5                  1.0          1.0       1.0"
            ],
            "text/html": [
              "\n",
              "  <div id=\"df-d61c397d-d302-4301-9348-fa6c5deb8524\">\n",
              "    <div class=\"colab-df-container\">\n",
              "      <div>\n",
              "<style scoped>\n",
              "    .dataframe tbody tr th:only-of-type {\n",
              "        vertical-align: middle;\n",
              "    }\n",
              "\n",
              "    .dataframe tbody tr th {\n",
              "        vertical-align: top;\n",
              "    }\n",
              "\n",
              "    .dataframe thead th {\n",
              "        text-align: right;\n",
              "    }\n",
              "</style>\n",
              "<table border=\"1\" class=\"dataframe\">\n",
              "  <thead>\n",
              "    <tr style=\"text-align: right;\">\n",
              "      <th></th>\n",
              "      <th>Class</th>\n",
              "      <th>Sensitivity(Recall)</th>\n",
              "      <th>Specificity</th>\n",
              "      <th>F1 score</th>\n",
              "    </tr>\n",
              "  </thead>\n",
              "  <tbody>\n",
              "    <tr>\n",
              "      <th>0</th>\n",
              "      <td>1</td>\n",
              "      <td>1.0</td>\n",
              "      <td>1.0</td>\n",
              "      <td>1.0</td>\n",
              "    </tr>\n",
              "    <tr>\n",
              "      <th>1</th>\n",
              "      <td>2</td>\n",
              "      <td>1.0</td>\n",
              "      <td>1.0</td>\n",
              "      <td>1.0</td>\n",
              "    </tr>\n",
              "    <tr>\n",
              "      <th>2</th>\n",
              "      <td>3</td>\n",
              "      <td>1.0</td>\n",
              "      <td>1.0</td>\n",
              "      <td>1.0</td>\n",
              "    </tr>\n",
              "    <tr>\n",
              "      <th>3</th>\n",
              "      <td>4</td>\n",
              "      <td>1.0</td>\n",
              "      <td>1.0</td>\n",
              "      <td>1.0</td>\n",
              "    </tr>\n",
              "    <tr>\n",
              "      <th>4</th>\n",
              "      <td>5</td>\n",
              "      <td>1.0</td>\n",
              "      <td>1.0</td>\n",
              "      <td>1.0</td>\n",
              "    </tr>\n",
              "  </tbody>\n",
              "</table>\n",
              "</div>\n",
              "      <button class=\"colab-df-convert\" onclick=\"convertToInteractive('df-d61c397d-d302-4301-9348-fa6c5deb8524')\"\n",
              "              title=\"Convert this dataframe to an interactive table.\"\n",
              "              style=\"display:none;\">\n",
              "        \n",
              "  <svg xmlns=\"http://www.w3.org/2000/svg\" height=\"24px\"viewBox=\"0 0 24 24\"\n",
              "       width=\"24px\">\n",
              "    <path d=\"M0 0h24v24H0V0z\" fill=\"none\"/>\n",
              "    <path d=\"M18.56 5.44l.94 2.06.94-2.06 2.06-.94-2.06-.94-.94-2.06-.94 2.06-2.06.94zm-11 1L8.5 8.5l.94-2.06 2.06-.94-2.06-.94L8.5 2.5l-.94 2.06-2.06.94zm10 10l.94 2.06.94-2.06 2.06-.94-2.06-.94-.94-2.06-.94 2.06-2.06.94z\"/><path d=\"M17.41 7.96l-1.37-1.37c-.4-.4-.92-.59-1.43-.59-.52 0-1.04.2-1.43.59L10.3 9.45l-7.72 7.72c-.78.78-.78 2.05 0 2.83L4 21.41c.39.39.9.59 1.41.59.51 0 1.02-.2 1.41-.59l7.78-7.78 2.81-2.81c.8-.78.8-2.07 0-2.86zM5.41 20L4 18.59l7.72-7.72 1.47 1.35L5.41 20z\"/>\n",
              "  </svg>\n",
              "      </button>\n",
              "      \n",
              "  <style>\n",
              "    .colab-df-container {\n",
              "      display:flex;\n",
              "      flex-wrap:wrap;\n",
              "      gap: 12px;\n",
              "    }\n",
              "\n",
              "    .colab-df-convert {\n",
              "      background-color: #E8F0FE;\n",
              "      border: none;\n",
              "      border-radius: 50%;\n",
              "      cursor: pointer;\n",
              "      display: none;\n",
              "      fill: #1967D2;\n",
              "      height: 32px;\n",
              "      padding: 0 0 0 0;\n",
              "      width: 32px;\n",
              "    }\n",
              "\n",
              "    .colab-df-convert:hover {\n",
              "      background-color: #E2EBFA;\n",
              "      box-shadow: 0px 1px 2px rgba(60, 64, 67, 0.3), 0px 1px 3px 1px rgba(60, 64, 67, 0.15);\n",
              "      fill: #174EA6;\n",
              "    }\n",
              "\n",
              "    [theme=dark] .colab-df-convert {\n",
              "      background-color: #3B4455;\n",
              "      fill: #D2E3FC;\n",
              "    }\n",
              "\n",
              "    [theme=dark] .colab-df-convert:hover {\n",
              "      background-color: #434B5C;\n",
              "      box-shadow: 0px 1px 3px 1px rgba(0, 0, 0, 0.15);\n",
              "      filter: drop-shadow(0px 1px 2px rgba(0, 0, 0, 0.3));\n",
              "      fill: #FFFFFF;\n",
              "    }\n",
              "  </style>\n",
              "\n",
              "      <script>\n",
              "        const buttonEl =\n",
              "          document.querySelector('#df-d61c397d-d302-4301-9348-fa6c5deb8524 button.colab-df-convert');\n",
              "        buttonEl.style.display =\n",
              "          google.colab.kernel.accessAllowed ? 'block' : 'none';\n",
              "\n",
              "        async function convertToInteractive(key) {\n",
              "          const element = document.querySelector('#df-d61c397d-d302-4301-9348-fa6c5deb8524');\n",
              "          const dataTable =\n",
              "            await google.colab.kernel.invokeFunction('convertToInteractive',\n",
              "                                                     [key], {});\n",
              "          if (!dataTable) return;\n",
              "\n",
              "          const docLinkHtml = 'Like what you see? Visit the ' +\n",
              "            '<a target=\"_blank\" href=https://colab.research.google.com/notebooks/data_table.ipynb>data table notebook</a>'\n",
              "            + ' to learn more about interactive tables.';\n",
              "          element.innerHTML = '';\n",
              "          dataTable['output_type'] = 'display_data';\n",
              "          await google.colab.output.renderOutput(dataTable, element);\n",
              "          const docLink = document.createElement('div');\n",
              "          docLink.innerHTML = docLinkHtml;\n",
              "          element.appendChild(docLink);\n",
              "        }\n",
              "      </script>\n",
              "    </div>\n",
              "  </div>\n",
              "  "
            ]
          },
          "metadata": {},
          "execution_count": 641
        }
      ]
    },
    {
      "cell_type": "markdown",
      "source": [
        "# hmm remain"
      ],
      "metadata": {
        "id": "_kdcz1jJ1a_D"
      }
    },
    {
      "cell_type": "markdown",
      "source": [
        "# Implementing clustering algorithms"
      ],
      "metadata": {
        "id": "22sJKT2l1a_D"
      }
    },
    {
      "cell_type": "code",
      "source": [
        "y = y.to_numpy()"
      ],
      "metadata": {
        "id": "GO6AfdiC1a_D"
      },
      "execution_count": 642,
      "outputs": []
    },
    {
      "cell_type": "markdown",
      "source": [
        "# Implementing K means"
      ],
      "metadata": {
        "id": "JM1N-Vzh1a_E"
      }
    },
    {
      "cell_type": "code",
      "source": [
        "kmeans = KMeans(n_clusters = 5, random_state=0).fit(X)\n",
        "y_pred = kmeans.predict(X)"
      ],
      "metadata": {
        "id": "6KYSt8EO1a_E"
      },
      "execution_count": 643,
      "outputs": []
    },
    {
      "cell_type": "code",
      "source": [
        "df = pd.DataFrame(y_pred, columns=['Class'])\n",
        "y_pred = df.replace({y_pred[0]: y[0], y_pred[6]: y[6], y_pred[11]: y[11], y_pred[16]: y[16],y_pred[21]: y[21]}).to_numpy()"
      ],
      "metadata": {
        "id": "PZzjmDUQ1a_E"
      },
      "execution_count": 644,
      "outputs": []
    },
    {
      "cell_type": "markdown",
      "source": [
        "### Metrics for KMeans"
      ],
      "metadata": {
        "id": "yGZuOQqj1a_E"
      }
    },
    {
      "cell_type": "code",
      "source": [
        "cm = multilabel_confusion_matrix(y, y_pred, labels= range(5))\n",
        "\n",
        "res = []\n",
        "\n",
        "for l in range(5):\n",
        "    x = cm[l]\n",
        "    tn, fp = x[0]\n",
        "    fn, tp = x[1]\n",
        "    sensitivity = tp / (tp + fn)\n",
        "    specificity = tn / (tn + fp)\n",
        "    precision = tp / (tp + fp)\n",
        "    f1 = (2 * precision * sensitivity) / (precision + sensitivity)\n",
        "    res.append([l+1,sensitivity, specificity, f1])\n",
        "\n",
        "performance = pd.DataFrame(res, columns = ['Class','Sensitivity(Recall)','Specificity', 'F1 score'])\n",
        "\n",
        "performance['F1 score'] = performance['F1 score'].fillna(0)\n",
        "performance['Sensitivity(Recall)'] = performance['Sensitivity(Recall)'].fillna(0)\n",
        "performance['Specificity'] = performance['Specificity'].fillna(0)\n",
        "\n",
        "total_accuracy = accuracy_score(y, y_pred)\n",
        "print(\"The total accuracy is\", total_accuracy)\n",
        "performance"
      ],
      "metadata": {
        "colab": {
          "base_uri": "https://localhost:8080/",
          "height": 224
        },
        "outputId": "a3ac87c7-f9c5-4735-95aa-aac87cf08b5a",
        "id": "l_iYB_lG1a_E"
      },
      "execution_count": 645,
      "outputs": [
        {
          "output_type": "stream",
          "name": "stdout",
          "text": [
            "The total accuracy is 1.0\n"
          ]
        },
        {
          "output_type": "execute_result",
          "data": {
            "text/plain": [
              "   Class  Sensitivity(Recall)  Specificity  F1 score\n",
              "0      1                  1.0          1.0       1.0\n",
              "1      2                  1.0          1.0       1.0\n",
              "2      3                  1.0          1.0       1.0\n",
              "3      4                  1.0          1.0       1.0\n",
              "4      5                  1.0          1.0       1.0"
            ],
            "text/html": [
              "\n",
              "  <div id=\"df-d4b762bc-fafb-4ad7-bd16-441e42f27cb1\">\n",
              "    <div class=\"colab-df-container\">\n",
              "      <div>\n",
              "<style scoped>\n",
              "    .dataframe tbody tr th:only-of-type {\n",
              "        vertical-align: middle;\n",
              "    }\n",
              "\n",
              "    .dataframe tbody tr th {\n",
              "        vertical-align: top;\n",
              "    }\n",
              "\n",
              "    .dataframe thead th {\n",
              "        text-align: right;\n",
              "    }\n",
              "</style>\n",
              "<table border=\"1\" class=\"dataframe\">\n",
              "  <thead>\n",
              "    <tr style=\"text-align: right;\">\n",
              "      <th></th>\n",
              "      <th>Class</th>\n",
              "      <th>Sensitivity(Recall)</th>\n",
              "      <th>Specificity</th>\n",
              "      <th>F1 score</th>\n",
              "    </tr>\n",
              "  </thead>\n",
              "  <tbody>\n",
              "    <tr>\n",
              "      <th>0</th>\n",
              "      <td>1</td>\n",
              "      <td>1.0</td>\n",
              "      <td>1.0</td>\n",
              "      <td>1.0</td>\n",
              "    </tr>\n",
              "    <tr>\n",
              "      <th>1</th>\n",
              "      <td>2</td>\n",
              "      <td>1.0</td>\n",
              "      <td>1.0</td>\n",
              "      <td>1.0</td>\n",
              "    </tr>\n",
              "    <tr>\n",
              "      <th>2</th>\n",
              "      <td>3</td>\n",
              "      <td>1.0</td>\n",
              "      <td>1.0</td>\n",
              "      <td>1.0</td>\n",
              "    </tr>\n",
              "    <tr>\n",
              "      <th>3</th>\n",
              "      <td>4</td>\n",
              "      <td>1.0</td>\n",
              "      <td>1.0</td>\n",
              "      <td>1.0</td>\n",
              "    </tr>\n",
              "    <tr>\n",
              "      <th>4</th>\n",
              "      <td>5</td>\n",
              "      <td>1.0</td>\n",
              "      <td>1.0</td>\n",
              "      <td>1.0</td>\n",
              "    </tr>\n",
              "  </tbody>\n",
              "</table>\n",
              "</div>\n",
              "      <button class=\"colab-df-convert\" onclick=\"convertToInteractive('df-d4b762bc-fafb-4ad7-bd16-441e42f27cb1')\"\n",
              "              title=\"Convert this dataframe to an interactive table.\"\n",
              "              style=\"display:none;\">\n",
              "        \n",
              "  <svg xmlns=\"http://www.w3.org/2000/svg\" height=\"24px\"viewBox=\"0 0 24 24\"\n",
              "       width=\"24px\">\n",
              "    <path d=\"M0 0h24v24H0V0z\" fill=\"none\"/>\n",
              "    <path d=\"M18.56 5.44l.94 2.06.94-2.06 2.06-.94-2.06-.94-.94-2.06-.94 2.06-2.06.94zm-11 1L8.5 8.5l.94-2.06 2.06-.94-2.06-.94L8.5 2.5l-.94 2.06-2.06.94zm10 10l.94 2.06.94-2.06 2.06-.94-2.06-.94-.94-2.06-.94 2.06-2.06.94z\"/><path d=\"M17.41 7.96l-1.37-1.37c-.4-.4-.92-.59-1.43-.59-.52 0-1.04.2-1.43.59L10.3 9.45l-7.72 7.72c-.78.78-.78 2.05 0 2.83L4 21.41c.39.39.9.59 1.41.59.51 0 1.02-.2 1.41-.59l7.78-7.78 2.81-2.81c.8-.78.8-2.07 0-2.86zM5.41 20L4 18.59l7.72-7.72 1.47 1.35L5.41 20z\"/>\n",
              "  </svg>\n",
              "      </button>\n",
              "      \n",
              "  <style>\n",
              "    .colab-df-container {\n",
              "      display:flex;\n",
              "      flex-wrap:wrap;\n",
              "      gap: 12px;\n",
              "    }\n",
              "\n",
              "    .colab-df-convert {\n",
              "      background-color: #E8F0FE;\n",
              "      border: none;\n",
              "      border-radius: 50%;\n",
              "      cursor: pointer;\n",
              "      display: none;\n",
              "      fill: #1967D2;\n",
              "      height: 32px;\n",
              "      padding: 0 0 0 0;\n",
              "      width: 32px;\n",
              "    }\n",
              "\n",
              "    .colab-df-convert:hover {\n",
              "      background-color: #E2EBFA;\n",
              "      box-shadow: 0px 1px 2px rgba(60, 64, 67, 0.3), 0px 1px 3px 1px rgba(60, 64, 67, 0.15);\n",
              "      fill: #174EA6;\n",
              "    }\n",
              "\n",
              "    [theme=dark] .colab-df-convert {\n",
              "      background-color: #3B4455;\n",
              "      fill: #D2E3FC;\n",
              "    }\n",
              "\n",
              "    [theme=dark] .colab-df-convert:hover {\n",
              "      background-color: #434B5C;\n",
              "      box-shadow: 0px 1px 3px 1px rgba(0, 0, 0, 0.15);\n",
              "      filter: drop-shadow(0px 1px 2px rgba(0, 0, 0, 0.3));\n",
              "      fill: #FFFFFF;\n",
              "    }\n",
              "  </style>\n",
              "\n",
              "      <script>\n",
              "        const buttonEl =\n",
              "          document.querySelector('#df-d4b762bc-fafb-4ad7-bd16-441e42f27cb1 button.colab-df-convert');\n",
              "        buttonEl.style.display =\n",
              "          google.colab.kernel.accessAllowed ? 'block' : 'none';\n",
              "\n",
              "        async function convertToInteractive(key) {\n",
              "          const element = document.querySelector('#df-d4b762bc-fafb-4ad7-bd16-441e42f27cb1');\n",
              "          const dataTable =\n",
              "            await google.colab.kernel.invokeFunction('convertToInteractive',\n",
              "                                                     [key], {});\n",
              "          if (!dataTable) return;\n",
              "\n",
              "          const docLinkHtml = 'Like what you see? Visit the ' +\n",
              "            '<a target=\"_blank\" href=https://colab.research.google.com/notebooks/data_table.ipynb>data table notebook</a>'\n",
              "            + ' to learn more about interactive tables.';\n",
              "          element.innerHTML = '';\n",
              "          dataTable['output_type'] = 'display_data';\n",
              "          await google.colab.output.renderOutput(dataTable, element);\n",
              "          const docLink = document.createElement('div');\n",
              "          docLink.innerHTML = docLinkHtml;\n",
              "          element.appendChild(docLink);\n",
              "        }\n",
              "      </script>\n",
              "    </div>\n",
              "  </div>\n",
              "  "
            ]
          },
          "metadata": {},
          "execution_count": 645
        }
      ]
    },
    {
      "cell_type": "markdown",
      "source": [
        "# Implementing FCMeans"
      ],
      "metadata": {
        "id": "bPm3G7Gl1a_F"
      }
    },
    {
      "cell_type": "code",
      "source": [
        "from fcmeans import FCM\n",
        "fcm = FCM(n_clusters = 5)\n",
        "fcm.fit(X)\n",
        "y_pred = fcm.predict(X)"
      ],
      "metadata": {
        "id": "Mk5ShZUP1a_F"
      },
      "execution_count": 646,
      "outputs": []
    },
    {
      "cell_type": "code",
      "source": [
        "df = pd.DataFrame(y_pred, columns=['Class'])\n",
        "y_pred = df.replace({y_pred[0]: y[0], y_pred[6]: y[6], y_pred[11]: y[11], y_pred[16]: y[16],y_pred[21]: y[21]}).to_numpy()"
      ],
      "metadata": {
        "id": "dQzxHeT31a_F"
      },
      "execution_count": 647,
      "outputs": []
    },
    {
      "cell_type": "markdown",
      "source": [
        "### Metrics for FCMeans"
      ],
      "metadata": {
        "id": "LMB17OIy1a_F"
      }
    },
    {
      "cell_type": "code",
      "source": [
        "cm = multilabel_confusion_matrix(y, y_pred, labels= range(5))\n",
        "\n",
        "res = []\n",
        "\n",
        "for l in range(5):\n",
        "    x = cm[l]\n",
        "    tn, fp = x[0]\n",
        "    fn, tp = x[1]\n",
        "    sensitivity = tp / (tp + fn)\n",
        "    specificity = tn / (tn + fp)\n",
        "    precision = tp / (tp + fp)\n",
        "    f1 = (2 * precision * sensitivity) / (precision + sensitivity)\n",
        "    res.append([l+1,sensitivity, specificity, f1])\n",
        "\n",
        "performance = pd.DataFrame(res, columns = ['Class','Sensitivity(Recall)','Specificity', 'F1 score'])\n",
        "\n",
        "performance['F1 score'] = performance['F1 score'].fillna(0)\n",
        "performance['Sensitivity(Recall)'] = performance['Sensitivity(Recall)'].fillna(0)\n",
        "performance['Specificity'] = performance['Specificity'].fillna(0)\n",
        "\n",
        "total_accuracy = accuracy_score(y, y_pred)\n",
        "print(\"The total accuracy is\", total_accuracy)\n",
        "performance"
      ],
      "metadata": {
        "colab": {
          "base_uri": "https://localhost:8080/",
          "height": 224
        },
        "outputId": "6422d5ad-7197-45e8-d636-43a5cbad7ad4",
        "id": "L8TpPn891a_F"
      },
      "execution_count": 648,
      "outputs": [
        {
          "output_type": "stream",
          "name": "stdout",
          "text": [
            "The total accuracy is 1.0\n"
          ]
        },
        {
          "output_type": "execute_result",
          "data": {
            "text/plain": [
              "   Class  Sensitivity(Recall)  Specificity  F1 score\n",
              "0      1                  1.0          1.0       1.0\n",
              "1      2                  1.0          1.0       1.0\n",
              "2      3                  1.0          1.0       1.0\n",
              "3      4                  1.0          1.0       1.0\n",
              "4      5                  1.0          1.0       1.0"
            ],
            "text/html": [
              "\n",
              "  <div id=\"df-0cd1fb4a-70ba-49d2-83e4-d65ed98ffbe3\">\n",
              "    <div class=\"colab-df-container\">\n",
              "      <div>\n",
              "<style scoped>\n",
              "    .dataframe tbody tr th:only-of-type {\n",
              "        vertical-align: middle;\n",
              "    }\n",
              "\n",
              "    .dataframe tbody tr th {\n",
              "        vertical-align: top;\n",
              "    }\n",
              "\n",
              "    .dataframe thead th {\n",
              "        text-align: right;\n",
              "    }\n",
              "</style>\n",
              "<table border=\"1\" class=\"dataframe\">\n",
              "  <thead>\n",
              "    <tr style=\"text-align: right;\">\n",
              "      <th></th>\n",
              "      <th>Class</th>\n",
              "      <th>Sensitivity(Recall)</th>\n",
              "      <th>Specificity</th>\n",
              "      <th>F1 score</th>\n",
              "    </tr>\n",
              "  </thead>\n",
              "  <tbody>\n",
              "    <tr>\n",
              "      <th>0</th>\n",
              "      <td>1</td>\n",
              "      <td>1.0</td>\n",
              "      <td>1.0</td>\n",
              "      <td>1.0</td>\n",
              "    </tr>\n",
              "    <tr>\n",
              "      <th>1</th>\n",
              "      <td>2</td>\n",
              "      <td>1.0</td>\n",
              "      <td>1.0</td>\n",
              "      <td>1.0</td>\n",
              "    </tr>\n",
              "    <tr>\n",
              "      <th>2</th>\n",
              "      <td>3</td>\n",
              "      <td>1.0</td>\n",
              "      <td>1.0</td>\n",
              "      <td>1.0</td>\n",
              "    </tr>\n",
              "    <tr>\n",
              "      <th>3</th>\n",
              "      <td>4</td>\n",
              "      <td>1.0</td>\n",
              "      <td>1.0</td>\n",
              "      <td>1.0</td>\n",
              "    </tr>\n",
              "    <tr>\n",
              "      <th>4</th>\n",
              "      <td>5</td>\n",
              "      <td>1.0</td>\n",
              "      <td>1.0</td>\n",
              "      <td>1.0</td>\n",
              "    </tr>\n",
              "  </tbody>\n",
              "</table>\n",
              "</div>\n",
              "      <button class=\"colab-df-convert\" onclick=\"convertToInteractive('df-0cd1fb4a-70ba-49d2-83e4-d65ed98ffbe3')\"\n",
              "              title=\"Convert this dataframe to an interactive table.\"\n",
              "              style=\"display:none;\">\n",
              "        \n",
              "  <svg xmlns=\"http://www.w3.org/2000/svg\" height=\"24px\"viewBox=\"0 0 24 24\"\n",
              "       width=\"24px\">\n",
              "    <path d=\"M0 0h24v24H0V0z\" fill=\"none\"/>\n",
              "    <path d=\"M18.56 5.44l.94 2.06.94-2.06 2.06-.94-2.06-.94-.94-2.06-.94 2.06-2.06.94zm-11 1L8.5 8.5l.94-2.06 2.06-.94-2.06-.94L8.5 2.5l-.94 2.06-2.06.94zm10 10l.94 2.06.94-2.06 2.06-.94-2.06-.94-.94-2.06-.94 2.06-2.06.94z\"/><path d=\"M17.41 7.96l-1.37-1.37c-.4-.4-.92-.59-1.43-.59-.52 0-1.04.2-1.43.59L10.3 9.45l-7.72 7.72c-.78.78-.78 2.05 0 2.83L4 21.41c.39.39.9.59 1.41.59.51 0 1.02-.2 1.41-.59l7.78-7.78 2.81-2.81c.8-.78.8-2.07 0-2.86zM5.41 20L4 18.59l7.72-7.72 1.47 1.35L5.41 20z\"/>\n",
              "  </svg>\n",
              "      </button>\n",
              "      \n",
              "  <style>\n",
              "    .colab-df-container {\n",
              "      display:flex;\n",
              "      flex-wrap:wrap;\n",
              "      gap: 12px;\n",
              "    }\n",
              "\n",
              "    .colab-df-convert {\n",
              "      background-color: #E8F0FE;\n",
              "      border: none;\n",
              "      border-radius: 50%;\n",
              "      cursor: pointer;\n",
              "      display: none;\n",
              "      fill: #1967D2;\n",
              "      height: 32px;\n",
              "      padding: 0 0 0 0;\n",
              "      width: 32px;\n",
              "    }\n",
              "\n",
              "    .colab-df-convert:hover {\n",
              "      background-color: #E2EBFA;\n",
              "      box-shadow: 0px 1px 2px rgba(60, 64, 67, 0.3), 0px 1px 3px 1px rgba(60, 64, 67, 0.15);\n",
              "      fill: #174EA6;\n",
              "    }\n",
              "\n",
              "    [theme=dark] .colab-df-convert {\n",
              "      background-color: #3B4455;\n",
              "      fill: #D2E3FC;\n",
              "    }\n",
              "\n",
              "    [theme=dark] .colab-df-convert:hover {\n",
              "      background-color: #434B5C;\n",
              "      box-shadow: 0px 1px 3px 1px rgba(0, 0, 0, 0.15);\n",
              "      filter: drop-shadow(0px 1px 2px rgba(0, 0, 0, 0.3));\n",
              "      fill: #FFFFFF;\n",
              "    }\n",
              "  </style>\n",
              "\n",
              "      <script>\n",
              "        const buttonEl =\n",
              "          document.querySelector('#df-0cd1fb4a-70ba-49d2-83e4-d65ed98ffbe3 button.colab-df-convert');\n",
              "        buttonEl.style.display =\n",
              "          google.colab.kernel.accessAllowed ? 'block' : 'none';\n",
              "\n",
              "        async function convertToInteractive(key) {\n",
              "          const element = document.querySelector('#df-0cd1fb4a-70ba-49d2-83e4-d65ed98ffbe3');\n",
              "          const dataTable =\n",
              "            await google.colab.kernel.invokeFunction('convertToInteractive',\n",
              "                                                     [key], {});\n",
              "          if (!dataTable) return;\n",
              "\n",
              "          const docLinkHtml = 'Like what you see? Visit the ' +\n",
              "            '<a target=\"_blank\" href=https://colab.research.google.com/notebooks/data_table.ipynb>data table notebook</a>'\n",
              "            + ' to learn more about interactive tables.';\n",
              "          element.innerHTML = '';\n",
              "          dataTable['output_type'] = 'display_data';\n",
              "          await google.colab.output.renderOutput(dataTable, element);\n",
              "          const docLink = document.createElement('div');\n",
              "          docLink.innerHTML = docLinkHtml;\n",
              "          element.appendChild(docLink);\n",
              "        }\n",
              "      </script>\n",
              "    </div>\n",
              "  </div>\n",
              "  "
            ]
          },
          "metadata": {},
          "execution_count": 648
        }
      ]
    },
    {
      "cell_type": "markdown",
      "source": [
        "# Using QCM7 sensor data for classification"
      ],
      "metadata": {
        "id": "wD7-5LN11fNo"
      }
    },
    {
      "cell_type": "code",
      "source": [
        "# Separating features and target variable\n",
        "y = df_7['Class']\n",
        "data = df_7.drop(columns = ['Class'])"
      ],
      "metadata": {
        "id": "aE3RGwRk1fNp"
      },
      "execution_count": 649,
      "outputs": []
    },
    {
      "cell_type": "markdown",
      "source": [
        "## Preprocessing"
      ],
      "metadata": {
        "id": "_htnn1Zp1fNp"
      }
    },
    {
      "cell_type": "code",
      "source": [
        "X = Normalizer().fit_transform(data)"
      ],
      "metadata": {
        "id": "bIPadEVt1fNp"
      },
      "execution_count": 650,
      "outputs": []
    },
    {
      "cell_type": "code",
      "source": [
        "X_train, X_test, y_train, y_test = train_test_split(X, y, test_size=0.2, stratify = y)"
      ],
      "metadata": {
        "id": "NAW9gG011fNp"
      },
      "execution_count": 651,
      "outputs": []
    },
    {
      "cell_type": "markdown",
      "source": [
        "## Implementing MLP"
      ],
      "metadata": {
        "id": "j8qW5ZE-1fNq"
      }
    },
    {
      "cell_type": "code",
      "source": [
        "clf = MLPClassifier()\n",
        "clf.fit(X_train, y_train)\n",
        "y_pred = clf.predict(X_test)"
      ],
      "metadata": {
        "id": "-S5UPiGp1fNq"
      },
      "execution_count": 652,
      "outputs": []
    },
    {
      "cell_type": "markdown",
      "source": [
        "### Metrics for MLP"
      ],
      "metadata": {
        "id": "4AuPZocY1fNr"
      }
    },
    {
      "cell_type": "code",
      "source": [
        "cm = multilabel_confusion_matrix(y_test, y_pred, labels= range(5))\n",
        "\n",
        "res = []\n",
        "\n",
        "for l in range(5):\n",
        "    x = cm[l]\n",
        "    tn, fp = x[0]\n",
        "    fn, tp = x[1]\n",
        "    sensitivity = tp / (tp + fn)\n",
        "    specificity = tn / (tn + fp)\n",
        "    precision = tp / (tp + fp)\n",
        "    f1 = (2 * precision * sensitivity) / (precision + sensitivity)\n",
        "    res.append([l+1,sensitivity, specificity, f1])\n",
        "\n",
        "performance = pd.DataFrame(res, columns = ['Class','Sensitivity(Recall)','Specificity', 'F1 score'])\n",
        "\n",
        "performance['F1 score'] = performance['F1 score'].fillna(0)\n",
        "performance['Sensitivity(Recall)'] = performance['Sensitivity(Recall)'].fillna(0)\n",
        "performance['Specificity'] = performance['Specificity'].fillna(0)\n",
        "\n",
        "total_accuracy = accuracy_score(y_test, y_pred)\n",
        "print(\"The total accuracy is\", total_accuracy)\n",
        "performance"
      ],
      "metadata": {
        "colab": {
          "base_uri": "https://localhost:8080/",
          "height": 224
        },
        "outputId": "390058a0-dcf5-4638-983a-6d9a22c8e187",
        "id": "7p7vqcK_1fNr"
      },
      "execution_count": 653,
      "outputs": [
        {
          "output_type": "stream",
          "name": "stdout",
          "text": [
            "The total accuracy is 1.0\n"
          ]
        },
        {
          "output_type": "execute_result",
          "data": {
            "text/plain": [
              "   Class  Sensitivity(Recall)  Specificity  F1 score\n",
              "0      1                  1.0          1.0       1.0\n",
              "1      2                  1.0          1.0       1.0\n",
              "2      3                  1.0          1.0       1.0\n",
              "3      4                  1.0          1.0       1.0\n",
              "4      5                  1.0          1.0       1.0"
            ],
            "text/html": [
              "\n",
              "  <div id=\"df-e67cbd5b-933b-4d49-9706-bb1863f844c5\">\n",
              "    <div class=\"colab-df-container\">\n",
              "      <div>\n",
              "<style scoped>\n",
              "    .dataframe tbody tr th:only-of-type {\n",
              "        vertical-align: middle;\n",
              "    }\n",
              "\n",
              "    .dataframe tbody tr th {\n",
              "        vertical-align: top;\n",
              "    }\n",
              "\n",
              "    .dataframe thead th {\n",
              "        text-align: right;\n",
              "    }\n",
              "</style>\n",
              "<table border=\"1\" class=\"dataframe\">\n",
              "  <thead>\n",
              "    <tr style=\"text-align: right;\">\n",
              "      <th></th>\n",
              "      <th>Class</th>\n",
              "      <th>Sensitivity(Recall)</th>\n",
              "      <th>Specificity</th>\n",
              "      <th>F1 score</th>\n",
              "    </tr>\n",
              "  </thead>\n",
              "  <tbody>\n",
              "    <tr>\n",
              "      <th>0</th>\n",
              "      <td>1</td>\n",
              "      <td>1.0</td>\n",
              "      <td>1.0</td>\n",
              "      <td>1.0</td>\n",
              "    </tr>\n",
              "    <tr>\n",
              "      <th>1</th>\n",
              "      <td>2</td>\n",
              "      <td>1.0</td>\n",
              "      <td>1.0</td>\n",
              "      <td>1.0</td>\n",
              "    </tr>\n",
              "    <tr>\n",
              "      <th>2</th>\n",
              "      <td>3</td>\n",
              "      <td>1.0</td>\n",
              "      <td>1.0</td>\n",
              "      <td>1.0</td>\n",
              "    </tr>\n",
              "    <tr>\n",
              "      <th>3</th>\n",
              "      <td>4</td>\n",
              "      <td>1.0</td>\n",
              "      <td>1.0</td>\n",
              "      <td>1.0</td>\n",
              "    </tr>\n",
              "    <tr>\n",
              "      <th>4</th>\n",
              "      <td>5</td>\n",
              "      <td>1.0</td>\n",
              "      <td>1.0</td>\n",
              "      <td>1.0</td>\n",
              "    </tr>\n",
              "  </tbody>\n",
              "</table>\n",
              "</div>\n",
              "      <button class=\"colab-df-convert\" onclick=\"convertToInteractive('df-e67cbd5b-933b-4d49-9706-bb1863f844c5')\"\n",
              "              title=\"Convert this dataframe to an interactive table.\"\n",
              "              style=\"display:none;\">\n",
              "        \n",
              "  <svg xmlns=\"http://www.w3.org/2000/svg\" height=\"24px\"viewBox=\"0 0 24 24\"\n",
              "       width=\"24px\">\n",
              "    <path d=\"M0 0h24v24H0V0z\" fill=\"none\"/>\n",
              "    <path d=\"M18.56 5.44l.94 2.06.94-2.06 2.06-.94-2.06-.94-.94-2.06-.94 2.06-2.06.94zm-11 1L8.5 8.5l.94-2.06 2.06-.94-2.06-.94L8.5 2.5l-.94 2.06-2.06.94zm10 10l.94 2.06.94-2.06 2.06-.94-2.06-.94-.94-2.06-.94 2.06-2.06.94z\"/><path d=\"M17.41 7.96l-1.37-1.37c-.4-.4-.92-.59-1.43-.59-.52 0-1.04.2-1.43.59L10.3 9.45l-7.72 7.72c-.78.78-.78 2.05 0 2.83L4 21.41c.39.39.9.59 1.41.59.51 0 1.02-.2 1.41-.59l7.78-7.78 2.81-2.81c.8-.78.8-2.07 0-2.86zM5.41 20L4 18.59l7.72-7.72 1.47 1.35L5.41 20z\"/>\n",
              "  </svg>\n",
              "      </button>\n",
              "      \n",
              "  <style>\n",
              "    .colab-df-container {\n",
              "      display:flex;\n",
              "      flex-wrap:wrap;\n",
              "      gap: 12px;\n",
              "    }\n",
              "\n",
              "    .colab-df-convert {\n",
              "      background-color: #E8F0FE;\n",
              "      border: none;\n",
              "      border-radius: 50%;\n",
              "      cursor: pointer;\n",
              "      display: none;\n",
              "      fill: #1967D2;\n",
              "      height: 32px;\n",
              "      padding: 0 0 0 0;\n",
              "      width: 32px;\n",
              "    }\n",
              "\n",
              "    .colab-df-convert:hover {\n",
              "      background-color: #E2EBFA;\n",
              "      box-shadow: 0px 1px 2px rgba(60, 64, 67, 0.3), 0px 1px 3px 1px rgba(60, 64, 67, 0.15);\n",
              "      fill: #174EA6;\n",
              "    }\n",
              "\n",
              "    [theme=dark] .colab-df-convert {\n",
              "      background-color: #3B4455;\n",
              "      fill: #D2E3FC;\n",
              "    }\n",
              "\n",
              "    [theme=dark] .colab-df-convert:hover {\n",
              "      background-color: #434B5C;\n",
              "      box-shadow: 0px 1px 3px 1px rgba(0, 0, 0, 0.15);\n",
              "      filter: drop-shadow(0px 1px 2px rgba(0, 0, 0, 0.3));\n",
              "      fill: #FFFFFF;\n",
              "    }\n",
              "  </style>\n",
              "\n",
              "      <script>\n",
              "        const buttonEl =\n",
              "          document.querySelector('#df-e67cbd5b-933b-4d49-9706-bb1863f844c5 button.colab-df-convert');\n",
              "        buttonEl.style.display =\n",
              "          google.colab.kernel.accessAllowed ? 'block' : 'none';\n",
              "\n",
              "        async function convertToInteractive(key) {\n",
              "          const element = document.querySelector('#df-e67cbd5b-933b-4d49-9706-bb1863f844c5');\n",
              "          const dataTable =\n",
              "            await google.colab.kernel.invokeFunction('convertToInteractive',\n",
              "                                                     [key], {});\n",
              "          if (!dataTable) return;\n",
              "\n",
              "          const docLinkHtml = 'Like what you see? Visit the ' +\n",
              "            '<a target=\"_blank\" href=https://colab.research.google.com/notebooks/data_table.ipynb>data table notebook</a>'\n",
              "            + ' to learn more about interactive tables.';\n",
              "          element.innerHTML = '';\n",
              "          dataTable['output_type'] = 'display_data';\n",
              "          await google.colab.output.renderOutput(dataTable, element);\n",
              "          const docLink = document.createElement('div');\n",
              "          docLink.innerHTML = docLinkHtml;\n",
              "          element.appendChild(docLink);\n",
              "        }\n",
              "      </script>\n",
              "    </div>\n",
              "  </div>\n",
              "  "
            ]
          },
          "metadata": {},
          "execution_count": 653
        }
      ]
    },
    {
      "cell_type": "markdown",
      "source": [
        "## Implementing SVC"
      ],
      "metadata": {
        "id": "gYHkWnQO1fNs"
      }
    },
    {
      "cell_type": "code",
      "source": [
        "clf = SVC()\n",
        "clf.fit(X_train, y_train)\n",
        "y_pred = clf.predict(X_test)"
      ],
      "metadata": {
        "id": "BXwQqmhT1fNs"
      },
      "execution_count": 654,
      "outputs": []
    },
    {
      "cell_type": "markdown",
      "source": [
        "### Metrics for SVC"
      ],
      "metadata": {
        "id": "hHdSTVk61fNs"
      }
    },
    {
      "cell_type": "code",
      "source": [
        "cm = multilabel_confusion_matrix(y_test, y_pred, labels= range(5))\n",
        "\n",
        "res = []\n",
        "\n",
        "for l in range(5):\n",
        "    x = cm[l]\n",
        "    tn, fp = x[0]\n",
        "    fn, tp = x[1]\n",
        "    sensitivity = tp / (tp + fn)\n",
        "    specificity = tn / (tn + fp)\n",
        "    precision = tp / (tp + fp)\n",
        "    f1 = (2 * precision * sensitivity) / (precision + sensitivity)\n",
        "    res.append([l+1,sensitivity, specificity, f1])\n",
        "\n",
        "performance = pd.DataFrame(res, columns = ['Class','Sensitivity(Recall)','Specificity', 'F1 score'])\n",
        "\n",
        "performance['F1 score'] = performance['F1 score'].fillna(0)\n",
        "performance['Sensitivity(Recall)'] = performance['Sensitivity(Recall)'].fillna(0)\n",
        "performance['Specificity'] = performance['Specificity'].fillna(0)\n",
        "\n",
        "total_accuracy = accuracy_score(y_test, y_pred)\n",
        "print(\"The total accuracy is\", total_accuracy)\n",
        "performance"
      ],
      "metadata": {
        "colab": {
          "base_uri": "https://localhost:8080/",
          "height": 224
        },
        "outputId": "d7675e93-1f0f-4a3a-89ea-76d46dc18c5e",
        "id": "J7cSbZIO1fNs"
      },
      "execution_count": 655,
      "outputs": [
        {
          "output_type": "stream",
          "name": "stdout",
          "text": [
            "The total accuracy is 1.0\n"
          ]
        },
        {
          "output_type": "execute_result",
          "data": {
            "text/plain": [
              "   Class  Sensitivity(Recall)  Specificity  F1 score\n",
              "0      1                  1.0          1.0       1.0\n",
              "1      2                  1.0          1.0       1.0\n",
              "2      3                  1.0          1.0       1.0\n",
              "3      4                  1.0          1.0       1.0\n",
              "4      5                  1.0          1.0       1.0"
            ],
            "text/html": [
              "\n",
              "  <div id=\"df-d319e94a-1479-454a-95dc-33e948260e0e\">\n",
              "    <div class=\"colab-df-container\">\n",
              "      <div>\n",
              "<style scoped>\n",
              "    .dataframe tbody tr th:only-of-type {\n",
              "        vertical-align: middle;\n",
              "    }\n",
              "\n",
              "    .dataframe tbody tr th {\n",
              "        vertical-align: top;\n",
              "    }\n",
              "\n",
              "    .dataframe thead th {\n",
              "        text-align: right;\n",
              "    }\n",
              "</style>\n",
              "<table border=\"1\" class=\"dataframe\">\n",
              "  <thead>\n",
              "    <tr style=\"text-align: right;\">\n",
              "      <th></th>\n",
              "      <th>Class</th>\n",
              "      <th>Sensitivity(Recall)</th>\n",
              "      <th>Specificity</th>\n",
              "      <th>F1 score</th>\n",
              "    </tr>\n",
              "  </thead>\n",
              "  <tbody>\n",
              "    <tr>\n",
              "      <th>0</th>\n",
              "      <td>1</td>\n",
              "      <td>1.0</td>\n",
              "      <td>1.0</td>\n",
              "      <td>1.0</td>\n",
              "    </tr>\n",
              "    <tr>\n",
              "      <th>1</th>\n",
              "      <td>2</td>\n",
              "      <td>1.0</td>\n",
              "      <td>1.0</td>\n",
              "      <td>1.0</td>\n",
              "    </tr>\n",
              "    <tr>\n",
              "      <th>2</th>\n",
              "      <td>3</td>\n",
              "      <td>1.0</td>\n",
              "      <td>1.0</td>\n",
              "      <td>1.0</td>\n",
              "    </tr>\n",
              "    <tr>\n",
              "      <th>3</th>\n",
              "      <td>4</td>\n",
              "      <td>1.0</td>\n",
              "      <td>1.0</td>\n",
              "      <td>1.0</td>\n",
              "    </tr>\n",
              "    <tr>\n",
              "      <th>4</th>\n",
              "      <td>5</td>\n",
              "      <td>1.0</td>\n",
              "      <td>1.0</td>\n",
              "      <td>1.0</td>\n",
              "    </tr>\n",
              "  </tbody>\n",
              "</table>\n",
              "</div>\n",
              "      <button class=\"colab-df-convert\" onclick=\"convertToInteractive('df-d319e94a-1479-454a-95dc-33e948260e0e')\"\n",
              "              title=\"Convert this dataframe to an interactive table.\"\n",
              "              style=\"display:none;\">\n",
              "        \n",
              "  <svg xmlns=\"http://www.w3.org/2000/svg\" height=\"24px\"viewBox=\"0 0 24 24\"\n",
              "       width=\"24px\">\n",
              "    <path d=\"M0 0h24v24H0V0z\" fill=\"none\"/>\n",
              "    <path d=\"M18.56 5.44l.94 2.06.94-2.06 2.06-.94-2.06-.94-.94-2.06-.94 2.06-2.06.94zm-11 1L8.5 8.5l.94-2.06 2.06-.94-2.06-.94L8.5 2.5l-.94 2.06-2.06.94zm10 10l.94 2.06.94-2.06 2.06-.94-2.06-.94-.94-2.06-.94 2.06-2.06.94z\"/><path d=\"M17.41 7.96l-1.37-1.37c-.4-.4-.92-.59-1.43-.59-.52 0-1.04.2-1.43.59L10.3 9.45l-7.72 7.72c-.78.78-.78 2.05 0 2.83L4 21.41c.39.39.9.59 1.41.59.51 0 1.02-.2 1.41-.59l7.78-7.78 2.81-2.81c.8-.78.8-2.07 0-2.86zM5.41 20L4 18.59l7.72-7.72 1.47 1.35L5.41 20z\"/>\n",
              "  </svg>\n",
              "      </button>\n",
              "      \n",
              "  <style>\n",
              "    .colab-df-container {\n",
              "      display:flex;\n",
              "      flex-wrap:wrap;\n",
              "      gap: 12px;\n",
              "    }\n",
              "\n",
              "    .colab-df-convert {\n",
              "      background-color: #E8F0FE;\n",
              "      border: none;\n",
              "      border-radius: 50%;\n",
              "      cursor: pointer;\n",
              "      display: none;\n",
              "      fill: #1967D2;\n",
              "      height: 32px;\n",
              "      padding: 0 0 0 0;\n",
              "      width: 32px;\n",
              "    }\n",
              "\n",
              "    .colab-df-convert:hover {\n",
              "      background-color: #E2EBFA;\n",
              "      box-shadow: 0px 1px 2px rgba(60, 64, 67, 0.3), 0px 1px 3px 1px rgba(60, 64, 67, 0.15);\n",
              "      fill: #174EA6;\n",
              "    }\n",
              "\n",
              "    [theme=dark] .colab-df-convert {\n",
              "      background-color: #3B4455;\n",
              "      fill: #D2E3FC;\n",
              "    }\n",
              "\n",
              "    [theme=dark] .colab-df-convert:hover {\n",
              "      background-color: #434B5C;\n",
              "      box-shadow: 0px 1px 3px 1px rgba(0, 0, 0, 0.15);\n",
              "      filter: drop-shadow(0px 1px 2px rgba(0, 0, 0, 0.3));\n",
              "      fill: #FFFFFF;\n",
              "    }\n",
              "  </style>\n",
              "\n",
              "      <script>\n",
              "        const buttonEl =\n",
              "          document.querySelector('#df-d319e94a-1479-454a-95dc-33e948260e0e button.colab-df-convert');\n",
              "        buttonEl.style.display =\n",
              "          google.colab.kernel.accessAllowed ? 'block' : 'none';\n",
              "\n",
              "        async function convertToInteractive(key) {\n",
              "          const element = document.querySelector('#df-d319e94a-1479-454a-95dc-33e948260e0e');\n",
              "          const dataTable =\n",
              "            await google.colab.kernel.invokeFunction('convertToInteractive',\n",
              "                                                     [key], {});\n",
              "          if (!dataTable) return;\n",
              "\n",
              "          const docLinkHtml = 'Like what you see? Visit the ' +\n",
              "            '<a target=\"_blank\" href=https://colab.research.google.com/notebooks/data_table.ipynb>data table notebook</a>'\n",
              "            + ' to learn more about interactive tables.';\n",
              "          element.innerHTML = '';\n",
              "          dataTable['output_type'] = 'display_data';\n",
              "          await google.colab.output.renderOutput(dataTable, element);\n",
              "          const docLink = document.createElement('div');\n",
              "          docLink.innerHTML = docLinkHtml;\n",
              "          element.appendChild(docLink);\n",
              "        }\n",
              "      </script>\n",
              "    </div>\n",
              "  </div>\n",
              "  "
            ]
          },
          "metadata": {},
          "execution_count": 655
        }
      ]
    },
    {
      "cell_type": "markdown",
      "source": [
        "# Implementing HMM Learn"
      ],
      "metadata": {
        "id": "CPsVdSUg1fNs"
      }
    },
    {
      "cell_type": "code",
      "source": [
        "# Retriving values for each classes\n",
        "X_1, y_1 = X[0:5], y[0:5]\n",
        "X_2, y_2 = X[5:10], y[5:10]\n",
        "X_3, y_3 = X[10:15], y[10:15]\n",
        "X_4, y_4 = X[15:20], y[15:20]\n",
        "X_5, y_5 = X[20:25], y[20:25]"
      ],
      "metadata": {
        "id": "FxCuFWuR5Jv3"
      },
      "execution_count": 656,
      "outputs": []
    },
    {
      "cell_type": "code",
      "source": [
        "X_1"
      ],
      "metadata": {
        "colab": {
          "base_uri": "https://localhost:8080/"
        },
        "id": "KeBD-yFx9ilv",
        "outputId": "b3d24fa8-89eb-412c-8a72-6892ac4dafe7"
      },
      "execution_count": 657,
      "outputs": [
        {
          "output_type": "execute_result",
          "data": {
            "text/plain": [
              "array([[-0.11214742, -0.14190693, -0.18684579, -0.22619226, -0.27282881,\n",
              "        -0.32345993, -0.35232066, -0.40664675, -0.40574798, -0.49802244],\n",
              "       [-0.11250151, -0.1396321 , -0.19108979, -0.23088132, -0.27537549,\n",
              "        -0.32755666, -0.33325408, -0.40795364, -0.41057626, -0.49884111],\n",
              "       [-0.11296287, -0.13736285, -0.19717155, -0.23241597, -0.27858697,\n",
              "        -0.32820848, -0.33650612, -0.40609124, -0.41003468, -0.49383259],\n",
              "       [-0.11503078, -0.13742548, -0.20193443, -0.23426534, -0.2794369 ,\n",
              "        -0.32865937, -0.33485039, -0.4030281 , -0.41189426, -0.49184257],\n",
              "       [-0.11981503, -0.13735244, -0.20620835, -0.23416758, -0.28476733,\n",
              "        -0.32832336, -0.33896081, -0.39998238, -0.41112295, -0.48644758]])"
            ]
          },
          "metadata": {},
          "execution_count": 657
        }
      ]
    },
    {
      "cell_type": "code",
      "source": [
        "# Splitting data for each class\n",
        "x_trainc1, x_testc1, y_trainc1, y_testc1 = train_test_split(X_1, y_1, test_size=0.2)\n",
        "\n",
        "x_trainc2, x_testc2, y_trainc2, y_testc2 = train_test_split(X_2, y_2, test_size=0.2)\n",
        "x_trainc3, x_testc3, y_trainc3, y_testc3 = train_test_split(X_3, y_3, test_size=0.2)\n",
        "x_trainc4, x_testc4, y_trainc4, y_testc4 = train_test_split(X_4, y_4, test_size=0.2)\n",
        "x_trainc5, x_testc5, y_trainc5, y_testc5 = train_test_split(X_5, y_5, test_size=0.2)"
      ],
      "metadata": {
        "id": "DkHZekIw6UgZ"
      },
      "execution_count": 658,
      "outputs": []
    },
    {
      "cell_type": "code",
      "source": [
        "model1 = GaussianHMM(n_components=2, algorithm=\"viterbi\", covariance_type = \"diag\", n_iter = 30).fit(x_trainc1)\n",
        "model2 = GaussianHMM(n_components=2, algorithm=\"viterbi\", covariance_type = \"diag\", n_iter = 30).fit(x_trainc2)\n",
        "model3 = GaussianHMM(n_components=2, algorithm=\"viterbi\", covariance_type = \"diag\", n_iter = 30).fit(x_trainc3)\n",
        "model4 = GaussianHMM(n_components=2, algorithm=\"viterbi\", covariance_type = \"diag\", n_iter = 30).fit(x_trainc4)\n",
        "model5 = GaussianHMM(n_components=2, algorithm=\"viterbi\", covariance_type = \"diag\", n_iter = 30).fit(x_trainc5)"
      ],
      "metadata": {
        "colab": {
          "base_uri": "https://localhost:8080/"
        },
        "id": "U-G_uiXs_rfm",
        "outputId": "2ce9fcaf-d7a0-4253-a1d6-8e17f6e37a92"
      },
      "execution_count": 659,
      "outputs": [
        {
          "output_type": "stream",
          "name": "stderr",
          "text": [
            "Fitting a model with 43 free scalar parameters with only 40 data points will result in a degenerate solution.\n",
            "Fitting a model with 43 free scalar parameters with only 40 data points will result in a degenerate solution.\n",
            "Fitting a model with 43 free scalar parameters with only 40 data points will result in a degenerate solution.\n",
            "Fitting a model with 43 free scalar parameters with only 40 data points will result in a degenerate solution.\n",
            "Fitting a model with 43 free scalar parameters with only 40 data points will result in a degenerate solution.\n"
          ]
        }
      ]
    },
    {
      "cell_type": "code",
      "source": [
        "x_test = [x_testc1, x_testc2,x_testc3,x_testc5]"
      ],
      "metadata": {
        "id": "C0JPKTjy__oU"
      },
      "execution_count": 660,
      "outputs": []
    },
    {
      "cell_type": "code",
      "source": [
        "pred_prob1 = model1.predict_proba(X_test);\n",
        "pred_prob2 = model2.predict_proba(X_test);\n",
        "pred_prob3 = model1.predict_proba(X_test);\n",
        "pred_prob4 = model2.predict_proba(X_test);\n",
        "pred_prob5 = model1.predict_proba(X_test);"
      ],
      "metadata": {
        "id": "rV9laqDnAZWe"
      },
      "execution_count": 661,
      "outputs": []
    },
    {
      "cell_type": "code",
      "source": [
        "pred_prob1"
      ],
      "metadata": {
        "id": "BO5LjzaaBOli",
        "outputId": "0d520af4-22e0-4e2f-d341-66daa77d73a6",
        "colab": {
          "base_uri": "https://localhost:8080/"
        }
      },
      "execution_count": 662,
      "outputs": [
        {
          "output_type": "execute_result",
          "data": {
            "text/plain": [
              "array([[0.90397776, 0.09602224],\n",
              "       [0.99058145, 0.00941855],\n",
              "       [0.89243177, 0.10756823],\n",
              "       [0.98858304, 0.01141696],\n",
              "       [0.9832714 , 0.0167286 ]])"
            ]
          },
          "metadata": {},
          "execution_count": 662
        }
      ]
    },
    {
      "cell_type": "markdown",
      "source": [
        "# Implementing clustering algorithms"
      ],
      "metadata": {
        "id": "fv_Stb051fNt"
      }
    },
    {
      "cell_type": "code",
      "source": [
        "y = y.to_numpy()"
      ],
      "metadata": {
        "id": "Ym730-cA1fNt"
      },
      "execution_count": 663,
      "outputs": []
    },
    {
      "cell_type": "markdown",
      "source": [
        "# Implementing K means"
      ],
      "metadata": {
        "id": "pgh_LcWy1fNt"
      }
    },
    {
      "cell_type": "code",
      "source": [
        "kmeans = KMeans(n_clusters = 5, random_state=0).fit(X)\n",
        "y_pred = kmeans.predict(X)"
      ],
      "metadata": {
        "id": "-jcevBvG1fNt"
      },
      "execution_count": 664,
      "outputs": []
    },
    {
      "cell_type": "code",
      "source": [
        "df = pd.DataFrame(y_pred, columns=['Class'])\n",
        "y_pred = df.replace({y_pred[0]: y[0], y_pred[6]: y[6], y_pred[11]: y[11], y_pred[16]: y[16],y_pred[21]: y[21]}).to_numpy()"
      ],
      "metadata": {
        "id": "3Tf9tYc01fNt"
      },
      "execution_count": 665,
      "outputs": []
    },
    {
      "cell_type": "markdown",
      "source": [
        "### Metrics for KMeans"
      ],
      "metadata": {
        "id": "r8U6993v1fNt"
      }
    },
    {
      "cell_type": "code",
      "source": [
        "cm = multilabel_confusion_matrix(y, y_pred, labels= range(5))\n",
        "\n",
        "res = []\n",
        "\n",
        "for l in range(5):\n",
        "    x = cm[l]\n",
        "    tn, fp = x[0]\n",
        "    fn, tp = x[1]\n",
        "    sensitivity = tp / (tp + fn)\n",
        "    specificity = tn / (tn + fp)\n",
        "    precision = tp / (tp + fp)\n",
        "    f1 = (2 * precision * sensitivity) / (precision + sensitivity)\n",
        "    res.append([l+1,sensitivity, specificity, f1])\n",
        "\n",
        "performance = pd.DataFrame(res, columns = ['Class','Sensitivity(Recall)','Specificity', 'F1 score'])\n",
        "\n",
        "performance['F1 score'] = performance['F1 score'].fillna(0)\n",
        "performance['Sensitivity(Recall)'] = performance['Sensitivity(Recall)'].fillna(0)\n",
        "performance['Specificity'] = performance['Specificity'].fillna(0)\n",
        "\n",
        "total_accuracy = accuracy_score(y, y_pred)\n",
        "print(\"The total accuracy is\", total_accuracy)\n",
        "performance"
      ],
      "metadata": {
        "id": "6UJQG2at1fNt",
        "outputId": "a58edccc-2555-435c-94f9-24e634095bf3",
        "colab": {
          "base_uri": "https://localhost:8080/",
          "height": 224
        }
      },
      "execution_count": 666,
      "outputs": [
        {
          "output_type": "stream",
          "name": "stdout",
          "text": [
            "The total accuracy is 1.0\n"
          ]
        },
        {
          "output_type": "execute_result",
          "data": {
            "text/plain": [
              "   Class  Sensitivity(Recall)  Specificity  F1 score\n",
              "0      1                  1.0          1.0       1.0\n",
              "1      2                  1.0          1.0       1.0\n",
              "2      3                  1.0          1.0       1.0\n",
              "3      4                  1.0          1.0       1.0\n",
              "4      5                  1.0          1.0       1.0"
            ],
            "text/html": [
              "\n",
              "  <div id=\"df-ed6b4795-7632-47bb-9545-f8ca561eab79\">\n",
              "    <div class=\"colab-df-container\">\n",
              "      <div>\n",
              "<style scoped>\n",
              "    .dataframe tbody tr th:only-of-type {\n",
              "        vertical-align: middle;\n",
              "    }\n",
              "\n",
              "    .dataframe tbody tr th {\n",
              "        vertical-align: top;\n",
              "    }\n",
              "\n",
              "    .dataframe thead th {\n",
              "        text-align: right;\n",
              "    }\n",
              "</style>\n",
              "<table border=\"1\" class=\"dataframe\">\n",
              "  <thead>\n",
              "    <tr style=\"text-align: right;\">\n",
              "      <th></th>\n",
              "      <th>Class</th>\n",
              "      <th>Sensitivity(Recall)</th>\n",
              "      <th>Specificity</th>\n",
              "      <th>F1 score</th>\n",
              "    </tr>\n",
              "  </thead>\n",
              "  <tbody>\n",
              "    <tr>\n",
              "      <th>0</th>\n",
              "      <td>1</td>\n",
              "      <td>1.0</td>\n",
              "      <td>1.0</td>\n",
              "      <td>1.0</td>\n",
              "    </tr>\n",
              "    <tr>\n",
              "      <th>1</th>\n",
              "      <td>2</td>\n",
              "      <td>1.0</td>\n",
              "      <td>1.0</td>\n",
              "      <td>1.0</td>\n",
              "    </tr>\n",
              "    <tr>\n",
              "      <th>2</th>\n",
              "      <td>3</td>\n",
              "      <td>1.0</td>\n",
              "      <td>1.0</td>\n",
              "      <td>1.0</td>\n",
              "    </tr>\n",
              "    <tr>\n",
              "      <th>3</th>\n",
              "      <td>4</td>\n",
              "      <td>1.0</td>\n",
              "      <td>1.0</td>\n",
              "      <td>1.0</td>\n",
              "    </tr>\n",
              "    <tr>\n",
              "      <th>4</th>\n",
              "      <td>5</td>\n",
              "      <td>1.0</td>\n",
              "      <td>1.0</td>\n",
              "      <td>1.0</td>\n",
              "    </tr>\n",
              "  </tbody>\n",
              "</table>\n",
              "</div>\n",
              "      <button class=\"colab-df-convert\" onclick=\"convertToInteractive('df-ed6b4795-7632-47bb-9545-f8ca561eab79')\"\n",
              "              title=\"Convert this dataframe to an interactive table.\"\n",
              "              style=\"display:none;\">\n",
              "        \n",
              "  <svg xmlns=\"http://www.w3.org/2000/svg\" height=\"24px\"viewBox=\"0 0 24 24\"\n",
              "       width=\"24px\">\n",
              "    <path d=\"M0 0h24v24H0V0z\" fill=\"none\"/>\n",
              "    <path d=\"M18.56 5.44l.94 2.06.94-2.06 2.06-.94-2.06-.94-.94-2.06-.94 2.06-2.06.94zm-11 1L8.5 8.5l.94-2.06 2.06-.94-2.06-.94L8.5 2.5l-.94 2.06-2.06.94zm10 10l.94 2.06.94-2.06 2.06-.94-2.06-.94-.94-2.06-.94 2.06-2.06.94z\"/><path d=\"M17.41 7.96l-1.37-1.37c-.4-.4-.92-.59-1.43-.59-.52 0-1.04.2-1.43.59L10.3 9.45l-7.72 7.72c-.78.78-.78 2.05 0 2.83L4 21.41c.39.39.9.59 1.41.59.51 0 1.02-.2 1.41-.59l7.78-7.78 2.81-2.81c.8-.78.8-2.07 0-2.86zM5.41 20L4 18.59l7.72-7.72 1.47 1.35L5.41 20z\"/>\n",
              "  </svg>\n",
              "      </button>\n",
              "      \n",
              "  <style>\n",
              "    .colab-df-container {\n",
              "      display:flex;\n",
              "      flex-wrap:wrap;\n",
              "      gap: 12px;\n",
              "    }\n",
              "\n",
              "    .colab-df-convert {\n",
              "      background-color: #E8F0FE;\n",
              "      border: none;\n",
              "      border-radius: 50%;\n",
              "      cursor: pointer;\n",
              "      display: none;\n",
              "      fill: #1967D2;\n",
              "      height: 32px;\n",
              "      padding: 0 0 0 0;\n",
              "      width: 32px;\n",
              "    }\n",
              "\n",
              "    .colab-df-convert:hover {\n",
              "      background-color: #E2EBFA;\n",
              "      box-shadow: 0px 1px 2px rgba(60, 64, 67, 0.3), 0px 1px 3px 1px rgba(60, 64, 67, 0.15);\n",
              "      fill: #174EA6;\n",
              "    }\n",
              "\n",
              "    [theme=dark] .colab-df-convert {\n",
              "      background-color: #3B4455;\n",
              "      fill: #D2E3FC;\n",
              "    }\n",
              "\n",
              "    [theme=dark] .colab-df-convert:hover {\n",
              "      background-color: #434B5C;\n",
              "      box-shadow: 0px 1px 3px 1px rgba(0, 0, 0, 0.15);\n",
              "      filter: drop-shadow(0px 1px 2px rgba(0, 0, 0, 0.3));\n",
              "      fill: #FFFFFF;\n",
              "    }\n",
              "  </style>\n",
              "\n",
              "      <script>\n",
              "        const buttonEl =\n",
              "          document.querySelector('#df-ed6b4795-7632-47bb-9545-f8ca561eab79 button.colab-df-convert');\n",
              "        buttonEl.style.display =\n",
              "          google.colab.kernel.accessAllowed ? 'block' : 'none';\n",
              "\n",
              "        async function convertToInteractive(key) {\n",
              "          const element = document.querySelector('#df-ed6b4795-7632-47bb-9545-f8ca561eab79');\n",
              "          const dataTable =\n",
              "            await google.colab.kernel.invokeFunction('convertToInteractive',\n",
              "                                                     [key], {});\n",
              "          if (!dataTable) return;\n",
              "\n",
              "          const docLinkHtml = 'Like what you see? Visit the ' +\n",
              "            '<a target=\"_blank\" href=https://colab.research.google.com/notebooks/data_table.ipynb>data table notebook</a>'\n",
              "            + ' to learn more about interactive tables.';\n",
              "          element.innerHTML = '';\n",
              "          dataTable['output_type'] = 'display_data';\n",
              "          await google.colab.output.renderOutput(dataTable, element);\n",
              "          const docLink = document.createElement('div');\n",
              "          docLink.innerHTML = docLinkHtml;\n",
              "          element.appendChild(docLink);\n",
              "        }\n",
              "      </script>\n",
              "    </div>\n",
              "  </div>\n",
              "  "
            ]
          },
          "metadata": {},
          "execution_count": 666
        }
      ]
    },
    {
      "cell_type": "markdown",
      "source": [
        "# Implementing FCMeans"
      ],
      "metadata": {
        "id": "fQmypJaG1fNu"
      }
    },
    {
      "cell_type": "code",
      "source": [
        "from fcmeans import FCM\n",
        "fcm = FCM(n_clusters = 5)\n",
        "fcm.fit(X)\n",
        "y_pred = fcm.predict(X)"
      ],
      "metadata": {
        "id": "lDgvGVMC1fNu"
      },
      "execution_count": 667,
      "outputs": []
    },
    {
      "cell_type": "code",
      "source": [
        "df = pd.DataFrame(y_pred, columns=['Class'])\n",
        "y_pred = df.replace({y_pred[0]: y[0], y_pred[6]: y[6], y_pred[11]: y[11], y_pred[16]: y[16],y_pred[21]: y[21]}).to_numpy()"
      ],
      "metadata": {
        "id": "gwERrEe01fNu"
      },
      "execution_count": 668,
      "outputs": []
    },
    {
      "cell_type": "markdown",
      "source": [
        "### Metrics for FCMeans"
      ],
      "metadata": {
        "id": "OddVTzAl1fNu"
      }
    },
    {
      "cell_type": "code",
      "source": [
        "cm = multilabel_confusion_matrix(y, y_pred, labels= range(5))\n",
        "\n",
        "res = []\n",
        "\n",
        "for l in range(5):\n",
        "    x = cm[l]\n",
        "    tn, fp = x[0]\n",
        "    fn, tp = x[1]\n",
        "    sensitivity = tp / (tp + fn)\n",
        "    specificity = tn / (tn + fp)\n",
        "    precision = tp / (tp + fp)\n",
        "    f1 = (2 * precision * sensitivity) / (precision + sensitivity)\n",
        "    res.append([l+1,sensitivity, specificity, f1])\n",
        "\n",
        "performance = pd.DataFrame(res, columns = ['Class','Sensitivity(Recall)','Specificity', 'F1 score'])\n",
        "\n",
        "performance['F1 score'] = performance['F1 score'].fillna(0)\n",
        "performance['Sensitivity(Recall)'] = performance['Sensitivity(Recall)'].fillna(0)\n",
        "performance['Specificity'] = performance['Specificity'].fillna(0)\n",
        "\n",
        "total_accuracy = accuracy_score(y, y_pred)\n",
        "print(\"The total accuracy is\", total_accuracy)\n",
        "performance"
      ],
      "metadata": {
        "id": "-HzpeqqH1fNu",
        "outputId": "82d5f57a-87a9-4062-c0e0-98fb5f6d80ef",
        "colab": {
          "base_uri": "https://localhost:8080/",
          "height": 224
        }
      },
      "execution_count": 669,
      "outputs": [
        {
          "output_type": "stream",
          "name": "stdout",
          "text": [
            "The total accuracy is 1.0\n"
          ]
        },
        {
          "output_type": "execute_result",
          "data": {
            "text/plain": [
              "   Class  Sensitivity(Recall)  Specificity  F1 score\n",
              "0      1                  1.0          1.0       1.0\n",
              "1      2                  1.0          1.0       1.0\n",
              "2      3                  1.0          1.0       1.0\n",
              "3      4                  1.0          1.0       1.0\n",
              "4      5                  1.0          1.0       1.0"
            ],
            "text/html": [
              "\n",
              "  <div id=\"df-dd1cbf1b-2d52-4dca-b127-9b1a3775a9a9\">\n",
              "    <div class=\"colab-df-container\">\n",
              "      <div>\n",
              "<style scoped>\n",
              "    .dataframe tbody tr th:only-of-type {\n",
              "        vertical-align: middle;\n",
              "    }\n",
              "\n",
              "    .dataframe tbody tr th {\n",
              "        vertical-align: top;\n",
              "    }\n",
              "\n",
              "    .dataframe thead th {\n",
              "        text-align: right;\n",
              "    }\n",
              "</style>\n",
              "<table border=\"1\" class=\"dataframe\">\n",
              "  <thead>\n",
              "    <tr style=\"text-align: right;\">\n",
              "      <th></th>\n",
              "      <th>Class</th>\n",
              "      <th>Sensitivity(Recall)</th>\n",
              "      <th>Specificity</th>\n",
              "      <th>F1 score</th>\n",
              "    </tr>\n",
              "  </thead>\n",
              "  <tbody>\n",
              "    <tr>\n",
              "      <th>0</th>\n",
              "      <td>1</td>\n",
              "      <td>1.0</td>\n",
              "      <td>1.0</td>\n",
              "      <td>1.0</td>\n",
              "    </tr>\n",
              "    <tr>\n",
              "      <th>1</th>\n",
              "      <td>2</td>\n",
              "      <td>1.0</td>\n",
              "      <td>1.0</td>\n",
              "      <td>1.0</td>\n",
              "    </tr>\n",
              "    <tr>\n",
              "      <th>2</th>\n",
              "      <td>3</td>\n",
              "      <td>1.0</td>\n",
              "      <td>1.0</td>\n",
              "      <td>1.0</td>\n",
              "    </tr>\n",
              "    <tr>\n",
              "      <th>3</th>\n",
              "      <td>4</td>\n",
              "      <td>1.0</td>\n",
              "      <td>1.0</td>\n",
              "      <td>1.0</td>\n",
              "    </tr>\n",
              "    <tr>\n",
              "      <th>4</th>\n",
              "      <td>5</td>\n",
              "      <td>1.0</td>\n",
              "      <td>1.0</td>\n",
              "      <td>1.0</td>\n",
              "    </tr>\n",
              "  </tbody>\n",
              "</table>\n",
              "</div>\n",
              "      <button class=\"colab-df-convert\" onclick=\"convertToInteractive('df-dd1cbf1b-2d52-4dca-b127-9b1a3775a9a9')\"\n",
              "              title=\"Convert this dataframe to an interactive table.\"\n",
              "              style=\"display:none;\">\n",
              "        \n",
              "  <svg xmlns=\"http://www.w3.org/2000/svg\" height=\"24px\"viewBox=\"0 0 24 24\"\n",
              "       width=\"24px\">\n",
              "    <path d=\"M0 0h24v24H0V0z\" fill=\"none\"/>\n",
              "    <path d=\"M18.56 5.44l.94 2.06.94-2.06 2.06-.94-2.06-.94-.94-2.06-.94 2.06-2.06.94zm-11 1L8.5 8.5l.94-2.06 2.06-.94-2.06-.94L8.5 2.5l-.94 2.06-2.06.94zm10 10l.94 2.06.94-2.06 2.06-.94-2.06-.94-.94-2.06-.94 2.06-2.06.94z\"/><path d=\"M17.41 7.96l-1.37-1.37c-.4-.4-.92-.59-1.43-.59-.52 0-1.04.2-1.43.59L10.3 9.45l-7.72 7.72c-.78.78-.78 2.05 0 2.83L4 21.41c.39.39.9.59 1.41.59.51 0 1.02-.2 1.41-.59l7.78-7.78 2.81-2.81c.8-.78.8-2.07 0-2.86zM5.41 20L4 18.59l7.72-7.72 1.47 1.35L5.41 20z\"/>\n",
              "  </svg>\n",
              "      </button>\n",
              "      \n",
              "  <style>\n",
              "    .colab-df-container {\n",
              "      display:flex;\n",
              "      flex-wrap:wrap;\n",
              "      gap: 12px;\n",
              "    }\n",
              "\n",
              "    .colab-df-convert {\n",
              "      background-color: #E8F0FE;\n",
              "      border: none;\n",
              "      border-radius: 50%;\n",
              "      cursor: pointer;\n",
              "      display: none;\n",
              "      fill: #1967D2;\n",
              "      height: 32px;\n",
              "      padding: 0 0 0 0;\n",
              "      width: 32px;\n",
              "    }\n",
              "\n",
              "    .colab-df-convert:hover {\n",
              "      background-color: #E2EBFA;\n",
              "      box-shadow: 0px 1px 2px rgba(60, 64, 67, 0.3), 0px 1px 3px 1px rgba(60, 64, 67, 0.15);\n",
              "      fill: #174EA6;\n",
              "    }\n",
              "\n",
              "    [theme=dark] .colab-df-convert {\n",
              "      background-color: #3B4455;\n",
              "      fill: #D2E3FC;\n",
              "    }\n",
              "\n",
              "    [theme=dark] .colab-df-convert:hover {\n",
              "      background-color: #434B5C;\n",
              "      box-shadow: 0px 1px 3px 1px rgba(0, 0, 0, 0.15);\n",
              "      filter: drop-shadow(0px 1px 2px rgba(0, 0, 0, 0.3));\n",
              "      fill: #FFFFFF;\n",
              "    }\n",
              "  </style>\n",
              "\n",
              "      <script>\n",
              "        const buttonEl =\n",
              "          document.querySelector('#df-dd1cbf1b-2d52-4dca-b127-9b1a3775a9a9 button.colab-df-convert');\n",
              "        buttonEl.style.display =\n",
              "          google.colab.kernel.accessAllowed ? 'block' : 'none';\n",
              "\n",
              "        async function convertToInteractive(key) {\n",
              "          const element = document.querySelector('#df-dd1cbf1b-2d52-4dca-b127-9b1a3775a9a9');\n",
              "          const dataTable =\n",
              "            await google.colab.kernel.invokeFunction('convertToInteractive',\n",
              "                                                     [key], {});\n",
              "          if (!dataTable) return;\n",
              "\n",
              "          const docLinkHtml = 'Like what you see? Visit the ' +\n",
              "            '<a target=\"_blank\" href=https://colab.research.google.com/notebooks/data_table.ipynb>data table notebook</a>'\n",
              "            + ' to learn more about interactive tables.';\n",
              "          element.innerHTML = '';\n",
              "          dataTable['output_type'] = 'display_data';\n",
              "          await google.colab.output.renderOutput(dataTable, element);\n",
              "          const docLink = document.createElement('div');\n",
              "          docLink.innerHTML = docLinkHtml;\n",
              "          element.appendChild(docLink);\n",
              "        }\n",
              "      </script>\n",
              "    </div>\n",
              "  </div>\n",
              "  "
            ]
          },
          "metadata": {},
          "execution_count": 669
        }
      ]
    },
    {
      "cell_type": "markdown",
      "source": [
        "# Using QCM10 sensor data for classification"
      ],
      "metadata": {
        "id": "YKGsyxXn1jMT"
      }
    },
    {
      "cell_type": "code",
      "source": [
        "# Separating features and target variable\n",
        "y = df_10['Class']\n",
        "X = df_10.drop(columns = ['Class'])"
      ],
      "metadata": {
        "id": "vli7M7Ma1jMT"
      },
      "execution_count": 670,
      "outputs": []
    },
    {
      "cell_type": "markdown",
      "source": [
        "## Preprocessing"
      ],
      "metadata": {
        "id": "KN7o1iWd1jMT"
      }
    },
    {
      "cell_type": "code",
      "source": [
        "X = Normalizer().fit_transform(X)"
      ],
      "metadata": {
        "id": "FJ2UEyW01jMU"
      },
      "execution_count": 671,
      "outputs": []
    },
    {
      "cell_type": "code",
      "source": [
        "X_train, X_test, y_train, y_test = train_test_split(X, y, test_size=0.2, stratify = y)"
      ],
      "metadata": {
        "id": "Dif1rl1W1jMU"
      },
      "execution_count": 672,
      "outputs": []
    },
    {
      "cell_type": "markdown",
      "source": [
        "## Implementing MLP"
      ],
      "metadata": {
        "id": "HMBuWFr91jMU"
      }
    },
    {
      "cell_type": "code",
      "source": [
        "clf = MLPClassifier()\n",
        "clf.fit(X_train, y_train)\n",
        "y_pred = clf.predict(X_test)"
      ],
      "metadata": {
        "id": "ouUCRTEn1jMU"
      },
      "execution_count": 673,
      "outputs": []
    },
    {
      "cell_type": "markdown",
      "source": [
        "### Metrics for MLP"
      ],
      "metadata": {
        "id": "JsZWjhRi1jMU"
      }
    },
    {
      "cell_type": "code",
      "source": [
        "cm = multilabel_confusion_matrix(y_test, y_pred, labels= range(5))\n",
        "\n",
        "res = []\n",
        "\n",
        "for l in range(5):\n",
        "    x = cm[l]\n",
        "    tn, fp = x[0]\n",
        "    fn, tp = x[1]\n",
        "    sensitivity = tp / (tp + fn)\n",
        "    specificity = tn / (tn + fp)\n",
        "    precision = tp / (tp + fp)\n",
        "    f1 = (2 * precision * sensitivity) / (precision + sensitivity)\n",
        "    res.append([l+1,sensitivity, specificity, f1])\n",
        "\n",
        "performance = pd.DataFrame(res, columns = ['Class','Sensitivity(Recall)','Specificity', 'F1 score'])\n",
        "\n",
        "performance['F1 score'] = performance['F1 score'].fillna(0)\n",
        "performance['Sensitivity(Recall)'] = performance['Sensitivity(Recall)'].fillna(0)\n",
        "performance['Specificity'] = performance['Specificity'].fillna(0)\n",
        "\n",
        "total_accuracy = accuracy_score(y_test, y_pred)\n",
        "print(\"The total accuracy is\", total_accuracy)\n",
        "performance"
      ],
      "metadata": {
        "id": "XpngZ86X1jMU",
        "outputId": "a86e5d3e-e3c0-42b3-e91d-602312617ab2",
        "colab": {
          "base_uri": "https://localhost:8080/",
          "height": 224
        }
      },
      "execution_count": 674,
      "outputs": [
        {
          "output_type": "stream",
          "name": "stdout",
          "text": [
            "The total accuracy is 0.8\n"
          ]
        },
        {
          "output_type": "execute_result",
          "data": {
            "text/plain": [
              "   Class  Sensitivity(Recall)  Specificity  F1 score\n",
              "0      1                  1.0         1.00  1.000000\n",
              "1      2                  1.0         1.00  1.000000\n",
              "2      3                  0.0         1.00  0.000000\n",
              "3      4                  1.0         0.75  0.666667\n",
              "4      5                  1.0         1.00  1.000000"
            ],
            "text/html": [
              "\n",
              "  <div id=\"df-63a00593-4558-44eb-9c92-375a901c9ca5\">\n",
              "    <div class=\"colab-df-container\">\n",
              "      <div>\n",
              "<style scoped>\n",
              "    .dataframe tbody tr th:only-of-type {\n",
              "        vertical-align: middle;\n",
              "    }\n",
              "\n",
              "    .dataframe tbody tr th {\n",
              "        vertical-align: top;\n",
              "    }\n",
              "\n",
              "    .dataframe thead th {\n",
              "        text-align: right;\n",
              "    }\n",
              "</style>\n",
              "<table border=\"1\" class=\"dataframe\">\n",
              "  <thead>\n",
              "    <tr style=\"text-align: right;\">\n",
              "      <th></th>\n",
              "      <th>Class</th>\n",
              "      <th>Sensitivity(Recall)</th>\n",
              "      <th>Specificity</th>\n",
              "      <th>F1 score</th>\n",
              "    </tr>\n",
              "  </thead>\n",
              "  <tbody>\n",
              "    <tr>\n",
              "      <th>0</th>\n",
              "      <td>1</td>\n",
              "      <td>1.0</td>\n",
              "      <td>1.00</td>\n",
              "      <td>1.000000</td>\n",
              "    </tr>\n",
              "    <tr>\n",
              "      <th>1</th>\n",
              "      <td>2</td>\n",
              "      <td>1.0</td>\n",
              "      <td>1.00</td>\n",
              "      <td>1.000000</td>\n",
              "    </tr>\n",
              "    <tr>\n",
              "      <th>2</th>\n",
              "      <td>3</td>\n",
              "      <td>0.0</td>\n",
              "      <td>1.00</td>\n",
              "      <td>0.000000</td>\n",
              "    </tr>\n",
              "    <tr>\n",
              "      <th>3</th>\n",
              "      <td>4</td>\n",
              "      <td>1.0</td>\n",
              "      <td>0.75</td>\n",
              "      <td>0.666667</td>\n",
              "    </tr>\n",
              "    <tr>\n",
              "      <th>4</th>\n",
              "      <td>5</td>\n",
              "      <td>1.0</td>\n",
              "      <td>1.00</td>\n",
              "      <td>1.000000</td>\n",
              "    </tr>\n",
              "  </tbody>\n",
              "</table>\n",
              "</div>\n",
              "      <button class=\"colab-df-convert\" onclick=\"convertToInteractive('df-63a00593-4558-44eb-9c92-375a901c9ca5')\"\n",
              "              title=\"Convert this dataframe to an interactive table.\"\n",
              "              style=\"display:none;\">\n",
              "        \n",
              "  <svg xmlns=\"http://www.w3.org/2000/svg\" height=\"24px\"viewBox=\"0 0 24 24\"\n",
              "       width=\"24px\">\n",
              "    <path d=\"M0 0h24v24H0V0z\" fill=\"none\"/>\n",
              "    <path d=\"M18.56 5.44l.94 2.06.94-2.06 2.06-.94-2.06-.94-.94-2.06-.94 2.06-2.06.94zm-11 1L8.5 8.5l.94-2.06 2.06-.94-2.06-.94L8.5 2.5l-.94 2.06-2.06.94zm10 10l.94 2.06.94-2.06 2.06-.94-2.06-.94-.94-2.06-.94 2.06-2.06.94z\"/><path d=\"M17.41 7.96l-1.37-1.37c-.4-.4-.92-.59-1.43-.59-.52 0-1.04.2-1.43.59L10.3 9.45l-7.72 7.72c-.78.78-.78 2.05 0 2.83L4 21.41c.39.39.9.59 1.41.59.51 0 1.02-.2 1.41-.59l7.78-7.78 2.81-2.81c.8-.78.8-2.07 0-2.86zM5.41 20L4 18.59l7.72-7.72 1.47 1.35L5.41 20z\"/>\n",
              "  </svg>\n",
              "      </button>\n",
              "      \n",
              "  <style>\n",
              "    .colab-df-container {\n",
              "      display:flex;\n",
              "      flex-wrap:wrap;\n",
              "      gap: 12px;\n",
              "    }\n",
              "\n",
              "    .colab-df-convert {\n",
              "      background-color: #E8F0FE;\n",
              "      border: none;\n",
              "      border-radius: 50%;\n",
              "      cursor: pointer;\n",
              "      display: none;\n",
              "      fill: #1967D2;\n",
              "      height: 32px;\n",
              "      padding: 0 0 0 0;\n",
              "      width: 32px;\n",
              "    }\n",
              "\n",
              "    .colab-df-convert:hover {\n",
              "      background-color: #E2EBFA;\n",
              "      box-shadow: 0px 1px 2px rgba(60, 64, 67, 0.3), 0px 1px 3px 1px rgba(60, 64, 67, 0.15);\n",
              "      fill: #174EA6;\n",
              "    }\n",
              "\n",
              "    [theme=dark] .colab-df-convert {\n",
              "      background-color: #3B4455;\n",
              "      fill: #D2E3FC;\n",
              "    }\n",
              "\n",
              "    [theme=dark] .colab-df-convert:hover {\n",
              "      background-color: #434B5C;\n",
              "      box-shadow: 0px 1px 3px 1px rgba(0, 0, 0, 0.15);\n",
              "      filter: drop-shadow(0px 1px 2px rgba(0, 0, 0, 0.3));\n",
              "      fill: #FFFFFF;\n",
              "    }\n",
              "  </style>\n",
              "\n",
              "      <script>\n",
              "        const buttonEl =\n",
              "          document.querySelector('#df-63a00593-4558-44eb-9c92-375a901c9ca5 button.colab-df-convert');\n",
              "        buttonEl.style.display =\n",
              "          google.colab.kernel.accessAllowed ? 'block' : 'none';\n",
              "\n",
              "        async function convertToInteractive(key) {\n",
              "          const element = document.querySelector('#df-63a00593-4558-44eb-9c92-375a901c9ca5');\n",
              "          const dataTable =\n",
              "            await google.colab.kernel.invokeFunction('convertToInteractive',\n",
              "                                                     [key], {});\n",
              "          if (!dataTable) return;\n",
              "\n",
              "          const docLinkHtml = 'Like what you see? Visit the ' +\n",
              "            '<a target=\"_blank\" href=https://colab.research.google.com/notebooks/data_table.ipynb>data table notebook</a>'\n",
              "            + ' to learn more about interactive tables.';\n",
              "          element.innerHTML = '';\n",
              "          dataTable['output_type'] = 'display_data';\n",
              "          await google.colab.output.renderOutput(dataTable, element);\n",
              "          const docLink = document.createElement('div');\n",
              "          docLink.innerHTML = docLinkHtml;\n",
              "          element.appendChild(docLink);\n",
              "        }\n",
              "      </script>\n",
              "    </div>\n",
              "  </div>\n",
              "  "
            ]
          },
          "metadata": {},
          "execution_count": 674
        }
      ]
    },
    {
      "cell_type": "markdown",
      "source": [
        "## Implementing SVC"
      ],
      "metadata": {
        "id": "iUXSRQ9_1jMV"
      }
    },
    {
      "cell_type": "code",
      "source": [
        "clf = SVC()\n",
        "clf.fit(X_train, y_train)\n",
        "y_pred = clf.predict(X_test)"
      ],
      "metadata": {
        "id": "RtnOdP1O1jMV"
      },
      "execution_count": 675,
      "outputs": []
    },
    {
      "cell_type": "markdown",
      "source": [
        "### Metrics for SVC"
      ],
      "metadata": {
        "id": "WGNywtm01jMV"
      }
    },
    {
      "cell_type": "code",
      "source": [
        "cm = multilabel_confusion_matrix(y_test, y_pred, labels= range(5))\n",
        "\n",
        "res = []\n",
        "\n",
        "for l in range(5):\n",
        "    x = cm[l]\n",
        "    tn, fp = x[0]\n",
        "    fn, tp = x[1]\n",
        "    sensitivity = tp / (tp + fn)\n",
        "    specificity = tn / (tn + fp)\n",
        "    precision = tp / (tp + fp)\n",
        "    f1 = (2 * precision * sensitivity) / (precision + sensitivity)\n",
        "    res.append([l+1,sensitivity, specificity, f1])\n",
        "\n",
        "performance = pd.DataFrame(res, columns = ['Class','Sensitivity(Recall)','Specificity', 'F1 score'])\n",
        "\n",
        "performance['F1 score'] = performance['F1 score'].fillna(0)\n",
        "performance['Sensitivity(Recall)'] = performance['Sensitivity(Recall)'].fillna(0)\n",
        "performance['Specificity'] = performance['Specificity'].fillna(0)\n",
        "\n",
        "total_accuracy = accuracy_score(y_test, y_pred)\n",
        "print(\"The total accuracy is\", total_accuracy)\n",
        "performance"
      ],
      "metadata": {
        "id": "w2Q9tzXP1jMV",
        "outputId": "0f38a827-5cf9-4477-a560-7a38d949688f",
        "colab": {
          "base_uri": "https://localhost:8080/",
          "height": 224
        }
      },
      "execution_count": 676,
      "outputs": [
        {
          "output_type": "stream",
          "name": "stdout",
          "text": [
            "The total accuracy is 1.0\n"
          ]
        },
        {
          "output_type": "execute_result",
          "data": {
            "text/plain": [
              "   Class  Sensitivity(Recall)  Specificity  F1 score\n",
              "0      1                  1.0          1.0       1.0\n",
              "1      2                  1.0          1.0       1.0\n",
              "2      3                  1.0          1.0       1.0\n",
              "3      4                  1.0          1.0       1.0\n",
              "4      5                  1.0          1.0       1.0"
            ],
            "text/html": [
              "\n",
              "  <div id=\"df-af51029a-cd0f-4cee-bf33-72f56c4e9016\">\n",
              "    <div class=\"colab-df-container\">\n",
              "      <div>\n",
              "<style scoped>\n",
              "    .dataframe tbody tr th:only-of-type {\n",
              "        vertical-align: middle;\n",
              "    }\n",
              "\n",
              "    .dataframe tbody tr th {\n",
              "        vertical-align: top;\n",
              "    }\n",
              "\n",
              "    .dataframe thead th {\n",
              "        text-align: right;\n",
              "    }\n",
              "</style>\n",
              "<table border=\"1\" class=\"dataframe\">\n",
              "  <thead>\n",
              "    <tr style=\"text-align: right;\">\n",
              "      <th></th>\n",
              "      <th>Class</th>\n",
              "      <th>Sensitivity(Recall)</th>\n",
              "      <th>Specificity</th>\n",
              "      <th>F1 score</th>\n",
              "    </tr>\n",
              "  </thead>\n",
              "  <tbody>\n",
              "    <tr>\n",
              "      <th>0</th>\n",
              "      <td>1</td>\n",
              "      <td>1.0</td>\n",
              "      <td>1.0</td>\n",
              "      <td>1.0</td>\n",
              "    </tr>\n",
              "    <tr>\n",
              "      <th>1</th>\n",
              "      <td>2</td>\n",
              "      <td>1.0</td>\n",
              "      <td>1.0</td>\n",
              "      <td>1.0</td>\n",
              "    </tr>\n",
              "    <tr>\n",
              "      <th>2</th>\n",
              "      <td>3</td>\n",
              "      <td>1.0</td>\n",
              "      <td>1.0</td>\n",
              "      <td>1.0</td>\n",
              "    </tr>\n",
              "    <tr>\n",
              "      <th>3</th>\n",
              "      <td>4</td>\n",
              "      <td>1.0</td>\n",
              "      <td>1.0</td>\n",
              "      <td>1.0</td>\n",
              "    </tr>\n",
              "    <tr>\n",
              "      <th>4</th>\n",
              "      <td>5</td>\n",
              "      <td>1.0</td>\n",
              "      <td>1.0</td>\n",
              "      <td>1.0</td>\n",
              "    </tr>\n",
              "  </tbody>\n",
              "</table>\n",
              "</div>\n",
              "      <button class=\"colab-df-convert\" onclick=\"convertToInteractive('df-af51029a-cd0f-4cee-bf33-72f56c4e9016')\"\n",
              "              title=\"Convert this dataframe to an interactive table.\"\n",
              "              style=\"display:none;\">\n",
              "        \n",
              "  <svg xmlns=\"http://www.w3.org/2000/svg\" height=\"24px\"viewBox=\"0 0 24 24\"\n",
              "       width=\"24px\">\n",
              "    <path d=\"M0 0h24v24H0V0z\" fill=\"none\"/>\n",
              "    <path d=\"M18.56 5.44l.94 2.06.94-2.06 2.06-.94-2.06-.94-.94-2.06-.94 2.06-2.06.94zm-11 1L8.5 8.5l.94-2.06 2.06-.94-2.06-.94L8.5 2.5l-.94 2.06-2.06.94zm10 10l.94 2.06.94-2.06 2.06-.94-2.06-.94-.94-2.06-.94 2.06-2.06.94z\"/><path d=\"M17.41 7.96l-1.37-1.37c-.4-.4-.92-.59-1.43-.59-.52 0-1.04.2-1.43.59L10.3 9.45l-7.72 7.72c-.78.78-.78 2.05 0 2.83L4 21.41c.39.39.9.59 1.41.59.51 0 1.02-.2 1.41-.59l7.78-7.78 2.81-2.81c.8-.78.8-2.07 0-2.86zM5.41 20L4 18.59l7.72-7.72 1.47 1.35L5.41 20z\"/>\n",
              "  </svg>\n",
              "      </button>\n",
              "      \n",
              "  <style>\n",
              "    .colab-df-container {\n",
              "      display:flex;\n",
              "      flex-wrap:wrap;\n",
              "      gap: 12px;\n",
              "    }\n",
              "\n",
              "    .colab-df-convert {\n",
              "      background-color: #E8F0FE;\n",
              "      border: none;\n",
              "      border-radius: 50%;\n",
              "      cursor: pointer;\n",
              "      display: none;\n",
              "      fill: #1967D2;\n",
              "      height: 32px;\n",
              "      padding: 0 0 0 0;\n",
              "      width: 32px;\n",
              "    }\n",
              "\n",
              "    .colab-df-convert:hover {\n",
              "      background-color: #E2EBFA;\n",
              "      box-shadow: 0px 1px 2px rgba(60, 64, 67, 0.3), 0px 1px 3px 1px rgba(60, 64, 67, 0.15);\n",
              "      fill: #174EA6;\n",
              "    }\n",
              "\n",
              "    [theme=dark] .colab-df-convert {\n",
              "      background-color: #3B4455;\n",
              "      fill: #D2E3FC;\n",
              "    }\n",
              "\n",
              "    [theme=dark] .colab-df-convert:hover {\n",
              "      background-color: #434B5C;\n",
              "      box-shadow: 0px 1px 3px 1px rgba(0, 0, 0, 0.15);\n",
              "      filter: drop-shadow(0px 1px 2px rgba(0, 0, 0, 0.3));\n",
              "      fill: #FFFFFF;\n",
              "    }\n",
              "  </style>\n",
              "\n",
              "      <script>\n",
              "        const buttonEl =\n",
              "          document.querySelector('#df-af51029a-cd0f-4cee-bf33-72f56c4e9016 button.colab-df-convert');\n",
              "        buttonEl.style.display =\n",
              "          google.colab.kernel.accessAllowed ? 'block' : 'none';\n",
              "\n",
              "        async function convertToInteractive(key) {\n",
              "          const element = document.querySelector('#df-af51029a-cd0f-4cee-bf33-72f56c4e9016');\n",
              "          const dataTable =\n",
              "            await google.colab.kernel.invokeFunction('convertToInteractive',\n",
              "                                                     [key], {});\n",
              "          if (!dataTable) return;\n",
              "\n",
              "          const docLinkHtml = 'Like what you see? Visit the ' +\n",
              "            '<a target=\"_blank\" href=https://colab.research.google.com/notebooks/data_table.ipynb>data table notebook</a>'\n",
              "            + ' to learn more about interactive tables.';\n",
              "          element.innerHTML = '';\n",
              "          dataTable['output_type'] = 'display_data';\n",
              "          await google.colab.output.renderOutput(dataTable, element);\n",
              "          const docLink = document.createElement('div');\n",
              "          docLink.innerHTML = docLinkHtml;\n",
              "          element.appendChild(docLink);\n",
              "        }\n",
              "      </script>\n",
              "    </div>\n",
              "  </div>\n",
              "  "
            ]
          },
          "metadata": {},
          "execution_count": 676
        }
      ]
    },
    {
      "cell_type": "markdown",
      "source": [
        "# hmm remain"
      ],
      "metadata": {
        "id": "AbCXOQtT1jMW"
      }
    },
    {
      "cell_type": "markdown",
      "source": [
        "# Implementing clustering algorithms"
      ],
      "metadata": {
        "id": "z6Wxxz4G1jMW"
      }
    },
    {
      "cell_type": "code",
      "source": [
        "y = y.to_numpy()"
      ],
      "metadata": {
        "id": "xMGff9tZ1jMW"
      },
      "execution_count": 677,
      "outputs": []
    },
    {
      "cell_type": "markdown",
      "source": [
        "# Implementing K means"
      ],
      "metadata": {
        "id": "GmsC_9iy1jMW"
      }
    },
    {
      "cell_type": "code",
      "source": [
        "kmeans = KMeans(n_clusters = 5, random_state=0).fit(X)\n",
        "y_pred = kmeans.predict(X)"
      ],
      "metadata": {
        "id": "ZDO2DVLQ1jMW"
      },
      "execution_count": 678,
      "outputs": []
    },
    {
      "cell_type": "code",
      "source": [
        "df = pd.DataFrame(y_pred, columns=['Class'])\n",
        "y_pred = df.replace({y_pred[0]: y[0], y_pred[6]: y[6], y_pred[11]: y[11], y_pred[16]: y[16],y_pred[21]: y[21]}).to_numpy()"
      ],
      "metadata": {
        "id": "BV0d5roT1jMW"
      },
      "execution_count": 679,
      "outputs": []
    },
    {
      "cell_type": "markdown",
      "source": [
        "### Metrics for KMeans"
      ],
      "metadata": {
        "id": "WKKUg8Ns1jMW"
      }
    },
    {
      "cell_type": "code",
      "source": [
        "cm = multilabel_confusion_matrix(y, y_pred, labels= range(5))\n",
        "\n",
        "res = []\n",
        "\n",
        "for l in range(5):\n",
        "    x = cm[l]\n",
        "    tn, fp = x[0]\n",
        "    fn, tp = x[1]\n",
        "    sensitivity = tp / (tp + fn)\n",
        "    specificity = tn / (tn + fp)\n",
        "    precision = tp / (tp + fp)\n",
        "    f1 = (2 * precision * sensitivity) / (precision + sensitivity)\n",
        "    res.append([l+1,sensitivity, specificity, f1])\n",
        "\n",
        "performance = pd.DataFrame(res, columns = ['Class','Sensitivity(Recall)','Specificity', 'F1 score'])\n",
        "\n",
        "performance['F1 score'] = performance['F1 score'].fillna(0)\n",
        "performance['Sensitivity(Recall)'] = performance['Sensitivity(Recall)'].fillna(0)\n",
        "performance['Specificity'] = performance['Specificity'].fillna(0)\n",
        "\n",
        "total_accuracy = accuracy_score(y, y_pred)\n",
        "print(\"The total accuracy is\", total_accuracy)\n",
        "performance"
      ],
      "metadata": {
        "id": "oymM4gwr1jMX",
        "outputId": "76910fa6-4975-436e-c48e-ae88766e9941",
        "colab": {
          "base_uri": "https://localhost:8080/",
          "height": 224
        }
      },
      "execution_count": 680,
      "outputs": [
        {
          "output_type": "stream",
          "name": "stdout",
          "text": [
            "The total accuracy is 1.0\n"
          ]
        },
        {
          "output_type": "execute_result",
          "data": {
            "text/plain": [
              "   Class  Sensitivity(Recall)  Specificity  F1 score\n",
              "0      1                  1.0          1.0       1.0\n",
              "1      2                  1.0          1.0       1.0\n",
              "2      3                  1.0          1.0       1.0\n",
              "3      4                  1.0          1.0       1.0\n",
              "4      5                  1.0          1.0       1.0"
            ],
            "text/html": [
              "\n",
              "  <div id=\"df-3c1443ff-b1c3-4134-84c5-fa640f1a7f03\">\n",
              "    <div class=\"colab-df-container\">\n",
              "      <div>\n",
              "<style scoped>\n",
              "    .dataframe tbody tr th:only-of-type {\n",
              "        vertical-align: middle;\n",
              "    }\n",
              "\n",
              "    .dataframe tbody tr th {\n",
              "        vertical-align: top;\n",
              "    }\n",
              "\n",
              "    .dataframe thead th {\n",
              "        text-align: right;\n",
              "    }\n",
              "</style>\n",
              "<table border=\"1\" class=\"dataframe\">\n",
              "  <thead>\n",
              "    <tr style=\"text-align: right;\">\n",
              "      <th></th>\n",
              "      <th>Class</th>\n",
              "      <th>Sensitivity(Recall)</th>\n",
              "      <th>Specificity</th>\n",
              "      <th>F1 score</th>\n",
              "    </tr>\n",
              "  </thead>\n",
              "  <tbody>\n",
              "    <tr>\n",
              "      <th>0</th>\n",
              "      <td>1</td>\n",
              "      <td>1.0</td>\n",
              "      <td>1.0</td>\n",
              "      <td>1.0</td>\n",
              "    </tr>\n",
              "    <tr>\n",
              "      <th>1</th>\n",
              "      <td>2</td>\n",
              "      <td>1.0</td>\n",
              "      <td>1.0</td>\n",
              "      <td>1.0</td>\n",
              "    </tr>\n",
              "    <tr>\n",
              "      <th>2</th>\n",
              "      <td>3</td>\n",
              "      <td>1.0</td>\n",
              "      <td>1.0</td>\n",
              "      <td>1.0</td>\n",
              "    </tr>\n",
              "    <tr>\n",
              "      <th>3</th>\n",
              "      <td>4</td>\n",
              "      <td>1.0</td>\n",
              "      <td>1.0</td>\n",
              "      <td>1.0</td>\n",
              "    </tr>\n",
              "    <tr>\n",
              "      <th>4</th>\n",
              "      <td>5</td>\n",
              "      <td>1.0</td>\n",
              "      <td>1.0</td>\n",
              "      <td>1.0</td>\n",
              "    </tr>\n",
              "  </tbody>\n",
              "</table>\n",
              "</div>\n",
              "      <button class=\"colab-df-convert\" onclick=\"convertToInteractive('df-3c1443ff-b1c3-4134-84c5-fa640f1a7f03')\"\n",
              "              title=\"Convert this dataframe to an interactive table.\"\n",
              "              style=\"display:none;\">\n",
              "        \n",
              "  <svg xmlns=\"http://www.w3.org/2000/svg\" height=\"24px\"viewBox=\"0 0 24 24\"\n",
              "       width=\"24px\">\n",
              "    <path d=\"M0 0h24v24H0V0z\" fill=\"none\"/>\n",
              "    <path d=\"M18.56 5.44l.94 2.06.94-2.06 2.06-.94-2.06-.94-.94-2.06-.94 2.06-2.06.94zm-11 1L8.5 8.5l.94-2.06 2.06-.94-2.06-.94L8.5 2.5l-.94 2.06-2.06.94zm10 10l.94 2.06.94-2.06 2.06-.94-2.06-.94-.94-2.06-.94 2.06-2.06.94z\"/><path d=\"M17.41 7.96l-1.37-1.37c-.4-.4-.92-.59-1.43-.59-.52 0-1.04.2-1.43.59L10.3 9.45l-7.72 7.72c-.78.78-.78 2.05 0 2.83L4 21.41c.39.39.9.59 1.41.59.51 0 1.02-.2 1.41-.59l7.78-7.78 2.81-2.81c.8-.78.8-2.07 0-2.86zM5.41 20L4 18.59l7.72-7.72 1.47 1.35L5.41 20z\"/>\n",
              "  </svg>\n",
              "      </button>\n",
              "      \n",
              "  <style>\n",
              "    .colab-df-container {\n",
              "      display:flex;\n",
              "      flex-wrap:wrap;\n",
              "      gap: 12px;\n",
              "    }\n",
              "\n",
              "    .colab-df-convert {\n",
              "      background-color: #E8F0FE;\n",
              "      border: none;\n",
              "      border-radius: 50%;\n",
              "      cursor: pointer;\n",
              "      display: none;\n",
              "      fill: #1967D2;\n",
              "      height: 32px;\n",
              "      padding: 0 0 0 0;\n",
              "      width: 32px;\n",
              "    }\n",
              "\n",
              "    .colab-df-convert:hover {\n",
              "      background-color: #E2EBFA;\n",
              "      box-shadow: 0px 1px 2px rgba(60, 64, 67, 0.3), 0px 1px 3px 1px rgba(60, 64, 67, 0.15);\n",
              "      fill: #174EA6;\n",
              "    }\n",
              "\n",
              "    [theme=dark] .colab-df-convert {\n",
              "      background-color: #3B4455;\n",
              "      fill: #D2E3FC;\n",
              "    }\n",
              "\n",
              "    [theme=dark] .colab-df-convert:hover {\n",
              "      background-color: #434B5C;\n",
              "      box-shadow: 0px 1px 3px 1px rgba(0, 0, 0, 0.15);\n",
              "      filter: drop-shadow(0px 1px 2px rgba(0, 0, 0, 0.3));\n",
              "      fill: #FFFFFF;\n",
              "    }\n",
              "  </style>\n",
              "\n",
              "      <script>\n",
              "        const buttonEl =\n",
              "          document.querySelector('#df-3c1443ff-b1c3-4134-84c5-fa640f1a7f03 button.colab-df-convert');\n",
              "        buttonEl.style.display =\n",
              "          google.colab.kernel.accessAllowed ? 'block' : 'none';\n",
              "\n",
              "        async function convertToInteractive(key) {\n",
              "          const element = document.querySelector('#df-3c1443ff-b1c3-4134-84c5-fa640f1a7f03');\n",
              "          const dataTable =\n",
              "            await google.colab.kernel.invokeFunction('convertToInteractive',\n",
              "                                                     [key], {});\n",
              "          if (!dataTable) return;\n",
              "\n",
              "          const docLinkHtml = 'Like what you see? Visit the ' +\n",
              "            '<a target=\"_blank\" href=https://colab.research.google.com/notebooks/data_table.ipynb>data table notebook</a>'\n",
              "            + ' to learn more about interactive tables.';\n",
              "          element.innerHTML = '';\n",
              "          dataTable['output_type'] = 'display_data';\n",
              "          await google.colab.output.renderOutput(dataTable, element);\n",
              "          const docLink = document.createElement('div');\n",
              "          docLink.innerHTML = docLinkHtml;\n",
              "          element.appendChild(docLink);\n",
              "        }\n",
              "      </script>\n",
              "    </div>\n",
              "  </div>\n",
              "  "
            ]
          },
          "metadata": {},
          "execution_count": 680
        }
      ]
    },
    {
      "cell_type": "markdown",
      "source": [
        "# Implementing FCMeans"
      ],
      "metadata": {
        "id": "VDyLS4q-1jMX"
      }
    },
    {
      "cell_type": "code",
      "source": [
        "from fcmeans import FCM\n",
        "fcm = FCM(n_clusters = 5)\n",
        "fcm.fit(X)\n",
        "y_pred = fcm.predict(X)"
      ],
      "metadata": {
        "id": "YgmBSc061jMX"
      },
      "execution_count": 681,
      "outputs": []
    },
    {
      "cell_type": "code",
      "source": [
        "df = pd.DataFrame(y_pred, columns=['Class'])\n",
        "y_pred = df.replace({y_pred[0]: y[0], y_pred[6]: y[6], y_pred[11]: y[11], y_pred[16]: y[16],y_pred[21]: y[21]}).to_numpy()"
      ],
      "metadata": {
        "id": "uHMAT-lm1jMX"
      },
      "execution_count": 682,
      "outputs": []
    },
    {
      "cell_type": "markdown",
      "source": [
        "### Metrics for FCMeans"
      ],
      "metadata": {
        "id": "mQcdNxNk1jMX"
      }
    },
    {
      "cell_type": "code",
      "source": [
        "cm = multilabel_confusion_matrix(y, y_pred, labels= range(5))\n",
        "\n",
        "res = []\n",
        "\n",
        "for l in range(5):\n",
        "    x = cm[l]\n",
        "    tn, fp = x[0]\n",
        "    fn, tp = x[1]\n",
        "    sensitivity = tp / (tp + fn)\n",
        "    specificity = tn / (tn + fp)\n",
        "    precision = tp / (tp + fp)\n",
        "    f1 = (2 * precision * sensitivity) / (precision + sensitivity)\n",
        "    res.append([l+1,sensitivity, specificity, f1])\n",
        "\n",
        "performance = pd.DataFrame(res, columns = ['Class','Sensitivity(Recall)','Specificity', 'F1 score'])\n",
        "\n",
        "performance['F1 score'] = performance['F1 score'].fillna(0)\n",
        "performance['Sensitivity(Recall)'] = performance['Sensitivity(Recall)'].fillna(0)\n",
        "performance['Specificity'] = performance['Specificity'].fillna(0)\n",
        "\n",
        "total_accuracy = accuracy_score(y, y_pred)\n",
        "print(\"The total accuracy is\", total_accuracy)\n",
        "performance"
      ],
      "metadata": {
        "id": "hCS_pX0E1jMX",
        "outputId": "1f589cd7-d283-4af6-d83e-47a0740a4036",
        "colab": {
          "base_uri": "https://localhost:8080/",
          "height": 224
        }
      },
      "execution_count": 683,
      "outputs": [
        {
          "output_type": "stream",
          "name": "stdout",
          "text": [
            "The total accuracy is 1.0\n"
          ]
        },
        {
          "output_type": "execute_result",
          "data": {
            "text/plain": [
              "   Class  Sensitivity(Recall)  Specificity  F1 score\n",
              "0      1                  1.0          1.0       1.0\n",
              "1      2                  1.0          1.0       1.0\n",
              "2      3                  1.0          1.0       1.0\n",
              "3      4                  1.0          1.0       1.0\n",
              "4      5                  1.0          1.0       1.0"
            ],
            "text/html": [
              "\n",
              "  <div id=\"df-1ea5b378-3292-4e37-afd5-b1e5778051c7\">\n",
              "    <div class=\"colab-df-container\">\n",
              "      <div>\n",
              "<style scoped>\n",
              "    .dataframe tbody tr th:only-of-type {\n",
              "        vertical-align: middle;\n",
              "    }\n",
              "\n",
              "    .dataframe tbody tr th {\n",
              "        vertical-align: top;\n",
              "    }\n",
              "\n",
              "    .dataframe thead th {\n",
              "        text-align: right;\n",
              "    }\n",
              "</style>\n",
              "<table border=\"1\" class=\"dataframe\">\n",
              "  <thead>\n",
              "    <tr style=\"text-align: right;\">\n",
              "      <th></th>\n",
              "      <th>Class</th>\n",
              "      <th>Sensitivity(Recall)</th>\n",
              "      <th>Specificity</th>\n",
              "      <th>F1 score</th>\n",
              "    </tr>\n",
              "  </thead>\n",
              "  <tbody>\n",
              "    <tr>\n",
              "      <th>0</th>\n",
              "      <td>1</td>\n",
              "      <td>1.0</td>\n",
              "      <td>1.0</td>\n",
              "      <td>1.0</td>\n",
              "    </tr>\n",
              "    <tr>\n",
              "      <th>1</th>\n",
              "      <td>2</td>\n",
              "      <td>1.0</td>\n",
              "      <td>1.0</td>\n",
              "      <td>1.0</td>\n",
              "    </tr>\n",
              "    <tr>\n",
              "      <th>2</th>\n",
              "      <td>3</td>\n",
              "      <td>1.0</td>\n",
              "      <td>1.0</td>\n",
              "      <td>1.0</td>\n",
              "    </tr>\n",
              "    <tr>\n",
              "      <th>3</th>\n",
              "      <td>4</td>\n",
              "      <td>1.0</td>\n",
              "      <td>1.0</td>\n",
              "      <td>1.0</td>\n",
              "    </tr>\n",
              "    <tr>\n",
              "      <th>4</th>\n",
              "      <td>5</td>\n",
              "      <td>1.0</td>\n",
              "      <td>1.0</td>\n",
              "      <td>1.0</td>\n",
              "    </tr>\n",
              "  </tbody>\n",
              "</table>\n",
              "</div>\n",
              "      <button class=\"colab-df-convert\" onclick=\"convertToInteractive('df-1ea5b378-3292-4e37-afd5-b1e5778051c7')\"\n",
              "              title=\"Convert this dataframe to an interactive table.\"\n",
              "              style=\"display:none;\">\n",
              "        \n",
              "  <svg xmlns=\"http://www.w3.org/2000/svg\" height=\"24px\"viewBox=\"0 0 24 24\"\n",
              "       width=\"24px\">\n",
              "    <path d=\"M0 0h24v24H0V0z\" fill=\"none\"/>\n",
              "    <path d=\"M18.56 5.44l.94 2.06.94-2.06 2.06-.94-2.06-.94-.94-2.06-.94 2.06-2.06.94zm-11 1L8.5 8.5l.94-2.06 2.06-.94-2.06-.94L8.5 2.5l-.94 2.06-2.06.94zm10 10l.94 2.06.94-2.06 2.06-.94-2.06-.94-.94-2.06-.94 2.06-2.06.94z\"/><path d=\"M17.41 7.96l-1.37-1.37c-.4-.4-.92-.59-1.43-.59-.52 0-1.04.2-1.43.59L10.3 9.45l-7.72 7.72c-.78.78-.78 2.05 0 2.83L4 21.41c.39.39.9.59 1.41.59.51 0 1.02-.2 1.41-.59l7.78-7.78 2.81-2.81c.8-.78.8-2.07 0-2.86zM5.41 20L4 18.59l7.72-7.72 1.47 1.35L5.41 20z\"/>\n",
              "  </svg>\n",
              "      </button>\n",
              "      \n",
              "  <style>\n",
              "    .colab-df-container {\n",
              "      display:flex;\n",
              "      flex-wrap:wrap;\n",
              "      gap: 12px;\n",
              "    }\n",
              "\n",
              "    .colab-df-convert {\n",
              "      background-color: #E8F0FE;\n",
              "      border: none;\n",
              "      border-radius: 50%;\n",
              "      cursor: pointer;\n",
              "      display: none;\n",
              "      fill: #1967D2;\n",
              "      height: 32px;\n",
              "      padding: 0 0 0 0;\n",
              "      width: 32px;\n",
              "    }\n",
              "\n",
              "    .colab-df-convert:hover {\n",
              "      background-color: #E2EBFA;\n",
              "      box-shadow: 0px 1px 2px rgba(60, 64, 67, 0.3), 0px 1px 3px 1px rgba(60, 64, 67, 0.15);\n",
              "      fill: #174EA6;\n",
              "    }\n",
              "\n",
              "    [theme=dark] .colab-df-convert {\n",
              "      background-color: #3B4455;\n",
              "      fill: #D2E3FC;\n",
              "    }\n",
              "\n",
              "    [theme=dark] .colab-df-convert:hover {\n",
              "      background-color: #434B5C;\n",
              "      box-shadow: 0px 1px 3px 1px rgba(0, 0, 0, 0.15);\n",
              "      filter: drop-shadow(0px 1px 2px rgba(0, 0, 0, 0.3));\n",
              "      fill: #FFFFFF;\n",
              "    }\n",
              "  </style>\n",
              "\n",
              "      <script>\n",
              "        const buttonEl =\n",
              "          document.querySelector('#df-1ea5b378-3292-4e37-afd5-b1e5778051c7 button.colab-df-convert');\n",
              "        buttonEl.style.display =\n",
              "          google.colab.kernel.accessAllowed ? 'block' : 'none';\n",
              "\n",
              "        async function convertToInteractive(key) {\n",
              "          const element = document.querySelector('#df-1ea5b378-3292-4e37-afd5-b1e5778051c7');\n",
              "          const dataTable =\n",
              "            await google.colab.kernel.invokeFunction('convertToInteractive',\n",
              "                                                     [key], {});\n",
              "          if (!dataTable) return;\n",
              "\n",
              "          const docLinkHtml = 'Like what you see? Visit the ' +\n",
              "            '<a target=\"_blank\" href=https://colab.research.google.com/notebooks/data_table.ipynb>data table notebook</a>'\n",
              "            + ' to learn more about interactive tables.';\n",
              "          element.innerHTML = '';\n",
              "          dataTable['output_type'] = 'display_data';\n",
              "          await google.colab.output.renderOutput(dataTable, element);\n",
              "          const docLink = document.createElement('div');\n",
              "          docLink.innerHTML = docLinkHtml;\n",
              "          element.appendChild(docLink);\n",
              "        }\n",
              "      </script>\n",
              "    </div>\n",
              "  </div>\n",
              "  "
            ]
          },
          "metadata": {},
          "execution_count": 683
        }
      ]
    },
    {
      "cell_type": "markdown",
      "source": [
        "# Using QCM12 sensor data for classification"
      ],
      "metadata": {
        "id": "I8GSZJEX1nQb"
      }
    },
    {
      "cell_type": "code",
      "source": [
        "# Separating features and target variable\n",
        "y = df_12['Class']\n",
        "X = df_12.drop(columns = ['Class'])"
      ],
      "metadata": {
        "id": "UMVMl2L31nQb"
      },
      "execution_count": 684,
      "outputs": []
    },
    {
      "cell_type": "markdown",
      "source": [
        "## Preprocessing"
      ],
      "metadata": {
        "id": "YuRH8SyG1nQb"
      }
    },
    {
      "cell_type": "code",
      "source": [
        "X = Normalizer().fit_transform(X)"
      ],
      "metadata": {
        "id": "JwRZ3-uT1nQc"
      },
      "execution_count": 685,
      "outputs": []
    },
    {
      "cell_type": "code",
      "source": [
        "X_train, X_test, y_train, y_test = train_test_split(X, y, test_size=0.2, stratify = y)"
      ],
      "metadata": {
        "id": "ReSGaLBz1nQc"
      },
      "execution_count": 686,
      "outputs": []
    },
    {
      "cell_type": "markdown",
      "source": [
        "## Implementing MLP"
      ],
      "metadata": {
        "id": "mQNcPNps1nQc"
      }
    },
    {
      "cell_type": "code",
      "source": [
        "clf = MLPClassifier()\n",
        "clf.fit(X_train, y_train)\n",
        "y_pred = clf.predict(X_test)"
      ],
      "metadata": {
        "id": "gnUBUh3a1nQc"
      },
      "execution_count": 687,
      "outputs": []
    },
    {
      "cell_type": "markdown",
      "source": [
        "### Metrics for MLP"
      ],
      "metadata": {
        "id": "5KnBu7HV1nQc"
      }
    },
    {
      "cell_type": "code",
      "source": [
        "cm = multilabel_confusion_matrix(y_test, y_pred, labels= range(5))\n",
        "\n",
        "res = []\n",
        "\n",
        "for l in range(5):\n",
        "    x = cm[l]\n",
        "    tn, fp = x[0]\n",
        "    fn, tp = x[1]\n",
        "    sensitivity = tp / (tp + fn)\n",
        "    specificity = tn / (tn + fp)\n",
        "    precision = tp / (tp + fp)\n",
        "    f1 = (2 * precision * sensitivity) / (precision + sensitivity)\n",
        "    res.append([l+1,sensitivity, specificity, f1])\n",
        "\n",
        "performance = pd.DataFrame(res, columns = ['Class','Sensitivity(Recall)','Specificity', 'F1 score'])\n",
        "\n",
        "performance['F1 score'] = performance['F1 score'].fillna(0)\n",
        "performance['Sensitivity(Recall)'] = performance['Sensitivity(Recall)'].fillna(0)\n",
        "performance['Specificity'] = performance['Specificity'].fillna(0)\n",
        "\n",
        "total_accuracy = accuracy_score(y_test, y_pred)\n",
        "print(\"The total accuracy is\", total_accuracy)\n",
        "performance"
      ],
      "metadata": {
        "id": "OUSumkeB1nQc",
        "outputId": "0ff8728a-cffc-4ae2-f70a-3979e5178960",
        "colab": {
          "base_uri": "https://localhost:8080/",
          "height": 224
        }
      },
      "execution_count": 688,
      "outputs": [
        {
          "output_type": "stream",
          "name": "stdout",
          "text": [
            "The total accuracy is 0.6\n"
          ]
        },
        {
          "output_type": "execute_result",
          "data": {
            "text/plain": [
              "   Class  Sensitivity(Recall)  Specificity  F1 score\n",
              "0      1                  0.0         1.00  0.000000\n",
              "1      2                  1.0         1.00  1.000000\n",
              "2      3                  0.0         0.75  0.000000\n",
              "3      4                  1.0         1.00  1.000000\n",
              "4      5                  1.0         0.75  0.666667"
            ],
            "text/html": [
              "\n",
              "  <div id=\"df-1175a747-d0ef-4283-a164-0b43c85acc54\">\n",
              "    <div class=\"colab-df-container\">\n",
              "      <div>\n",
              "<style scoped>\n",
              "    .dataframe tbody tr th:only-of-type {\n",
              "        vertical-align: middle;\n",
              "    }\n",
              "\n",
              "    .dataframe tbody tr th {\n",
              "        vertical-align: top;\n",
              "    }\n",
              "\n",
              "    .dataframe thead th {\n",
              "        text-align: right;\n",
              "    }\n",
              "</style>\n",
              "<table border=\"1\" class=\"dataframe\">\n",
              "  <thead>\n",
              "    <tr style=\"text-align: right;\">\n",
              "      <th></th>\n",
              "      <th>Class</th>\n",
              "      <th>Sensitivity(Recall)</th>\n",
              "      <th>Specificity</th>\n",
              "      <th>F1 score</th>\n",
              "    </tr>\n",
              "  </thead>\n",
              "  <tbody>\n",
              "    <tr>\n",
              "      <th>0</th>\n",
              "      <td>1</td>\n",
              "      <td>0.0</td>\n",
              "      <td>1.00</td>\n",
              "      <td>0.000000</td>\n",
              "    </tr>\n",
              "    <tr>\n",
              "      <th>1</th>\n",
              "      <td>2</td>\n",
              "      <td>1.0</td>\n",
              "      <td>1.00</td>\n",
              "      <td>1.000000</td>\n",
              "    </tr>\n",
              "    <tr>\n",
              "      <th>2</th>\n",
              "      <td>3</td>\n",
              "      <td>0.0</td>\n",
              "      <td>0.75</td>\n",
              "      <td>0.000000</td>\n",
              "    </tr>\n",
              "    <tr>\n",
              "      <th>3</th>\n",
              "      <td>4</td>\n",
              "      <td>1.0</td>\n",
              "      <td>1.00</td>\n",
              "      <td>1.000000</td>\n",
              "    </tr>\n",
              "    <tr>\n",
              "      <th>4</th>\n",
              "      <td>5</td>\n",
              "      <td>1.0</td>\n",
              "      <td>0.75</td>\n",
              "      <td>0.666667</td>\n",
              "    </tr>\n",
              "  </tbody>\n",
              "</table>\n",
              "</div>\n",
              "      <button class=\"colab-df-convert\" onclick=\"convertToInteractive('df-1175a747-d0ef-4283-a164-0b43c85acc54')\"\n",
              "              title=\"Convert this dataframe to an interactive table.\"\n",
              "              style=\"display:none;\">\n",
              "        \n",
              "  <svg xmlns=\"http://www.w3.org/2000/svg\" height=\"24px\"viewBox=\"0 0 24 24\"\n",
              "       width=\"24px\">\n",
              "    <path d=\"M0 0h24v24H0V0z\" fill=\"none\"/>\n",
              "    <path d=\"M18.56 5.44l.94 2.06.94-2.06 2.06-.94-2.06-.94-.94-2.06-.94 2.06-2.06.94zm-11 1L8.5 8.5l.94-2.06 2.06-.94-2.06-.94L8.5 2.5l-.94 2.06-2.06.94zm10 10l.94 2.06.94-2.06 2.06-.94-2.06-.94-.94-2.06-.94 2.06-2.06.94z\"/><path d=\"M17.41 7.96l-1.37-1.37c-.4-.4-.92-.59-1.43-.59-.52 0-1.04.2-1.43.59L10.3 9.45l-7.72 7.72c-.78.78-.78 2.05 0 2.83L4 21.41c.39.39.9.59 1.41.59.51 0 1.02-.2 1.41-.59l7.78-7.78 2.81-2.81c.8-.78.8-2.07 0-2.86zM5.41 20L4 18.59l7.72-7.72 1.47 1.35L5.41 20z\"/>\n",
              "  </svg>\n",
              "      </button>\n",
              "      \n",
              "  <style>\n",
              "    .colab-df-container {\n",
              "      display:flex;\n",
              "      flex-wrap:wrap;\n",
              "      gap: 12px;\n",
              "    }\n",
              "\n",
              "    .colab-df-convert {\n",
              "      background-color: #E8F0FE;\n",
              "      border: none;\n",
              "      border-radius: 50%;\n",
              "      cursor: pointer;\n",
              "      display: none;\n",
              "      fill: #1967D2;\n",
              "      height: 32px;\n",
              "      padding: 0 0 0 0;\n",
              "      width: 32px;\n",
              "    }\n",
              "\n",
              "    .colab-df-convert:hover {\n",
              "      background-color: #E2EBFA;\n",
              "      box-shadow: 0px 1px 2px rgba(60, 64, 67, 0.3), 0px 1px 3px 1px rgba(60, 64, 67, 0.15);\n",
              "      fill: #174EA6;\n",
              "    }\n",
              "\n",
              "    [theme=dark] .colab-df-convert {\n",
              "      background-color: #3B4455;\n",
              "      fill: #D2E3FC;\n",
              "    }\n",
              "\n",
              "    [theme=dark] .colab-df-convert:hover {\n",
              "      background-color: #434B5C;\n",
              "      box-shadow: 0px 1px 3px 1px rgba(0, 0, 0, 0.15);\n",
              "      filter: drop-shadow(0px 1px 2px rgba(0, 0, 0, 0.3));\n",
              "      fill: #FFFFFF;\n",
              "    }\n",
              "  </style>\n",
              "\n",
              "      <script>\n",
              "        const buttonEl =\n",
              "          document.querySelector('#df-1175a747-d0ef-4283-a164-0b43c85acc54 button.colab-df-convert');\n",
              "        buttonEl.style.display =\n",
              "          google.colab.kernel.accessAllowed ? 'block' : 'none';\n",
              "\n",
              "        async function convertToInteractive(key) {\n",
              "          const element = document.querySelector('#df-1175a747-d0ef-4283-a164-0b43c85acc54');\n",
              "          const dataTable =\n",
              "            await google.colab.kernel.invokeFunction('convertToInteractive',\n",
              "                                                     [key], {});\n",
              "          if (!dataTable) return;\n",
              "\n",
              "          const docLinkHtml = 'Like what you see? Visit the ' +\n",
              "            '<a target=\"_blank\" href=https://colab.research.google.com/notebooks/data_table.ipynb>data table notebook</a>'\n",
              "            + ' to learn more about interactive tables.';\n",
              "          element.innerHTML = '';\n",
              "          dataTable['output_type'] = 'display_data';\n",
              "          await google.colab.output.renderOutput(dataTable, element);\n",
              "          const docLink = document.createElement('div');\n",
              "          docLink.innerHTML = docLinkHtml;\n",
              "          element.appendChild(docLink);\n",
              "        }\n",
              "      </script>\n",
              "    </div>\n",
              "  </div>\n",
              "  "
            ]
          },
          "metadata": {},
          "execution_count": 688
        }
      ]
    },
    {
      "cell_type": "markdown",
      "source": [
        "## Implementing SVC"
      ],
      "metadata": {
        "id": "F-SO38Co1nQc"
      }
    },
    {
      "cell_type": "code",
      "source": [
        "clf = SVC()\n",
        "clf.fit(X_train, y_train)\n",
        "y_pred = clf.predict(X_test)"
      ],
      "metadata": {
        "id": "oCCID4Xe1nQd"
      },
      "execution_count": 689,
      "outputs": []
    },
    {
      "cell_type": "markdown",
      "source": [
        "### Metrics for SVC"
      ],
      "metadata": {
        "id": "Y72mnEk_1nQe"
      }
    },
    {
      "cell_type": "code",
      "source": [
        "cm = multilabel_confusion_matrix(y_test, y_pred, labels= range(5))\n",
        "\n",
        "res = []\n",
        "\n",
        "for l in range(5):\n",
        "    x = cm[l]\n",
        "    tn, fp = x[0]\n",
        "    fn, tp = x[1]\n",
        "    sensitivity = tp / (tp + fn)\n",
        "    specificity = tn / (tn + fp)\n",
        "    precision = tp / (tp + fp)\n",
        "    f1 = (2 * precision * sensitivity) / (precision + sensitivity)\n",
        "    res.append([l+1,sensitivity, specificity, f1])\n",
        "\n",
        "performance = pd.DataFrame(res, columns = ['Class','Sensitivity(Recall)','Specificity', 'F1 score'])\n",
        "\n",
        "performance['F1 score'] = performance['F1 score'].fillna(0)\n",
        "performance['Sensitivity(Recall)'] = performance['Sensitivity(Recall)'].fillna(0)\n",
        "performance['Specificity'] = performance['Specificity'].fillna(0)\n",
        "\n",
        "total_accuracy = accuracy_score(y_test, y_pred)\n",
        "print(\"The total accuracy is\", total_accuracy)\n",
        "performance"
      ],
      "metadata": {
        "id": "ucVnxPye1nQe",
        "outputId": "5beb8522-7dcc-4f12-b00b-e82a3749da4c",
        "colab": {
          "base_uri": "https://localhost:8080/",
          "height": 224
        }
      },
      "execution_count": 690,
      "outputs": [
        {
          "output_type": "stream",
          "name": "stdout",
          "text": [
            "The total accuracy is 0.8\n"
          ]
        },
        {
          "output_type": "execute_result",
          "data": {
            "text/plain": [
              "   Class  Sensitivity(Recall)  Specificity  F1 score\n",
              "0      1                  0.0         1.00  0.000000\n",
              "1      2                  1.0         1.00  1.000000\n",
              "2      3                  1.0         0.75  0.666667\n",
              "3      4                  1.0         1.00  1.000000\n",
              "4      5                  1.0         1.00  1.000000"
            ],
            "text/html": [
              "\n",
              "  <div id=\"df-f22bf11d-05e3-4522-ab29-ba723f0e50e7\">\n",
              "    <div class=\"colab-df-container\">\n",
              "      <div>\n",
              "<style scoped>\n",
              "    .dataframe tbody tr th:only-of-type {\n",
              "        vertical-align: middle;\n",
              "    }\n",
              "\n",
              "    .dataframe tbody tr th {\n",
              "        vertical-align: top;\n",
              "    }\n",
              "\n",
              "    .dataframe thead th {\n",
              "        text-align: right;\n",
              "    }\n",
              "</style>\n",
              "<table border=\"1\" class=\"dataframe\">\n",
              "  <thead>\n",
              "    <tr style=\"text-align: right;\">\n",
              "      <th></th>\n",
              "      <th>Class</th>\n",
              "      <th>Sensitivity(Recall)</th>\n",
              "      <th>Specificity</th>\n",
              "      <th>F1 score</th>\n",
              "    </tr>\n",
              "  </thead>\n",
              "  <tbody>\n",
              "    <tr>\n",
              "      <th>0</th>\n",
              "      <td>1</td>\n",
              "      <td>0.0</td>\n",
              "      <td>1.00</td>\n",
              "      <td>0.000000</td>\n",
              "    </tr>\n",
              "    <tr>\n",
              "      <th>1</th>\n",
              "      <td>2</td>\n",
              "      <td>1.0</td>\n",
              "      <td>1.00</td>\n",
              "      <td>1.000000</td>\n",
              "    </tr>\n",
              "    <tr>\n",
              "      <th>2</th>\n",
              "      <td>3</td>\n",
              "      <td>1.0</td>\n",
              "      <td>0.75</td>\n",
              "      <td>0.666667</td>\n",
              "    </tr>\n",
              "    <tr>\n",
              "      <th>3</th>\n",
              "      <td>4</td>\n",
              "      <td>1.0</td>\n",
              "      <td>1.00</td>\n",
              "      <td>1.000000</td>\n",
              "    </tr>\n",
              "    <tr>\n",
              "      <th>4</th>\n",
              "      <td>5</td>\n",
              "      <td>1.0</td>\n",
              "      <td>1.00</td>\n",
              "      <td>1.000000</td>\n",
              "    </tr>\n",
              "  </tbody>\n",
              "</table>\n",
              "</div>\n",
              "      <button class=\"colab-df-convert\" onclick=\"convertToInteractive('df-f22bf11d-05e3-4522-ab29-ba723f0e50e7')\"\n",
              "              title=\"Convert this dataframe to an interactive table.\"\n",
              "              style=\"display:none;\">\n",
              "        \n",
              "  <svg xmlns=\"http://www.w3.org/2000/svg\" height=\"24px\"viewBox=\"0 0 24 24\"\n",
              "       width=\"24px\">\n",
              "    <path d=\"M0 0h24v24H0V0z\" fill=\"none\"/>\n",
              "    <path d=\"M18.56 5.44l.94 2.06.94-2.06 2.06-.94-2.06-.94-.94-2.06-.94 2.06-2.06.94zm-11 1L8.5 8.5l.94-2.06 2.06-.94-2.06-.94L8.5 2.5l-.94 2.06-2.06.94zm10 10l.94 2.06.94-2.06 2.06-.94-2.06-.94-.94-2.06-.94 2.06-2.06.94z\"/><path d=\"M17.41 7.96l-1.37-1.37c-.4-.4-.92-.59-1.43-.59-.52 0-1.04.2-1.43.59L10.3 9.45l-7.72 7.72c-.78.78-.78 2.05 0 2.83L4 21.41c.39.39.9.59 1.41.59.51 0 1.02-.2 1.41-.59l7.78-7.78 2.81-2.81c.8-.78.8-2.07 0-2.86zM5.41 20L4 18.59l7.72-7.72 1.47 1.35L5.41 20z\"/>\n",
              "  </svg>\n",
              "      </button>\n",
              "      \n",
              "  <style>\n",
              "    .colab-df-container {\n",
              "      display:flex;\n",
              "      flex-wrap:wrap;\n",
              "      gap: 12px;\n",
              "    }\n",
              "\n",
              "    .colab-df-convert {\n",
              "      background-color: #E8F0FE;\n",
              "      border: none;\n",
              "      border-radius: 50%;\n",
              "      cursor: pointer;\n",
              "      display: none;\n",
              "      fill: #1967D2;\n",
              "      height: 32px;\n",
              "      padding: 0 0 0 0;\n",
              "      width: 32px;\n",
              "    }\n",
              "\n",
              "    .colab-df-convert:hover {\n",
              "      background-color: #E2EBFA;\n",
              "      box-shadow: 0px 1px 2px rgba(60, 64, 67, 0.3), 0px 1px 3px 1px rgba(60, 64, 67, 0.15);\n",
              "      fill: #174EA6;\n",
              "    }\n",
              "\n",
              "    [theme=dark] .colab-df-convert {\n",
              "      background-color: #3B4455;\n",
              "      fill: #D2E3FC;\n",
              "    }\n",
              "\n",
              "    [theme=dark] .colab-df-convert:hover {\n",
              "      background-color: #434B5C;\n",
              "      box-shadow: 0px 1px 3px 1px rgba(0, 0, 0, 0.15);\n",
              "      filter: drop-shadow(0px 1px 2px rgba(0, 0, 0, 0.3));\n",
              "      fill: #FFFFFF;\n",
              "    }\n",
              "  </style>\n",
              "\n",
              "      <script>\n",
              "        const buttonEl =\n",
              "          document.querySelector('#df-f22bf11d-05e3-4522-ab29-ba723f0e50e7 button.colab-df-convert');\n",
              "        buttonEl.style.display =\n",
              "          google.colab.kernel.accessAllowed ? 'block' : 'none';\n",
              "\n",
              "        async function convertToInteractive(key) {\n",
              "          const element = document.querySelector('#df-f22bf11d-05e3-4522-ab29-ba723f0e50e7');\n",
              "          const dataTable =\n",
              "            await google.colab.kernel.invokeFunction('convertToInteractive',\n",
              "                                                     [key], {});\n",
              "          if (!dataTable) return;\n",
              "\n",
              "          const docLinkHtml = 'Like what you see? Visit the ' +\n",
              "            '<a target=\"_blank\" href=https://colab.research.google.com/notebooks/data_table.ipynb>data table notebook</a>'\n",
              "            + ' to learn more about interactive tables.';\n",
              "          element.innerHTML = '';\n",
              "          dataTable['output_type'] = 'display_data';\n",
              "          await google.colab.output.renderOutput(dataTable, element);\n",
              "          const docLink = document.createElement('div');\n",
              "          docLink.innerHTML = docLinkHtml;\n",
              "          element.appendChild(docLink);\n",
              "        }\n",
              "      </script>\n",
              "    </div>\n",
              "  </div>\n",
              "  "
            ]
          },
          "metadata": {},
          "execution_count": 690
        }
      ]
    },
    {
      "cell_type": "markdown",
      "source": [
        "# hmm remain"
      ],
      "metadata": {
        "id": "AGOkiXyC1nQf"
      }
    },
    {
      "cell_type": "markdown",
      "source": [
        "# Implementing clustering algorithms"
      ],
      "metadata": {
        "id": "SfW9crPt1nQf"
      }
    },
    {
      "cell_type": "code",
      "source": [
        "y = y.to_numpy()"
      ],
      "metadata": {
        "id": "9bLRd-AI1nQf"
      },
      "execution_count": 691,
      "outputs": []
    },
    {
      "cell_type": "markdown",
      "source": [
        "# Implementing K means"
      ],
      "metadata": {
        "id": "PAC3ZE8D1nQf"
      }
    },
    {
      "cell_type": "code",
      "source": [
        "kmeans = KMeans(n_clusters = 5, random_state=0).fit(X)\n",
        "y_pred = kmeans.predict(X)"
      ],
      "metadata": {
        "id": "eaMEOBkx1nQf"
      },
      "execution_count": 692,
      "outputs": []
    },
    {
      "cell_type": "code",
      "source": [
        "df = pd.DataFrame(y_pred, columns=['Class'])\n",
        "y_pred = df.replace({y_pred[0]: y[0], y_pred[6]: y[6], y_pred[11]: y[11], y_pred[16]: y[16],y_pred[21]: y[21]}).to_numpy()"
      ],
      "metadata": {
        "id": "BJqYxwor1nQf"
      },
      "execution_count": 693,
      "outputs": []
    },
    {
      "cell_type": "markdown",
      "source": [
        "### Metrics for KMeans"
      ],
      "metadata": {
        "id": "CGgQK1aL1nQf"
      }
    },
    {
      "cell_type": "code",
      "source": [
        "cm = multilabel_confusion_matrix(y, y_pred, labels= range(5))\n",
        "\n",
        "res = []\n",
        "\n",
        "for l in range(5):\n",
        "    x = cm[l]\n",
        "    tn, fp = x[0]\n",
        "    fn, tp = x[1]\n",
        "    sensitivity = tp / (tp + fn)\n",
        "    specificity = tn / (tn + fp)\n",
        "    precision = tp / (tp + fp)\n",
        "    f1 = (2 * precision * sensitivity) / (precision + sensitivity)\n",
        "    res.append([l+1,sensitivity, specificity, f1])\n",
        "\n",
        "performance = pd.DataFrame(res, columns = ['Class','Sensitivity(Recall)','Specificity', 'F1 score'])\n",
        "\n",
        "performance['F1 score'] = performance['F1 score'].fillna(0)\n",
        "performance['Sensitivity(Recall)'] = performance['Sensitivity(Recall)'].fillna(0)\n",
        "performance['Specificity'] = performance['Specificity'].fillna(0)\n",
        "\n",
        "total_accuracy = accuracy_score(y, y_pred)\n",
        "print(\"The total accuracy is\", total_accuracy)\n",
        "performance"
      ],
      "metadata": {
        "id": "onmjfoVD1nQg",
        "outputId": "9f10af81-c5b7-4f7b-f8cf-92085fb034fb",
        "colab": {
          "base_uri": "https://localhost:8080/",
          "height": 224
        }
      },
      "execution_count": 694,
      "outputs": [
        {
          "output_type": "stream",
          "name": "stdout",
          "text": [
            "The total accuracy is 0.88\n"
          ]
        },
        {
          "output_type": "execute_result",
          "data": {
            "text/plain": [
              "   Class  Sensitivity(Recall)  Specificity  F1 score\n",
              "0      1                  0.4         1.00  0.571429\n",
              "1      2                  1.0         1.00  1.000000\n",
              "2      3                  1.0         0.85  0.769231\n",
              "3      4                  1.0         1.00  1.000000\n",
              "4      5                  1.0         1.00  1.000000"
            ],
            "text/html": [
              "\n",
              "  <div id=\"df-2c62d708-36d2-4e08-9074-ea2511a4afd2\">\n",
              "    <div class=\"colab-df-container\">\n",
              "      <div>\n",
              "<style scoped>\n",
              "    .dataframe tbody tr th:only-of-type {\n",
              "        vertical-align: middle;\n",
              "    }\n",
              "\n",
              "    .dataframe tbody tr th {\n",
              "        vertical-align: top;\n",
              "    }\n",
              "\n",
              "    .dataframe thead th {\n",
              "        text-align: right;\n",
              "    }\n",
              "</style>\n",
              "<table border=\"1\" class=\"dataframe\">\n",
              "  <thead>\n",
              "    <tr style=\"text-align: right;\">\n",
              "      <th></th>\n",
              "      <th>Class</th>\n",
              "      <th>Sensitivity(Recall)</th>\n",
              "      <th>Specificity</th>\n",
              "      <th>F1 score</th>\n",
              "    </tr>\n",
              "  </thead>\n",
              "  <tbody>\n",
              "    <tr>\n",
              "      <th>0</th>\n",
              "      <td>1</td>\n",
              "      <td>0.4</td>\n",
              "      <td>1.00</td>\n",
              "      <td>0.571429</td>\n",
              "    </tr>\n",
              "    <tr>\n",
              "      <th>1</th>\n",
              "      <td>2</td>\n",
              "      <td>1.0</td>\n",
              "      <td>1.00</td>\n",
              "      <td>1.000000</td>\n",
              "    </tr>\n",
              "    <tr>\n",
              "      <th>2</th>\n",
              "      <td>3</td>\n",
              "      <td>1.0</td>\n",
              "      <td>0.85</td>\n",
              "      <td>0.769231</td>\n",
              "    </tr>\n",
              "    <tr>\n",
              "      <th>3</th>\n",
              "      <td>4</td>\n",
              "      <td>1.0</td>\n",
              "      <td>1.00</td>\n",
              "      <td>1.000000</td>\n",
              "    </tr>\n",
              "    <tr>\n",
              "      <th>4</th>\n",
              "      <td>5</td>\n",
              "      <td>1.0</td>\n",
              "      <td>1.00</td>\n",
              "      <td>1.000000</td>\n",
              "    </tr>\n",
              "  </tbody>\n",
              "</table>\n",
              "</div>\n",
              "      <button class=\"colab-df-convert\" onclick=\"convertToInteractive('df-2c62d708-36d2-4e08-9074-ea2511a4afd2')\"\n",
              "              title=\"Convert this dataframe to an interactive table.\"\n",
              "              style=\"display:none;\">\n",
              "        \n",
              "  <svg xmlns=\"http://www.w3.org/2000/svg\" height=\"24px\"viewBox=\"0 0 24 24\"\n",
              "       width=\"24px\">\n",
              "    <path d=\"M0 0h24v24H0V0z\" fill=\"none\"/>\n",
              "    <path d=\"M18.56 5.44l.94 2.06.94-2.06 2.06-.94-2.06-.94-.94-2.06-.94 2.06-2.06.94zm-11 1L8.5 8.5l.94-2.06 2.06-.94-2.06-.94L8.5 2.5l-.94 2.06-2.06.94zm10 10l.94 2.06.94-2.06 2.06-.94-2.06-.94-.94-2.06-.94 2.06-2.06.94z\"/><path d=\"M17.41 7.96l-1.37-1.37c-.4-.4-.92-.59-1.43-.59-.52 0-1.04.2-1.43.59L10.3 9.45l-7.72 7.72c-.78.78-.78 2.05 0 2.83L4 21.41c.39.39.9.59 1.41.59.51 0 1.02-.2 1.41-.59l7.78-7.78 2.81-2.81c.8-.78.8-2.07 0-2.86zM5.41 20L4 18.59l7.72-7.72 1.47 1.35L5.41 20z\"/>\n",
              "  </svg>\n",
              "      </button>\n",
              "      \n",
              "  <style>\n",
              "    .colab-df-container {\n",
              "      display:flex;\n",
              "      flex-wrap:wrap;\n",
              "      gap: 12px;\n",
              "    }\n",
              "\n",
              "    .colab-df-convert {\n",
              "      background-color: #E8F0FE;\n",
              "      border: none;\n",
              "      border-radius: 50%;\n",
              "      cursor: pointer;\n",
              "      display: none;\n",
              "      fill: #1967D2;\n",
              "      height: 32px;\n",
              "      padding: 0 0 0 0;\n",
              "      width: 32px;\n",
              "    }\n",
              "\n",
              "    .colab-df-convert:hover {\n",
              "      background-color: #E2EBFA;\n",
              "      box-shadow: 0px 1px 2px rgba(60, 64, 67, 0.3), 0px 1px 3px 1px rgba(60, 64, 67, 0.15);\n",
              "      fill: #174EA6;\n",
              "    }\n",
              "\n",
              "    [theme=dark] .colab-df-convert {\n",
              "      background-color: #3B4455;\n",
              "      fill: #D2E3FC;\n",
              "    }\n",
              "\n",
              "    [theme=dark] .colab-df-convert:hover {\n",
              "      background-color: #434B5C;\n",
              "      box-shadow: 0px 1px 3px 1px rgba(0, 0, 0, 0.15);\n",
              "      filter: drop-shadow(0px 1px 2px rgba(0, 0, 0, 0.3));\n",
              "      fill: #FFFFFF;\n",
              "    }\n",
              "  </style>\n",
              "\n",
              "      <script>\n",
              "        const buttonEl =\n",
              "          document.querySelector('#df-2c62d708-36d2-4e08-9074-ea2511a4afd2 button.colab-df-convert');\n",
              "        buttonEl.style.display =\n",
              "          google.colab.kernel.accessAllowed ? 'block' : 'none';\n",
              "\n",
              "        async function convertToInteractive(key) {\n",
              "          const element = document.querySelector('#df-2c62d708-36d2-4e08-9074-ea2511a4afd2');\n",
              "          const dataTable =\n",
              "            await google.colab.kernel.invokeFunction('convertToInteractive',\n",
              "                                                     [key], {});\n",
              "          if (!dataTable) return;\n",
              "\n",
              "          const docLinkHtml = 'Like what you see? Visit the ' +\n",
              "            '<a target=\"_blank\" href=https://colab.research.google.com/notebooks/data_table.ipynb>data table notebook</a>'\n",
              "            + ' to learn more about interactive tables.';\n",
              "          element.innerHTML = '';\n",
              "          dataTable['output_type'] = 'display_data';\n",
              "          await google.colab.output.renderOutput(dataTable, element);\n",
              "          const docLink = document.createElement('div');\n",
              "          docLink.innerHTML = docLinkHtml;\n",
              "          element.appendChild(docLink);\n",
              "        }\n",
              "      </script>\n",
              "    </div>\n",
              "  </div>\n",
              "  "
            ]
          },
          "metadata": {},
          "execution_count": 694
        }
      ]
    },
    {
      "cell_type": "markdown",
      "source": [
        "# Implementing FCMeans"
      ],
      "metadata": {
        "id": "xyCmqHwV1nQg"
      }
    },
    {
      "cell_type": "code",
      "source": [
        "from fcmeans import FCM\n",
        "fcm = FCM(n_clusters = 5)\n",
        "fcm.fit(X)\n",
        "y_pred = fcm.predict(X)"
      ],
      "metadata": {
        "id": "OvT_XH0a1nQg"
      },
      "execution_count": 695,
      "outputs": []
    },
    {
      "cell_type": "code",
      "source": [
        "df = pd.DataFrame(y_pred, columns=['Class'])\n",
        "y_pred = df.replace({y_pred[0]: y[0], y_pred[6]: y[6], y_pred[11]: y[11], y_pred[16]: y[16],y_pred[21]: y[21]}).to_numpy()"
      ],
      "metadata": {
        "id": "av2y7a-m1nQg"
      },
      "execution_count": 696,
      "outputs": []
    },
    {
      "cell_type": "markdown",
      "source": [
        "### Metrics for FCMeans"
      ],
      "metadata": {
        "id": "b4x80DoU1nQg"
      }
    },
    {
      "cell_type": "code",
      "source": [
        "cm = multilabel_confusion_matrix(y, y_pred, labels= range(5))\n",
        "\n",
        "res = []\n",
        "\n",
        "for l in range(5):\n",
        "    x = cm[l]\n",
        "    tn, fp = x[0]\n",
        "    fn, tp = x[1]\n",
        "    sensitivity = tp / (tp + fn)\n",
        "    specificity = tn / (tn + fp)\n",
        "    precision = tp / (tp + fp)\n",
        "    f1 = (2 * precision * sensitivity) / (precision + sensitivity)\n",
        "    res.append([l+1,sensitivity, specificity, f1])\n",
        "\n",
        "performance = pd.DataFrame(res, columns = ['Class','Sensitivity(Recall)','Specificity', 'F1 score'])\n",
        "\n",
        "performance['F1 score'] = performance['F1 score'].fillna(0)\n",
        "performance['Sensitivity(Recall)'] = performance['Sensitivity(Recall)'].fillna(0)\n",
        "performance['Specificity'] = performance['Specificity'].fillna(0)\n",
        "\n",
        "total_accuracy = accuracy_score(y, y_pred)\n",
        "print(\"The total accuracy is\", total_accuracy)\n",
        "performance"
      ],
      "metadata": {
        "id": "sAai-OZC1nQg",
        "outputId": "02e181e6-e47c-4e59-fa80-79a7834e3419",
        "colab": {
          "base_uri": "https://localhost:8080/",
          "height": 224
        }
      },
      "execution_count": 697,
      "outputs": [
        {
          "output_type": "stream",
          "name": "stdout",
          "text": [
            "The total accuracy is 0.88\n"
          ]
        },
        {
          "output_type": "execute_result",
          "data": {
            "text/plain": [
              "   Class  Sensitivity(Recall)  Specificity  F1 score\n",
              "0      1                  0.4         1.00  0.571429\n",
              "1      2                  1.0         1.00  1.000000\n",
              "2      3                  1.0         0.85  0.769231\n",
              "3      4                  1.0         1.00  1.000000\n",
              "4      5                  1.0         1.00  1.000000"
            ],
            "text/html": [
              "\n",
              "  <div id=\"df-ef821293-fc03-4bf3-ad8c-090255f90122\">\n",
              "    <div class=\"colab-df-container\">\n",
              "      <div>\n",
              "<style scoped>\n",
              "    .dataframe tbody tr th:only-of-type {\n",
              "        vertical-align: middle;\n",
              "    }\n",
              "\n",
              "    .dataframe tbody tr th {\n",
              "        vertical-align: top;\n",
              "    }\n",
              "\n",
              "    .dataframe thead th {\n",
              "        text-align: right;\n",
              "    }\n",
              "</style>\n",
              "<table border=\"1\" class=\"dataframe\">\n",
              "  <thead>\n",
              "    <tr style=\"text-align: right;\">\n",
              "      <th></th>\n",
              "      <th>Class</th>\n",
              "      <th>Sensitivity(Recall)</th>\n",
              "      <th>Specificity</th>\n",
              "      <th>F1 score</th>\n",
              "    </tr>\n",
              "  </thead>\n",
              "  <tbody>\n",
              "    <tr>\n",
              "      <th>0</th>\n",
              "      <td>1</td>\n",
              "      <td>0.4</td>\n",
              "      <td>1.00</td>\n",
              "      <td>0.571429</td>\n",
              "    </tr>\n",
              "    <tr>\n",
              "      <th>1</th>\n",
              "      <td>2</td>\n",
              "      <td>1.0</td>\n",
              "      <td>1.00</td>\n",
              "      <td>1.000000</td>\n",
              "    </tr>\n",
              "    <tr>\n",
              "      <th>2</th>\n",
              "      <td>3</td>\n",
              "      <td>1.0</td>\n",
              "      <td>0.85</td>\n",
              "      <td>0.769231</td>\n",
              "    </tr>\n",
              "    <tr>\n",
              "      <th>3</th>\n",
              "      <td>4</td>\n",
              "      <td>1.0</td>\n",
              "      <td>1.00</td>\n",
              "      <td>1.000000</td>\n",
              "    </tr>\n",
              "    <tr>\n",
              "      <th>4</th>\n",
              "      <td>5</td>\n",
              "      <td>1.0</td>\n",
              "      <td>1.00</td>\n",
              "      <td>1.000000</td>\n",
              "    </tr>\n",
              "  </tbody>\n",
              "</table>\n",
              "</div>\n",
              "      <button class=\"colab-df-convert\" onclick=\"convertToInteractive('df-ef821293-fc03-4bf3-ad8c-090255f90122')\"\n",
              "              title=\"Convert this dataframe to an interactive table.\"\n",
              "              style=\"display:none;\">\n",
              "        \n",
              "  <svg xmlns=\"http://www.w3.org/2000/svg\" height=\"24px\"viewBox=\"0 0 24 24\"\n",
              "       width=\"24px\">\n",
              "    <path d=\"M0 0h24v24H0V0z\" fill=\"none\"/>\n",
              "    <path d=\"M18.56 5.44l.94 2.06.94-2.06 2.06-.94-2.06-.94-.94-2.06-.94 2.06-2.06.94zm-11 1L8.5 8.5l.94-2.06 2.06-.94-2.06-.94L8.5 2.5l-.94 2.06-2.06.94zm10 10l.94 2.06.94-2.06 2.06-.94-2.06-.94-.94-2.06-.94 2.06-2.06.94z\"/><path d=\"M17.41 7.96l-1.37-1.37c-.4-.4-.92-.59-1.43-.59-.52 0-1.04.2-1.43.59L10.3 9.45l-7.72 7.72c-.78.78-.78 2.05 0 2.83L4 21.41c.39.39.9.59 1.41.59.51 0 1.02-.2 1.41-.59l7.78-7.78 2.81-2.81c.8-.78.8-2.07 0-2.86zM5.41 20L4 18.59l7.72-7.72 1.47 1.35L5.41 20z\"/>\n",
              "  </svg>\n",
              "      </button>\n",
              "      \n",
              "  <style>\n",
              "    .colab-df-container {\n",
              "      display:flex;\n",
              "      flex-wrap:wrap;\n",
              "      gap: 12px;\n",
              "    }\n",
              "\n",
              "    .colab-df-convert {\n",
              "      background-color: #E8F0FE;\n",
              "      border: none;\n",
              "      border-radius: 50%;\n",
              "      cursor: pointer;\n",
              "      display: none;\n",
              "      fill: #1967D2;\n",
              "      height: 32px;\n",
              "      padding: 0 0 0 0;\n",
              "      width: 32px;\n",
              "    }\n",
              "\n",
              "    .colab-df-convert:hover {\n",
              "      background-color: #E2EBFA;\n",
              "      box-shadow: 0px 1px 2px rgba(60, 64, 67, 0.3), 0px 1px 3px 1px rgba(60, 64, 67, 0.15);\n",
              "      fill: #174EA6;\n",
              "    }\n",
              "\n",
              "    [theme=dark] .colab-df-convert {\n",
              "      background-color: #3B4455;\n",
              "      fill: #D2E3FC;\n",
              "    }\n",
              "\n",
              "    [theme=dark] .colab-df-convert:hover {\n",
              "      background-color: #434B5C;\n",
              "      box-shadow: 0px 1px 3px 1px rgba(0, 0, 0, 0.15);\n",
              "      filter: drop-shadow(0px 1px 2px rgba(0, 0, 0, 0.3));\n",
              "      fill: #FFFFFF;\n",
              "    }\n",
              "  </style>\n",
              "\n",
              "      <script>\n",
              "        const buttonEl =\n",
              "          document.querySelector('#df-ef821293-fc03-4bf3-ad8c-090255f90122 button.colab-df-convert');\n",
              "        buttonEl.style.display =\n",
              "          google.colab.kernel.accessAllowed ? 'block' : 'none';\n",
              "\n",
              "        async function convertToInteractive(key) {\n",
              "          const element = document.querySelector('#df-ef821293-fc03-4bf3-ad8c-090255f90122');\n",
              "          const dataTable =\n",
              "            await google.colab.kernel.invokeFunction('convertToInteractive',\n",
              "                                                     [key], {});\n",
              "          if (!dataTable) return;\n",
              "\n",
              "          const docLinkHtml = 'Like what you see? Visit the ' +\n",
              "            '<a target=\"_blank\" href=https://colab.research.google.com/notebooks/data_table.ipynb>data table notebook</a>'\n",
              "            + ' to learn more about interactive tables.';\n",
              "          element.innerHTML = '';\n",
              "          dataTable['output_type'] = 'display_data';\n",
              "          await google.colab.output.renderOutput(dataTable, element);\n",
              "          const docLink = document.createElement('div');\n",
              "          docLink.innerHTML = docLinkHtml;\n",
              "          element.appendChild(docLink);\n",
              "        }\n",
              "      </script>\n",
              "    </div>\n",
              "  </div>\n",
              "  "
            ]
          },
          "metadata": {},
          "execution_count": 697
        }
      ]
    },
    {
      "cell_type": "markdown",
      "source": [
        "# Part 2: Combining all dataset"
      ],
      "metadata": {
        "id": "yyeOqNaPpZU8"
      }
    },
    {
      "cell_type": "code",
      "source": [
        "# We have datasets in df_3, df_6, df_7, df_10 and df_12\n",
        "df_3.iloc[:, : -1].columns"
      ],
      "metadata": {
        "id": "bwAkzV_cqwmH",
        "outputId": "c6cec813-b1c3-42c5-f6a5-78d5ae21f82d",
        "colab": {
          "base_uri": "https://localhost:8080/"
        }
      },
      "execution_count": 698,
      "outputs": [
        {
          "output_type": "execute_result",
          "data": {
            "text/plain": [
              "Index(['0.799_0.201', '0.799_0.201.1', '0.700_0.300', '0.700_0.300.1',\n",
              "       '0.600_0.400', '0.600_0.400.1', '0.501_0.499', '0.501_0.499.1',\n",
              "       '0.400_0.600', '0.400_0.600.1'],\n",
              "      dtype='object')"
            ]
          },
          "metadata": {},
          "execution_count": 698
        }
      ]
    },
    {
      "cell_type": "code",
      "source": [
        "df = pd.concat([df_3.iloc[:, : -1], df_6.iloc[:, : -1], df_7.iloc[:, : -1], df_10.iloc[:, : -1], df_12], axis = 1)"
      ],
      "metadata": {
        "id": "PDdKr6iusuMG"
      },
      "execution_count": 699,
      "outputs": []
    },
    {
      "cell_type": "code",
      "source": [
        "df.shape"
      ],
      "metadata": {
        "id": "Ae1I-j2FtLAu",
        "outputId": "bf9dc631-c49e-44be-8d7b-5480643a3813",
        "colab": {
          "base_uri": "https://localhost:8080/"
        }
      },
      "execution_count": 700,
      "outputs": [
        {
          "output_type": "execute_result",
          "data": {
            "text/plain": [
              "(25, 51)"
            ]
          },
          "metadata": {},
          "execution_count": 700
        }
      ]
    },
    {
      "cell_type": "code",
      "source": [
        "# Outputting the dataframe to run in matlab\n",
        "from pathlib import Path  \n",
        "filepath = Path('./out.csv')  \n",
        "filepath.parent.mkdir(parents=True, exist_ok=True)  \n",
        "df.to_csv(filepath)  "
      ],
      "metadata": {
        "id": "2_BfjOjjtLir"
      },
      "execution_count": 701,
      "outputs": []
    },
    {
      "cell_type": "code",
      "source": [
        "# Separating X and training value\n",
        "X = df.iloc[:, :-1]\n",
        "y = df['Class']"
      ],
      "metadata": {
        "id": "LEHBElPvFs3j"
      },
      "execution_count": 702,
      "outputs": []
    },
    {
      "cell_type": "markdown",
      "source": [
        "# Implementing the Minimum Redundancy Maximum Relevance on Matlab, we set the indexes variable to the rank after implementing MRMR"
      ],
      "metadata": {
        "id": "OHjW4AyQCrrG"
      }
    },
    {
      "cell_type": "code",
      "source": [
        "mrmr_indexes = [4,49,41,30,45,2,23,20,1,34,43,46,14,32,42,\n",
        "          29,12,24,36,21,47,48,22,\n",
        "           6, 5,28,33,50,31,15,27,3,35,44,11,13,18,19,\n",
        "           9,17,39,16,8,40,10,25,7,37,38,26]\n",
        "# It is 1-based indexing"
      ],
      "metadata": {
        "id": "dwwunO6AvAQu"
      },
      "execution_count": 703,
      "outputs": []
    },
    {
      "cell_type": "code",
      "source": [
        "# Converting to 0 based indexing\n",
        "mrmr_indexes[:] = [index - 1 for index in mrmr_indexes]"
      ],
      "metadata": {
        "id": "0FNpcLCwGj6H"
      },
      "execution_count": 704,
      "outputs": []
    },
    {
      "cell_type": "code",
      "source": [
        "# Model for evaluating a classifier\n",
        "def evaluate_classififer(classifier, X, y):\n",
        "  X_train, X_test, y_train, y_test = train_test_split(X, y, test_size=0.20, random_state = 10, stratify = y)\n",
        "  classifier.fit(X_train, y_train)\n",
        "  y_pred = classifier.predict(X_test)\n",
        "  return accuracy_score(y_test, y_pred)"
      ],
      "metadata": {
        "id": "_PTY1yXuG58i"
      },
      "execution_count": 705,
      "outputs": []
    },
    {
      "cell_type": "code",
      "source": [
        "# Evaluate Kmeans classifier\n",
        "def evaluate_kmeans(X,y):\n",
        "  y = y.to_numpy()\n",
        "  X_train, X_test, y_train, y_test = train_test_split(X, y, test_size=0.20, random_state = 10, stratify = y)\n",
        "  kmeans = KMeans(n_clusters = 5, random_state=0).fit(X_train)\n",
        "  y_pred_train = kmeans.predict(X_train)\n",
        "  y_pred = kmeans.predict(X_test)\n",
        "  df = pd.DataFrame(y_pred, columns=['Class'])\n",
        "\n",
        "  l = y_pred_train.tolist()\n",
        "  m = y_train.tolist()\n",
        "  \n",
        "  index_list = list()\n",
        "  \n",
        "  # For all classes\n",
        "  for x in range(5):\n",
        "    # Getting Indexes\n",
        "    index = m.index(x)\n",
        "    index_list.append(index)\n",
        "  y_pred = df.replace({0: l[index_list[0]], 1: l[index_list[1]], 2: l[index_list[2]], 3: l[index_list[3]], 4: l[index_list[4]]})\n",
        "  # print(\"accuracy for kmeans\", accuracy_score(y_test, y_pred))\n",
        "  return accuracy_score(y_test, y_pred)"
      ],
      "metadata": {
        "id": "ueQU4GSiQr20"
      },
      "execution_count": 706,
      "outputs": []
    },
    {
      "cell_type": "code",
      "source": [
        "# Get featurse from indexes\n",
        "def get_features(all_features, indexes):\n",
        "  df = pd.DataFrame()\n",
        "  for x in indexes:\n",
        "    df = pd.concat([df, all_features.iloc[:,x]], axis = 1)\n",
        "  return df"
      ],
      "metadata": {
        "id": "A-5VY_N6MGnH"
      },
      "execution_count": 707,
      "outputs": []
    },
    {
      "cell_type": "code",
      "source": [
        "# Evaluate FCMeans Classifier\n",
        "def evaluate_fcmmeans(X,y):\n",
        "  # print(X)\n",
        "  y = y.to_numpy()\n",
        "  X = X.to_numpy()\n",
        "  X_train, X_test, y_train, y_test = train_test_split(X, y, test_size=0.20, random_state = 10, stratify = y)\n",
        "  fcm = FCM(n_clusters = 5)\n",
        "  fcm.fit(X_train)\n",
        "  y_pred_train = fcm.predict(X_train)\n",
        "  y_pred = fcm.predict(X_test)\n",
        "  df = pd.DataFrame(y_pred, columns=['Class'])\n",
        "\n",
        "  l = y_pred_train.tolist()\n",
        "  m = y_train.tolist()\n",
        "  \n",
        "  index_list = list()\n",
        "  \n",
        "  # For all classes\n",
        "  for x in range(5):\n",
        "    # Getting Indexes\n",
        "    index = m.index(x)\n",
        "    index_list.append(index)\n",
        "  y_pred = df.replace({0: l[index_list[0]], 1: l[index_list[1]], 2: l[index_list[2]], 3: l[index_list[3]], 4: l[index_list[4]]})\n",
        "  return accuracy_score(y_test, y_pred)"
      ],
      "metadata": {
        "id": "i5g3sMKkQx4e"
      },
      "execution_count": 708,
      "outputs": []
    },
    {
      "cell_type": "markdown",
      "source": [
        "## Implementing feature selection with MRMR\n",
        "\n"
      ],
      "metadata": {
        "id": "7iR4LhkyFURt"
      }
    },
    {
      "cell_type": "code",
      "source": [
        "MLP_scores = list()\n",
        "SVC_scores = list()\n",
        "Kmeans_scores = list()\n",
        "FCMeans_scores = list()\n",
        "\n",
        "# Looping through number of features\n",
        "for n_feature in range(1, X.shape[1]):\n",
        "  # Getting features indexes\n",
        "  features_indexes = mrmr_indexes[:n_feature]\n",
        "  # Getting feature values\n",
        "  features = get_features(X, features_indexes)\n",
        "\n",
        "  # MLP\n",
        "  mlp_acc = evaluate_classififer(MLPClassifier(), features, y)\n",
        "  MLP_scores.append(mlp_acc)\n",
        "\n",
        "  # SVC\n",
        "  svc_acc = evaluate_classififer(SVC(), features, y)\n",
        "  SVC_scores.append(svc_acc)\n",
        "\n",
        "  # K Means\n",
        "  kmeans_acc = evaluate_kmeans(features, y)\n",
        "  Kmeans_scores.append(kmeans_acc)\n",
        "\n",
        "  # FCMeans\n",
        "  FCmeans_acc = evaluate_fcmmeans(features, y)\n",
        "  FCMeans_scores.append(FCmeans_acc)"
      ],
      "metadata": {
        "id": "oroUaEjcFTFC"
      },
      "execution_count": 709,
      "outputs": []
    },
    {
      "cell_type": "markdown",
      "source": [
        "## Plotting the MLP accuracy graph"
      ],
      "metadata": {
        "id": "57GbcYUJQAbx"
      }
    },
    {
      "cell_type": "code",
      "source": [
        "p = sns.lineplot(x=range(1,50), y = MLP_scores)\n",
        "p.set_xlabel(\"Number of Features\")\n",
        "p.set_ylabel(\"Accuracy\")"
      ],
      "metadata": {
        "id": "AHUvwknQO8rz",
        "outputId": "011cfecc-debd-4bd5-fe2c-0fb0cae3f81a",
        "colab": {
          "base_uri": "https://localhost:8080/",
          "height": 296
        }
      },
      "execution_count": 710,
      "outputs": [
        {
          "output_type": "execute_result",
          "data": {
            "text/plain": [
              "Text(0, 0.5, 'Accuracy')"
            ]
          },
          "metadata": {},
          "execution_count": 710
        },
        {
          "output_type": "display_data",
          "data": {
            "text/plain": [
              "<Figure size 432x288 with 1 Axes>"
            ],
            "image/png": "[encoded data removed]"
          },
          "metadata": {
            "needs_background": "light"
          }
        }
      ]
    },
    {
      "cell_type": "markdown",
      "source": [
        "## Plotting the SVM accuracy graph"
      ],
      "metadata": {
        "id": "hK_7PyrCQDtU"
      }
    },
    {
      "cell_type": "code",
      "source": [
        "p = sns.lineplot(x=range(1,50), y=SVC_scores)\n",
        "p.set_xlabel(\"Number of Features\")\n",
        "p.set_ylabel(\"Accuracy\")"
      ],
      "metadata": {
        "id": "231dIgqrQGgY",
        "outputId": "7ee1821f-ef9a-4853-b84d-bf27640742e6",
        "colab": {
          "base_uri": "https://localhost:8080/",
          "height": 296
        }
      },
      "execution_count": 711,
      "outputs": [
        {
          "output_type": "execute_result",
          "data": {
            "text/plain": [
              "Text(0, 0.5, 'Accuracy')"
            ]
          },
          "metadata": {},
          "execution_count": 711
        },
        {
          "output_type": "display_data",
          "data": {
            "text/plain": [
              "<Figure size 432x288 with 1 Axes>"
            ],
            "image/png": "[encoded data removed]"
          },
          "metadata": {
            "needs_background": "light"
          }
        }
      ]
    },
    {
      "cell_type": "markdown",
      "source": [
        "## Plotting the Kmeans accuracy graph"
      ],
      "metadata": {
        "id": "77fzfE56bEoz"
      }
    },
    {
      "cell_type": "code",
      "source": [
        "p = sns.lineplot(x=range(1,50), y = Kmeans_scores)\n",
        "p.set_xlabel(\"Number of Features\")\n",
        "p.set_ylabel(\"Accuracy\")"
      ],
      "metadata": {
        "id": "RJR5ZYSPbKaA",
        "outputId": "c4a8e913-d191-4061-8cfb-ccf1b8398e36",
        "colab": {
          "base_uri": "https://localhost:8080/",
          "height": 296
        }
      },
      "execution_count": 712,
      "outputs": [
        {
          "output_type": "execute_result",
          "data": {
            "text/plain": [
              "Text(0, 0.5, 'Accuracy')"
            ]
          },
          "metadata": {},
          "execution_count": 712
        },
        {
          "output_type": "display_data",
          "data": {
            "text/plain": [
              "<Figure size 432x288 with 1 Axes>"
            ],
            "image/png": "[encoded data removed]"
          },
          "metadata": {
            "needs_background": "light"
          }
        }
      ]
    },
    {
      "cell_type": "markdown",
      "source": [
        "## Plotting the FCMeans accuracy graph"
      ],
      "metadata": {
        "id": "YPEPB-MAbHtl"
      }
    },
    {
      "cell_type": "code",
      "source": [
        "p = sns.lineplot(x=range(1,50), y = FCMeans_scores)\n",
        "p.set_xlabel(\"Number of Features\")\n",
        "p.set_ylabel(\"Accuracy\")"
      ],
      "metadata": {
        "id": "EZ1z_v1bbOX8",
        "outputId": "677c9e16-a942-4cd8-9572-6db66ad170fd",
        "colab": {
          "base_uri": "https://localhost:8080/",
          "height": 296
        }
      },
      "execution_count": 713,
      "outputs": [
        {
          "output_type": "execute_result",
          "data": {
            "text/plain": [
              "Text(0, 0.5, 'Accuracy')"
            ]
          },
          "metadata": {},
          "execution_count": 713
        },
        {
          "output_type": "display_data",
          "data": {
            "text/plain": [
              "<Figure size 432x288 with 1 Axes>"
            ],
            "image/png": "[encoded data removed]"
          },
          "metadata": {
            "needs_background": "light"
          }
        }
      ]
    },
    {
      "cell_type": "markdown",
      "source": [
        "# Implementing Relief Feature Selection"
      ],
      "metadata": {
        "id": "KmcfqvUrDwnX"
      }
    },
    {
      "cell_type": "code",
      "source": [
        "from ReliefF import ReliefF\n",
        "fs = ReliefF(n_neighbors = 5)\n",
        "# X_train = fs.fit_transform(df.to_numpy(), y)\n",
        "\n",
        "MLP_scores = list()\n",
        "SVC_scores = list()\n",
        "Kmeans_scores = list()\n",
        "FCMeans_scores = list()\n",
        "\n",
        "# Looping through number of features\n",
        "for n_feature in range(1, X.shape[1]):\n",
        "  features = fs.fit_transform(df.to_numpy(), y)\n",
        "\n",
        "  # MLP\n",
        "  mlp_acc = evaluate_classififer(MLPClassifier(), features, y)\n",
        "  MLP_scores.append(mlp_acc)\n",
        "\n",
        "  # SVC\n",
        "  svc_acc = evaluate_classififer(SVC(), features, y)\n",
        "  SVC_scores.append(svc_acc)\n",
        "\n",
        "  # K Means\n",
        "  kmeans_acc = evaluate_kmeans(features, y)\n",
        "  Kmeans_scores.append(kmeans_acc)\n",
        "\n",
        "  # FCMeans\n",
        "  FCmeans_acc = evaluate_fcmmeans(pd.DataFrame(features), y)\n",
        "  FCMeans_scores.append(FCmeans_acc)"
      ],
      "metadata": {
        "id": "U4NLHyUJDe50"
      },
      "execution_count": 714,
      "outputs": []
    },
    {
      "cell_type": "markdown",
      "source": [
        "## Plotting the MLP accuracy graph"
      ],
      "metadata": {
        "id": "LuwrIazugY9f"
      }
    },
    {
      "cell_type": "code",
      "source": [
        "p = sns.lineplot(x=range(1,50), y = MLP_scores)\n",
        "p.set_xlabel(\"Number of Features\")\n",
        "p.set_ylabel(\"Accuracy\")"
      ],
      "metadata": {
        "id": "mRteT2c4gjnz",
        "outputId": "f0fbc712-8248-4e88-af0d-17ca245e2be0",
        "colab": {
          "base_uri": "https://localhost:8080/",
          "height": 296
        }
      },
      "execution_count": 715,
      "outputs": [
        {
          "output_type": "execute_result",
          "data": {
            "text/plain": [
              "Text(0, 0.5, 'Accuracy')"
            ]
          },
          "metadata": {},
          "execution_count": 715
        },
        {
          "output_type": "display_data",
          "data": {
            "text/plain": [
              "<Figure size 432x288 with 1 Axes>"
            ],
            "image/png": "[encoded data removed]"
          },
          "metadata": {
            "needs_background": "light"
          }
        }
      ]
    },
    {
      "cell_type": "markdown",
      "source": [
        "## Plotting the SVM accuracy graph"
      ],
      "metadata": {
        "id": "3-zXegtNgeKf"
      }
    },
    {
      "cell_type": "code",
      "source": [
        "p = sns.lineplot(x=range(1,50), y = SVC_scores)\n",
        "p.set_xlabel(\"Number of Features\")\n",
        "p.set_ylabel(\"Accuracy\")"
      ],
      "metadata": {
        "id": "W1EipzV-gkUm",
        "outputId": "e7a0f2e0-135e-4772-85de-9236b3b08837",
        "colab": {
          "base_uri": "https://localhost:8080/",
          "height": 296
        }
      },
      "execution_count": 716,
      "outputs": [
        {
          "output_type": "execute_result",
          "data": {
            "text/plain": [
              "Text(0, 0.5, 'Accuracy')"
            ]
          },
          "metadata": {},
          "execution_count": 716
        },
        {
          "output_type": "display_data",
          "data": {
            "text/plain": [
              "<Figure size 432x288 with 1 Axes>"
            ],
            "image/png": "[encoded data removed]"
          },
          "metadata": {
            "needs_background": "light"
          }
        }
      ]
    },
    {
      "cell_type": "markdown",
      "source": [
        "## Plotting the Kmeans accuracy graph"
      ],
      "metadata": {
        "id": "YKfHalyvgf5f"
      }
    },
    {
      "cell_type": "code",
      "source": [
        "p = sns.lineplot(x=range(1,50), y = Kmeans_scores)\n",
        "p.set_xlabel(\"Number of Features\")\n",
        "p.set_ylabel(\"Accuracy\")"
      ],
      "metadata": {
        "id": "5LVn32z8gsAr",
        "outputId": "bc4ef1e8-02d6-4419-9c07-686a839d23fc",
        "colab": {
          "base_uri": "https://localhost:8080/",
          "height": 296
        }
      },
      "execution_count": 717,
      "outputs": [
        {
          "output_type": "execute_result",
          "data": {
            "text/plain": [
              "Text(0, 0.5, 'Accuracy')"
            ]
          },
          "metadata": {},
          "execution_count": 717
        },
        {
          "output_type": "display_data",
          "data": {
            "text/plain": [
              "<Figure size 432x288 with 1 Axes>"
            ],
            "image/png": "[encoded data removed]"
          },
          "metadata": {
            "needs_background": "light"
          }
        }
      ]
    },
    {
      "cell_type": "markdown",
      "source": [
        "## Plotting the FCMeans accuracy graph"
      ],
      "metadata": {
        "id": "bZbj9KzvghOL"
      }
    },
    {
      "cell_type": "code",
      "source": [
        "p = sns.lineplot(x=range(1,50), y = FCMeans_scores)\n",
        "p.set_xlabel(\"Number of Features\")\n",
        "p.set_ylabel(\"Accuracy\")"
      ],
      "metadata": {
        "id": "V05ZuFPXEdu9",
        "outputId": "8bd5c980-e8e7-41e4-95c4-b73b86337515",
        "colab": {
          "base_uri": "https://localhost:8080/",
          "height": 296
        }
      },
      "execution_count": 718,
      "outputs": [
        {
          "output_type": "execute_result",
          "data": {
            "text/plain": [
              "Text(0, 0.5, 'Accuracy')"
            ]
          },
          "metadata": {},
          "execution_count": 718
        },
        {
          "output_type": "display_data",
          "data": {
            "text/plain": [
              "<Figure size 432x288 with 1 Axes>"
            ],
            "image/png": "[encoded data removed]"
          },
          "metadata": {
            "needs_background": "light"
          }
        }
      ]
    }
  ]
}