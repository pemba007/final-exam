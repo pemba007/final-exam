{
  "nbformat": 4,
  "nbformat_minor": 0,
  "metadata": {
    "colab": {
      "name": "main.ipynb",
      "provenance": [],
      "authorship_tag": "ABX9TyMHiRHRFAwch5eGz86IzUou",
      "include_colab_link": true
    },
    "kernelspec": {
      "name": "python3",
      "display_name": "Python 3"
    },
    "language_info": {
      "name": "python"
    }
  },
  "cells": [
    {
      "cell_type": "markdown",
      "metadata": {
        "id": "view-in-github",
        "colab_type": "text"
      },
      "source": [
        "<a href=\"https://colab.research.google.com/github/pemba007/final-exam/blob/main/main.ipynb\" target=\"_parent\"><img src=\"https://colab.research.google.com/assets/colab-badge.svg\" alt=\"Open In Colab\"/></a>"
      ]
    },
    {
      "cell_type": "code",
      "source": [
        "# Installing required libraries\n",
        "!pip install fuzzy-c-means\n",
        "!pip install hmmlearn\n",
        "!pip install ReliefF"
      ],
      "metadata": {
        "id": "6kiwbDvJjhsp",
        "colab": {
          "base_uri": "https://localhost:8080/"
        },
        "outputId": "7862a883-664a-4a5d-bfdd-c21220783116"
      },
      "execution_count": 1106,
      "outputs": [
        {
          "output_type": "stream",
          "name": "stdout",
          "text": [
            "Requirement already satisfied: fuzzy-c-means in /usr/local/lib/python3.7/dist-packages (1.6.3)\n",
            "Requirement already satisfied: tabulate<0.9.0,>=0.8.9 in /usr/local/lib/python3.7/dist-packages (from fuzzy-c-means) (0.8.9)\n",
            "Requirement already satisfied: pydantic<2.0.0,>=1.8.2 in /usr/local/lib/python3.7/dist-packages (from fuzzy-c-means) (1.9.0)\n",
            "Requirement already satisfied: typer<0.4.0,>=0.3.2 in /usr/local/lib/python3.7/dist-packages (from fuzzy-c-means) (0.3.2)\n",
            "Requirement already satisfied: numpy<2.0.0,>=1.21.1 in /usr/local/lib/python3.7/dist-packages (from fuzzy-c-means) (1.21.6)\n",
            "Requirement already satisfied: typing-extensions>=3.7.4.3 in /usr/local/lib/python3.7/dist-packages (from pydantic<2.0.0,>=1.8.2->fuzzy-c-means) (4.2.0)\n",
            "Requirement already satisfied: click<7.2.0,>=7.1.1 in /usr/local/lib/python3.7/dist-packages (from typer<0.4.0,>=0.3.2->fuzzy-c-means) (7.1.2)\n",
            "Requirement already satisfied: hmmlearn in /usr/local/lib/python3.7/dist-packages (0.2.7)\n",
            "Requirement already satisfied: numpy>=1.10 in /usr/local/lib/python3.7/dist-packages (from hmmlearn) (1.21.6)\n",
            "Requirement already satisfied: scikit-learn>=0.16 in /usr/local/lib/python3.7/dist-packages (from hmmlearn) (1.0.2)\n",
            "Requirement already satisfied: scipy>=0.19 in /usr/local/lib/python3.7/dist-packages (from hmmlearn) (1.4.1)\n",
            "Requirement already satisfied: threadpoolctl>=2.0.0 in /usr/local/lib/python3.7/dist-packages (from scikit-learn>=0.16->hmmlearn) (3.1.0)\n",
            "Requirement already satisfied: joblib>=0.11 in /usr/local/lib/python3.7/dist-packages (from scikit-learn>=0.16->hmmlearn) (1.1.0)\n",
            "Requirement already satisfied: ReliefF in /usr/local/lib/python3.7/dist-packages (0.1.2)\n",
            "Requirement already satisfied: scipy in /usr/local/lib/python3.7/dist-packages (from ReliefF) (1.4.1)\n",
            "Requirement already satisfied: numpy in /usr/local/lib/python3.7/dist-packages (from ReliefF) (1.21.6)\n",
            "Requirement already satisfied: scikit-learn in /usr/local/lib/python3.7/dist-packages (from ReliefF) (1.0.2)\n",
            "Requirement already satisfied: threadpoolctl>=2.0.0 in /usr/local/lib/python3.7/dist-packages (from scikit-learn->ReliefF) (3.1.0)\n",
            "Requirement already satisfied: joblib>=0.11 in /usr/local/lib/python3.7/dist-packages (from scikit-learn->ReliefF) (1.1.0)\n"
          ]
        }
      ]
    },
    {
      "cell_type": "code",
      "execution_count": 1107,
      "metadata": {
        "id": "BxhosiDlY8dU"
      },
      "outputs": [],
      "source": [
        "# Importing libraries\n",
        "\n",
        "import pandas as pd\n",
        "import numpy as np\n",
        "\n",
        "import matplotlib.pyplot as plt\n",
        "import seaborn as sns"
      ]
    },
    {
      "cell_type": "code",
      "source": [
        "# Ignoring warnings\n",
        "import warnings\n",
        "warnings.filterwarnings(\"ignore\")"
      ],
      "metadata": {
        "id": "kQPC_Ekudyo8"
      },
      "execution_count": 1108,
      "outputs": []
    },
    {
      "cell_type": "code",
      "source": [
        "# Reading all the datasets\n",
        "df_3 = pd.read_csv('QCM3.csv')\n",
        "df_6 = pd.read_csv('QCM6.csv')\n",
        "df_7 = pd.read_csv('QCM7.csv')\n",
        "df_10 = pd.read_csv('QCM10.csv')\n",
        "df_12 = pd.read_csv('QCM12.csv')"
      ],
      "metadata": {
        "id": "ShtbeFsFeQuK"
      },
      "execution_count": 1109,
      "outputs": []
    },
    {
      "cell_type": "code",
      "source": [
        "# Libraries for preprocessing\n",
        "from sklearn.preprocessing import Normalizer\n",
        "\n",
        "# Library for model selection\n",
        "from sklearn.model_selection import train_test_split\n",
        "\n",
        "# Library for MLP, SVM, hmmlearn, K means and FCMeans\n",
        "from sklearn.neural_network import MLPClassifier\n",
        "from sklearn.svm import SVC\n",
        "from hmmlearn.hmm import GaussianHMM\n",
        "from sklearn.cluster import KMeans\n",
        "from fcmeans import FCM\n",
        "\n",
        "# Library for metrics\n",
        "from sklearn.metrics import accuracy_score, multilabel_confusion_matrix"
      ],
      "metadata": {
        "id": "ht5d6EfGgrmc"
      },
      "execution_count": 1110,
      "outputs": []
    },
    {
      "cell_type": "code",
      "source": [
        "# Metrics calculation\n",
        "def metricCalculation(y_test, y_pred):\n",
        "  cm = multilabel_confusion_matrix(y_test, y_pred, labels= range(5))\n",
        "\n",
        "  res = []\n",
        "\n",
        "  for l in range(5):\n",
        "      x = cm[l]\n",
        "      tn, fp = x[0]\n",
        "      fn, tp = x[1]\n",
        "      sensitivity = tp / (tp + fn)\n",
        "      specificity = tn / (tn + fp)\n",
        "      precision = tp / (tp + fp)\n",
        "      f1 = (2 * precision * sensitivity) / (precision + sensitivity)\n",
        "      res.append([l+1,sensitivity, specificity, f1])\n",
        "\n",
        "  performance = pd.DataFrame(res, columns = ['Class','Sensitivity(Recall)','Specificity', 'F1 score'])\n",
        "\n",
        "  performance['F1 score'] = performance['F1 score'].fillna(0)\n",
        "  performance['Sensitivity(Recall)'] = performance['Sensitivity(Recall)'].fillna(0)\n",
        "  performance['Specificity'] = performance['Specificity'].fillna(0)\n",
        "\n",
        "  total_accuracy = accuracy_score(y_test, y_pred)\n",
        "  print(\"The total accuracy is\", total_accuracy)\n",
        "  print(performance)"
      ],
      "metadata": {
        "id": "Yti86zT8uGbm"
      },
      "execution_count": 1111,
      "outputs": []
    },
    {
      "cell_type": "markdown",
      "source": [
        "# Using QCM3 sensor data for classification"
      ],
      "metadata": {
        "id": "_ahFtcQKgkmZ"
      }
    },
    {
      "cell_type": "code",
      "source": [
        "# Separating features and target variable\n",
        "y = df_3['Class']\n",
        "X = df_3.drop(columns = ['Class'])"
      ],
      "metadata": {
        "id": "bapxtNSEf6SH"
      },
      "execution_count": 1112,
      "outputs": []
    },
    {
      "cell_type": "markdown",
      "source": [
        "## Preprocessing"
      ],
      "metadata": {
        "id": "FoX1w8oQhIVL"
      }
    },
    {
      "cell_type": "code",
      "source": [
        "X = Normalizer().fit_transform(X)"
      ],
      "metadata": {
        "id": "wcQEmQhMhFs_"
      },
      "execution_count": 1113,
      "outputs": []
    },
    {
      "cell_type": "code",
      "source": [
        "X_train, X_test, y_train, y_test = train_test_split(X, y, test_size=0.2, stratify = y)"
      ],
      "metadata": {
        "id": "lpRerygahPjY"
      },
      "execution_count": 1114,
      "outputs": []
    },
    {
      "cell_type": "markdown",
      "source": [
        "## Implementing MLP"
      ],
      "metadata": {
        "id": "IzWa5WAJjWjo"
      }
    },
    {
      "cell_type": "code",
      "source": [
        "clf = MLPClassifier()\n",
        "clf.fit(X_train, y_train)\n",
        "y_pred = clf.predict(X_test)"
      ],
      "metadata": {
        "id": "b2P63xVXjYSb"
      },
      "execution_count": 1115,
      "outputs": []
    },
    {
      "cell_type": "markdown",
      "source": [
        "### Metrics for MLP"
      ],
      "metadata": {
        "id": "haywXlkJkOiT"
      }
    },
    {
      "cell_type": "code",
      "source": [
        "cm = multilabel_confusion_matrix(y_test, y_pred, labels= range(5))\n",
        "\n",
        "res = []\n",
        "\n",
        "for l in range(5):\n",
        "    x = cm[l]\n",
        "    tn, fp = x[0]\n",
        "    fn, tp = x[1]\n",
        "    sensitivity = tp / (tp + fn)\n",
        "    specificity = tn / (tn + fp)\n",
        "    precision = tp / (tp + fp)\n",
        "    f1 = (2 * precision * sensitivity) / (precision + sensitivity)\n",
        "    res.append([l+1,sensitivity, specificity, f1])\n",
        "\n",
        "performance = pd.DataFrame(res, columns = ['Class','Sensitivity(Recall)','Specificity', 'F1 score'])\n",
        "\n",
        "performance['F1 score'] = performance['F1 score'].fillna(0)\n",
        "performance['Sensitivity(Recall)'] = performance['Sensitivity(Recall)'].fillna(0)\n",
        "performance['Specificity'] = performance['Specificity'].fillna(0)\n",
        "\n",
        "total_accuracy = accuracy_score(y_test, y_pred)\n",
        "print(\"The total accuracy is\", total_accuracy)\n",
        "performance"
      ],
      "metadata": {
        "colab": {
          "base_uri": "https://localhost:8080/",
          "height": 224
        },
        "id": "Grkss5FvkPmx",
        "outputId": "f1a78037-2260-475d-82cf-f1a64992a748"
      },
      "execution_count": 1116,
      "outputs": [
        {
          "output_type": "stream",
          "name": "stdout",
          "text": [
            "The total accuracy is 1.0\n"
          ]
        },
        {
          "output_type": "execute_result",
          "data": {
            "text/plain": [
              "   Class  Sensitivity(Recall)  Specificity  F1 score\n",
              "0      1                  1.0          1.0       1.0\n",
              "1      2                  1.0          1.0       1.0\n",
              "2      3                  1.0          1.0       1.0\n",
              "3      4                  1.0          1.0       1.0\n",
              "4      5                  1.0          1.0       1.0"
            ],
            "text/html": [
              "\n",
              "  <div id=\"df-1a43cc8e-2982-49dd-8d12-16d57142d1aa\">\n",
              "    <div class=\"colab-df-container\">\n",
              "      <div>\n",
              "<style scoped>\n",
              "    .dataframe tbody tr th:only-of-type {\n",
              "        vertical-align: middle;\n",
              "    }\n",
              "\n",
              "    .dataframe tbody tr th {\n",
              "        vertical-align: top;\n",
              "    }\n",
              "\n",
              "    .dataframe thead th {\n",
              "        text-align: right;\n",
              "    }\n",
              "</style>\n",
              "<table border=\"1\" class=\"dataframe\">\n",
              "  <thead>\n",
              "    <tr style=\"text-align: right;\">\n",
              "      <th></th>\n",
              "      <th>Class</th>\n",
              "      <th>Sensitivity(Recall)</th>\n",
              "      <th>Specificity</th>\n",
              "      <th>F1 score</th>\n",
              "    </tr>\n",
              "  </thead>\n",
              "  <tbody>\n",
              "    <tr>\n",
              "      <th>0</th>\n",
              "      <td>1</td>\n",
              "      <td>1.0</td>\n",
              "      <td>1.0</td>\n",
              "      <td>1.0</td>\n",
              "    </tr>\n",
              "    <tr>\n",
              "      <th>1</th>\n",
              "      <td>2</td>\n",
              "      <td>1.0</td>\n",
              "      <td>1.0</td>\n",
              "      <td>1.0</td>\n",
              "    </tr>\n",
              "    <tr>\n",
              "      <th>2</th>\n",
              "      <td>3</td>\n",
              "      <td>1.0</td>\n",
              "      <td>1.0</td>\n",
              "      <td>1.0</td>\n",
              "    </tr>\n",
              "    <tr>\n",
              "      <th>3</th>\n",
              "      <td>4</td>\n",
              "      <td>1.0</td>\n",
              "      <td>1.0</td>\n",
              "      <td>1.0</td>\n",
              "    </tr>\n",
              "    <tr>\n",
              "      <th>4</th>\n",
              "      <td>5</td>\n",
              "      <td>1.0</td>\n",
              "      <td>1.0</td>\n",
              "      <td>1.0</td>\n",
              "    </tr>\n",
              "  </tbody>\n",
              "</table>\n",
              "</div>\n",
              "      <button class=\"colab-df-convert\" onclick=\"convertToInteractive('df-1a43cc8e-2982-49dd-8d12-16d57142d1aa')\"\n",
              "              title=\"Convert this dataframe to an interactive table.\"\n",
              "              style=\"display:none;\">\n",
              "        \n",
              "  <svg xmlns=\"http://www.w3.org/2000/svg\" height=\"24px\"viewBox=\"0 0 24 24\"\n",
              "       width=\"24px\">\n",
              "    <path d=\"M0 0h24v24H0V0z\" fill=\"none\"/>\n",
              "    <path d=\"M18.56 5.44l.94 2.06.94-2.06 2.06-.94-2.06-.94-.94-2.06-.94 2.06-2.06.94zm-11 1L8.5 8.5l.94-2.06 2.06-.94-2.06-.94L8.5 2.5l-.94 2.06-2.06.94zm10 10l.94 2.06.94-2.06 2.06-.94-2.06-.94-.94-2.06-.94 2.06-2.06.94z\"/><path d=\"M17.41 7.96l-1.37-1.37c-.4-.4-.92-.59-1.43-.59-.52 0-1.04.2-1.43.59L10.3 9.45l-7.72 7.72c-.78.78-.78 2.05 0 2.83L4 21.41c.39.39.9.59 1.41.59.51 0 1.02-.2 1.41-.59l7.78-7.78 2.81-2.81c.8-.78.8-2.07 0-2.86zM5.41 20L4 18.59l7.72-7.72 1.47 1.35L5.41 20z\"/>\n",
              "  </svg>\n",
              "      </button>\n",
              "      \n",
              "  <style>\n",
              "    .colab-df-container {\n",
              "      display:flex;\n",
              "      flex-wrap:wrap;\n",
              "      gap: 12px;\n",
              "    }\n",
              "\n",
              "    .colab-df-convert {\n",
              "      background-color: #E8F0FE;\n",
              "      border: none;\n",
              "      border-radius: 50%;\n",
              "      cursor: pointer;\n",
              "      display: none;\n",
              "      fill: #1967D2;\n",
              "      height: 32px;\n",
              "      padding: 0 0 0 0;\n",
              "      width: 32px;\n",
              "    }\n",
              "\n",
              "    .colab-df-convert:hover {\n",
              "      background-color: #E2EBFA;\n",
              "      box-shadow: 0px 1px 2px rgba(60, 64, 67, 0.3), 0px 1px 3px 1px rgba(60, 64, 67, 0.15);\n",
              "      fill: #174EA6;\n",
              "    }\n",
              "\n",
              "    [theme=dark] .colab-df-convert {\n",
              "      background-color: #3B4455;\n",
              "      fill: #D2E3FC;\n",
              "    }\n",
              "\n",
              "    [theme=dark] .colab-df-convert:hover {\n",
              "      background-color: #434B5C;\n",
              "      box-shadow: 0px 1px 3px 1px rgba(0, 0, 0, 0.15);\n",
              "      filter: drop-shadow(0px 1px 2px rgba(0, 0, 0, 0.3));\n",
              "      fill: #FFFFFF;\n",
              "    }\n",
              "  </style>\n",
              "\n",
              "      <script>\n",
              "        const buttonEl =\n",
              "          document.querySelector('#df-1a43cc8e-2982-49dd-8d12-16d57142d1aa button.colab-df-convert');\n",
              "        buttonEl.style.display =\n",
              "          google.colab.kernel.accessAllowed ? 'block' : 'none';\n",
              "\n",
              "        async function convertToInteractive(key) {\n",
              "          const element = document.querySelector('#df-1a43cc8e-2982-49dd-8d12-16d57142d1aa');\n",
              "          const dataTable =\n",
              "            await google.colab.kernel.invokeFunction('convertToInteractive',\n",
              "                                                     [key], {});\n",
              "          if (!dataTable) return;\n",
              "\n",
              "          const docLinkHtml = 'Like what you see? Visit the ' +\n",
              "            '<a target=\"_blank\" href=https://colab.research.google.com/notebooks/data_table.ipynb>data table notebook</a>'\n",
              "            + ' to learn more about interactive tables.';\n",
              "          element.innerHTML = '';\n",
              "          dataTable['output_type'] = 'display_data';\n",
              "          await google.colab.output.renderOutput(dataTable, element);\n",
              "          const docLink = document.createElement('div');\n",
              "          docLink.innerHTML = docLinkHtml;\n",
              "          element.appendChild(docLink);\n",
              "        }\n",
              "      </script>\n",
              "    </div>\n",
              "  </div>\n",
              "  "
            ]
          },
          "metadata": {},
          "execution_count": 1116
        }
      ]
    },
    {
      "cell_type": "markdown",
      "source": [
        "## Implementing SVC"
      ],
      "metadata": {
        "id": "CDwQwPQ9lIDV"
      }
    },
    {
      "cell_type": "code",
      "source": [
        "clf = SVC()\n",
        "clf.fit(X_train, y_train)\n",
        "y_pred = clf.predict(X_test)"
      ],
      "metadata": {
        "id": "ytTbSIG5k7dD"
      },
      "execution_count": 1117,
      "outputs": []
    },
    {
      "cell_type": "markdown",
      "source": [
        "### Metrics for SVC"
      ],
      "metadata": {
        "id": "y3pZbgXClrp-"
      }
    },
    {
      "cell_type": "code",
      "source": [
        "cm = multilabel_confusion_matrix(y_test, y_pred, labels= range(5))\n",
        "\n",
        "res = []\n",
        "\n",
        "for l in range(5):\n",
        "    x = cm[l]\n",
        "    tn, fp = x[0]\n",
        "    fn, tp = x[1]\n",
        "    sensitivity = tp / (tp + fn)\n",
        "    specificity = tn / (tn + fp)\n",
        "    precision = tp / (tp + fp)\n",
        "    f1 = (2 * precision * sensitivity) / (precision + sensitivity)\n",
        "    res.append([l+1,sensitivity, specificity, f1])\n",
        "\n",
        "performance = pd.DataFrame(res, columns = ['Class','Sensitivity(Recall)','Specificity', 'F1 score'])\n",
        "\n",
        "performance['F1 score'] = performance['F1 score'].fillna(0)\n",
        "performance['Sensitivity(Recall)'] = performance['Sensitivity(Recall)'].fillna(0)\n",
        "performance['Specificity'] = performance['Specificity'].fillna(0)\n",
        "\n",
        "total_accuracy = accuracy_score(y_test, y_pred)\n",
        "print(\"The total accuracy is\", total_accuracy)\n",
        "performance"
      ],
      "metadata": {
        "colab": {
          "base_uri": "https://localhost:8080/",
          "height": 224
        },
        "id": "rLCly3-4lqB-",
        "outputId": "1d91d5af-1a27-4ab1-a2f4-a0376273b0fb"
      },
      "execution_count": 1118,
      "outputs": [
        {
          "output_type": "stream",
          "name": "stdout",
          "text": [
            "The total accuracy is 1.0\n"
          ]
        },
        {
          "output_type": "execute_result",
          "data": {
            "text/plain": [
              "   Class  Sensitivity(Recall)  Specificity  F1 score\n",
              "0      1                  1.0          1.0       1.0\n",
              "1      2                  1.0          1.0       1.0\n",
              "2      3                  1.0          1.0       1.0\n",
              "3      4                  1.0          1.0       1.0\n",
              "4      5                  1.0          1.0       1.0"
            ],
            "text/html": [
              "\n",
              "  <div id=\"df-01bca819-9d0e-4d73-be94-558968332aaa\">\n",
              "    <div class=\"colab-df-container\">\n",
              "      <div>\n",
              "<style scoped>\n",
              "    .dataframe tbody tr th:only-of-type {\n",
              "        vertical-align: middle;\n",
              "    }\n",
              "\n",
              "    .dataframe tbody tr th {\n",
              "        vertical-align: top;\n",
              "    }\n",
              "\n",
              "    .dataframe thead th {\n",
              "        text-align: right;\n",
              "    }\n",
              "</style>\n",
              "<table border=\"1\" class=\"dataframe\">\n",
              "  <thead>\n",
              "    <tr style=\"text-align: right;\">\n",
              "      <th></th>\n",
              "      <th>Class</th>\n",
              "      <th>Sensitivity(Recall)</th>\n",
              "      <th>Specificity</th>\n",
              "      <th>F1 score</th>\n",
              "    </tr>\n",
              "  </thead>\n",
              "  <tbody>\n",
              "    <tr>\n",
              "      <th>0</th>\n",
              "      <td>1</td>\n",
              "      <td>1.0</td>\n",
              "      <td>1.0</td>\n",
              "      <td>1.0</td>\n",
              "    </tr>\n",
              "    <tr>\n",
              "      <th>1</th>\n",
              "      <td>2</td>\n",
              "      <td>1.0</td>\n",
              "      <td>1.0</td>\n",
              "      <td>1.0</td>\n",
              "    </tr>\n",
              "    <tr>\n",
              "      <th>2</th>\n",
              "      <td>3</td>\n",
              "      <td>1.0</td>\n",
              "      <td>1.0</td>\n",
              "      <td>1.0</td>\n",
              "    </tr>\n",
              "    <tr>\n",
              "      <th>3</th>\n",
              "      <td>4</td>\n",
              "      <td>1.0</td>\n",
              "      <td>1.0</td>\n",
              "      <td>1.0</td>\n",
              "    </tr>\n",
              "    <tr>\n",
              "      <th>4</th>\n",
              "      <td>5</td>\n",
              "      <td>1.0</td>\n",
              "      <td>1.0</td>\n",
              "      <td>1.0</td>\n",
              "    </tr>\n",
              "  </tbody>\n",
              "</table>\n",
              "</div>\n",
              "      <button class=\"colab-df-convert\" onclick=\"convertToInteractive('df-01bca819-9d0e-4d73-be94-558968332aaa')\"\n",
              "              title=\"Convert this dataframe to an interactive table.\"\n",
              "              style=\"display:none;\">\n",
              "        \n",
              "  <svg xmlns=\"http://www.w3.org/2000/svg\" height=\"24px\"viewBox=\"0 0 24 24\"\n",
              "       width=\"24px\">\n",
              "    <path d=\"M0 0h24v24H0V0z\" fill=\"none\"/>\n",
              "    <path d=\"M18.56 5.44l.94 2.06.94-2.06 2.06-.94-2.06-.94-.94-2.06-.94 2.06-2.06.94zm-11 1L8.5 8.5l.94-2.06 2.06-.94-2.06-.94L8.5 2.5l-.94 2.06-2.06.94zm10 10l.94 2.06.94-2.06 2.06-.94-2.06-.94-.94-2.06-.94 2.06-2.06.94z\"/><path d=\"M17.41 7.96l-1.37-1.37c-.4-.4-.92-.59-1.43-.59-.52 0-1.04.2-1.43.59L10.3 9.45l-7.72 7.72c-.78.78-.78 2.05 0 2.83L4 21.41c.39.39.9.59 1.41.59.51 0 1.02-.2 1.41-.59l7.78-7.78 2.81-2.81c.8-.78.8-2.07 0-2.86zM5.41 20L4 18.59l7.72-7.72 1.47 1.35L5.41 20z\"/>\n",
              "  </svg>\n",
              "      </button>\n",
              "      \n",
              "  <style>\n",
              "    .colab-df-container {\n",
              "      display:flex;\n",
              "      flex-wrap:wrap;\n",
              "      gap: 12px;\n",
              "    }\n",
              "\n",
              "    .colab-df-convert {\n",
              "      background-color: #E8F0FE;\n",
              "      border: none;\n",
              "      border-radius: 50%;\n",
              "      cursor: pointer;\n",
              "      display: none;\n",
              "      fill: #1967D2;\n",
              "      height: 32px;\n",
              "      padding: 0 0 0 0;\n",
              "      width: 32px;\n",
              "    }\n",
              "\n",
              "    .colab-df-convert:hover {\n",
              "      background-color: #E2EBFA;\n",
              "      box-shadow: 0px 1px 2px rgba(60, 64, 67, 0.3), 0px 1px 3px 1px rgba(60, 64, 67, 0.15);\n",
              "      fill: #174EA6;\n",
              "    }\n",
              "\n",
              "    [theme=dark] .colab-df-convert {\n",
              "      background-color: #3B4455;\n",
              "      fill: #D2E3FC;\n",
              "    }\n",
              "\n",
              "    [theme=dark] .colab-df-convert:hover {\n",
              "      background-color: #434B5C;\n",
              "      box-shadow: 0px 1px 3px 1px rgba(0, 0, 0, 0.15);\n",
              "      filter: drop-shadow(0px 1px 2px rgba(0, 0, 0, 0.3));\n",
              "      fill: #FFFFFF;\n",
              "    }\n",
              "  </style>\n",
              "\n",
              "      <script>\n",
              "        const buttonEl =\n",
              "          document.querySelector('#df-01bca819-9d0e-4d73-be94-558968332aaa button.colab-df-convert');\n",
              "        buttonEl.style.display =\n",
              "          google.colab.kernel.accessAllowed ? 'block' : 'none';\n",
              "\n",
              "        async function convertToInteractive(key) {\n",
              "          const element = document.querySelector('#df-01bca819-9d0e-4d73-be94-558968332aaa');\n",
              "          const dataTable =\n",
              "            await google.colab.kernel.invokeFunction('convertToInteractive',\n",
              "                                                     [key], {});\n",
              "          if (!dataTable) return;\n",
              "\n",
              "          const docLinkHtml = 'Like what you see? Visit the ' +\n",
              "            '<a target=\"_blank\" href=https://colab.research.google.com/notebooks/data_table.ipynb>data table notebook</a>'\n",
              "            + ' to learn more about interactive tables.';\n",
              "          element.innerHTML = '';\n",
              "          dataTable['output_type'] = 'display_data';\n",
              "          await google.colab.output.renderOutput(dataTable, element);\n",
              "          const docLink = document.createElement('div');\n",
              "          docLink.innerHTML = docLinkHtml;\n",
              "          element.appendChild(docLink);\n",
              "        }\n",
              "      </script>\n",
              "    </div>\n",
              "  </div>\n",
              "  "
            ]
          },
          "metadata": {},
          "execution_count": 1118
        }
      ]
    },
    {
      "cell_type": "markdown",
      "source": [
        "# hmm remain"
      ],
      "metadata": {
        "id": "lUUPjUBVmSu0"
      }
    },
    {
      "cell_type": "markdown",
      "source": [
        "# Implementing clustering algorithms"
      ],
      "metadata": {
        "id": "KgheqY1pmXtm"
      }
    },
    {
      "cell_type": "code",
      "source": [
        "y = y.to_numpy()"
      ],
      "metadata": {
        "id": "pfCrst8jpMcW"
      },
      "execution_count": 1119,
      "outputs": []
    },
    {
      "cell_type": "markdown",
      "source": [
        "# Implementing K means"
      ],
      "metadata": {
        "id": "vuVDuPgHmU8F"
      }
    },
    {
      "cell_type": "code",
      "source": [
        "kmeans = KMeans(n_clusters = 5, random_state=0).fit(X)\n",
        "y_pred = kmeans.predict(X)"
      ],
      "metadata": {
        "id": "jgZFCduylt-U"
      },
      "execution_count": 1120,
      "outputs": []
    },
    {
      "cell_type": "code",
      "source": [
        "df = pd.DataFrame(y_pred, columns=['Class'])\n",
        "y_pred = df.replace({y_pred[0]: y[0], y_pred[6]: y[6], y_pred[11]: y[11], y_pred[16]: y[16],y_pred[21]: y[21]}).to_numpy()"
      ],
      "metadata": {
        "id": "be8zrgykw5IO"
      },
      "execution_count": 1121,
      "outputs": []
    },
    {
      "cell_type": "markdown",
      "source": [
        "### Metrics for KMeans"
      ],
      "metadata": {
        "id": "eekP9UGKyyJW"
      }
    },
    {
      "cell_type": "code",
      "source": [
        "cm = multilabel_confusion_matrix(y, y_pred, labels= range(5))\n",
        "\n",
        "res = []\n",
        "\n",
        "for l in range(5):\n",
        "    x = cm[l]\n",
        "    tn, fp = x[0]\n",
        "    fn, tp = x[1]\n",
        "    sensitivity = tp / (tp + fn)\n",
        "    specificity = tn / (tn + fp)\n",
        "    precision = tp / (tp + fp)\n",
        "    f1 = (2 * precision * sensitivity) / (precision + sensitivity)\n",
        "    res.append([l+1,sensitivity, specificity, f1])\n",
        "\n",
        "performance = pd.DataFrame(res, columns = ['Class','Sensitivity(Recall)','Specificity', 'F1 score'])\n",
        "\n",
        "performance['F1 score'] = performance['F1 score'].fillna(0)\n",
        "performance['Sensitivity(Recall)'] = performance['Sensitivity(Recall)'].fillna(0)\n",
        "performance['Specificity'] = performance['Specificity'].fillna(0)\n",
        "\n",
        "total_accuracy = accuracy_score(y, y_pred)\n",
        "print(\"The total accuracy is\", total_accuracy)\n",
        "performance"
      ],
      "metadata": {
        "colab": {
          "base_uri": "https://localhost:8080/",
          "height": 224
        },
        "id": "kCE0gpFEp_OD",
        "outputId": "98a95fc8-dbbd-40dc-df60-9b18b01d7f48"
      },
      "execution_count": 1122,
      "outputs": [
        {
          "output_type": "stream",
          "name": "stdout",
          "text": [
            "The total accuracy is 1.0\n"
          ]
        },
        {
          "output_type": "execute_result",
          "data": {
            "text/plain": [
              "   Class  Sensitivity(Recall)  Specificity  F1 score\n",
              "0      1                  1.0          1.0       1.0\n",
              "1      2                  1.0          1.0       1.0\n",
              "2      3                  1.0          1.0       1.0\n",
              "3      4                  1.0          1.0       1.0\n",
              "4      5                  1.0          1.0       1.0"
            ],
            "text/html": [
              "\n",
              "  <div id=\"df-7e10b6af-def4-4a2e-a187-93a02d8573cf\">\n",
              "    <div class=\"colab-df-container\">\n",
              "      <div>\n",
              "<style scoped>\n",
              "    .dataframe tbody tr th:only-of-type {\n",
              "        vertical-align: middle;\n",
              "    }\n",
              "\n",
              "    .dataframe tbody tr th {\n",
              "        vertical-align: top;\n",
              "    }\n",
              "\n",
              "    .dataframe thead th {\n",
              "        text-align: right;\n",
              "    }\n",
              "</style>\n",
              "<table border=\"1\" class=\"dataframe\">\n",
              "  <thead>\n",
              "    <tr style=\"text-align: right;\">\n",
              "      <th></th>\n",
              "      <th>Class</th>\n",
              "      <th>Sensitivity(Recall)</th>\n",
              "      <th>Specificity</th>\n",
              "      <th>F1 score</th>\n",
              "    </tr>\n",
              "  </thead>\n",
              "  <tbody>\n",
              "    <tr>\n",
              "      <th>0</th>\n",
              "      <td>1</td>\n",
              "      <td>1.0</td>\n",
              "      <td>1.0</td>\n",
              "      <td>1.0</td>\n",
              "    </tr>\n",
              "    <tr>\n",
              "      <th>1</th>\n",
              "      <td>2</td>\n",
              "      <td>1.0</td>\n",
              "      <td>1.0</td>\n",
              "      <td>1.0</td>\n",
              "    </tr>\n",
              "    <tr>\n",
              "      <th>2</th>\n",
              "      <td>3</td>\n",
              "      <td>1.0</td>\n",
              "      <td>1.0</td>\n",
              "      <td>1.0</td>\n",
              "    </tr>\n",
              "    <tr>\n",
              "      <th>3</th>\n",
              "      <td>4</td>\n",
              "      <td>1.0</td>\n",
              "      <td>1.0</td>\n",
              "      <td>1.0</td>\n",
              "    </tr>\n",
              "    <tr>\n",
              "      <th>4</th>\n",
              "      <td>5</td>\n",
              "      <td>1.0</td>\n",
              "      <td>1.0</td>\n",
              "      <td>1.0</td>\n",
              "    </tr>\n",
              "  </tbody>\n",
              "</table>\n",
              "</div>\n",
              "      <button class=\"colab-df-convert\" onclick=\"convertToInteractive('df-7e10b6af-def4-4a2e-a187-93a02d8573cf')\"\n",
              "              title=\"Convert this dataframe to an interactive table.\"\n",
              "              style=\"display:none;\">\n",
              "        \n",
              "  <svg xmlns=\"http://www.w3.org/2000/svg\" height=\"24px\"viewBox=\"0 0 24 24\"\n",
              "       width=\"24px\">\n",
              "    <path d=\"M0 0h24v24H0V0z\" fill=\"none\"/>\n",
              "    <path d=\"M18.56 5.44l.94 2.06.94-2.06 2.06-.94-2.06-.94-.94-2.06-.94 2.06-2.06.94zm-11 1L8.5 8.5l.94-2.06 2.06-.94-2.06-.94L8.5 2.5l-.94 2.06-2.06.94zm10 10l.94 2.06.94-2.06 2.06-.94-2.06-.94-.94-2.06-.94 2.06-2.06.94z\"/><path d=\"M17.41 7.96l-1.37-1.37c-.4-.4-.92-.59-1.43-.59-.52 0-1.04.2-1.43.59L10.3 9.45l-7.72 7.72c-.78.78-.78 2.05 0 2.83L4 21.41c.39.39.9.59 1.41.59.51 0 1.02-.2 1.41-.59l7.78-7.78 2.81-2.81c.8-.78.8-2.07 0-2.86zM5.41 20L4 18.59l7.72-7.72 1.47 1.35L5.41 20z\"/>\n",
              "  </svg>\n",
              "      </button>\n",
              "      \n",
              "  <style>\n",
              "    .colab-df-container {\n",
              "      display:flex;\n",
              "      flex-wrap:wrap;\n",
              "      gap: 12px;\n",
              "    }\n",
              "\n",
              "    .colab-df-convert {\n",
              "      background-color: #E8F0FE;\n",
              "      border: none;\n",
              "      border-radius: 50%;\n",
              "      cursor: pointer;\n",
              "      display: none;\n",
              "      fill: #1967D2;\n",
              "      height: 32px;\n",
              "      padding: 0 0 0 0;\n",
              "      width: 32px;\n",
              "    }\n",
              "\n",
              "    .colab-df-convert:hover {\n",
              "      background-color: #E2EBFA;\n",
              "      box-shadow: 0px 1px 2px rgba(60, 64, 67, 0.3), 0px 1px 3px 1px rgba(60, 64, 67, 0.15);\n",
              "      fill: #174EA6;\n",
              "    }\n",
              "\n",
              "    [theme=dark] .colab-df-convert {\n",
              "      background-color: #3B4455;\n",
              "      fill: #D2E3FC;\n",
              "    }\n",
              "\n",
              "    [theme=dark] .colab-df-convert:hover {\n",
              "      background-color: #434B5C;\n",
              "      box-shadow: 0px 1px 3px 1px rgba(0, 0, 0, 0.15);\n",
              "      filter: drop-shadow(0px 1px 2px rgba(0, 0, 0, 0.3));\n",
              "      fill: #FFFFFF;\n",
              "    }\n",
              "  </style>\n",
              "\n",
              "      <script>\n",
              "        const buttonEl =\n",
              "          document.querySelector('#df-7e10b6af-def4-4a2e-a187-93a02d8573cf button.colab-df-convert');\n",
              "        buttonEl.style.display =\n",
              "          google.colab.kernel.accessAllowed ? 'block' : 'none';\n",
              "\n",
              "        async function convertToInteractive(key) {\n",
              "          const element = document.querySelector('#df-7e10b6af-def4-4a2e-a187-93a02d8573cf');\n",
              "          const dataTable =\n",
              "            await google.colab.kernel.invokeFunction('convertToInteractive',\n",
              "                                                     [key], {});\n",
              "          if (!dataTable) return;\n",
              "\n",
              "          const docLinkHtml = 'Like what you see? Visit the ' +\n",
              "            '<a target=\"_blank\" href=https://colab.research.google.com/notebooks/data_table.ipynb>data table notebook</a>'\n",
              "            + ' to learn more about interactive tables.';\n",
              "          element.innerHTML = '';\n",
              "          dataTable['output_type'] = 'display_data';\n",
              "          await google.colab.output.renderOutput(dataTable, element);\n",
              "          const docLink = document.createElement('div');\n",
              "          docLink.innerHTML = docLinkHtml;\n",
              "          element.appendChild(docLink);\n",
              "        }\n",
              "      </script>\n",
              "    </div>\n",
              "  </div>\n",
              "  "
            ]
          },
          "metadata": {},
          "execution_count": 1122
        }
      ]
    },
    {
      "cell_type": "markdown",
      "source": [
        "# Implementing FCMeans"
      ],
      "metadata": {
        "id": "hvGZhdFUzP4M"
      }
    },
    {
      "cell_type": "code",
      "source": [
        "from fcmeans import FCM\n",
        "fcm = FCM(n_clusters = 5)\n",
        "fcm.fit(X)\n",
        "y_pred = fcm.predict(X)"
      ],
      "metadata": {
        "id": "bp12cQGqqB1P"
      },
      "execution_count": 1123,
      "outputs": []
    },
    {
      "cell_type": "code",
      "source": [
        "df = pd.DataFrame(y_pred, columns=['Class'])\n",
        "y_pred = df.replace({y_pred[0]: y[0], y_pred[6]: y[6], y_pred[11]: y[11], y_pred[16]: y[16],y_pred[21]: y[21]}).to_numpy()"
      ],
      "metadata": {
        "id": "TupH52UazjRe"
      },
      "execution_count": 1124,
      "outputs": []
    },
    {
      "cell_type": "markdown",
      "source": [
        "### Metrics for FCMeans"
      ],
      "metadata": {
        "id": "CcGslR6IzkcG"
      }
    },
    {
      "cell_type": "code",
      "source": [
        "cm = multilabel_confusion_matrix(y, y_pred, labels= range(5))\n",
        "\n",
        "res = []\n",
        "\n",
        "for l in range(5):\n",
        "    x = cm[l]\n",
        "    tn, fp = x[0]\n",
        "    fn, tp = x[1]\n",
        "    sensitivity = tp / (tp + fn)\n",
        "    specificity = tn / (tn + fp)\n",
        "    precision = tp / (tp + fp)\n",
        "    f1 = (2 * precision * sensitivity) / (precision + sensitivity)\n",
        "    res.append([l+1,sensitivity, specificity, f1])\n",
        "\n",
        "performance = pd.DataFrame(res, columns = ['Class','Sensitivity(Recall)','Specificity', 'F1 score'])\n",
        "\n",
        "performance['F1 score'] = performance['F1 score'].fillna(0)\n",
        "performance['Sensitivity(Recall)'] = performance['Sensitivity(Recall)'].fillna(0)\n",
        "performance['Specificity'] = performance['Specificity'].fillna(0)\n",
        "\n",
        "total_accuracy = accuracy_score(y, y_pred)\n",
        "print(\"The total accuracy is\", total_accuracy)\n",
        "performance"
      ],
      "metadata": {
        "colab": {
          "base_uri": "https://localhost:8080/",
          "height": 224
        },
        "id": "TIqF6fShzmGm",
        "outputId": "b2812f2a-a183-40dd-b29b-b73f477ae43f"
      },
      "execution_count": 1125,
      "outputs": [
        {
          "output_type": "stream",
          "name": "stdout",
          "text": [
            "The total accuracy is 0.8\n"
          ]
        },
        {
          "output_type": "execute_result",
          "data": {
            "text/plain": [
              "   Class  Sensitivity(Recall)  Specificity  F1 score\n",
              "0      1                  1.0         1.00  1.000000\n",
              "1      2                  1.0         1.00  1.000000\n",
              "2      3                  0.0         1.00  0.000000\n",
              "3      4                  1.0         0.85  0.769231\n",
              "4      5                  1.0         0.90  0.833333"
            ],
            "text/html": [
              "\n",
              "  <div id=\"df-39eb1525-08fc-4c04-9f49-8fda6afe1be2\">\n",
              "    <div class=\"colab-df-container\">\n",
              "      <div>\n",
              "<style scoped>\n",
              "    .dataframe tbody tr th:only-of-type {\n",
              "        vertical-align: middle;\n",
              "    }\n",
              "\n",
              "    .dataframe tbody tr th {\n",
              "        vertical-align: top;\n",
              "    }\n",
              "\n",
              "    .dataframe thead th {\n",
              "        text-align: right;\n",
              "    }\n",
              "</style>\n",
              "<table border=\"1\" class=\"dataframe\">\n",
              "  <thead>\n",
              "    <tr style=\"text-align: right;\">\n",
              "      <th></th>\n",
              "      <th>Class</th>\n",
              "      <th>Sensitivity(Recall)</th>\n",
              "      <th>Specificity</th>\n",
              "      <th>F1 score</th>\n",
              "    </tr>\n",
              "  </thead>\n",
              "  <tbody>\n",
              "    <tr>\n",
              "      <th>0</th>\n",
              "      <td>1</td>\n",
              "      <td>1.0</td>\n",
              "      <td>1.00</td>\n",
              "      <td>1.000000</td>\n",
              "    </tr>\n",
              "    <tr>\n",
              "      <th>1</th>\n",
              "      <td>2</td>\n",
              "      <td>1.0</td>\n",
              "      <td>1.00</td>\n",
              "      <td>1.000000</td>\n",
              "    </tr>\n",
              "    <tr>\n",
              "      <th>2</th>\n",
              "      <td>3</td>\n",
              "      <td>0.0</td>\n",
              "      <td>1.00</td>\n",
              "      <td>0.000000</td>\n",
              "    </tr>\n",
              "    <tr>\n",
              "      <th>3</th>\n",
              "      <td>4</td>\n",
              "      <td>1.0</td>\n",
              "      <td>0.85</td>\n",
              "      <td>0.769231</td>\n",
              "    </tr>\n",
              "    <tr>\n",
              "      <th>4</th>\n",
              "      <td>5</td>\n",
              "      <td>1.0</td>\n",
              "      <td>0.90</td>\n",
              "      <td>0.833333</td>\n",
              "    </tr>\n",
              "  </tbody>\n",
              "</table>\n",
              "</div>\n",
              "      <button class=\"colab-df-convert\" onclick=\"convertToInteractive('df-39eb1525-08fc-4c04-9f49-8fda6afe1be2')\"\n",
              "              title=\"Convert this dataframe to an interactive table.\"\n",
              "              style=\"display:none;\">\n",
              "        \n",
              "  <svg xmlns=\"http://www.w3.org/2000/svg\" height=\"24px\"viewBox=\"0 0 24 24\"\n",
              "       width=\"24px\">\n",
              "    <path d=\"M0 0h24v24H0V0z\" fill=\"none\"/>\n",
              "    <path d=\"M18.56 5.44l.94 2.06.94-2.06 2.06-.94-2.06-.94-.94-2.06-.94 2.06-2.06.94zm-11 1L8.5 8.5l.94-2.06 2.06-.94-2.06-.94L8.5 2.5l-.94 2.06-2.06.94zm10 10l.94 2.06.94-2.06 2.06-.94-2.06-.94-.94-2.06-.94 2.06-2.06.94z\"/><path d=\"M17.41 7.96l-1.37-1.37c-.4-.4-.92-.59-1.43-.59-.52 0-1.04.2-1.43.59L10.3 9.45l-7.72 7.72c-.78.78-.78 2.05 0 2.83L4 21.41c.39.39.9.59 1.41.59.51 0 1.02-.2 1.41-.59l7.78-7.78 2.81-2.81c.8-.78.8-2.07 0-2.86zM5.41 20L4 18.59l7.72-7.72 1.47 1.35L5.41 20z\"/>\n",
              "  </svg>\n",
              "      </button>\n",
              "      \n",
              "  <style>\n",
              "    .colab-df-container {\n",
              "      display:flex;\n",
              "      flex-wrap:wrap;\n",
              "      gap: 12px;\n",
              "    }\n",
              "\n",
              "    .colab-df-convert {\n",
              "      background-color: #E8F0FE;\n",
              "      border: none;\n",
              "      border-radius: 50%;\n",
              "      cursor: pointer;\n",
              "      display: none;\n",
              "      fill: #1967D2;\n",
              "      height: 32px;\n",
              "      padding: 0 0 0 0;\n",
              "      width: 32px;\n",
              "    }\n",
              "\n",
              "    .colab-df-convert:hover {\n",
              "      background-color: #E2EBFA;\n",
              "      box-shadow: 0px 1px 2px rgba(60, 64, 67, 0.3), 0px 1px 3px 1px rgba(60, 64, 67, 0.15);\n",
              "      fill: #174EA6;\n",
              "    }\n",
              "\n",
              "    [theme=dark] .colab-df-convert {\n",
              "      background-color: #3B4455;\n",
              "      fill: #D2E3FC;\n",
              "    }\n",
              "\n",
              "    [theme=dark] .colab-df-convert:hover {\n",
              "      background-color: #434B5C;\n",
              "      box-shadow: 0px 1px 3px 1px rgba(0, 0, 0, 0.15);\n",
              "      filter: drop-shadow(0px 1px 2px rgba(0, 0, 0, 0.3));\n",
              "      fill: #FFFFFF;\n",
              "    }\n",
              "  </style>\n",
              "\n",
              "      <script>\n",
              "        const buttonEl =\n",
              "          document.querySelector('#df-39eb1525-08fc-4c04-9f49-8fda6afe1be2 button.colab-df-convert');\n",
              "        buttonEl.style.display =\n",
              "          google.colab.kernel.accessAllowed ? 'block' : 'none';\n",
              "\n",
              "        async function convertToInteractive(key) {\n",
              "          const element = document.querySelector('#df-39eb1525-08fc-4c04-9f49-8fda6afe1be2');\n",
              "          const dataTable =\n",
              "            await google.colab.kernel.invokeFunction('convertToInteractive',\n",
              "                                                     [key], {});\n",
              "          if (!dataTable) return;\n",
              "\n",
              "          const docLinkHtml = 'Like what you see? Visit the ' +\n",
              "            '<a target=\"_blank\" href=https://colab.research.google.com/notebooks/data_table.ipynb>data table notebook</a>'\n",
              "            + ' to learn more about interactive tables.';\n",
              "          element.innerHTML = '';\n",
              "          dataTable['output_type'] = 'display_data';\n",
              "          await google.colab.output.renderOutput(dataTable, element);\n",
              "          const docLink = document.createElement('div');\n",
              "          docLink.innerHTML = docLinkHtml;\n",
              "          element.appendChild(docLink);\n",
              "        }\n",
              "      </script>\n",
              "    </div>\n",
              "  </div>\n",
              "  "
            ]
          },
          "metadata": {},
          "execution_count": 1125
        }
      ]
    },
    {
      "cell_type": "markdown",
      "source": [
        "# Using QCM6 sensor data for classification"
      ],
      "metadata": {
        "id": "q-lnCfzf1a_A"
      }
    },
    {
      "cell_type": "code",
      "source": [
        "# Separating features and target variable\n",
        "y = df_6['Class']\n",
        "X = df_6.drop(columns = ['Class'])"
      ],
      "metadata": {
        "id": "rHf00fCz1a_A"
      },
      "execution_count": 1126,
      "outputs": []
    },
    {
      "cell_type": "markdown",
      "source": [
        "## Preprocessing"
      ],
      "metadata": {
        "id": "G2WlmSCg1a_B"
      }
    },
    {
      "cell_type": "code",
      "source": [
        "X = Normalizer().fit_transform(X)"
      ],
      "metadata": {
        "id": "pvF0u87t1a_B"
      },
      "execution_count": 1127,
      "outputs": []
    },
    {
      "cell_type": "code",
      "source": [
        "X_train, X_test, y_train, y_test = train_test_split(X, y, test_size=0.2, stratify = y)"
      ],
      "metadata": {
        "id": "tc-0KWO21a_B"
      },
      "execution_count": 1128,
      "outputs": []
    },
    {
      "cell_type": "markdown",
      "source": [
        "## Implementing MLP"
      ],
      "metadata": {
        "id": "X_PZcQqt1a_B"
      }
    },
    {
      "cell_type": "code",
      "source": [
        "clf = MLPClassifier()\n",
        "clf.fit(X_train, y_train)\n",
        "y_pred = clf.predict(X_test)"
      ],
      "metadata": {
        "id": "p6yxsFFg1a_B"
      },
      "execution_count": 1129,
      "outputs": []
    },
    {
      "cell_type": "markdown",
      "source": [
        "### Metrics for MLP"
      ],
      "metadata": {
        "id": "E5Mqgqw91a_B"
      }
    },
    {
      "cell_type": "code",
      "source": [
        "cm = multilabel_confusion_matrix(y_test, y_pred, labels= range(5))\n",
        "for l in range(5):\n",
        "    x = cm[l]\n",
        "    tn, fp = x[0]\n",
        "    fn, tp = x[1]\n",
        "    sensitivity = tp / (tp + fn)\n",
        "    specificity = tn / (tn + fp)\n",
        "    precision = tp / (tp + fp)\n",
        "    f1 = (2 * precision * sensitivity) / (precision + sensitivity)\n",
        "    res.append([l+1,sensitivity, specificity, f1])\n",
        "\n",
        "performance = pd.DataFrame(res, columns = ['Class','Sensitivity(Recall)','Specificity', 'F1 score'])\n",
        "\n",
        "performance['F1 score'] = performance['F1 score'].fillna(0)\n",
        "performance['Sensitivity(Recall)'] = performance['Sensitivity(Recall)'].fillna(0)\n",
        "performance['Specificity'] = performance['Specificity'].fillna(0)\n",
        "\n",
        "total_accuracy = accuracy_score(y_test, y_pred)\n",
        "print(\"The total accuracy is\", total_accuracy)\n",
        "performance"
      ],
      "metadata": {
        "colab": {
          "base_uri": "https://localhost:8080/",
          "height": 380
        },
        "outputId": "ea8609f4-1358-4e2b-c86a-32203ed0ca01",
        "id": "JmzeJ3dW1a_C"
      },
      "execution_count": 1130,
      "outputs": [
        {
          "output_type": "stream",
          "name": "stdout",
          "text": [
            "The total accuracy is 0.8\n"
          ]
        },
        {
          "output_type": "execute_result",
          "data": {
            "text/plain": [
              "   Class  Sensitivity(Recall)  Specificity  F1 score\n",
              "0      1                  1.0         1.00  1.000000\n",
              "1      2                  1.0         1.00  1.000000\n",
              "2      3                  0.0         1.00  0.000000\n",
              "3      4                  1.0         0.85  0.769231\n",
              "4      5                  1.0         0.90  0.833333\n",
              "5      1                  1.0         1.00  1.000000\n",
              "6      2                  1.0         1.00  1.000000\n",
              "7      3                  0.0         1.00  0.000000\n",
              "8      4                  1.0         0.75  0.666667\n",
              "9      5                  1.0         1.00  1.000000"
            ],
            "text/html": [
              "\n",
              "  <div id=\"df-60082cfc-2070-42d7-a19a-6c6842f389ae\">\n",
              "    <div class=\"colab-df-container\">\n",
              "      <div>\n",
              "<style scoped>\n",
              "    .dataframe tbody tr th:only-of-type {\n",
              "        vertical-align: middle;\n",
              "    }\n",
              "\n",
              "    .dataframe tbody tr th {\n",
              "        vertical-align: top;\n",
              "    }\n",
              "\n",
              "    .dataframe thead th {\n",
              "        text-align: right;\n",
              "    }\n",
              "</style>\n",
              "<table border=\"1\" class=\"dataframe\">\n",
              "  <thead>\n",
              "    <tr style=\"text-align: right;\">\n",
              "      <th></th>\n",
              "      <th>Class</th>\n",
              "      <th>Sensitivity(Recall)</th>\n",
              "      <th>Specificity</th>\n",
              "      <th>F1 score</th>\n",
              "    </tr>\n",
              "  </thead>\n",
              "  <tbody>\n",
              "    <tr>\n",
              "      <th>0</th>\n",
              "      <td>1</td>\n",
              "      <td>1.0</td>\n",
              "      <td>1.00</td>\n",
              "      <td>1.000000</td>\n",
              "    </tr>\n",
              "    <tr>\n",
              "      <th>1</th>\n",
              "      <td>2</td>\n",
              "      <td>1.0</td>\n",
              "      <td>1.00</td>\n",
              "      <td>1.000000</td>\n",
              "    </tr>\n",
              "    <tr>\n",
              "      <th>2</th>\n",
              "      <td>3</td>\n",
              "      <td>0.0</td>\n",
              "      <td>1.00</td>\n",
              "      <td>0.000000</td>\n",
              "    </tr>\n",
              "    <tr>\n",
              "      <th>3</th>\n",
              "      <td>4</td>\n",
              "      <td>1.0</td>\n",
              "      <td>0.85</td>\n",
              "      <td>0.769231</td>\n",
              "    </tr>\n",
              "    <tr>\n",
              "      <th>4</th>\n",
              "      <td>5</td>\n",
              "      <td>1.0</td>\n",
              "      <td>0.90</td>\n",
              "      <td>0.833333</td>\n",
              "    </tr>\n",
              "    <tr>\n",
              "      <th>5</th>\n",
              "      <td>1</td>\n",
              "      <td>1.0</td>\n",
              "      <td>1.00</td>\n",
              "      <td>1.000000</td>\n",
              "    </tr>\n",
              "    <tr>\n",
              "      <th>6</th>\n",
              "      <td>2</td>\n",
              "      <td>1.0</td>\n",
              "      <td>1.00</td>\n",
              "      <td>1.000000</td>\n",
              "    </tr>\n",
              "    <tr>\n",
              "      <th>7</th>\n",
              "      <td>3</td>\n",
              "      <td>0.0</td>\n",
              "      <td>1.00</td>\n",
              "      <td>0.000000</td>\n",
              "    </tr>\n",
              "    <tr>\n",
              "      <th>8</th>\n",
              "      <td>4</td>\n",
              "      <td>1.0</td>\n",
              "      <td>0.75</td>\n",
              "      <td>0.666667</td>\n",
              "    </tr>\n",
              "    <tr>\n",
              "      <th>9</th>\n",
              "      <td>5</td>\n",
              "      <td>1.0</td>\n",
              "      <td>1.00</td>\n",
              "      <td>1.000000</td>\n",
              "    </tr>\n",
              "  </tbody>\n",
              "</table>\n",
              "</div>\n",
              "      <button class=\"colab-df-convert\" onclick=\"convertToInteractive('df-60082cfc-2070-42d7-a19a-6c6842f389ae')\"\n",
              "              title=\"Convert this dataframe to an interactive table.\"\n",
              "              style=\"display:none;\">\n",
              "        \n",
              "  <svg xmlns=\"http://www.w3.org/2000/svg\" height=\"24px\"viewBox=\"0 0 24 24\"\n",
              "       width=\"24px\">\n",
              "    <path d=\"M0 0h24v24H0V0z\" fill=\"none\"/>\n",
              "    <path d=\"M18.56 5.44l.94 2.06.94-2.06 2.06-.94-2.06-.94-.94-2.06-.94 2.06-2.06.94zm-11 1L8.5 8.5l.94-2.06 2.06-.94-2.06-.94L8.5 2.5l-.94 2.06-2.06.94zm10 10l.94 2.06.94-2.06 2.06-.94-2.06-.94-.94-2.06-.94 2.06-2.06.94z\"/><path d=\"M17.41 7.96l-1.37-1.37c-.4-.4-.92-.59-1.43-.59-.52 0-1.04.2-1.43.59L10.3 9.45l-7.72 7.72c-.78.78-.78 2.05 0 2.83L4 21.41c.39.39.9.59 1.41.59.51 0 1.02-.2 1.41-.59l7.78-7.78 2.81-2.81c.8-.78.8-2.07 0-2.86zM5.41 20L4 18.59l7.72-7.72 1.47 1.35L5.41 20z\"/>\n",
              "  </svg>\n",
              "      </button>\n",
              "      \n",
              "  <style>\n",
              "    .colab-df-container {\n",
              "      display:flex;\n",
              "      flex-wrap:wrap;\n",
              "      gap: 12px;\n",
              "    }\n",
              "\n",
              "    .colab-df-convert {\n",
              "      background-color: #E8F0FE;\n",
              "      border: none;\n",
              "      border-radius: 50%;\n",
              "      cursor: pointer;\n",
              "      display: none;\n",
              "      fill: #1967D2;\n",
              "      height: 32px;\n",
              "      padding: 0 0 0 0;\n",
              "      width: 32px;\n",
              "    }\n",
              "\n",
              "    .colab-df-convert:hover {\n",
              "      background-color: #E2EBFA;\n",
              "      box-shadow: 0px 1px 2px rgba(60, 64, 67, 0.3), 0px 1px 3px 1px rgba(60, 64, 67, 0.15);\n",
              "      fill: #174EA6;\n",
              "    }\n",
              "\n",
              "    [theme=dark] .colab-df-convert {\n",
              "      background-color: #3B4455;\n",
              "      fill: #D2E3FC;\n",
              "    }\n",
              "\n",
              "    [theme=dark] .colab-df-convert:hover {\n",
              "      background-color: #434B5C;\n",
              "      box-shadow: 0px 1px 3px 1px rgba(0, 0, 0, 0.15);\n",
              "      filter: drop-shadow(0px 1px 2px rgba(0, 0, 0, 0.3));\n",
              "      fill: #FFFFFF;\n",
              "    }\n",
              "  </style>\n",
              "\n",
              "      <script>\n",
              "        const buttonEl =\n",
              "          document.querySelector('#df-60082cfc-2070-42d7-a19a-6c6842f389ae button.colab-df-convert');\n",
              "        buttonEl.style.display =\n",
              "          google.colab.kernel.accessAllowed ? 'block' : 'none';\n",
              "\n",
              "        async function convertToInteractive(key) {\n",
              "          const element = document.querySelector('#df-60082cfc-2070-42d7-a19a-6c6842f389ae');\n",
              "          const dataTable =\n",
              "            await google.colab.kernel.invokeFunction('convertToInteractive',\n",
              "                                                     [key], {});\n",
              "          if (!dataTable) return;\n",
              "\n",
              "          const docLinkHtml = 'Like what you see? Visit the ' +\n",
              "            '<a target=\"_blank\" href=https://colab.research.google.com/notebooks/data_table.ipynb>data table notebook</a>'\n",
              "            + ' to learn more about interactive tables.';\n",
              "          element.innerHTML = '';\n",
              "          dataTable['output_type'] = 'display_data';\n",
              "          await google.colab.output.renderOutput(dataTable, element);\n",
              "          const docLink = document.createElement('div');\n",
              "          docLink.innerHTML = docLinkHtml;\n",
              "          element.appendChild(docLink);\n",
              "        }\n",
              "      </script>\n",
              "    </div>\n",
              "  </div>\n",
              "  "
            ]
          },
          "metadata": {},
          "execution_count": 1130
        }
      ]
    },
    {
      "cell_type": "markdown",
      "source": [
        "## Implementing SVC"
      ],
      "metadata": {
        "id": "tpG1P8q41a_C"
      }
    },
    {
      "cell_type": "code",
      "source": [
        "clf = SVC()\n",
        "clf.fit(X_train, y_train)\n",
        "y_pred = clf.predict(X_test)"
      ],
      "metadata": {
        "id": "D2JMPzlK1a_C"
      },
      "execution_count": 1131,
      "outputs": []
    },
    {
      "cell_type": "markdown",
      "source": [
        "### Metrics for SVC"
      ],
      "metadata": {
        "id": "gtLTI5Eh1a_D"
      }
    },
    {
      "cell_type": "code",
      "source": [
        "cm = multilabel_confusion_matrix(y_test, y_pred, labels= range(5))\n",
        "\n",
        "res = []\n",
        "\n",
        "for l in range(5):\n",
        "    x = cm[l]\n",
        "    tn, fp = x[0]\n",
        "    fn, tp = x[1]\n",
        "    sensitivity = tp / (tp + fn)\n",
        "    specificity = tn / (tn + fp)\n",
        "    precision = tp / (tp + fp)\n",
        "    f1 = (2 * precision * sensitivity) / (precision + sensitivity)\n",
        "    res.append([l+1,sensitivity, specificity, f1])\n",
        "\n",
        "performance = pd.DataFrame(res, columns = ['Class','Sensitivity(Recall)','Specificity', 'F1 score'])\n",
        "\n",
        "performance['F1 score'] = performance['F1 score'].fillna(0)\n",
        "performance['Sensitivity(Recall)'] = performance['Sensitivity(Recall)'].fillna(0)\n",
        "performance['Specificity'] = performance['Specificity'].fillna(0)\n",
        "\n",
        "total_accuracy = accuracy_score(y_test, y_pred)\n",
        "print(\"The total accuracy is\", total_accuracy)\n",
        "performance"
      ],
      "metadata": {
        "colab": {
          "base_uri": "https://localhost:8080/",
          "height": 224
        },
        "outputId": "149cbff5-319a-441a-baa4-4a0f289c8566",
        "id": "POYjz0fn1a_D"
      },
      "execution_count": 1132,
      "outputs": [
        {
          "output_type": "stream",
          "name": "stdout",
          "text": [
            "The total accuracy is 1.0\n"
          ]
        },
        {
          "output_type": "execute_result",
          "data": {
            "text/plain": [
              "   Class  Sensitivity(Recall)  Specificity  F1 score\n",
              "0      1                  1.0          1.0       1.0\n",
              "1      2                  1.0          1.0       1.0\n",
              "2      3                  1.0          1.0       1.0\n",
              "3      4                  1.0          1.0       1.0\n",
              "4      5                  1.0          1.0       1.0"
            ],
            "text/html": [
              "\n",
              "  <div id=\"df-f0334200-98fa-4d24-b07c-b13c15a15852\">\n",
              "    <div class=\"colab-df-container\">\n",
              "      <div>\n",
              "<style scoped>\n",
              "    .dataframe tbody tr th:only-of-type {\n",
              "        vertical-align: middle;\n",
              "    }\n",
              "\n",
              "    .dataframe tbody tr th {\n",
              "        vertical-align: top;\n",
              "    }\n",
              "\n",
              "    .dataframe thead th {\n",
              "        text-align: right;\n",
              "    }\n",
              "</style>\n",
              "<table border=\"1\" class=\"dataframe\">\n",
              "  <thead>\n",
              "    <tr style=\"text-align: right;\">\n",
              "      <th></th>\n",
              "      <th>Class</th>\n",
              "      <th>Sensitivity(Recall)</th>\n",
              "      <th>Specificity</th>\n",
              "      <th>F1 score</th>\n",
              "    </tr>\n",
              "  </thead>\n",
              "  <tbody>\n",
              "    <tr>\n",
              "      <th>0</th>\n",
              "      <td>1</td>\n",
              "      <td>1.0</td>\n",
              "      <td>1.0</td>\n",
              "      <td>1.0</td>\n",
              "    </tr>\n",
              "    <tr>\n",
              "      <th>1</th>\n",
              "      <td>2</td>\n",
              "      <td>1.0</td>\n",
              "      <td>1.0</td>\n",
              "      <td>1.0</td>\n",
              "    </tr>\n",
              "    <tr>\n",
              "      <th>2</th>\n",
              "      <td>3</td>\n",
              "      <td>1.0</td>\n",
              "      <td>1.0</td>\n",
              "      <td>1.0</td>\n",
              "    </tr>\n",
              "    <tr>\n",
              "      <th>3</th>\n",
              "      <td>4</td>\n",
              "      <td>1.0</td>\n",
              "      <td>1.0</td>\n",
              "      <td>1.0</td>\n",
              "    </tr>\n",
              "    <tr>\n",
              "      <th>4</th>\n",
              "      <td>5</td>\n",
              "      <td>1.0</td>\n",
              "      <td>1.0</td>\n",
              "      <td>1.0</td>\n",
              "    </tr>\n",
              "  </tbody>\n",
              "</table>\n",
              "</div>\n",
              "      <button class=\"colab-df-convert\" onclick=\"convertToInteractive('df-f0334200-98fa-4d24-b07c-b13c15a15852')\"\n",
              "              title=\"Convert this dataframe to an interactive table.\"\n",
              "              style=\"display:none;\">\n",
              "        \n",
              "  <svg xmlns=\"http://www.w3.org/2000/svg\" height=\"24px\"viewBox=\"0 0 24 24\"\n",
              "       width=\"24px\">\n",
              "    <path d=\"M0 0h24v24H0V0z\" fill=\"none\"/>\n",
              "    <path d=\"M18.56 5.44l.94 2.06.94-2.06 2.06-.94-2.06-.94-.94-2.06-.94 2.06-2.06.94zm-11 1L8.5 8.5l.94-2.06 2.06-.94-2.06-.94L8.5 2.5l-.94 2.06-2.06.94zm10 10l.94 2.06.94-2.06 2.06-.94-2.06-.94-.94-2.06-.94 2.06-2.06.94z\"/><path d=\"M17.41 7.96l-1.37-1.37c-.4-.4-.92-.59-1.43-.59-.52 0-1.04.2-1.43.59L10.3 9.45l-7.72 7.72c-.78.78-.78 2.05 0 2.83L4 21.41c.39.39.9.59 1.41.59.51 0 1.02-.2 1.41-.59l7.78-7.78 2.81-2.81c.8-.78.8-2.07 0-2.86zM5.41 20L4 18.59l7.72-7.72 1.47 1.35L5.41 20z\"/>\n",
              "  </svg>\n",
              "      </button>\n",
              "      \n",
              "  <style>\n",
              "    .colab-df-container {\n",
              "      display:flex;\n",
              "      flex-wrap:wrap;\n",
              "      gap: 12px;\n",
              "    }\n",
              "\n",
              "    .colab-df-convert {\n",
              "      background-color: #E8F0FE;\n",
              "      border: none;\n",
              "      border-radius: 50%;\n",
              "      cursor: pointer;\n",
              "      display: none;\n",
              "      fill: #1967D2;\n",
              "      height: 32px;\n",
              "      padding: 0 0 0 0;\n",
              "      width: 32px;\n",
              "    }\n",
              "\n",
              "    .colab-df-convert:hover {\n",
              "      background-color: #E2EBFA;\n",
              "      box-shadow: 0px 1px 2px rgba(60, 64, 67, 0.3), 0px 1px 3px 1px rgba(60, 64, 67, 0.15);\n",
              "      fill: #174EA6;\n",
              "    }\n",
              "\n",
              "    [theme=dark] .colab-df-convert {\n",
              "      background-color: #3B4455;\n",
              "      fill: #D2E3FC;\n",
              "    }\n",
              "\n",
              "    [theme=dark] .colab-df-convert:hover {\n",
              "      background-color: #434B5C;\n",
              "      box-shadow: 0px 1px 3px 1px rgba(0, 0, 0, 0.15);\n",
              "      filter: drop-shadow(0px 1px 2px rgba(0, 0, 0, 0.3));\n",
              "      fill: #FFFFFF;\n",
              "    }\n",
              "  </style>\n",
              "\n",
              "      <script>\n",
              "        const buttonEl =\n",
              "          document.querySelector('#df-f0334200-98fa-4d24-b07c-b13c15a15852 button.colab-df-convert');\n",
              "        buttonEl.style.display =\n",
              "          google.colab.kernel.accessAllowed ? 'block' : 'none';\n",
              "\n",
              "        async function convertToInteractive(key) {\n",
              "          const element = document.querySelector('#df-f0334200-98fa-4d24-b07c-b13c15a15852');\n",
              "          const dataTable =\n",
              "            await google.colab.kernel.invokeFunction('convertToInteractive',\n",
              "                                                     [key], {});\n",
              "          if (!dataTable) return;\n",
              "\n",
              "          const docLinkHtml = 'Like what you see? Visit the ' +\n",
              "            '<a target=\"_blank\" href=https://colab.research.google.com/notebooks/data_table.ipynb>data table notebook</a>'\n",
              "            + ' to learn more about interactive tables.';\n",
              "          element.innerHTML = '';\n",
              "          dataTable['output_type'] = 'display_data';\n",
              "          await google.colab.output.renderOutput(dataTable, element);\n",
              "          const docLink = document.createElement('div');\n",
              "          docLink.innerHTML = docLinkHtml;\n",
              "          element.appendChild(docLink);\n",
              "        }\n",
              "      </script>\n",
              "    </div>\n",
              "  </div>\n",
              "  "
            ]
          },
          "metadata": {},
          "execution_count": 1132
        }
      ]
    },
    {
      "cell_type": "markdown",
      "source": [
        "# hmm remain"
      ],
      "metadata": {
        "id": "_kdcz1jJ1a_D"
      }
    },
    {
      "cell_type": "markdown",
      "source": [
        "# Implementing clustering algorithms"
      ],
      "metadata": {
        "id": "22sJKT2l1a_D"
      }
    },
    {
      "cell_type": "code",
      "source": [
        "y = y.to_numpy()"
      ],
      "metadata": {
        "id": "GO6AfdiC1a_D"
      },
      "execution_count": 1133,
      "outputs": []
    },
    {
      "cell_type": "markdown",
      "source": [
        "# Implementing K means"
      ],
      "metadata": {
        "id": "JM1N-Vzh1a_E"
      }
    },
    {
      "cell_type": "code",
      "source": [
        "kmeans = KMeans(n_clusters = 5, random_state=0).fit(X)\n",
        "y_pred = kmeans.predict(X)"
      ],
      "metadata": {
        "id": "6KYSt8EO1a_E"
      },
      "execution_count": 1134,
      "outputs": []
    },
    {
      "cell_type": "code",
      "source": [
        "df = pd.DataFrame(y_pred, columns=['Class'])\n",
        "y_pred = df.replace({y_pred[0]: y[0], y_pred[6]: y[6], y_pred[11]: y[11], y_pred[16]: y[16],y_pred[21]: y[21]}).to_numpy()"
      ],
      "metadata": {
        "id": "PZzjmDUQ1a_E"
      },
      "execution_count": 1135,
      "outputs": []
    },
    {
      "cell_type": "markdown",
      "source": [
        "### Metrics for KMeans"
      ],
      "metadata": {
        "id": "yGZuOQqj1a_E"
      }
    },
    {
      "cell_type": "code",
      "source": [
        "cm = multilabel_confusion_matrix(y, y_pred, labels= range(5))\n",
        "\n",
        "res = []\n",
        "\n",
        "for l in range(5):\n",
        "    x = cm[l]\n",
        "    tn, fp = x[0]\n",
        "    fn, tp = x[1]\n",
        "    sensitivity = tp / (tp + fn)\n",
        "    specificity = tn / (tn + fp)\n",
        "    precision = tp / (tp + fp)\n",
        "    f1 = (2 * precision * sensitivity) / (precision + sensitivity)\n",
        "    res.append([l+1,sensitivity, specificity, f1])\n",
        "\n",
        "performance = pd.DataFrame(res, columns = ['Class','Sensitivity(Recall)','Specificity', 'F1 score'])\n",
        "\n",
        "performance['F1 score'] = performance['F1 score'].fillna(0)\n",
        "performance['Sensitivity(Recall)'] = performance['Sensitivity(Recall)'].fillna(0)\n",
        "performance['Specificity'] = performance['Specificity'].fillna(0)\n",
        "\n",
        "total_accuracy = accuracy_score(y, y_pred)\n",
        "print(\"The total accuracy is\", total_accuracy)\n",
        "performance"
      ],
      "metadata": {
        "colab": {
          "base_uri": "https://localhost:8080/",
          "height": 224
        },
        "outputId": "e41da5d7-c66d-41b2-95f5-1b4ff7915751",
        "id": "l_iYB_lG1a_E"
      },
      "execution_count": 1136,
      "outputs": [
        {
          "output_type": "stream",
          "name": "stdout",
          "text": [
            "The total accuracy is 1.0\n"
          ]
        },
        {
          "output_type": "execute_result",
          "data": {
            "text/plain": [
              "   Class  Sensitivity(Recall)  Specificity  F1 score\n",
              "0      1                  1.0          1.0       1.0\n",
              "1      2                  1.0          1.0       1.0\n",
              "2      3                  1.0          1.0       1.0\n",
              "3      4                  1.0          1.0       1.0\n",
              "4      5                  1.0          1.0       1.0"
            ],
            "text/html": [
              "\n",
              "  <div id=\"df-58f4c55f-a082-44b2-896c-f0e1b81e4831\">\n",
              "    <div class=\"colab-df-container\">\n",
              "      <div>\n",
              "<style scoped>\n",
              "    .dataframe tbody tr th:only-of-type {\n",
              "        vertical-align: middle;\n",
              "    }\n",
              "\n",
              "    .dataframe tbody tr th {\n",
              "        vertical-align: top;\n",
              "    }\n",
              "\n",
              "    .dataframe thead th {\n",
              "        text-align: right;\n",
              "    }\n",
              "</style>\n",
              "<table border=\"1\" class=\"dataframe\">\n",
              "  <thead>\n",
              "    <tr style=\"text-align: right;\">\n",
              "      <th></th>\n",
              "      <th>Class</th>\n",
              "      <th>Sensitivity(Recall)</th>\n",
              "      <th>Specificity</th>\n",
              "      <th>F1 score</th>\n",
              "    </tr>\n",
              "  </thead>\n",
              "  <tbody>\n",
              "    <tr>\n",
              "      <th>0</th>\n",
              "      <td>1</td>\n",
              "      <td>1.0</td>\n",
              "      <td>1.0</td>\n",
              "      <td>1.0</td>\n",
              "    </tr>\n",
              "    <tr>\n",
              "      <th>1</th>\n",
              "      <td>2</td>\n",
              "      <td>1.0</td>\n",
              "      <td>1.0</td>\n",
              "      <td>1.0</td>\n",
              "    </tr>\n",
              "    <tr>\n",
              "      <th>2</th>\n",
              "      <td>3</td>\n",
              "      <td>1.0</td>\n",
              "      <td>1.0</td>\n",
              "      <td>1.0</td>\n",
              "    </tr>\n",
              "    <tr>\n",
              "      <th>3</th>\n",
              "      <td>4</td>\n",
              "      <td>1.0</td>\n",
              "      <td>1.0</td>\n",
              "      <td>1.0</td>\n",
              "    </tr>\n",
              "    <tr>\n",
              "      <th>4</th>\n",
              "      <td>5</td>\n",
              "      <td>1.0</td>\n",
              "      <td>1.0</td>\n",
              "      <td>1.0</td>\n",
              "    </tr>\n",
              "  </tbody>\n",
              "</table>\n",
              "</div>\n",
              "      <button class=\"colab-df-convert\" onclick=\"convertToInteractive('df-58f4c55f-a082-44b2-896c-f0e1b81e4831')\"\n",
              "              title=\"Convert this dataframe to an interactive table.\"\n",
              "              style=\"display:none;\">\n",
              "        \n",
              "  <svg xmlns=\"http://www.w3.org/2000/svg\" height=\"24px\"viewBox=\"0 0 24 24\"\n",
              "       width=\"24px\">\n",
              "    <path d=\"M0 0h24v24H0V0z\" fill=\"none\"/>\n",
              "    <path d=\"M18.56 5.44l.94 2.06.94-2.06 2.06-.94-2.06-.94-.94-2.06-.94 2.06-2.06.94zm-11 1L8.5 8.5l.94-2.06 2.06-.94-2.06-.94L8.5 2.5l-.94 2.06-2.06.94zm10 10l.94 2.06.94-2.06 2.06-.94-2.06-.94-.94-2.06-.94 2.06-2.06.94z\"/><path d=\"M17.41 7.96l-1.37-1.37c-.4-.4-.92-.59-1.43-.59-.52 0-1.04.2-1.43.59L10.3 9.45l-7.72 7.72c-.78.78-.78 2.05 0 2.83L4 21.41c.39.39.9.59 1.41.59.51 0 1.02-.2 1.41-.59l7.78-7.78 2.81-2.81c.8-.78.8-2.07 0-2.86zM5.41 20L4 18.59l7.72-7.72 1.47 1.35L5.41 20z\"/>\n",
              "  </svg>\n",
              "      </button>\n",
              "      \n",
              "  <style>\n",
              "    .colab-df-container {\n",
              "      display:flex;\n",
              "      flex-wrap:wrap;\n",
              "      gap: 12px;\n",
              "    }\n",
              "\n",
              "    .colab-df-convert {\n",
              "      background-color: #E8F0FE;\n",
              "      border: none;\n",
              "      border-radius: 50%;\n",
              "      cursor: pointer;\n",
              "      display: none;\n",
              "      fill: #1967D2;\n",
              "      height: 32px;\n",
              "      padding: 0 0 0 0;\n",
              "      width: 32px;\n",
              "    }\n",
              "\n",
              "    .colab-df-convert:hover {\n",
              "      background-color: #E2EBFA;\n",
              "      box-shadow: 0px 1px 2px rgba(60, 64, 67, 0.3), 0px 1px 3px 1px rgba(60, 64, 67, 0.15);\n",
              "      fill: #174EA6;\n",
              "    }\n",
              "\n",
              "    [theme=dark] .colab-df-convert {\n",
              "      background-color: #3B4455;\n",
              "      fill: #D2E3FC;\n",
              "    }\n",
              "\n",
              "    [theme=dark] .colab-df-convert:hover {\n",
              "      background-color: #434B5C;\n",
              "      box-shadow: 0px 1px 3px 1px rgba(0, 0, 0, 0.15);\n",
              "      filter: drop-shadow(0px 1px 2px rgba(0, 0, 0, 0.3));\n",
              "      fill: #FFFFFF;\n",
              "    }\n",
              "  </style>\n",
              "\n",
              "      <script>\n",
              "        const buttonEl =\n",
              "          document.querySelector('#df-58f4c55f-a082-44b2-896c-f0e1b81e4831 button.colab-df-convert');\n",
              "        buttonEl.style.display =\n",
              "          google.colab.kernel.accessAllowed ? 'block' : 'none';\n",
              "\n",
              "        async function convertToInteractive(key) {\n",
              "          const element = document.querySelector('#df-58f4c55f-a082-44b2-896c-f0e1b81e4831');\n",
              "          const dataTable =\n",
              "            await google.colab.kernel.invokeFunction('convertToInteractive',\n",
              "                                                     [key], {});\n",
              "          if (!dataTable) return;\n",
              "\n",
              "          const docLinkHtml = 'Like what you see? Visit the ' +\n",
              "            '<a target=\"_blank\" href=https://colab.research.google.com/notebooks/data_table.ipynb>data table notebook</a>'\n",
              "            + ' to learn more about interactive tables.';\n",
              "          element.innerHTML = '';\n",
              "          dataTable['output_type'] = 'display_data';\n",
              "          await google.colab.output.renderOutput(dataTable, element);\n",
              "          const docLink = document.createElement('div');\n",
              "          docLink.innerHTML = docLinkHtml;\n",
              "          element.appendChild(docLink);\n",
              "        }\n",
              "      </script>\n",
              "    </div>\n",
              "  </div>\n",
              "  "
            ]
          },
          "metadata": {},
          "execution_count": 1136
        }
      ]
    },
    {
      "cell_type": "markdown",
      "source": [
        "# Implementing FCMeans"
      ],
      "metadata": {
        "id": "bPm3G7Gl1a_F"
      }
    },
    {
      "cell_type": "code",
      "source": [
        "from fcmeans import FCM\n",
        "fcm = FCM(n_clusters = 5)\n",
        "fcm.fit(X)\n",
        "y_pred = fcm.predict(X)"
      ],
      "metadata": {
        "id": "Mk5ShZUP1a_F"
      },
      "execution_count": 1137,
      "outputs": []
    },
    {
      "cell_type": "code",
      "source": [
        "df = pd.DataFrame(y_pred, columns=['Class'])\n",
        "y_pred = df.replace({y_pred[0]: y[0], y_pred[6]: y[6], y_pred[11]: y[11], y_pred[16]: y[16],y_pred[21]: y[21]}).to_numpy()"
      ],
      "metadata": {
        "id": "dQzxHeT31a_F"
      },
      "execution_count": 1138,
      "outputs": []
    },
    {
      "cell_type": "markdown",
      "source": [
        "### Metrics for FCMeans"
      ],
      "metadata": {
        "id": "LMB17OIy1a_F"
      }
    },
    {
      "cell_type": "code",
      "source": [
        "cm = multilabel_confusion_matrix(y, y_pred, labels= range(5))\n",
        "\n",
        "res = []\n",
        "\n",
        "for l in range(5):\n",
        "    x = cm[l]\n",
        "    tn, fp = x[0]\n",
        "    fn, tp = x[1]\n",
        "    sensitivity = tp / (tp + fn)\n",
        "    specificity = tn / (tn + fp)\n",
        "    precision = tp / (tp + fp)\n",
        "    f1 = (2 * precision * sensitivity) / (precision + sensitivity)\n",
        "    res.append([l+1,sensitivity, specificity, f1])\n",
        "\n",
        "performance = pd.DataFrame(res, columns = ['Class','Sensitivity(Recall)','Specificity', 'F1 score'])\n",
        "\n",
        "performance['F1 score'] = performance['F1 score'].fillna(0)\n",
        "performance['Sensitivity(Recall)'] = performance['Sensitivity(Recall)'].fillna(0)\n",
        "performance['Specificity'] = performance['Specificity'].fillna(0)\n",
        "\n",
        "total_accuracy = accuracy_score(y, y_pred)\n",
        "print(\"The total accuracy is\", total_accuracy)\n",
        "performance"
      ],
      "metadata": {
        "colab": {
          "base_uri": "https://localhost:8080/",
          "height": 224
        },
        "outputId": "e849f23a-4117-4f13-c6a0-0f8500a42a8c",
        "id": "L8TpPn891a_F"
      },
      "execution_count": 1139,
      "outputs": [
        {
          "output_type": "stream",
          "name": "stdout",
          "text": [
            "The total accuracy is 1.0\n"
          ]
        },
        {
          "output_type": "execute_result",
          "data": {
            "text/plain": [
              "   Class  Sensitivity(Recall)  Specificity  F1 score\n",
              "0      1                  1.0          1.0       1.0\n",
              "1      2                  1.0          1.0       1.0\n",
              "2      3                  1.0          1.0       1.0\n",
              "3      4                  1.0          1.0       1.0\n",
              "4      5                  1.0          1.0       1.0"
            ],
            "text/html": [
              "\n",
              "  <div id=\"df-652dfbc3-6ade-49b4-9215-bb73d69ad33c\">\n",
              "    <div class=\"colab-df-container\">\n",
              "      <div>\n",
              "<style scoped>\n",
              "    .dataframe tbody tr th:only-of-type {\n",
              "        vertical-align: middle;\n",
              "    }\n",
              "\n",
              "    .dataframe tbody tr th {\n",
              "        vertical-align: top;\n",
              "    }\n",
              "\n",
              "    .dataframe thead th {\n",
              "        text-align: right;\n",
              "    }\n",
              "</style>\n",
              "<table border=\"1\" class=\"dataframe\">\n",
              "  <thead>\n",
              "    <tr style=\"text-align: right;\">\n",
              "      <th></th>\n",
              "      <th>Class</th>\n",
              "      <th>Sensitivity(Recall)</th>\n",
              "      <th>Specificity</th>\n",
              "      <th>F1 score</th>\n",
              "    </tr>\n",
              "  </thead>\n",
              "  <tbody>\n",
              "    <tr>\n",
              "      <th>0</th>\n",
              "      <td>1</td>\n",
              "      <td>1.0</td>\n",
              "      <td>1.0</td>\n",
              "      <td>1.0</td>\n",
              "    </tr>\n",
              "    <tr>\n",
              "      <th>1</th>\n",
              "      <td>2</td>\n",
              "      <td>1.0</td>\n",
              "      <td>1.0</td>\n",
              "      <td>1.0</td>\n",
              "    </tr>\n",
              "    <tr>\n",
              "      <th>2</th>\n",
              "      <td>3</td>\n",
              "      <td>1.0</td>\n",
              "      <td>1.0</td>\n",
              "      <td>1.0</td>\n",
              "    </tr>\n",
              "    <tr>\n",
              "      <th>3</th>\n",
              "      <td>4</td>\n",
              "      <td>1.0</td>\n",
              "      <td>1.0</td>\n",
              "      <td>1.0</td>\n",
              "    </tr>\n",
              "    <tr>\n",
              "      <th>4</th>\n",
              "      <td>5</td>\n",
              "      <td>1.0</td>\n",
              "      <td>1.0</td>\n",
              "      <td>1.0</td>\n",
              "    </tr>\n",
              "  </tbody>\n",
              "</table>\n",
              "</div>\n",
              "      <button class=\"colab-df-convert\" onclick=\"convertToInteractive('df-652dfbc3-6ade-49b4-9215-bb73d69ad33c')\"\n",
              "              title=\"Convert this dataframe to an interactive table.\"\n",
              "              style=\"display:none;\">\n",
              "        \n",
              "  <svg xmlns=\"http://www.w3.org/2000/svg\" height=\"24px\"viewBox=\"0 0 24 24\"\n",
              "       width=\"24px\">\n",
              "    <path d=\"M0 0h24v24H0V0z\" fill=\"none\"/>\n",
              "    <path d=\"M18.56 5.44l.94 2.06.94-2.06 2.06-.94-2.06-.94-.94-2.06-.94 2.06-2.06.94zm-11 1L8.5 8.5l.94-2.06 2.06-.94-2.06-.94L8.5 2.5l-.94 2.06-2.06.94zm10 10l.94 2.06.94-2.06 2.06-.94-2.06-.94-.94-2.06-.94 2.06-2.06.94z\"/><path d=\"M17.41 7.96l-1.37-1.37c-.4-.4-.92-.59-1.43-.59-.52 0-1.04.2-1.43.59L10.3 9.45l-7.72 7.72c-.78.78-.78 2.05 0 2.83L4 21.41c.39.39.9.59 1.41.59.51 0 1.02-.2 1.41-.59l7.78-7.78 2.81-2.81c.8-.78.8-2.07 0-2.86zM5.41 20L4 18.59l7.72-7.72 1.47 1.35L5.41 20z\"/>\n",
              "  </svg>\n",
              "      </button>\n",
              "      \n",
              "  <style>\n",
              "    .colab-df-container {\n",
              "      display:flex;\n",
              "      flex-wrap:wrap;\n",
              "      gap: 12px;\n",
              "    }\n",
              "\n",
              "    .colab-df-convert {\n",
              "      background-color: #E8F0FE;\n",
              "      border: none;\n",
              "      border-radius: 50%;\n",
              "      cursor: pointer;\n",
              "      display: none;\n",
              "      fill: #1967D2;\n",
              "      height: 32px;\n",
              "      padding: 0 0 0 0;\n",
              "      width: 32px;\n",
              "    }\n",
              "\n",
              "    .colab-df-convert:hover {\n",
              "      background-color: #E2EBFA;\n",
              "      box-shadow: 0px 1px 2px rgba(60, 64, 67, 0.3), 0px 1px 3px 1px rgba(60, 64, 67, 0.15);\n",
              "      fill: #174EA6;\n",
              "    }\n",
              "\n",
              "    [theme=dark] .colab-df-convert {\n",
              "      background-color: #3B4455;\n",
              "      fill: #D2E3FC;\n",
              "    }\n",
              "\n",
              "    [theme=dark] .colab-df-convert:hover {\n",
              "      background-color: #434B5C;\n",
              "      box-shadow: 0px 1px 3px 1px rgba(0, 0, 0, 0.15);\n",
              "      filter: drop-shadow(0px 1px 2px rgba(0, 0, 0, 0.3));\n",
              "      fill: #FFFFFF;\n",
              "    }\n",
              "  </style>\n",
              "\n",
              "      <script>\n",
              "        const buttonEl =\n",
              "          document.querySelector('#df-652dfbc3-6ade-49b4-9215-bb73d69ad33c button.colab-df-convert');\n",
              "        buttonEl.style.display =\n",
              "          google.colab.kernel.accessAllowed ? 'block' : 'none';\n",
              "\n",
              "        async function convertToInteractive(key) {\n",
              "          const element = document.querySelector('#df-652dfbc3-6ade-49b4-9215-bb73d69ad33c');\n",
              "          const dataTable =\n",
              "            await google.colab.kernel.invokeFunction('convertToInteractive',\n",
              "                                                     [key], {});\n",
              "          if (!dataTable) return;\n",
              "\n",
              "          const docLinkHtml = 'Like what you see? Visit the ' +\n",
              "            '<a target=\"_blank\" href=https://colab.research.google.com/notebooks/data_table.ipynb>data table notebook</a>'\n",
              "            + ' to learn more about interactive tables.';\n",
              "          element.innerHTML = '';\n",
              "          dataTable['output_type'] = 'display_data';\n",
              "          await google.colab.output.renderOutput(dataTable, element);\n",
              "          const docLink = document.createElement('div');\n",
              "          docLink.innerHTML = docLinkHtml;\n",
              "          element.appendChild(docLink);\n",
              "        }\n",
              "      </script>\n",
              "    </div>\n",
              "  </div>\n",
              "  "
            ]
          },
          "metadata": {},
          "execution_count": 1139
        }
      ]
    },
    {
      "cell_type": "markdown",
      "source": [
        "# Using QCM7 sensor data for classification"
      ],
      "metadata": {
        "id": "wD7-5LN11fNo"
      }
    },
    {
      "cell_type": "code",
      "source": [
        "# Separating features and target variable\n",
        "y = df_7['Class']\n",
        "data = df_7.drop(columns = ['Class'])"
      ],
      "metadata": {
        "id": "aE3RGwRk1fNp"
      },
      "execution_count": 1140,
      "outputs": []
    },
    {
      "cell_type": "markdown",
      "source": [
        "## Preprocessing"
      ],
      "metadata": {
        "id": "_htnn1Zp1fNp"
      }
    },
    {
      "cell_type": "code",
      "source": [
        "X = Normalizer().fit_transform(data)"
      ],
      "metadata": {
        "id": "bIPadEVt1fNp"
      },
      "execution_count": 1141,
      "outputs": []
    },
    {
      "cell_type": "code",
      "source": [
        "X_train, X_test, y_train, y_test = train_test_split(X, y, test_size=0.2, stratify = y)"
      ],
      "metadata": {
        "id": "NAW9gG011fNp"
      },
      "execution_count": 1142,
      "outputs": []
    },
    {
      "cell_type": "markdown",
      "source": [
        "## Implementing MLP"
      ],
      "metadata": {
        "id": "j8qW5ZE-1fNq"
      }
    },
    {
      "cell_type": "code",
      "source": [
        "clf = MLPClassifier()\n",
        "clf.fit(X_train, y_train)\n",
        "y_pred = clf.predict(X_test)"
      ],
      "metadata": {
        "id": "-S5UPiGp1fNq"
      },
      "execution_count": 1143,
      "outputs": []
    },
    {
      "cell_type": "markdown",
      "source": [
        "### Metrics for MLP"
      ],
      "metadata": {
        "id": "4AuPZocY1fNr"
      }
    },
    {
      "cell_type": "code",
      "source": [
        "cm = multilabel_confusion_matrix(y_test, y_pred, labels= range(5))\n",
        "\n",
        "res = []\n",
        "\n",
        "for l in range(5):\n",
        "    x = cm[l]\n",
        "    tn, fp = x[0]\n",
        "    fn, tp = x[1]\n",
        "    sensitivity = tp / (tp + fn)\n",
        "    specificity = tn / (tn + fp)\n",
        "    precision = tp / (tp + fp)\n",
        "    f1 = (2 * precision * sensitivity) / (precision + sensitivity)\n",
        "    res.append([l+1,sensitivity, specificity, f1])\n",
        "\n",
        "performance = pd.DataFrame(res, columns = ['Class','Sensitivity(Recall)','Specificity', 'F1 score'])\n",
        "\n",
        "performance['F1 score'] = performance['F1 score'].fillna(0)\n",
        "performance['Sensitivity(Recall)'] = performance['Sensitivity(Recall)'].fillna(0)\n",
        "performance['Specificity'] = performance['Specificity'].fillna(0)\n",
        "\n",
        "total_accuracy = accuracy_score(y_test, y_pred)\n",
        "print(\"The total accuracy is\", total_accuracy)\n",
        "performance"
      ],
      "metadata": {
        "colab": {
          "base_uri": "https://localhost:8080/",
          "height": 224
        },
        "outputId": "8e53cbad-bcc7-4fc2-8c90-ecd35f8326f9",
        "id": "7p7vqcK_1fNr"
      },
      "execution_count": 1144,
      "outputs": [
        {
          "output_type": "stream",
          "name": "stdout",
          "text": [
            "The total accuracy is 0.6\n"
          ]
        },
        {
          "output_type": "execute_result",
          "data": {
            "text/plain": [
              "   Class  Sensitivity(Recall)  Specificity  F1 score\n",
              "0      1                  1.0         0.75  0.666667\n",
              "1      2                  1.0         0.75  0.666667\n",
              "2      3                  1.0         1.00  1.000000\n",
              "3      4                  0.0         1.00  0.000000\n",
              "4      5                  0.0         1.00  0.000000"
            ],
            "text/html": [
              "\n",
              "  <div id=\"df-32c5cd67-f753-41cd-a089-4f6c45d014fb\">\n",
              "    <div class=\"colab-df-container\">\n",
              "      <div>\n",
              "<style scoped>\n",
              "    .dataframe tbody tr th:only-of-type {\n",
              "        vertical-align: middle;\n",
              "    }\n",
              "\n",
              "    .dataframe tbody tr th {\n",
              "        vertical-align: top;\n",
              "    }\n",
              "\n",
              "    .dataframe thead th {\n",
              "        text-align: right;\n",
              "    }\n",
              "</style>\n",
              "<table border=\"1\" class=\"dataframe\">\n",
              "  <thead>\n",
              "    <tr style=\"text-align: right;\">\n",
              "      <th></th>\n",
              "      <th>Class</th>\n",
              "      <th>Sensitivity(Recall)</th>\n",
              "      <th>Specificity</th>\n",
              "      <th>F1 score</th>\n",
              "    </tr>\n",
              "  </thead>\n",
              "  <tbody>\n",
              "    <tr>\n",
              "      <th>0</th>\n",
              "      <td>1</td>\n",
              "      <td>1.0</td>\n",
              "      <td>0.75</td>\n",
              "      <td>0.666667</td>\n",
              "    </tr>\n",
              "    <tr>\n",
              "      <th>1</th>\n",
              "      <td>2</td>\n",
              "      <td>1.0</td>\n",
              "      <td>0.75</td>\n",
              "      <td>0.666667</td>\n",
              "    </tr>\n",
              "    <tr>\n",
              "      <th>2</th>\n",
              "      <td>3</td>\n",
              "      <td>1.0</td>\n",
              "      <td>1.00</td>\n",
              "      <td>1.000000</td>\n",
              "    </tr>\n",
              "    <tr>\n",
              "      <th>3</th>\n",
              "      <td>4</td>\n",
              "      <td>0.0</td>\n",
              "      <td>1.00</td>\n",
              "      <td>0.000000</td>\n",
              "    </tr>\n",
              "    <tr>\n",
              "      <th>4</th>\n",
              "      <td>5</td>\n",
              "      <td>0.0</td>\n",
              "      <td>1.00</td>\n",
              "      <td>0.000000</td>\n",
              "    </tr>\n",
              "  </tbody>\n",
              "</table>\n",
              "</div>\n",
              "      <button class=\"colab-df-convert\" onclick=\"convertToInteractive('df-32c5cd67-f753-41cd-a089-4f6c45d014fb')\"\n",
              "              title=\"Convert this dataframe to an interactive table.\"\n",
              "              style=\"display:none;\">\n",
              "        \n",
              "  <svg xmlns=\"http://www.w3.org/2000/svg\" height=\"24px\"viewBox=\"0 0 24 24\"\n",
              "       width=\"24px\">\n",
              "    <path d=\"M0 0h24v24H0V0z\" fill=\"none\"/>\n",
              "    <path d=\"M18.56 5.44l.94 2.06.94-2.06 2.06-.94-2.06-.94-.94-2.06-.94 2.06-2.06.94zm-11 1L8.5 8.5l.94-2.06 2.06-.94-2.06-.94L8.5 2.5l-.94 2.06-2.06.94zm10 10l.94 2.06.94-2.06 2.06-.94-2.06-.94-.94-2.06-.94 2.06-2.06.94z\"/><path d=\"M17.41 7.96l-1.37-1.37c-.4-.4-.92-.59-1.43-.59-.52 0-1.04.2-1.43.59L10.3 9.45l-7.72 7.72c-.78.78-.78 2.05 0 2.83L4 21.41c.39.39.9.59 1.41.59.51 0 1.02-.2 1.41-.59l7.78-7.78 2.81-2.81c.8-.78.8-2.07 0-2.86zM5.41 20L4 18.59l7.72-7.72 1.47 1.35L5.41 20z\"/>\n",
              "  </svg>\n",
              "      </button>\n",
              "      \n",
              "  <style>\n",
              "    .colab-df-container {\n",
              "      display:flex;\n",
              "      flex-wrap:wrap;\n",
              "      gap: 12px;\n",
              "    }\n",
              "\n",
              "    .colab-df-convert {\n",
              "      background-color: #E8F0FE;\n",
              "      border: none;\n",
              "      border-radius: 50%;\n",
              "      cursor: pointer;\n",
              "      display: none;\n",
              "      fill: #1967D2;\n",
              "      height: 32px;\n",
              "      padding: 0 0 0 0;\n",
              "      width: 32px;\n",
              "    }\n",
              "\n",
              "    .colab-df-convert:hover {\n",
              "      background-color: #E2EBFA;\n",
              "      box-shadow: 0px 1px 2px rgba(60, 64, 67, 0.3), 0px 1px 3px 1px rgba(60, 64, 67, 0.15);\n",
              "      fill: #174EA6;\n",
              "    }\n",
              "\n",
              "    [theme=dark] .colab-df-convert {\n",
              "      background-color: #3B4455;\n",
              "      fill: #D2E3FC;\n",
              "    }\n",
              "\n",
              "    [theme=dark] .colab-df-convert:hover {\n",
              "      background-color: #434B5C;\n",
              "      box-shadow: 0px 1px 3px 1px rgba(0, 0, 0, 0.15);\n",
              "      filter: drop-shadow(0px 1px 2px rgba(0, 0, 0, 0.3));\n",
              "      fill: #FFFFFF;\n",
              "    }\n",
              "  </style>\n",
              "\n",
              "      <script>\n",
              "        const buttonEl =\n",
              "          document.querySelector('#df-32c5cd67-f753-41cd-a089-4f6c45d014fb button.colab-df-convert');\n",
              "        buttonEl.style.display =\n",
              "          google.colab.kernel.accessAllowed ? 'block' : 'none';\n",
              "\n",
              "        async function convertToInteractive(key) {\n",
              "          const element = document.querySelector('#df-32c5cd67-f753-41cd-a089-4f6c45d014fb');\n",
              "          const dataTable =\n",
              "            await google.colab.kernel.invokeFunction('convertToInteractive',\n",
              "                                                     [key], {});\n",
              "          if (!dataTable) return;\n",
              "\n",
              "          const docLinkHtml = 'Like what you see? Visit the ' +\n",
              "            '<a target=\"_blank\" href=https://colab.research.google.com/notebooks/data_table.ipynb>data table notebook</a>'\n",
              "            + ' to learn more about interactive tables.';\n",
              "          element.innerHTML = '';\n",
              "          dataTable['output_type'] = 'display_data';\n",
              "          await google.colab.output.renderOutput(dataTable, element);\n",
              "          const docLink = document.createElement('div');\n",
              "          docLink.innerHTML = docLinkHtml;\n",
              "          element.appendChild(docLink);\n",
              "        }\n",
              "      </script>\n",
              "    </div>\n",
              "  </div>\n",
              "  "
            ]
          },
          "metadata": {},
          "execution_count": 1144
        }
      ]
    },
    {
      "cell_type": "markdown",
      "source": [
        "## Implementing SVC"
      ],
      "metadata": {
        "id": "gYHkWnQO1fNs"
      }
    },
    {
      "cell_type": "code",
      "source": [
        "clf = SVC()\n",
        "clf.fit(X_train, y_train)\n",
        "y_pred = clf.predict(X_test)"
      ],
      "metadata": {
        "id": "BXwQqmhT1fNs"
      },
      "execution_count": 1145,
      "outputs": []
    },
    {
      "cell_type": "markdown",
      "source": [
        "### Metrics for SVC"
      ],
      "metadata": {
        "id": "hHdSTVk61fNs"
      }
    },
    {
      "cell_type": "code",
      "source": [
        "cm = multilabel_confusion_matrix(y_test, y_pred, labels= range(5))\n",
        "\n",
        "res = []\n",
        "\n",
        "for l in range(5):\n",
        "    x = cm[l]\n",
        "    tn, fp = x[0]\n",
        "    fn, tp = x[1]\n",
        "    sensitivity = tp / (tp + fn)\n",
        "    specificity = tn / (tn + fp)\n",
        "    precision = tp / (tp + fp)\n",
        "    f1 = (2 * precision * sensitivity) / (precision + sensitivity)\n",
        "    res.append([l+1,sensitivity, specificity, f1])\n",
        "\n",
        "performance = pd.DataFrame(res, columns = ['Class','Sensitivity(Recall)','Specificity', 'F1 score'])\n",
        "\n",
        "performance['F1 score'] = performance['F1 score'].fillna(0)\n",
        "performance['Sensitivity(Recall)'] = performance['Sensitivity(Recall)'].fillna(0)\n",
        "performance['Specificity'] = performance['Specificity'].fillna(0)\n",
        "\n",
        "total_accuracy = accuracy_score(y_test, y_pred)\n",
        "print(\"The total accuracy is\", total_accuracy)\n",
        "performance"
      ],
      "metadata": {
        "colab": {
          "base_uri": "https://localhost:8080/",
          "height": 224
        },
        "outputId": "a5491e6e-c39f-49ad-c488-8403e76f88a6",
        "id": "J7cSbZIO1fNs"
      },
      "execution_count": 1146,
      "outputs": [
        {
          "output_type": "stream",
          "name": "stdout",
          "text": [
            "The total accuracy is 1.0\n"
          ]
        },
        {
          "output_type": "execute_result",
          "data": {
            "text/plain": [
              "   Class  Sensitivity(Recall)  Specificity  F1 score\n",
              "0      1                  1.0          1.0       1.0\n",
              "1      2                  1.0          1.0       1.0\n",
              "2      3                  1.0          1.0       1.0\n",
              "3      4                  1.0          1.0       1.0\n",
              "4      5                  1.0          1.0       1.0"
            ],
            "text/html": [
              "\n",
              "  <div id=\"df-8391697d-882c-4cbd-a2e5-a97e533c16d0\">\n",
              "    <div class=\"colab-df-container\">\n",
              "      <div>\n",
              "<style scoped>\n",
              "    .dataframe tbody tr th:only-of-type {\n",
              "        vertical-align: middle;\n",
              "    }\n",
              "\n",
              "    .dataframe tbody tr th {\n",
              "        vertical-align: top;\n",
              "    }\n",
              "\n",
              "    .dataframe thead th {\n",
              "        text-align: right;\n",
              "    }\n",
              "</style>\n",
              "<table border=\"1\" class=\"dataframe\">\n",
              "  <thead>\n",
              "    <tr style=\"text-align: right;\">\n",
              "      <th></th>\n",
              "      <th>Class</th>\n",
              "      <th>Sensitivity(Recall)</th>\n",
              "      <th>Specificity</th>\n",
              "      <th>F1 score</th>\n",
              "    </tr>\n",
              "  </thead>\n",
              "  <tbody>\n",
              "    <tr>\n",
              "      <th>0</th>\n",
              "      <td>1</td>\n",
              "      <td>1.0</td>\n",
              "      <td>1.0</td>\n",
              "      <td>1.0</td>\n",
              "    </tr>\n",
              "    <tr>\n",
              "      <th>1</th>\n",
              "      <td>2</td>\n",
              "      <td>1.0</td>\n",
              "      <td>1.0</td>\n",
              "      <td>1.0</td>\n",
              "    </tr>\n",
              "    <tr>\n",
              "      <th>2</th>\n",
              "      <td>3</td>\n",
              "      <td>1.0</td>\n",
              "      <td>1.0</td>\n",
              "      <td>1.0</td>\n",
              "    </tr>\n",
              "    <tr>\n",
              "      <th>3</th>\n",
              "      <td>4</td>\n",
              "      <td>1.0</td>\n",
              "      <td>1.0</td>\n",
              "      <td>1.0</td>\n",
              "    </tr>\n",
              "    <tr>\n",
              "      <th>4</th>\n",
              "      <td>5</td>\n",
              "      <td>1.0</td>\n",
              "      <td>1.0</td>\n",
              "      <td>1.0</td>\n",
              "    </tr>\n",
              "  </tbody>\n",
              "</table>\n",
              "</div>\n",
              "      <button class=\"colab-df-convert\" onclick=\"convertToInteractive('df-8391697d-882c-4cbd-a2e5-a97e533c16d0')\"\n",
              "              title=\"Convert this dataframe to an interactive table.\"\n",
              "              style=\"display:none;\">\n",
              "        \n",
              "  <svg xmlns=\"http://www.w3.org/2000/svg\" height=\"24px\"viewBox=\"0 0 24 24\"\n",
              "       width=\"24px\">\n",
              "    <path d=\"M0 0h24v24H0V0z\" fill=\"none\"/>\n",
              "    <path d=\"M18.56 5.44l.94 2.06.94-2.06 2.06-.94-2.06-.94-.94-2.06-.94 2.06-2.06.94zm-11 1L8.5 8.5l.94-2.06 2.06-.94-2.06-.94L8.5 2.5l-.94 2.06-2.06.94zm10 10l.94 2.06.94-2.06 2.06-.94-2.06-.94-.94-2.06-.94 2.06-2.06.94z\"/><path d=\"M17.41 7.96l-1.37-1.37c-.4-.4-.92-.59-1.43-.59-.52 0-1.04.2-1.43.59L10.3 9.45l-7.72 7.72c-.78.78-.78 2.05 0 2.83L4 21.41c.39.39.9.59 1.41.59.51 0 1.02-.2 1.41-.59l7.78-7.78 2.81-2.81c.8-.78.8-2.07 0-2.86zM5.41 20L4 18.59l7.72-7.72 1.47 1.35L5.41 20z\"/>\n",
              "  </svg>\n",
              "      </button>\n",
              "      \n",
              "  <style>\n",
              "    .colab-df-container {\n",
              "      display:flex;\n",
              "      flex-wrap:wrap;\n",
              "      gap: 12px;\n",
              "    }\n",
              "\n",
              "    .colab-df-convert {\n",
              "      background-color: #E8F0FE;\n",
              "      border: none;\n",
              "      border-radius: 50%;\n",
              "      cursor: pointer;\n",
              "      display: none;\n",
              "      fill: #1967D2;\n",
              "      height: 32px;\n",
              "      padding: 0 0 0 0;\n",
              "      width: 32px;\n",
              "    }\n",
              "\n",
              "    .colab-df-convert:hover {\n",
              "      background-color: #E2EBFA;\n",
              "      box-shadow: 0px 1px 2px rgba(60, 64, 67, 0.3), 0px 1px 3px 1px rgba(60, 64, 67, 0.15);\n",
              "      fill: #174EA6;\n",
              "    }\n",
              "\n",
              "    [theme=dark] .colab-df-convert {\n",
              "      background-color: #3B4455;\n",
              "      fill: #D2E3FC;\n",
              "    }\n",
              "\n",
              "    [theme=dark] .colab-df-convert:hover {\n",
              "      background-color: #434B5C;\n",
              "      box-shadow: 0px 1px 3px 1px rgba(0, 0, 0, 0.15);\n",
              "      filter: drop-shadow(0px 1px 2px rgba(0, 0, 0, 0.3));\n",
              "      fill: #FFFFFF;\n",
              "    }\n",
              "  </style>\n",
              "\n",
              "      <script>\n",
              "        const buttonEl =\n",
              "          document.querySelector('#df-8391697d-882c-4cbd-a2e5-a97e533c16d0 button.colab-df-convert');\n",
              "        buttonEl.style.display =\n",
              "          google.colab.kernel.accessAllowed ? 'block' : 'none';\n",
              "\n",
              "        async function convertToInteractive(key) {\n",
              "          const element = document.querySelector('#df-8391697d-882c-4cbd-a2e5-a97e533c16d0');\n",
              "          const dataTable =\n",
              "            await google.colab.kernel.invokeFunction('convertToInteractive',\n",
              "                                                     [key], {});\n",
              "          if (!dataTable) return;\n",
              "\n",
              "          const docLinkHtml = 'Like what you see? Visit the ' +\n",
              "            '<a target=\"_blank\" href=https://colab.research.google.com/notebooks/data_table.ipynb>data table notebook</a>'\n",
              "            + ' to learn more about interactive tables.';\n",
              "          element.innerHTML = '';\n",
              "          dataTable['output_type'] = 'display_data';\n",
              "          await google.colab.output.renderOutput(dataTable, element);\n",
              "          const docLink = document.createElement('div');\n",
              "          docLink.innerHTML = docLinkHtml;\n",
              "          element.appendChild(docLink);\n",
              "        }\n",
              "      </script>\n",
              "    </div>\n",
              "  </div>\n",
              "  "
            ]
          },
          "metadata": {},
          "execution_count": 1146
        }
      ]
    },
    {
      "cell_type": "markdown",
      "source": [
        "# Implementing HMM Learn"
      ],
      "metadata": {
        "id": "CPsVdSUg1fNs"
      }
    },
    {
      "cell_type": "code",
      "source": [
        "# Retriving values for each classes\n",
        "X_1, y_1 = X[0:5], y[0:5]\n",
        "X_2, y_2 = X[5:10], y[5:10]\n",
        "X_3, y_3 = X[10:15], y[10:15]\n",
        "X_4, y_4 = X[15:20], y[15:20]\n",
        "X_5, y_5 = X[20:25], y[20:25]"
      ],
      "metadata": {
        "id": "FxCuFWuR5Jv3"
      },
      "execution_count": 1147,
      "outputs": []
    },
    {
      "cell_type": "code",
      "source": [
        "X_1"
      ],
      "metadata": {
        "colab": {
          "base_uri": "https://localhost:8080/"
        },
        "id": "KeBD-yFx9ilv",
        "outputId": "023dead1-5faf-44e6-e291-33a656d348a4"
      },
      "execution_count": 1148,
      "outputs": [
        {
          "output_type": "execute_result",
          "data": {
            "text/plain": [
              "array([[-0.11214742, -0.14190693, -0.18684579, -0.22619226, -0.27282881,\n",
              "        -0.32345993, -0.35232066, -0.40664675, -0.40574798, -0.49802244],\n",
              "       [-0.11250151, -0.1396321 , -0.19108979, -0.23088132, -0.27537549,\n",
              "        -0.32755666, -0.33325408, -0.40795364, -0.41057626, -0.49884111],\n",
              "       [-0.11296287, -0.13736285, -0.19717155, -0.23241597, -0.27858697,\n",
              "        -0.32820848, -0.33650612, -0.40609124, -0.41003468, -0.49383259],\n",
              "       [-0.11503078, -0.13742548, -0.20193443, -0.23426534, -0.2794369 ,\n",
              "        -0.32865937, -0.33485039, -0.4030281 , -0.41189426, -0.49184257],\n",
              "       [-0.11981503, -0.13735244, -0.20620835, -0.23416758, -0.28476733,\n",
              "        -0.32832336, -0.33896081, -0.39998238, -0.41112295, -0.48644758]])"
            ]
          },
          "metadata": {},
          "execution_count": 1148
        }
      ]
    },
    {
      "cell_type": "code",
      "source": [
        "# Splitting data for each class\n",
        "x_trainc1, x_testc1, y_trainc1, y_testc1 = train_test_split(X_1, y_1, test_size=0.2)\n",
        "\n",
        "x_trainc2, x_testc2, y_trainc2, y_testc2 = train_test_split(X_2, y_2, test_size=0.2)\n",
        "x_trainc3, x_testc3, y_trainc3, y_testc3 = train_test_split(X_3, y_3, test_size=0.2)\n",
        "x_trainc4, x_testc4, y_trainc4, y_testc4 = train_test_split(X_4, y_4, test_size=0.2)\n",
        "x_trainc5, x_testc5, y_trainc5, y_testc5 = train_test_split(X_5, y_5, test_size=0.2)"
      ],
      "metadata": {
        "id": "DkHZekIw6UgZ"
      },
      "execution_count": 1149,
      "outputs": []
    },
    {
      "cell_type": "code",
      "source": [
        "model1 = GaussianHMM(n_components=2, algorithm=\"viterbi\", covariance_type = \"diag\", n_iter = 30).fit(x_trainc1)\n",
        "model2 = GaussianHMM(n_components=2, algorithm=\"viterbi\", covariance_type = \"diag\", n_iter = 30).fit(x_trainc2)\n",
        "model3 = GaussianHMM(n_components=2, algorithm=\"viterbi\", covariance_type = \"diag\", n_iter = 30).fit(x_trainc3)\n",
        "model4 = GaussianHMM(n_components=2, algorithm=\"viterbi\", covariance_type = \"diag\", n_iter = 30).fit(x_trainc4)\n",
        "model5 = GaussianHMM(n_components=2, algorithm=\"viterbi\", covariance_type = \"diag\", n_iter = 30).fit(x_trainc5)"
      ],
      "metadata": {
        "colab": {
          "base_uri": "https://localhost:8080/"
        },
        "id": "U-G_uiXs_rfm",
        "outputId": "af5ee86e-e5bd-4378-b7e4-44d554363f6b"
      },
      "execution_count": 1150,
      "outputs": [
        {
          "output_type": "stream",
          "name": "stderr",
          "text": [
            "Fitting a model with 43 free scalar parameters with only 40 data points will result in a degenerate solution.\n",
            "Fitting a model with 43 free scalar parameters with only 40 data points will result in a degenerate solution.\n",
            "Fitting a model with 43 free scalar parameters with only 40 data points will result in a degenerate solution.\n",
            "Fitting a model with 43 free scalar parameters with only 40 data points will result in a degenerate solution.\n",
            "Fitting a model with 43 free scalar parameters with only 40 data points will result in a degenerate solution.\n"
          ]
        }
      ]
    },
    {
      "cell_type": "code",
      "source": [
        "x_test = [x_testc1, x_testc2,x_testc3,x_testc5]"
      ],
      "metadata": {
        "id": "C0JPKTjy__oU"
      },
      "execution_count": 1151,
      "outputs": []
    },
    {
      "cell_type": "code",
      "source": [
        "pred_prob1 = model1.predict_proba(X_test);\n",
        "pred_prob2 = model2.predict_proba(X_test);\n",
        "pred_prob3 = model1.predict_proba(X_test);\n",
        "pred_prob4 = model2.predict_proba(X_test);\n",
        "pred_prob5 = model1.predict_proba(X_test);"
      ],
      "metadata": {
        "id": "rV9laqDnAZWe"
      },
      "execution_count": 1152,
      "outputs": []
    },
    {
      "cell_type": "code",
      "source": [
        "pred_prob1"
      ],
      "metadata": {
        "id": "BO5LjzaaBOli",
        "colab": {
          "base_uri": "https://localhost:8080/"
        },
        "outputId": "547eff68-f1b0-4ae8-91dd-8527619405d7"
      },
      "execution_count": 1153,
      "outputs": [
        {
          "output_type": "execute_result",
          "data": {
            "text/plain": [
              "array([[0.00154796, 0.99845204],\n",
              "       [0.03003807, 0.96996193],\n",
              "       [0.02907925, 0.97092075],\n",
              "       [0.00483146, 0.99516854],\n",
              "       [0.00271396, 0.99728604]])"
            ]
          },
          "metadata": {},
          "execution_count": 1153
        }
      ]
    },
    {
      "cell_type": "markdown",
      "source": [
        "# Implementing clustering algorithms"
      ],
      "metadata": {
        "id": "fv_Stb051fNt"
      }
    },
    {
      "cell_type": "code",
      "source": [
        "y = y.to_numpy()"
      ],
      "metadata": {
        "id": "Ym730-cA1fNt"
      },
      "execution_count": 1154,
      "outputs": []
    },
    {
      "cell_type": "markdown",
      "source": [
        "# Implementing K means"
      ],
      "metadata": {
        "id": "pgh_LcWy1fNt"
      }
    },
    {
      "cell_type": "code",
      "source": [
        "kmeans = KMeans(n_clusters = 5, random_state=0).fit(X)\n",
        "y_pred = kmeans.predict(X)"
      ],
      "metadata": {
        "id": "-jcevBvG1fNt"
      },
      "execution_count": 1155,
      "outputs": []
    },
    {
      "cell_type": "code",
      "source": [
        "df = pd.DataFrame(y_pred, columns=['Class'])\n",
        "y_pred = df.replace({y_pred[0]: y[0], y_pred[6]: y[6], y_pred[11]: y[11], y_pred[16]: y[16],y_pred[21]: y[21]}).to_numpy()"
      ],
      "metadata": {
        "id": "3Tf9tYc01fNt"
      },
      "execution_count": 1156,
      "outputs": []
    },
    {
      "cell_type": "markdown",
      "source": [
        "### Metrics for KMeans"
      ],
      "metadata": {
        "id": "r8U6993v1fNt"
      }
    },
    {
      "cell_type": "code",
      "source": [
        "cm = multilabel_confusion_matrix(y, y_pred, labels= range(5))\n",
        "\n",
        "res = []\n",
        "\n",
        "for l in range(5):\n",
        "    x = cm[l]\n",
        "    tn, fp = x[0]\n",
        "    fn, tp = x[1]\n",
        "    sensitivity = tp / (tp + fn)\n",
        "    specificity = tn / (tn + fp)\n",
        "    precision = tp / (tp + fp)\n",
        "    f1 = (2 * precision * sensitivity) / (precision + sensitivity)\n",
        "    res.append([l+1,sensitivity, specificity, f1])\n",
        "\n",
        "performance = pd.DataFrame(res, columns = ['Class','Sensitivity(Recall)','Specificity', 'F1 score'])\n",
        "\n",
        "performance['F1 score'] = performance['F1 score'].fillna(0)\n",
        "performance['Sensitivity(Recall)'] = performance['Sensitivity(Recall)'].fillna(0)\n",
        "performance['Specificity'] = performance['Specificity'].fillna(0)\n",
        "\n",
        "total_accuracy = accuracy_score(y, y_pred)\n",
        "print(\"The total accuracy is\", total_accuracy)\n",
        "performance"
      ],
      "metadata": {
        "id": "6UJQG2at1fNt",
        "colab": {
          "base_uri": "https://localhost:8080/",
          "height": 224
        },
        "outputId": "c5f6d3be-279e-4c3f-b9a2-4586bdfb7438"
      },
      "execution_count": 1157,
      "outputs": [
        {
          "output_type": "stream",
          "name": "stdout",
          "text": [
            "The total accuracy is 1.0\n"
          ]
        },
        {
          "output_type": "execute_result",
          "data": {
            "text/plain": [
              "   Class  Sensitivity(Recall)  Specificity  F1 score\n",
              "0      1                  1.0          1.0       1.0\n",
              "1      2                  1.0          1.0       1.0\n",
              "2      3                  1.0          1.0       1.0\n",
              "3      4                  1.0          1.0       1.0\n",
              "4      5                  1.0          1.0       1.0"
            ],
            "text/html": [
              "\n",
              "  <div id=\"df-f137e39d-5d91-4e73-ac58-5d12f3420034\">\n",
              "    <div class=\"colab-df-container\">\n",
              "      <div>\n",
              "<style scoped>\n",
              "    .dataframe tbody tr th:only-of-type {\n",
              "        vertical-align: middle;\n",
              "    }\n",
              "\n",
              "    .dataframe tbody tr th {\n",
              "        vertical-align: top;\n",
              "    }\n",
              "\n",
              "    .dataframe thead th {\n",
              "        text-align: right;\n",
              "    }\n",
              "</style>\n",
              "<table border=\"1\" class=\"dataframe\">\n",
              "  <thead>\n",
              "    <tr style=\"text-align: right;\">\n",
              "      <th></th>\n",
              "      <th>Class</th>\n",
              "      <th>Sensitivity(Recall)</th>\n",
              "      <th>Specificity</th>\n",
              "      <th>F1 score</th>\n",
              "    </tr>\n",
              "  </thead>\n",
              "  <tbody>\n",
              "    <tr>\n",
              "      <th>0</th>\n",
              "      <td>1</td>\n",
              "      <td>1.0</td>\n",
              "      <td>1.0</td>\n",
              "      <td>1.0</td>\n",
              "    </tr>\n",
              "    <tr>\n",
              "      <th>1</th>\n",
              "      <td>2</td>\n",
              "      <td>1.0</td>\n",
              "      <td>1.0</td>\n",
              "      <td>1.0</td>\n",
              "    </tr>\n",
              "    <tr>\n",
              "      <th>2</th>\n",
              "      <td>3</td>\n",
              "      <td>1.0</td>\n",
              "      <td>1.0</td>\n",
              "      <td>1.0</td>\n",
              "    </tr>\n",
              "    <tr>\n",
              "      <th>3</th>\n",
              "      <td>4</td>\n",
              "      <td>1.0</td>\n",
              "      <td>1.0</td>\n",
              "      <td>1.0</td>\n",
              "    </tr>\n",
              "    <tr>\n",
              "      <th>4</th>\n",
              "      <td>5</td>\n",
              "      <td>1.0</td>\n",
              "      <td>1.0</td>\n",
              "      <td>1.0</td>\n",
              "    </tr>\n",
              "  </tbody>\n",
              "</table>\n",
              "</div>\n",
              "      <button class=\"colab-df-convert\" onclick=\"convertToInteractive('df-f137e39d-5d91-4e73-ac58-5d12f3420034')\"\n",
              "              title=\"Convert this dataframe to an interactive table.\"\n",
              "              style=\"display:none;\">\n",
              "        \n",
              "  <svg xmlns=\"http://www.w3.org/2000/svg\" height=\"24px\"viewBox=\"0 0 24 24\"\n",
              "       width=\"24px\">\n",
              "    <path d=\"M0 0h24v24H0V0z\" fill=\"none\"/>\n",
              "    <path d=\"M18.56 5.44l.94 2.06.94-2.06 2.06-.94-2.06-.94-.94-2.06-.94 2.06-2.06.94zm-11 1L8.5 8.5l.94-2.06 2.06-.94-2.06-.94L8.5 2.5l-.94 2.06-2.06.94zm10 10l.94 2.06.94-2.06 2.06-.94-2.06-.94-.94-2.06-.94 2.06-2.06.94z\"/><path d=\"M17.41 7.96l-1.37-1.37c-.4-.4-.92-.59-1.43-.59-.52 0-1.04.2-1.43.59L10.3 9.45l-7.72 7.72c-.78.78-.78 2.05 0 2.83L4 21.41c.39.39.9.59 1.41.59.51 0 1.02-.2 1.41-.59l7.78-7.78 2.81-2.81c.8-.78.8-2.07 0-2.86zM5.41 20L4 18.59l7.72-7.72 1.47 1.35L5.41 20z\"/>\n",
              "  </svg>\n",
              "      </button>\n",
              "      \n",
              "  <style>\n",
              "    .colab-df-container {\n",
              "      display:flex;\n",
              "      flex-wrap:wrap;\n",
              "      gap: 12px;\n",
              "    }\n",
              "\n",
              "    .colab-df-convert {\n",
              "      background-color: #E8F0FE;\n",
              "      border: none;\n",
              "      border-radius: 50%;\n",
              "      cursor: pointer;\n",
              "      display: none;\n",
              "      fill: #1967D2;\n",
              "      height: 32px;\n",
              "      padding: 0 0 0 0;\n",
              "      width: 32px;\n",
              "    }\n",
              "\n",
              "    .colab-df-convert:hover {\n",
              "      background-color: #E2EBFA;\n",
              "      box-shadow: 0px 1px 2px rgba(60, 64, 67, 0.3), 0px 1px 3px 1px rgba(60, 64, 67, 0.15);\n",
              "      fill: #174EA6;\n",
              "    }\n",
              "\n",
              "    [theme=dark] .colab-df-convert {\n",
              "      background-color: #3B4455;\n",
              "      fill: #D2E3FC;\n",
              "    }\n",
              "\n",
              "    [theme=dark] .colab-df-convert:hover {\n",
              "      background-color: #434B5C;\n",
              "      box-shadow: 0px 1px 3px 1px rgba(0, 0, 0, 0.15);\n",
              "      filter: drop-shadow(0px 1px 2px rgba(0, 0, 0, 0.3));\n",
              "      fill: #FFFFFF;\n",
              "    }\n",
              "  </style>\n",
              "\n",
              "      <script>\n",
              "        const buttonEl =\n",
              "          document.querySelector('#df-f137e39d-5d91-4e73-ac58-5d12f3420034 button.colab-df-convert');\n",
              "        buttonEl.style.display =\n",
              "          google.colab.kernel.accessAllowed ? 'block' : 'none';\n",
              "\n",
              "        async function convertToInteractive(key) {\n",
              "          const element = document.querySelector('#df-f137e39d-5d91-4e73-ac58-5d12f3420034');\n",
              "          const dataTable =\n",
              "            await google.colab.kernel.invokeFunction('convertToInteractive',\n",
              "                                                     [key], {});\n",
              "          if (!dataTable) return;\n",
              "\n",
              "          const docLinkHtml = 'Like what you see? Visit the ' +\n",
              "            '<a target=\"_blank\" href=https://colab.research.google.com/notebooks/data_table.ipynb>data table notebook</a>'\n",
              "            + ' to learn more about interactive tables.';\n",
              "          element.innerHTML = '';\n",
              "          dataTable['output_type'] = 'display_data';\n",
              "          await google.colab.output.renderOutput(dataTable, element);\n",
              "          const docLink = document.createElement('div');\n",
              "          docLink.innerHTML = docLinkHtml;\n",
              "          element.appendChild(docLink);\n",
              "        }\n",
              "      </script>\n",
              "    </div>\n",
              "  </div>\n",
              "  "
            ]
          },
          "metadata": {},
          "execution_count": 1157
        }
      ]
    },
    {
      "cell_type": "markdown",
      "source": [
        "# Implementing FCMeans"
      ],
      "metadata": {
        "id": "fQmypJaG1fNu"
      }
    },
    {
      "cell_type": "code",
      "source": [
        "from fcmeans import FCM\n",
        "fcm = FCM(n_clusters = 5)\n",
        "fcm.fit(X)\n",
        "y_pred = fcm.predict(X)"
      ],
      "metadata": {
        "id": "lDgvGVMC1fNu"
      },
      "execution_count": 1158,
      "outputs": []
    },
    {
      "cell_type": "code",
      "source": [
        "df = pd.DataFrame(y_pred, columns=['Class'])\n",
        "y_pred = df.replace({y_pred[0]: y[0], y_pred[6]: y[6], y_pred[11]: y[11], y_pred[16]: y[16],y_pred[21]: y[21]}).to_numpy()"
      ],
      "metadata": {
        "id": "gwERrEe01fNu"
      },
      "execution_count": 1159,
      "outputs": []
    },
    {
      "cell_type": "markdown",
      "source": [
        "### Metrics for FCMeans"
      ],
      "metadata": {
        "id": "OddVTzAl1fNu"
      }
    },
    {
      "cell_type": "code",
      "source": [
        "cm = multilabel_confusion_matrix(y, y_pred, labels= range(5))\n",
        "\n",
        "res = []\n",
        "\n",
        "for l in range(5):\n",
        "    x = cm[l]\n",
        "    tn, fp = x[0]\n",
        "    fn, tp = x[1]\n",
        "    sensitivity = tp / (tp + fn)\n",
        "    specificity = tn / (tn + fp)\n",
        "    precision = tp / (tp + fp)\n",
        "    f1 = (2 * precision * sensitivity) / (precision + sensitivity)\n",
        "    res.append([l+1,sensitivity, specificity, f1])\n",
        "\n",
        "performance = pd.DataFrame(res, columns = ['Class','Sensitivity(Recall)','Specificity', 'F1 score'])\n",
        "\n",
        "performance['F1 score'] = performance['F1 score'].fillna(0)\n",
        "performance['Sensitivity(Recall)'] = performance['Sensitivity(Recall)'].fillna(0)\n",
        "performance['Specificity'] = performance['Specificity'].fillna(0)\n",
        "\n",
        "total_accuracy = accuracy_score(y, y_pred)\n",
        "print(\"The total accuracy is\", total_accuracy)\n",
        "performance"
      ],
      "metadata": {
        "id": "-HzpeqqH1fNu",
        "colab": {
          "base_uri": "https://localhost:8080/",
          "height": 224
        },
        "outputId": "55b18800-8591-49d9-a927-25c2c1549c2a"
      },
      "execution_count": 1160,
      "outputs": [
        {
          "output_type": "stream",
          "name": "stdout",
          "text": [
            "The total accuracy is 1.0\n"
          ]
        },
        {
          "output_type": "execute_result",
          "data": {
            "text/plain": [
              "   Class  Sensitivity(Recall)  Specificity  F1 score\n",
              "0      1                  1.0          1.0       1.0\n",
              "1      2                  1.0          1.0       1.0\n",
              "2      3                  1.0          1.0       1.0\n",
              "3      4                  1.0          1.0       1.0\n",
              "4      5                  1.0          1.0       1.0"
            ],
            "text/html": [
              "\n",
              "  <div id=\"df-b720a173-5a64-4669-b7e8-4dbf393401ba\">\n",
              "    <div class=\"colab-df-container\">\n",
              "      <div>\n",
              "<style scoped>\n",
              "    .dataframe tbody tr th:only-of-type {\n",
              "        vertical-align: middle;\n",
              "    }\n",
              "\n",
              "    .dataframe tbody tr th {\n",
              "        vertical-align: top;\n",
              "    }\n",
              "\n",
              "    .dataframe thead th {\n",
              "        text-align: right;\n",
              "    }\n",
              "</style>\n",
              "<table border=\"1\" class=\"dataframe\">\n",
              "  <thead>\n",
              "    <tr style=\"text-align: right;\">\n",
              "      <th></th>\n",
              "      <th>Class</th>\n",
              "      <th>Sensitivity(Recall)</th>\n",
              "      <th>Specificity</th>\n",
              "      <th>F1 score</th>\n",
              "    </tr>\n",
              "  </thead>\n",
              "  <tbody>\n",
              "    <tr>\n",
              "      <th>0</th>\n",
              "      <td>1</td>\n",
              "      <td>1.0</td>\n",
              "      <td>1.0</td>\n",
              "      <td>1.0</td>\n",
              "    </tr>\n",
              "    <tr>\n",
              "      <th>1</th>\n",
              "      <td>2</td>\n",
              "      <td>1.0</td>\n",
              "      <td>1.0</td>\n",
              "      <td>1.0</td>\n",
              "    </tr>\n",
              "    <tr>\n",
              "      <th>2</th>\n",
              "      <td>3</td>\n",
              "      <td>1.0</td>\n",
              "      <td>1.0</td>\n",
              "      <td>1.0</td>\n",
              "    </tr>\n",
              "    <tr>\n",
              "      <th>3</th>\n",
              "      <td>4</td>\n",
              "      <td>1.0</td>\n",
              "      <td>1.0</td>\n",
              "      <td>1.0</td>\n",
              "    </tr>\n",
              "    <tr>\n",
              "      <th>4</th>\n",
              "      <td>5</td>\n",
              "      <td>1.0</td>\n",
              "      <td>1.0</td>\n",
              "      <td>1.0</td>\n",
              "    </tr>\n",
              "  </tbody>\n",
              "</table>\n",
              "</div>\n",
              "      <button class=\"colab-df-convert\" onclick=\"convertToInteractive('df-b720a173-5a64-4669-b7e8-4dbf393401ba')\"\n",
              "              title=\"Convert this dataframe to an interactive table.\"\n",
              "              style=\"display:none;\">\n",
              "        \n",
              "  <svg xmlns=\"http://www.w3.org/2000/svg\" height=\"24px\"viewBox=\"0 0 24 24\"\n",
              "       width=\"24px\">\n",
              "    <path d=\"M0 0h24v24H0V0z\" fill=\"none\"/>\n",
              "    <path d=\"M18.56 5.44l.94 2.06.94-2.06 2.06-.94-2.06-.94-.94-2.06-.94 2.06-2.06.94zm-11 1L8.5 8.5l.94-2.06 2.06-.94-2.06-.94L8.5 2.5l-.94 2.06-2.06.94zm10 10l.94 2.06.94-2.06 2.06-.94-2.06-.94-.94-2.06-.94 2.06-2.06.94z\"/><path d=\"M17.41 7.96l-1.37-1.37c-.4-.4-.92-.59-1.43-.59-.52 0-1.04.2-1.43.59L10.3 9.45l-7.72 7.72c-.78.78-.78 2.05 0 2.83L4 21.41c.39.39.9.59 1.41.59.51 0 1.02-.2 1.41-.59l7.78-7.78 2.81-2.81c.8-.78.8-2.07 0-2.86zM5.41 20L4 18.59l7.72-7.72 1.47 1.35L5.41 20z\"/>\n",
              "  </svg>\n",
              "      </button>\n",
              "      \n",
              "  <style>\n",
              "    .colab-df-container {\n",
              "      display:flex;\n",
              "      flex-wrap:wrap;\n",
              "      gap: 12px;\n",
              "    }\n",
              "\n",
              "    .colab-df-convert {\n",
              "      background-color: #E8F0FE;\n",
              "      border: none;\n",
              "      border-radius: 50%;\n",
              "      cursor: pointer;\n",
              "      display: none;\n",
              "      fill: #1967D2;\n",
              "      height: 32px;\n",
              "      padding: 0 0 0 0;\n",
              "      width: 32px;\n",
              "    }\n",
              "\n",
              "    .colab-df-convert:hover {\n",
              "      background-color: #E2EBFA;\n",
              "      box-shadow: 0px 1px 2px rgba(60, 64, 67, 0.3), 0px 1px 3px 1px rgba(60, 64, 67, 0.15);\n",
              "      fill: #174EA6;\n",
              "    }\n",
              "\n",
              "    [theme=dark] .colab-df-convert {\n",
              "      background-color: #3B4455;\n",
              "      fill: #D2E3FC;\n",
              "    }\n",
              "\n",
              "    [theme=dark] .colab-df-convert:hover {\n",
              "      background-color: #434B5C;\n",
              "      box-shadow: 0px 1px 3px 1px rgba(0, 0, 0, 0.15);\n",
              "      filter: drop-shadow(0px 1px 2px rgba(0, 0, 0, 0.3));\n",
              "      fill: #FFFFFF;\n",
              "    }\n",
              "  </style>\n",
              "\n",
              "      <script>\n",
              "        const buttonEl =\n",
              "          document.querySelector('#df-b720a173-5a64-4669-b7e8-4dbf393401ba button.colab-df-convert');\n",
              "        buttonEl.style.display =\n",
              "          google.colab.kernel.accessAllowed ? 'block' : 'none';\n",
              "\n",
              "        async function convertToInteractive(key) {\n",
              "          const element = document.querySelector('#df-b720a173-5a64-4669-b7e8-4dbf393401ba');\n",
              "          const dataTable =\n",
              "            await google.colab.kernel.invokeFunction('convertToInteractive',\n",
              "                                                     [key], {});\n",
              "          if (!dataTable) return;\n",
              "\n",
              "          const docLinkHtml = 'Like what you see? Visit the ' +\n",
              "            '<a target=\"_blank\" href=https://colab.research.google.com/notebooks/data_table.ipynb>data table notebook</a>'\n",
              "            + ' to learn more about interactive tables.';\n",
              "          element.innerHTML = '';\n",
              "          dataTable['output_type'] = 'display_data';\n",
              "          await google.colab.output.renderOutput(dataTable, element);\n",
              "          const docLink = document.createElement('div');\n",
              "          docLink.innerHTML = docLinkHtml;\n",
              "          element.appendChild(docLink);\n",
              "        }\n",
              "      </script>\n",
              "    </div>\n",
              "  </div>\n",
              "  "
            ]
          },
          "metadata": {},
          "execution_count": 1160
        }
      ]
    },
    {
      "cell_type": "markdown",
      "source": [
        "# Using QCM10 sensor data for classification"
      ],
      "metadata": {
        "id": "YKGsyxXn1jMT"
      }
    },
    {
      "cell_type": "code",
      "source": [
        "# Separating features and target variable\n",
        "y = df_10['Class']\n",
        "X = df_10.drop(columns = ['Class'])"
      ],
      "metadata": {
        "id": "vli7M7Ma1jMT"
      },
      "execution_count": 1161,
      "outputs": []
    },
    {
      "cell_type": "markdown",
      "source": [
        "## Preprocessing"
      ],
      "metadata": {
        "id": "KN7o1iWd1jMT"
      }
    },
    {
      "cell_type": "code",
      "source": [
        "X = Normalizer().fit_transform(X)"
      ],
      "metadata": {
        "id": "FJ2UEyW01jMU"
      },
      "execution_count": 1162,
      "outputs": []
    },
    {
      "cell_type": "code",
      "source": [
        "X_train, X_test, y_train, y_test = train_test_split(X, y, test_size=0.2, stratify = y)"
      ],
      "metadata": {
        "id": "Dif1rl1W1jMU"
      },
      "execution_count": 1163,
      "outputs": []
    },
    {
      "cell_type": "markdown",
      "source": [
        "## Implementing MLP"
      ],
      "metadata": {
        "id": "HMBuWFr91jMU"
      }
    },
    {
      "cell_type": "code",
      "source": [
        "clf = MLPClassifier()\n",
        "clf.fit(X_train, y_train)\n",
        "y_pred = clf.predict(X_test)"
      ],
      "metadata": {
        "id": "ouUCRTEn1jMU"
      },
      "execution_count": 1164,
      "outputs": []
    },
    {
      "cell_type": "markdown",
      "source": [
        "### Metrics for MLP"
      ],
      "metadata": {
        "id": "JsZWjhRi1jMU"
      }
    },
    {
      "cell_type": "code",
      "source": [
        "cm = multilabel_confusion_matrix(y_test, y_pred, labels= range(5))\n",
        "\n",
        "res = []\n",
        "\n",
        "for l in range(5):\n",
        "    x = cm[l]\n",
        "    tn, fp = x[0]\n",
        "    fn, tp = x[1]\n",
        "    sensitivity = tp / (tp + fn)\n",
        "    specificity = tn / (tn + fp)\n",
        "    precision = tp / (tp + fp)\n",
        "    f1 = (2 * precision * sensitivity) / (precision + sensitivity)\n",
        "    res.append([l+1,sensitivity, specificity, f1])\n",
        "\n",
        "performance = pd.DataFrame(res, columns = ['Class','Sensitivity(Recall)','Specificity', 'F1 score'])\n",
        "\n",
        "performance['F1 score'] = performance['F1 score'].fillna(0)\n",
        "performance['Sensitivity(Recall)'] = performance['Sensitivity(Recall)'].fillna(0)\n",
        "performance['Specificity'] = performance['Specificity'].fillna(0)\n",
        "\n",
        "total_accuracy = accuracy_score(y_test, y_pred)\n",
        "print(\"The total accuracy is\", total_accuracy)\n",
        "performance"
      ],
      "metadata": {
        "id": "XpngZ86X1jMU",
        "colab": {
          "base_uri": "https://localhost:8080/",
          "height": 224
        },
        "outputId": "2ff760ff-4321-4a68-c9e7-75c9a3fc37fd"
      },
      "execution_count": 1165,
      "outputs": [
        {
          "output_type": "stream",
          "name": "stdout",
          "text": [
            "The total accuracy is 0.4\n"
          ]
        },
        {
          "output_type": "execute_result",
          "data": {
            "text/plain": [
              "   Class  Sensitivity(Recall)  Specificity  F1 score\n",
              "0      1                  1.0         0.75  0.666667\n",
              "1      2                  0.0         1.00  0.000000\n",
              "2      3                  0.0         1.00  0.000000\n",
              "3      4                  1.0         0.50  0.500000\n",
              "4      5                  0.0         1.00  0.000000"
            ],
            "text/html": [
              "\n",
              "  <div id=\"df-a714c056-dfb7-46d1-87f9-12f1b884c50f\">\n",
              "    <div class=\"colab-df-container\">\n",
              "      <div>\n",
              "<style scoped>\n",
              "    .dataframe tbody tr th:only-of-type {\n",
              "        vertical-align: middle;\n",
              "    }\n",
              "\n",
              "    .dataframe tbody tr th {\n",
              "        vertical-align: top;\n",
              "    }\n",
              "\n",
              "    .dataframe thead th {\n",
              "        text-align: right;\n",
              "    }\n",
              "</style>\n",
              "<table border=\"1\" class=\"dataframe\">\n",
              "  <thead>\n",
              "    <tr style=\"text-align: right;\">\n",
              "      <th></th>\n",
              "      <th>Class</th>\n",
              "      <th>Sensitivity(Recall)</th>\n",
              "      <th>Specificity</th>\n",
              "      <th>F1 score</th>\n",
              "    </tr>\n",
              "  </thead>\n",
              "  <tbody>\n",
              "    <tr>\n",
              "      <th>0</th>\n",
              "      <td>1</td>\n",
              "      <td>1.0</td>\n",
              "      <td>0.75</td>\n",
              "      <td>0.666667</td>\n",
              "    </tr>\n",
              "    <tr>\n",
              "      <th>1</th>\n",
              "      <td>2</td>\n",
              "      <td>0.0</td>\n",
              "      <td>1.00</td>\n",
              "      <td>0.000000</td>\n",
              "    </tr>\n",
              "    <tr>\n",
              "      <th>2</th>\n",
              "      <td>3</td>\n",
              "      <td>0.0</td>\n",
              "      <td>1.00</td>\n",
              "      <td>0.000000</td>\n",
              "    </tr>\n",
              "    <tr>\n",
              "      <th>3</th>\n",
              "      <td>4</td>\n",
              "      <td>1.0</td>\n",
              "      <td>0.50</td>\n",
              "      <td>0.500000</td>\n",
              "    </tr>\n",
              "    <tr>\n",
              "      <th>4</th>\n",
              "      <td>5</td>\n",
              "      <td>0.0</td>\n",
              "      <td>1.00</td>\n",
              "      <td>0.000000</td>\n",
              "    </tr>\n",
              "  </tbody>\n",
              "</table>\n",
              "</div>\n",
              "      <button class=\"colab-df-convert\" onclick=\"convertToInteractive('df-a714c056-dfb7-46d1-87f9-12f1b884c50f')\"\n",
              "              title=\"Convert this dataframe to an interactive table.\"\n",
              "              style=\"display:none;\">\n",
              "        \n",
              "  <svg xmlns=\"http://www.w3.org/2000/svg\" height=\"24px\"viewBox=\"0 0 24 24\"\n",
              "       width=\"24px\">\n",
              "    <path d=\"M0 0h24v24H0V0z\" fill=\"none\"/>\n",
              "    <path d=\"M18.56 5.44l.94 2.06.94-2.06 2.06-.94-2.06-.94-.94-2.06-.94 2.06-2.06.94zm-11 1L8.5 8.5l.94-2.06 2.06-.94-2.06-.94L8.5 2.5l-.94 2.06-2.06.94zm10 10l.94 2.06.94-2.06 2.06-.94-2.06-.94-.94-2.06-.94 2.06-2.06.94z\"/><path d=\"M17.41 7.96l-1.37-1.37c-.4-.4-.92-.59-1.43-.59-.52 0-1.04.2-1.43.59L10.3 9.45l-7.72 7.72c-.78.78-.78 2.05 0 2.83L4 21.41c.39.39.9.59 1.41.59.51 0 1.02-.2 1.41-.59l7.78-7.78 2.81-2.81c.8-.78.8-2.07 0-2.86zM5.41 20L4 18.59l7.72-7.72 1.47 1.35L5.41 20z\"/>\n",
              "  </svg>\n",
              "      </button>\n",
              "      \n",
              "  <style>\n",
              "    .colab-df-container {\n",
              "      display:flex;\n",
              "      flex-wrap:wrap;\n",
              "      gap: 12px;\n",
              "    }\n",
              "\n",
              "    .colab-df-convert {\n",
              "      background-color: #E8F0FE;\n",
              "      border: none;\n",
              "      border-radius: 50%;\n",
              "      cursor: pointer;\n",
              "      display: none;\n",
              "      fill: #1967D2;\n",
              "      height: 32px;\n",
              "      padding: 0 0 0 0;\n",
              "      width: 32px;\n",
              "    }\n",
              "\n",
              "    .colab-df-convert:hover {\n",
              "      background-color: #E2EBFA;\n",
              "      box-shadow: 0px 1px 2px rgba(60, 64, 67, 0.3), 0px 1px 3px 1px rgba(60, 64, 67, 0.15);\n",
              "      fill: #174EA6;\n",
              "    }\n",
              "\n",
              "    [theme=dark] .colab-df-convert {\n",
              "      background-color: #3B4455;\n",
              "      fill: #D2E3FC;\n",
              "    }\n",
              "\n",
              "    [theme=dark] .colab-df-convert:hover {\n",
              "      background-color: #434B5C;\n",
              "      box-shadow: 0px 1px 3px 1px rgba(0, 0, 0, 0.15);\n",
              "      filter: drop-shadow(0px 1px 2px rgba(0, 0, 0, 0.3));\n",
              "      fill: #FFFFFF;\n",
              "    }\n",
              "  </style>\n",
              "\n",
              "      <script>\n",
              "        const buttonEl =\n",
              "          document.querySelector('#df-a714c056-dfb7-46d1-87f9-12f1b884c50f button.colab-df-convert');\n",
              "        buttonEl.style.display =\n",
              "          google.colab.kernel.accessAllowed ? 'block' : 'none';\n",
              "\n",
              "        async function convertToInteractive(key) {\n",
              "          const element = document.querySelector('#df-a714c056-dfb7-46d1-87f9-12f1b884c50f');\n",
              "          const dataTable =\n",
              "            await google.colab.kernel.invokeFunction('convertToInteractive',\n",
              "                                                     [key], {});\n",
              "          if (!dataTable) return;\n",
              "\n",
              "          const docLinkHtml = 'Like what you see? Visit the ' +\n",
              "            '<a target=\"_blank\" href=https://colab.research.google.com/notebooks/data_table.ipynb>data table notebook</a>'\n",
              "            + ' to learn more about interactive tables.';\n",
              "          element.innerHTML = '';\n",
              "          dataTable['output_type'] = 'display_data';\n",
              "          await google.colab.output.renderOutput(dataTable, element);\n",
              "          const docLink = document.createElement('div');\n",
              "          docLink.innerHTML = docLinkHtml;\n",
              "          element.appendChild(docLink);\n",
              "        }\n",
              "      </script>\n",
              "    </div>\n",
              "  </div>\n",
              "  "
            ]
          },
          "metadata": {},
          "execution_count": 1165
        }
      ]
    },
    {
      "cell_type": "markdown",
      "source": [
        "## Implementing SVC"
      ],
      "metadata": {
        "id": "iUXSRQ9_1jMV"
      }
    },
    {
      "cell_type": "code",
      "source": [
        "clf = SVC()\n",
        "clf.fit(X_train, y_train)\n",
        "y_pred = clf.predict(X_test)"
      ],
      "metadata": {
        "id": "RtnOdP1O1jMV"
      },
      "execution_count": 1166,
      "outputs": []
    },
    {
      "cell_type": "markdown",
      "source": [
        "### Metrics for SVC"
      ],
      "metadata": {
        "id": "WGNywtm01jMV"
      }
    },
    {
      "cell_type": "code",
      "source": [
        "cm = multilabel_confusion_matrix(y_test, y_pred, labels= range(5))\n",
        "\n",
        "res = []\n",
        "\n",
        "for l in range(5):\n",
        "    x = cm[l]\n",
        "    tn, fp = x[0]\n",
        "    fn, tp = x[1]\n",
        "    sensitivity = tp / (tp + fn)\n",
        "    specificity = tn / (tn + fp)\n",
        "    precision = tp / (tp + fp)\n",
        "    f1 = (2 * precision * sensitivity) / (precision + sensitivity)\n",
        "    res.append([l+1,sensitivity, specificity, f1])\n",
        "\n",
        "performance = pd.DataFrame(res, columns = ['Class','Sensitivity(Recall)','Specificity', 'F1 score'])\n",
        "\n",
        "performance['F1 score'] = performance['F1 score'].fillna(0)\n",
        "performance['Sensitivity(Recall)'] = performance['Sensitivity(Recall)'].fillna(0)\n",
        "performance['Specificity'] = performance['Specificity'].fillna(0)\n",
        "\n",
        "total_accuracy = accuracy_score(y_test, y_pred)\n",
        "print(\"The total accuracy is\", total_accuracy)\n",
        "performance"
      ],
      "metadata": {
        "id": "w2Q9tzXP1jMV",
        "colab": {
          "base_uri": "https://localhost:8080/",
          "height": 224
        },
        "outputId": "3386c076-1c49-4790-bba0-4dac6225c29c"
      },
      "execution_count": 1167,
      "outputs": [
        {
          "output_type": "stream",
          "name": "stdout",
          "text": [
            "The total accuracy is 1.0\n"
          ]
        },
        {
          "output_type": "execute_result",
          "data": {
            "text/plain": [
              "   Class  Sensitivity(Recall)  Specificity  F1 score\n",
              "0      1                  1.0          1.0       1.0\n",
              "1      2                  1.0          1.0       1.0\n",
              "2      3                  1.0          1.0       1.0\n",
              "3      4                  1.0          1.0       1.0\n",
              "4      5                  1.0          1.0       1.0"
            ],
            "text/html": [
              "\n",
              "  <div id=\"df-ee509308-3167-4d2b-b2f6-ef22d1501402\">\n",
              "    <div class=\"colab-df-container\">\n",
              "      <div>\n",
              "<style scoped>\n",
              "    .dataframe tbody tr th:only-of-type {\n",
              "        vertical-align: middle;\n",
              "    }\n",
              "\n",
              "    .dataframe tbody tr th {\n",
              "        vertical-align: top;\n",
              "    }\n",
              "\n",
              "    .dataframe thead th {\n",
              "        text-align: right;\n",
              "    }\n",
              "</style>\n",
              "<table border=\"1\" class=\"dataframe\">\n",
              "  <thead>\n",
              "    <tr style=\"text-align: right;\">\n",
              "      <th></th>\n",
              "      <th>Class</th>\n",
              "      <th>Sensitivity(Recall)</th>\n",
              "      <th>Specificity</th>\n",
              "      <th>F1 score</th>\n",
              "    </tr>\n",
              "  </thead>\n",
              "  <tbody>\n",
              "    <tr>\n",
              "      <th>0</th>\n",
              "      <td>1</td>\n",
              "      <td>1.0</td>\n",
              "      <td>1.0</td>\n",
              "      <td>1.0</td>\n",
              "    </tr>\n",
              "    <tr>\n",
              "      <th>1</th>\n",
              "      <td>2</td>\n",
              "      <td>1.0</td>\n",
              "      <td>1.0</td>\n",
              "      <td>1.0</td>\n",
              "    </tr>\n",
              "    <tr>\n",
              "      <th>2</th>\n",
              "      <td>3</td>\n",
              "      <td>1.0</td>\n",
              "      <td>1.0</td>\n",
              "      <td>1.0</td>\n",
              "    </tr>\n",
              "    <tr>\n",
              "      <th>3</th>\n",
              "      <td>4</td>\n",
              "      <td>1.0</td>\n",
              "      <td>1.0</td>\n",
              "      <td>1.0</td>\n",
              "    </tr>\n",
              "    <tr>\n",
              "      <th>4</th>\n",
              "      <td>5</td>\n",
              "      <td>1.0</td>\n",
              "      <td>1.0</td>\n",
              "      <td>1.0</td>\n",
              "    </tr>\n",
              "  </tbody>\n",
              "</table>\n",
              "</div>\n",
              "      <button class=\"colab-df-convert\" onclick=\"convertToInteractive('df-ee509308-3167-4d2b-b2f6-ef22d1501402')\"\n",
              "              title=\"Convert this dataframe to an interactive table.\"\n",
              "              style=\"display:none;\">\n",
              "        \n",
              "  <svg xmlns=\"http://www.w3.org/2000/svg\" height=\"24px\"viewBox=\"0 0 24 24\"\n",
              "       width=\"24px\">\n",
              "    <path d=\"M0 0h24v24H0V0z\" fill=\"none\"/>\n",
              "    <path d=\"M18.56 5.44l.94 2.06.94-2.06 2.06-.94-2.06-.94-.94-2.06-.94 2.06-2.06.94zm-11 1L8.5 8.5l.94-2.06 2.06-.94-2.06-.94L8.5 2.5l-.94 2.06-2.06.94zm10 10l.94 2.06.94-2.06 2.06-.94-2.06-.94-.94-2.06-.94 2.06-2.06.94z\"/><path d=\"M17.41 7.96l-1.37-1.37c-.4-.4-.92-.59-1.43-.59-.52 0-1.04.2-1.43.59L10.3 9.45l-7.72 7.72c-.78.78-.78 2.05 0 2.83L4 21.41c.39.39.9.59 1.41.59.51 0 1.02-.2 1.41-.59l7.78-7.78 2.81-2.81c.8-.78.8-2.07 0-2.86zM5.41 20L4 18.59l7.72-7.72 1.47 1.35L5.41 20z\"/>\n",
              "  </svg>\n",
              "      </button>\n",
              "      \n",
              "  <style>\n",
              "    .colab-df-container {\n",
              "      display:flex;\n",
              "      flex-wrap:wrap;\n",
              "      gap: 12px;\n",
              "    }\n",
              "\n",
              "    .colab-df-convert {\n",
              "      background-color: #E8F0FE;\n",
              "      border: none;\n",
              "      border-radius: 50%;\n",
              "      cursor: pointer;\n",
              "      display: none;\n",
              "      fill: #1967D2;\n",
              "      height: 32px;\n",
              "      padding: 0 0 0 0;\n",
              "      width: 32px;\n",
              "    }\n",
              "\n",
              "    .colab-df-convert:hover {\n",
              "      background-color: #E2EBFA;\n",
              "      box-shadow: 0px 1px 2px rgba(60, 64, 67, 0.3), 0px 1px 3px 1px rgba(60, 64, 67, 0.15);\n",
              "      fill: #174EA6;\n",
              "    }\n",
              "\n",
              "    [theme=dark] .colab-df-convert {\n",
              "      background-color: #3B4455;\n",
              "      fill: #D2E3FC;\n",
              "    }\n",
              "\n",
              "    [theme=dark] .colab-df-convert:hover {\n",
              "      background-color: #434B5C;\n",
              "      box-shadow: 0px 1px 3px 1px rgba(0, 0, 0, 0.15);\n",
              "      filter: drop-shadow(0px 1px 2px rgba(0, 0, 0, 0.3));\n",
              "      fill: #FFFFFF;\n",
              "    }\n",
              "  </style>\n",
              "\n",
              "      <script>\n",
              "        const buttonEl =\n",
              "          document.querySelector('#df-ee509308-3167-4d2b-b2f6-ef22d1501402 button.colab-df-convert');\n",
              "        buttonEl.style.display =\n",
              "          google.colab.kernel.accessAllowed ? 'block' : 'none';\n",
              "\n",
              "        async function convertToInteractive(key) {\n",
              "          const element = document.querySelector('#df-ee509308-3167-4d2b-b2f6-ef22d1501402');\n",
              "          const dataTable =\n",
              "            await google.colab.kernel.invokeFunction('convertToInteractive',\n",
              "                                                     [key], {});\n",
              "          if (!dataTable) return;\n",
              "\n",
              "          const docLinkHtml = 'Like what you see? Visit the ' +\n",
              "            '<a target=\"_blank\" href=https://colab.research.google.com/notebooks/data_table.ipynb>data table notebook</a>'\n",
              "            + ' to learn more about interactive tables.';\n",
              "          element.innerHTML = '';\n",
              "          dataTable['output_type'] = 'display_data';\n",
              "          await google.colab.output.renderOutput(dataTable, element);\n",
              "          const docLink = document.createElement('div');\n",
              "          docLink.innerHTML = docLinkHtml;\n",
              "          element.appendChild(docLink);\n",
              "        }\n",
              "      </script>\n",
              "    </div>\n",
              "  </div>\n",
              "  "
            ]
          },
          "metadata": {},
          "execution_count": 1167
        }
      ]
    },
    {
      "cell_type": "markdown",
      "source": [
        "# hmm remain"
      ],
      "metadata": {
        "id": "AbCXOQtT1jMW"
      }
    },
    {
      "cell_type": "markdown",
      "source": [
        "# Implementing clustering algorithms"
      ],
      "metadata": {
        "id": "z6Wxxz4G1jMW"
      }
    },
    {
      "cell_type": "code",
      "source": [
        "y = y.to_numpy()"
      ],
      "metadata": {
        "id": "xMGff9tZ1jMW"
      },
      "execution_count": 1168,
      "outputs": []
    },
    {
      "cell_type": "markdown",
      "source": [
        "# Implementing K means"
      ],
      "metadata": {
        "id": "GmsC_9iy1jMW"
      }
    },
    {
      "cell_type": "code",
      "source": [
        "kmeans = KMeans(n_clusters = 5, random_state=0).fit(X)\n",
        "y_pred = kmeans.predict(X)"
      ],
      "metadata": {
        "id": "ZDO2DVLQ1jMW"
      },
      "execution_count": 1169,
      "outputs": []
    },
    {
      "cell_type": "code",
      "source": [
        "df = pd.DataFrame(y_pred, columns=['Class'])\n",
        "y_pred = df.replace({y_pred[0]: y[0], y_pred[6]: y[6], y_pred[11]: y[11], y_pred[16]: y[16],y_pred[21]: y[21]}).to_numpy()"
      ],
      "metadata": {
        "id": "BV0d5roT1jMW"
      },
      "execution_count": 1170,
      "outputs": []
    },
    {
      "cell_type": "markdown",
      "source": [
        "### Metrics for KMeans"
      ],
      "metadata": {
        "id": "WKKUg8Ns1jMW"
      }
    },
    {
      "cell_type": "code",
      "source": [
        "metricCalculation(y, y_pred)"
      ],
      "metadata": {
        "id": "oymM4gwr1jMX",
        "colab": {
          "base_uri": "https://localhost:8080/"
        },
        "outputId": "e965296a-91bd-41cb-b592-5900c6a59e91"
      },
      "execution_count": 1171,
      "outputs": [
        {
          "output_type": "stream",
          "name": "stdout",
          "text": [
            "The total accuracy is 1.0\n",
            "   Class  Sensitivity(Recall)  Specificity  F1 score\n",
            "0      1                  1.0          1.0       1.0\n",
            "1      2                  1.0          1.0       1.0\n",
            "2      3                  1.0          1.0       1.0\n",
            "3      4                  1.0          1.0       1.0\n",
            "4      5                  1.0          1.0       1.0\n"
          ]
        }
      ]
    },
    {
      "cell_type": "markdown",
      "source": [
        "# Implementing FCMeans"
      ],
      "metadata": {
        "id": "VDyLS4q-1jMX"
      }
    },
    {
      "cell_type": "code",
      "source": [
        "from fcmeans import FCM\n",
        "fcm = FCM(n_clusters = 5)\n",
        "fcm.fit(X)\n",
        "y_pred = fcm.predict(X)"
      ],
      "metadata": {
        "id": "YgmBSc061jMX"
      },
      "execution_count": 1172,
      "outputs": []
    },
    {
      "cell_type": "code",
      "source": [
        "df = pd.DataFrame(y_pred, columns=['Class'])\n",
        "y_pred = df.replace({y_pred[0]: y[0], y_pred[6]: y[6], y_pred[11]: y[11], y_pred[16]: y[16],y_pred[21]: y[21]}).to_numpy()"
      ],
      "metadata": {
        "id": "uHMAT-lm1jMX"
      },
      "execution_count": 1173,
      "outputs": []
    },
    {
      "cell_type": "markdown",
      "source": [
        "### Metrics for FCMeans"
      ],
      "metadata": {
        "id": "mQcdNxNk1jMX"
      }
    },
    {
      "cell_type": "code",
      "source": [
        "cm = multilabel_confusion_matrix(y, y_pred, labels= range(5))\n",
        "\n",
        "res = []\n",
        "\n",
        "for l in range(5):\n",
        "    x = cm[l]\n",
        "    tn, fp = x[0]\n",
        "    fn, tp = x[1]\n",
        "    sensitivity = tp / (tp + fn)\n",
        "    specificity = tn / (tn + fp)\n",
        "    precision = tp / (tp + fp)\n",
        "    f1 = (2 * precision * sensitivity) / (precision + sensitivity)\n",
        "    res.append([l+1,sensitivity, specificity, f1])\n",
        "\n",
        "performance = pd.DataFrame(res, columns = ['Class','Sensitivity(Recall)','Specificity', 'F1 score'])\n",
        "\n",
        "performance['F1 score'] = performance['F1 score'].fillna(0)\n",
        "performance['Sensitivity(Recall)'] = performance['Sensitivity(Recall)'].fillna(0)\n",
        "performance['Specificity'] = performance['Specificity'].fillna(0)\n",
        "\n",
        "total_accuracy = accuracy_score(y, y_pred)\n",
        "print(\"The total accuracy is\", total_accuracy)\n",
        "performance"
      ],
      "metadata": {
        "id": "hCS_pX0E1jMX",
        "colab": {
          "base_uri": "https://localhost:8080/",
          "height": 224
        },
        "outputId": "0475fa07-da45-4e5f-86f0-57c8c9072dae"
      },
      "execution_count": 1174,
      "outputs": [
        {
          "output_type": "stream",
          "name": "stdout",
          "text": [
            "The total accuracy is 1.0\n"
          ]
        },
        {
          "output_type": "execute_result",
          "data": {
            "text/plain": [
              "   Class  Sensitivity(Recall)  Specificity  F1 score\n",
              "0      1                  1.0          1.0       1.0\n",
              "1      2                  1.0          1.0       1.0\n",
              "2      3                  1.0          1.0       1.0\n",
              "3      4                  1.0          1.0       1.0\n",
              "4      5                  1.0          1.0       1.0"
            ],
            "text/html": [
              "\n",
              "  <div id=\"df-88f5ad3e-2bb1-4e1c-bcac-ad57b7776e57\">\n",
              "    <div class=\"colab-df-container\">\n",
              "      <div>\n",
              "<style scoped>\n",
              "    .dataframe tbody tr th:only-of-type {\n",
              "        vertical-align: middle;\n",
              "    }\n",
              "\n",
              "    .dataframe tbody tr th {\n",
              "        vertical-align: top;\n",
              "    }\n",
              "\n",
              "    .dataframe thead th {\n",
              "        text-align: right;\n",
              "    }\n",
              "</style>\n",
              "<table border=\"1\" class=\"dataframe\">\n",
              "  <thead>\n",
              "    <tr style=\"text-align: right;\">\n",
              "      <th></th>\n",
              "      <th>Class</th>\n",
              "      <th>Sensitivity(Recall)</th>\n",
              "      <th>Specificity</th>\n",
              "      <th>F1 score</th>\n",
              "    </tr>\n",
              "  </thead>\n",
              "  <tbody>\n",
              "    <tr>\n",
              "      <th>0</th>\n",
              "      <td>1</td>\n",
              "      <td>1.0</td>\n",
              "      <td>1.0</td>\n",
              "      <td>1.0</td>\n",
              "    </tr>\n",
              "    <tr>\n",
              "      <th>1</th>\n",
              "      <td>2</td>\n",
              "      <td>1.0</td>\n",
              "      <td>1.0</td>\n",
              "      <td>1.0</td>\n",
              "    </tr>\n",
              "    <tr>\n",
              "      <th>2</th>\n",
              "      <td>3</td>\n",
              "      <td>1.0</td>\n",
              "      <td>1.0</td>\n",
              "      <td>1.0</td>\n",
              "    </tr>\n",
              "    <tr>\n",
              "      <th>3</th>\n",
              "      <td>4</td>\n",
              "      <td>1.0</td>\n",
              "      <td>1.0</td>\n",
              "      <td>1.0</td>\n",
              "    </tr>\n",
              "    <tr>\n",
              "      <th>4</th>\n",
              "      <td>5</td>\n",
              "      <td>1.0</td>\n",
              "      <td>1.0</td>\n",
              "      <td>1.0</td>\n",
              "    </tr>\n",
              "  </tbody>\n",
              "</table>\n",
              "</div>\n",
              "      <button class=\"colab-df-convert\" onclick=\"convertToInteractive('df-88f5ad3e-2bb1-4e1c-bcac-ad57b7776e57')\"\n",
              "              title=\"Convert this dataframe to an interactive table.\"\n",
              "              style=\"display:none;\">\n",
              "        \n",
              "  <svg xmlns=\"http://www.w3.org/2000/svg\" height=\"24px\"viewBox=\"0 0 24 24\"\n",
              "       width=\"24px\">\n",
              "    <path d=\"M0 0h24v24H0V0z\" fill=\"none\"/>\n",
              "    <path d=\"M18.56 5.44l.94 2.06.94-2.06 2.06-.94-2.06-.94-.94-2.06-.94 2.06-2.06.94zm-11 1L8.5 8.5l.94-2.06 2.06-.94-2.06-.94L8.5 2.5l-.94 2.06-2.06.94zm10 10l.94 2.06.94-2.06 2.06-.94-2.06-.94-.94-2.06-.94 2.06-2.06.94z\"/><path d=\"M17.41 7.96l-1.37-1.37c-.4-.4-.92-.59-1.43-.59-.52 0-1.04.2-1.43.59L10.3 9.45l-7.72 7.72c-.78.78-.78 2.05 0 2.83L4 21.41c.39.39.9.59 1.41.59.51 0 1.02-.2 1.41-.59l7.78-7.78 2.81-2.81c.8-.78.8-2.07 0-2.86zM5.41 20L4 18.59l7.72-7.72 1.47 1.35L5.41 20z\"/>\n",
              "  </svg>\n",
              "      </button>\n",
              "      \n",
              "  <style>\n",
              "    .colab-df-container {\n",
              "      display:flex;\n",
              "      flex-wrap:wrap;\n",
              "      gap: 12px;\n",
              "    }\n",
              "\n",
              "    .colab-df-convert {\n",
              "      background-color: #E8F0FE;\n",
              "      border: none;\n",
              "      border-radius: 50%;\n",
              "      cursor: pointer;\n",
              "      display: none;\n",
              "      fill: #1967D2;\n",
              "      height: 32px;\n",
              "      padding: 0 0 0 0;\n",
              "      width: 32px;\n",
              "    }\n",
              "\n",
              "    .colab-df-convert:hover {\n",
              "      background-color: #E2EBFA;\n",
              "      box-shadow: 0px 1px 2px rgba(60, 64, 67, 0.3), 0px 1px 3px 1px rgba(60, 64, 67, 0.15);\n",
              "      fill: #174EA6;\n",
              "    }\n",
              "\n",
              "    [theme=dark] .colab-df-convert {\n",
              "      background-color: #3B4455;\n",
              "      fill: #D2E3FC;\n",
              "    }\n",
              "\n",
              "    [theme=dark] .colab-df-convert:hover {\n",
              "      background-color: #434B5C;\n",
              "      box-shadow: 0px 1px 3px 1px rgba(0, 0, 0, 0.15);\n",
              "      filter: drop-shadow(0px 1px 2px rgba(0, 0, 0, 0.3));\n",
              "      fill: #FFFFFF;\n",
              "    }\n",
              "  </style>\n",
              "\n",
              "      <script>\n",
              "        const buttonEl =\n",
              "          document.querySelector('#df-88f5ad3e-2bb1-4e1c-bcac-ad57b7776e57 button.colab-df-convert');\n",
              "        buttonEl.style.display =\n",
              "          google.colab.kernel.accessAllowed ? 'block' : 'none';\n",
              "\n",
              "        async function convertToInteractive(key) {\n",
              "          const element = document.querySelector('#df-88f5ad3e-2bb1-4e1c-bcac-ad57b7776e57');\n",
              "          const dataTable =\n",
              "            await google.colab.kernel.invokeFunction('convertToInteractive',\n",
              "                                                     [key], {});\n",
              "          if (!dataTable) return;\n",
              "\n",
              "          const docLinkHtml = 'Like what you see? Visit the ' +\n",
              "            '<a target=\"_blank\" href=https://colab.research.google.com/notebooks/data_table.ipynb>data table notebook</a>'\n",
              "            + ' to learn more about interactive tables.';\n",
              "          element.innerHTML = '';\n",
              "          dataTable['output_type'] = 'display_data';\n",
              "          await google.colab.output.renderOutput(dataTable, element);\n",
              "          const docLink = document.createElement('div');\n",
              "          docLink.innerHTML = docLinkHtml;\n",
              "          element.appendChild(docLink);\n",
              "        }\n",
              "      </script>\n",
              "    </div>\n",
              "  </div>\n",
              "  "
            ]
          },
          "metadata": {},
          "execution_count": 1174
        }
      ]
    },
    {
      "cell_type": "markdown",
      "source": [
        "# Using QCM12 sensor data for classification"
      ],
      "metadata": {
        "id": "I8GSZJEX1nQb"
      }
    },
    {
      "cell_type": "code",
      "source": [
        "# Separating features and target variable\n",
        "y = df_12['Class']\n",
        "X = df_12.drop(columns = ['Class'])"
      ],
      "metadata": {
        "id": "UMVMl2L31nQb"
      },
      "execution_count": 1175,
      "outputs": []
    },
    {
      "cell_type": "markdown",
      "source": [
        "## Preprocessing"
      ],
      "metadata": {
        "id": "YuRH8SyG1nQb"
      }
    },
    {
      "cell_type": "code",
      "source": [
        "X = Normalizer().fit_transform(X)"
      ],
      "metadata": {
        "id": "JwRZ3-uT1nQc"
      },
      "execution_count": 1176,
      "outputs": []
    },
    {
      "cell_type": "code",
      "source": [
        "X_train, X_test, y_train, y_test = train_test_split(X, y, test_size=0.2, stratify = y)"
      ],
      "metadata": {
        "id": "ReSGaLBz1nQc"
      },
      "execution_count": 1177,
      "outputs": []
    },
    {
      "cell_type": "markdown",
      "source": [
        "## Implementing MLP"
      ],
      "metadata": {
        "id": "mQNcPNps1nQc"
      }
    },
    {
      "cell_type": "code",
      "source": [
        "clf = MLPClassifier()\n",
        "clf.fit(X_train, y_train)\n",
        "y_pred = clf.predict(X_test)"
      ],
      "metadata": {
        "id": "gnUBUh3a1nQc"
      },
      "execution_count": 1178,
      "outputs": []
    },
    {
      "cell_type": "markdown",
      "source": [
        "### Metrics for MLP"
      ],
      "metadata": {
        "id": "5KnBu7HV1nQc"
      }
    },
    {
      "cell_type": "code",
      "source": [
        "cm = multilabel_confusion_matrix(y_test, y_pred, labels= range(5))\n",
        "\n",
        "res = []\n",
        "\n",
        "for l in range(5):\n",
        "    x = cm[l]\n",
        "    tn, fp = x[0]\n",
        "    fn, tp = x[1]\n",
        "    sensitivity = tp / (tp + fn)\n",
        "    specificity = tn / (tn + fp)\n",
        "    precision = tp / (tp + fp)\n",
        "    f1 = (2 * precision * sensitivity) / (precision + sensitivity)\n",
        "    res.append([l+1,sensitivity, specificity, f1])\n",
        "\n",
        "performance = pd.DataFrame(res, columns = ['Class','Sensitivity(Recall)','Specificity', 'F1 score'])\n",
        "\n",
        "performance['F1 score'] = performance['F1 score'].fillna(0)\n",
        "performance['Sensitivity(Recall)'] = performance['Sensitivity(Recall)'].fillna(0)\n",
        "performance['Specificity'] = performance['Specificity'].fillna(0)\n",
        "\n",
        "total_accuracy = accuracy_score(y_test, y_pred)\n",
        "print(\"The total accuracy is\", total_accuracy)\n",
        "performance"
      ],
      "metadata": {
        "id": "OUSumkeB1nQc",
        "colab": {
          "base_uri": "https://localhost:8080/",
          "height": 224
        },
        "outputId": "d917e4be-14f9-4dd1-ed09-b917c24980e5"
      },
      "execution_count": 1179,
      "outputs": [
        {
          "output_type": "stream",
          "name": "stdout",
          "text": [
            "The total accuracy is 1.0\n"
          ]
        },
        {
          "output_type": "execute_result",
          "data": {
            "text/plain": [
              "   Class  Sensitivity(Recall)  Specificity  F1 score\n",
              "0      1                  1.0          1.0       1.0\n",
              "1      2                  1.0          1.0       1.0\n",
              "2      3                  1.0          1.0       1.0\n",
              "3      4                  1.0          1.0       1.0\n",
              "4      5                  1.0          1.0       1.0"
            ],
            "text/html": [
              "\n",
              "  <div id=\"df-380e3fcb-e108-4b2e-8d89-6743850be9d4\">\n",
              "    <div class=\"colab-df-container\">\n",
              "      <div>\n",
              "<style scoped>\n",
              "    .dataframe tbody tr th:only-of-type {\n",
              "        vertical-align: middle;\n",
              "    }\n",
              "\n",
              "    .dataframe tbody tr th {\n",
              "        vertical-align: top;\n",
              "    }\n",
              "\n",
              "    .dataframe thead th {\n",
              "        text-align: right;\n",
              "    }\n",
              "</style>\n",
              "<table border=\"1\" class=\"dataframe\">\n",
              "  <thead>\n",
              "    <tr style=\"text-align: right;\">\n",
              "      <th></th>\n",
              "      <th>Class</th>\n",
              "      <th>Sensitivity(Recall)</th>\n",
              "      <th>Specificity</th>\n",
              "      <th>F1 score</th>\n",
              "    </tr>\n",
              "  </thead>\n",
              "  <tbody>\n",
              "    <tr>\n",
              "      <th>0</th>\n",
              "      <td>1</td>\n",
              "      <td>1.0</td>\n",
              "      <td>1.0</td>\n",
              "      <td>1.0</td>\n",
              "    </tr>\n",
              "    <tr>\n",
              "      <th>1</th>\n",
              "      <td>2</td>\n",
              "      <td>1.0</td>\n",
              "      <td>1.0</td>\n",
              "      <td>1.0</td>\n",
              "    </tr>\n",
              "    <tr>\n",
              "      <th>2</th>\n",
              "      <td>3</td>\n",
              "      <td>1.0</td>\n",
              "      <td>1.0</td>\n",
              "      <td>1.0</td>\n",
              "    </tr>\n",
              "    <tr>\n",
              "      <th>3</th>\n",
              "      <td>4</td>\n",
              "      <td>1.0</td>\n",
              "      <td>1.0</td>\n",
              "      <td>1.0</td>\n",
              "    </tr>\n",
              "    <tr>\n",
              "      <th>4</th>\n",
              "      <td>5</td>\n",
              "      <td>1.0</td>\n",
              "      <td>1.0</td>\n",
              "      <td>1.0</td>\n",
              "    </tr>\n",
              "  </tbody>\n",
              "</table>\n",
              "</div>\n",
              "      <button class=\"colab-df-convert\" onclick=\"convertToInteractive('df-380e3fcb-e108-4b2e-8d89-6743850be9d4')\"\n",
              "              title=\"Convert this dataframe to an interactive table.\"\n",
              "              style=\"display:none;\">\n",
              "        \n",
              "  <svg xmlns=\"http://www.w3.org/2000/svg\" height=\"24px\"viewBox=\"0 0 24 24\"\n",
              "       width=\"24px\">\n",
              "    <path d=\"M0 0h24v24H0V0z\" fill=\"none\"/>\n",
              "    <path d=\"M18.56 5.44l.94 2.06.94-2.06 2.06-.94-2.06-.94-.94-2.06-.94 2.06-2.06.94zm-11 1L8.5 8.5l.94-2.06 2.06-.94-2.06-.94L8.5 2.5l-.94 2.06-2.06.94zm10 10l.94 2.06.94-2.06 2.06-.94-2.06-.94-.94-2.06-.94 2.06-2.06.94z\"/><path d=\"M17.41 7.96l-1.37-1.37c-.4-.4-.92-.59-1.43-.59-.52 0-1.04.2-1.43.59L10.3 9.45l-7.72 7.72c-.78.78-.78 2.05 0 2.83L4 21.41c.39.39.9.59 1.41.59.51 0 1.02-.2 1.41-.59l7.78-7.78 2.81-2.81c.8-.78.8-2.07 0-2.86zM5.41 20L4 18.59l7.72-7.72 1.47 1.35L5.41 20z\"/>\n",
              "  </svg>\n",
              "      </button>\n",
              "      \n",
              "  <style>\n",
              "    .colab-df-container {\n",
              "      display:flex;\n",
              "      flex-wrap:wrap;\n",
              "      gap: 12px;\n",
              "    }\n",
              "\n",
              "    .colab-df-convert {\n",
              "      background-color: #E8F0FE;\n",
              "      border: none;\n",
              "      border-radius: 50%;\n",
              "      cursor: pointer;\n",
              "      display: none;\n",
              "      fill: #1967D2;\n",
              "      height: 32px;\n",
              "      padding: 0 0 0 0;\n",
              "      width: 32px;\n",
              "    }\n",
              "\n",
              "    .colab-df-convert:hover {\n",
              "      background-color: #E2EBFA;\n",
              "      box-shadow: 0px 1px 2px rgba(60, 64, 67, 0.3), 0px 1px 3px 1px rgba(60, 64, 67, 0.15);\n",
              "      fill: #174EA6;\n",
              "    }\n",
              "\n",
              "    [theme=dark] .colab-df-convert {\n",
              "      background-color: #3B4455;\n",
              "      fill: #D2E3FC;\n",
              "    }\n",
              "\n",
              "    [theme=dark] .colab-df-convert:hover {\n",
              "      background-color: #434B5C;\n",
              "      box-shadow: 0px 1px 3px 1px rgba(0, 0, 0, 0.15);\n",
              "      filter: drop-shadow(0px 1px 2px rgba(0, 0, 0, 0.3));\n",
              "      fill: #FFFFFF;\n",
              "    }\n",
              "  </style>\n",
              "\n",
              "      <script>\n",
              "        const buttonEl =\n",
              "          document.querySelector('#df-380e3fcb-e108-4b2e-8d89-6743850be9d4 button.colab-df-convert');\n",
              "        buttonEl.style.display =\n",
              "          google.colab.kernel.accessAllowed ? 'block' : 'none';\n",
              "\n",
              "        async function convertToInteractive(key) {\n",
              "          const element = document.querySelector('#df-380e3fcb-e108-4b2e-8d89-6743850be9d4');\n",
              "          const dataTable =\n",
              "            await google.colab.kernel.invokeFunction('convertToInteractive',\n",
              "                                                     [key], {});\n",
              "          if (!dataTable) return;\n",
              "\n",
              "          const docLinkHtml = 'Like what you see? Visit the ' +\n",
              "            '<a target=\"_blank\" href=https://colab.research.google.com/notebooks/data_table.ipynb>data table notebook</a>'\n",
              "            + ' to learn more about interactive tables.';\n",
              "          element.innerHTML = '';\n",
              "          dataTable['output_type'] = 'display_data';\n",
              "          await google.colab.output.renderOutput(dataTable, element);\n",
              "          const docLink = document.createElement('div');\n",
              "          docLink.innerHTML = docLinkHtml;\n",
              "          element.appendChild(docLink);\n",
              "        }\n",
              "      </script>\n",
              "    </div>\n",
              "  </div>\n",
              "  "
            ]
          },
          "metadata": {},
          "execution_count": 1179
        }
      ]
    },
    {
      "cell_type": "markdown",
      "source": [
        "## Implementing SVC"
      ],
      "metadata": {
        "id": "F-SO38Co1nQc"
      }
    },
    {
      "cell_type": "code",
      "source": [
        "clf = SVC()\n",
        "clf.fit(X_train, y_train)\n",
        "y_pred = clf.predict(X_test)"
      ],
      "metadata": {
        "id": "oCCID4Xe1nQd"
      },
      "execution_count": 1180,
      "outputs": []
    },
    {
      "cell_type": "markdown",
      "source": [
        "### Metrics for SVC"
      ],
      "metadata": {
        "id": "Y72mnEk_1nQe"
      }
    },
    {
      "cell_type": "code",
      "source": [
        "cm = multilabel_confusion_matrix(y_test, y_pred, labels= range(5))\n",
        "\n",
        "res = []\n",
        "\n",
        "for l in range(5):\n",
        "    x = cm[l]\n",
        "    tn, fp = x[0]\n",
        "    fn, tp = x[1]\n",
        "    sensitivity = tp / (tp + fn)\n",
        "    specificity = tn / (tn + fp)\n",
        "    precision = tp / (tp + fp)\n",
        "    f1 = (2 * precision * sensitivity) / (precision + sensitivity)\n",
        "    res.append([l+1,sensitivity, specificity, f1])\n",
        "\n",
        "performance = pd.DataFrame(res, columns = ['Class','Sensitivity(Recall)','Specificity', 'F1 score'])\n",
        "\n",
        "performance['F1 score'] = performance['F1 score'].fillna(0)\n",
        "performance['Sensitivity(Recall)'] = performance['Sensitivity(Recall)'].fillna(0)\n",
        "performance['Specificity'] = performance['Specificity'].fillna(0)\n",
        "\n",
        "total_accuracy = accuracy_score(y_test, y_pred)\n",
        "print(\"The total accuracy is\", total_accuracy)\n",
        "performance"
      ],
      "metadata": {
        "id": "ucVnxPye1nQe",
        "colab": {
          "base_uri": "https://localhost:8080/",
          "height": 224
        },
        "outputId": "a0df57d0-8704-42d0-8f3e-0f237f048219"
      },
      "execution_count": 1181,
      "outputs": [
        {
          "output_type": "stream",
          "name": "stdout",
          "text": [
            "The total accuracy is 1.0\n"
          ]
        },
        {
          "output_type": "execute_result",
          "data": {
            "text/plain": [
              "   Class  Sensitivity(Recall)  Specificity  F1 score\n",
              "0      1                  1.0          1.0       1.0\n",
              "1      2                  1.0          1.0       1.0\n",
              "2      3                  1.0          1.0       1.0\n",
              "3      4                  1.0          1.0       1.0\n",
              "4      5                  1.0          1.0       1.0"
            ],
            "text/html": [
              "\n",
              "  <div id=\"df-35928e90-a5d5-4ee0-a5d4-4eb198d94b4a\">\n",
              "    <div class=\"colab-df-container\">\n",
              "      <div>\n",
              "<style scoped>\n",
              "    .dataframe tbody tr th:only-of-type {\n",
              "        vertical-align: middle;\n",
              "    }\n",
              "\n",
              "    .dataframe tbody tr th {\n",
              "        vertical-align: top;\n",
              "    }\n",
              "\n",
              "    .dataframe thead th {\n",
              "        text-align: right;\n",
              "    }\n",
              "</style>\n",
              "<table border=\"1\" class=\"dataframe\">\n",
              "  <thead>\n",
              "    <tr style=\"text-align: right;\">\n",
              "      <th></th>\n",
              "      <th>Class</th>\n",
              "      <th>Sensitivity(Recall)</th>\n",
              "      <th>Specificity</th>\n",
              "      <th>F1 score</th>\n",
              "    </tr>\n",
              "  </thead>\n",
              "  <tbody>\n",
              "    <tr>\n",
              "      <th>0</th>\n",
              "      <td>1</td>\n",
              "      <td>1.0</td>\n",
              "      <td>1.0</td>\n",
              "      <td>1.0</td>\n",
              "    </tr>\n",
              "    <tr>\n",
              "      <th>1</th>\n",
              "      <td>2</td>\n",
              "      <td>1.0</td>\n",
              "      <td>1.0</td>\n",
              "      <td>1.0</td>\n",
              "    </tr>\n",
              "    <tr>\n",
              "      <th>2</th>\n",
              "      <td>3</td>\n",
              "      <td>1.0</td>\n",
              "      <td>1.0</td>\n",
              "      <td>1.0</td>\n",
              "    </tr>\n",
              "    <tr>\n",
              "      <th>3</th>\n",
              "      <td>4</td>\n",
              "      <td>1.0</td>\n",
              "      <td>1.0</td>\n",
              "      <td>1.0</td>\n",
              "    </tr>\n",
              "    <tr>\n",
              "      <th>4</th>\n",
              "      <td>5</td>\n",
              "      <td>1.0</td>\n",
              "      <td>1.0</td>\n",
              "      <td>1.0</td>\n",
              "    </tr>\n",
              "  </tbody>\n",
              "</table>\n",
              "</div>\n",
              "      <button class=\"colab-df-convert\" onclick=\"convertToInteractive('df-35928e90-a5d5-4ee0-a5d4-4eb198d94b4a')\"\n",
              "              title=\"Convert this dataframe to an interactive table.\"\n",
              "              style=\"display:none;\">\n",
              "        \n",
              "  <svg xmlns=\"http://www.w3.org/2000/svg\" height=\"24px\"viewBox=\"0 0 24 24\"\n",
              "       width=\"24px\">\n",
              "    <path d=\"M0 0h24v24H0V0z\" fill=\"none\"/>\n",
              "    <path d=\"M18.56 5.44l.94 2.06.94-2.06 2.06-.94-2.06-.94-.94-2.06-.94 2.06-2.06.94zm-11 1L8.5 8.5l.94-2.06 2.06-.94-2.06-.94L8.5 2.5l-.94 2.06-2.06.94zm10 10l.94 2.06.94-2.06 2.06-.94-2.06-.94-.94-2.06-.94 2.06-2.06.94z\"/><path d=\"M17.41 7.96l-1.37-1.37c-.4-.4-.92-.59-1.43-.59-.52 0-1.04.2-1.43.59L10.3 9.45l-7.72 7.72c-.78.78-.78 2.05 0 2.83L4 21.41c.39.39.9.59 1.41.59.51 0 1.02-.2 1.41-.59l7.78-7.78 2.81-2.81c.8-.78.8-2.07 0-2.86zM5.41 20L4 18.59l7.72-7.72 1.47 1.35L5.41 20z\"/>\n",
              "  </svg>\n",
              "      </button>\n",
              "      \n",
              "  <style>\n",
              "    .colab-df-container {\n",
              "      display:flex;\n",
              "      flex-wrap:wrap;\n",
              "      gap: 12px;\n",
              "    }\n",
              "\n",
              "    .colab-df-convert {\n",
              "      background-color: #E8F0FE;\n",
              "      border: none;\n",
              "      border-radius: 50%;\n",
              "      cursor: pointer;\n",
              "      display: none;\n",
              "      fill: #1967D2;\n",
              "      height: 32px;\n",
              "      padding: 0 0 0 0;\n",
              "      width: 32px;\n",
              "    }\n",
              "\n",
              "    .colab-df-convert:hover {\n",
              "      background-color: #E2EBFA;\n",
              "      box-shadow: 0px 1px 2px rgba(60, 64, 67, 0.3), 0px 1px 3px 1px rgba(60, 64, 67, 0.15);\n",
              "      fill: #174EA6;\n",
              "    }\n",
              "\n",
              "    [theme=dark] .colab-df-convert {\n",
              "      background-color: #3B4455;\n",
              "      fill: #D2E3FC;\n",
              "    }\n",
              "\n",
              "    [theme=dark] .colab-df-convert:hover {\n",
              "      background-color: #434B5C;\n",
              "      box-shadow: 0px 1px 3px 1px rgba(0, 0, 0, 0.15);\n",
              "      filter: drop-shadow(0px 1px 2px rgba(0, 0, 0, 0.3));\n",
              "      fill: #FFFFFF;\n",
              "    }\n",
              "  </style>\n",
              "\n",
              "      <script>\n",
              "        const buttonEl =\n",
              "          document.querySelector('#df-35928e90-a5d5-4ee0-a5d4-4eb198d94b4a button.colab-df-convert');\n",
              "        buttonEl.style.display =\n",
              "          google.colab.kernel.accessAllowed ? 'block' : 'none';\n",
              "\n",
              "        async function convertToInteractive(key) {\n",
              "          const element = document.querySelector('#df-35928e90-a5d5-4ee0-a5d4-4eb198d94b4a');\n",
              "          const dataTable =\n",
              "            await google.colab.kernel.invokeFunction('convertToInteractive',\n",
              "                                                     [key], {});\n",
              "          if (!dataTable) return;\n",
              "\n",
              "          const docLinkHtml = 'Like what you see? Visit the ' +\n",
              "            '<a target=\"_blank\" href=https://colab.research.google.com/notebooks/data_table.ipynb>data table notebook</a>'\n",
              "            + ' to learn more about interactive tables.';\n",
              "          element.innerHTML = '';\n",
              "          dataTable['output_type'] = 'display_data';\n",
              "          await google.colab.output.renderOutput(dataTable, element);\n",
              "          const docLink = document.createElement('div');\n",
              "          docLink.innerHTML = docLinkHtml;\n",
              "          element.appendChild(docLink);\n",
              "        }\n",
              "      </script>\n",
              "    </div>\n",
              "  </div>\n",
              "  "
            ]
          },
          "metadata": {},
          "execution_count": 1181
        }
      ]
    },
    {
      "cell_type": "markdown",
      "source": [
        "# hmm remain"
      ],
      "metadata": {
        "id": "AGOkiXyC1nQf"
      }
    },
    {
      "cell_type": "markdown",
      "source": [
        "# Implementing clustering algorithms"
      ],
      "metadata": {
        "id": "SfW9crPt1nQf"
      }
    },
    {
      "cell_type": "code",
      "source": [
        "y = y.to_numpy()"
      ],
      "metadata": {
        "id": "9bLRd-AI1nQf"
      },
      "execution_count": 1182,
      "outputs": []
    },
    {
      "cell_type": "markdown",
      "source": [
        "# Implementing K means"
      ],
      "metadata": {
        "id": "PAC3ZE8D1nQf"
      }
    },
    {
      "cell_type": "code",
      "source": [
        "kmeans = KMeans(n_clusters = 5, random_state=0).fit(X)\n",
        "y_pred = kmeans.predict(X)"
      ],
      "metadata": {
        "id": "eaMEOBkx1nQf"
      },
      "execution_count": 1183,
      "outputs": []
    },
    {
      "cell_type": "code",
      "source": [
        "df = pd.DataFrame(y_pred, columns=['Class'])\n",
        "y_pred = df.replace({y_pred[0]: y[0], y_pred[6]: y[6], y_pred[11]: y[11], y_pred[16]: y[16],y_pred[21]: y[21]}).to_numpy()"
      ],
      "metadata": {
        "id": "BJqYxwor1nQf"
      },
      "execution_count": 1184,
      "outputs": []
    },
    {
      "cell_type": "markdown",
      "source": [
        "### Metrics for KMeans"
      ],
      "metadata": {
        "id": "CGgQK1aL1nQf"
      }
    },
    {
      "cell_type": "code",
      "source": [
        "cm = multilabel_confusion_matrix(y, y_pred, labels= range(5))\n",
        "\n",
        "res = []\n",
        "\n",
        "for l in range(5):\n",
        "    x = cm[l]\n",
        "    tn, fp = x[0]\n",
        "    fn, tp = x[1]\n",
        "    sensitivity = tp / (tp + fn)\n",
        "    specificity = tn / (tn + fp)\n",
        "    precision = tp / (tp + fp)\n",
        "    f1 = (2 * precision * sensitivity) / (precision + sensitivity)\n",
        "    res.append([l+1,sensitivity, specificity, f1])\n",
        "\n",
        "performance = pd.DataFrame(res, columns = ['Class','Sensitivity(Recall)','Specificity', 'F1 score'])\n",
        "\n",
        "performance['F1 score'] = performance['F1 score'].fillna(0)\n",
        "performance['Sensitivity(Recall)'] = performance['Sensitivity(Recall)'].fillna(0)\n",
        "performance['Specificity'] = performance['Specificity'].fillna(0)\n",
        "\n",
        "total_accuracy = accuracy_score(y, y_pred)\n",
        "print(\"The total accuracy is\", total_accuracy)\n",
        "performance"
      ],
      "metadata": {
        "id": "onmjfoVD1nQg",
        "colab": {
          "base_uri": "https://localhost:8080/",
          "height": 224
        },
        "outputId": "a1712bb6-909b-4947-d556-34a26f5f5bc8"
      },
      "execution_count": 1185,
      "outputs": [
        {
          "output_type": "stream",
          "name": "stdout",
          "text": [
            "The total accuracy is 0.88\n"
          ]
        },
        {
          "output_type": "execute_result",
          "data": {
            "text/plain": [
              "   Class  Sensitivity(Recall)  Specificity  F1 score\n",
              "0      1                  0.4         1.00  0.571429\n",
              "1      2                  1.0         1.00  1.000000\n",
              "2      3                  1.0         0.85  0.769231\n",
              "3      4                  1.0         1.00  1.000000\n",
              "4      5                  1.0         1.00  1.000000"
            ],
            "text/html": [
              "\n",
              "  <div id=\"df-c5450d1a-e738-46d7-a4a3-969a39d5c86e\">\n",
              "    <div class=\"colab-df-container\">\n",
              "      <div>\n",
              "<style scoped>\n",
              "    .dataframe tbody tr th:only-of-type {\n",
              "        vertical-align: middle;\n",
              "    }\n",
              "\n",
              "    .dataframe tbody tr th {\n",
              "        vertical-align: top;\n",
              "    }\n",
              "\n",
              "    .dataframe thead th {\n",
              "        text-align: right;\n",
              "    }\n",
              "</style>\n",
              "<table border=\"1\" class=\"dataframe\">\n",
              "  <thead>\n",
              "    <tr style=\"text-align: right;\">\n",
              "      <th></th>\n",
              "      <th>Class</th>\n",
              "      <th>Sensitivity(Recall)</th>\n",
              "      <th>Specificity</th>\n",
              "      <th>F1 score</th>\n",
              "    </tr>\n",
              "  </thead>\n",
              "  <tbody>\n",
              "    <tr>\n",
              "      <th>0</th>\n",
              "      <td>1</td>\n",
              "      <td>0.4</td>\n",
              "      <td>1.00</td>\n",
              "      <td>0.571429</td>\n",
              "    </tr>\n",
              "    <tr>\n",
              "      <th>1</th>\n",
              "      <td>2</td>\n",
              "      <td>1.0</td>\n",
              "      <td>1.00</td>\n",
              "      <td>1.000000</td>\n",
              "    </tr>\n",
              "    <tr>\n",
              "      <th>2</th>\n",
              "      <td>3</td>\n",
              "      <td>1.0</td>\n",
              "      <td>0.85</td>\n",
              "      <td>0.769231</td>\n",
              "    </tr>\n",
              "    <tr>\n",
              "      <th>3</th>\n",
              "      <td>4</td>\n",
              "      <td>1.0</td>\n",
              "      <td>1.00</td>\n",
              "      <td>1.000000</td>\n",
              "    </tr>\n",
              "    <tr>\n",
              "      <th>4</th>\n",
              "      <td>5</td>\n",
              "      <td>1.0</td>\n",
              "      <td>1.00</td>\n",
              "      <td>1.000000</td>\n",
              "    </tr>\n",
              "  </tbody>\n",
              "</table>\n",
              "</div>\n",
              "      <button class=\"colab-df-convert\" onclick=\"convertToInteractive('df-c5450d1a-e738-46d7-a4a3-969a39d5c86e')\"\n",
              "              title=\"Convert this dataframe to an interactive table.\"\n",
              "              style=\"display:none;\">\n",
              "        \n",
              "  <svg xmlns=\"http://www.w3.org/2000/svg\" height=\"24px\"viewBox=\"0 0 24 24\"\n",
              "       width=\"24px\">\n",
              "    <path d=\"M0 0h24v24H0V0z\" fill=\"none\"/>\n",
              "    <path d=\"M18.56 5.44l.94 2.06.94-2.06 2.06-.94-2.06-.94-.94-2.06-.94 2.06-2.06.94zm-11 1L8.5 8.5l.94-2.06 2.06-.94-2.06-.94L8.5 2.5l-.94 2.06-2.06.94zm10 10l.94 2.06.94-2.06 2.06-.94-2.06-.94-.94-2.06-.94 2.06-2.06.94z\"/><path d=\"M17.41 7.96l-1.37-1.37c-.4-.4-.92-.59-1.43-.59-.52 0-1.04.2-1.43.59L10.3 9.45l-7.72 7.72c-.78.78-.78 2.05 0 2.83L4 21.41c.39.39.9.59 1.41.59.51 0 1.02-.2 1.41-.59l7.78-7.78 2.81-2.81c.8-.78.8-2.07 0-2.86zM5.41 20L4 18.59l7.72-7.72 1.47 1.35L5.41 20z\"/>\n",
              "  </svg>\n",
              "      </button>\n",
              "      \n",
              "  <style>\n",
              "    .colab-df-container {\n",
              "      display:flex;\n",
              "      flex-wrap:wrap;\n",
              "      gap: 12px;\n",
              "    }\n",
              "\n",
              "    .colab-df-convert {\n",
              "      background-color: #E8F0FE;\n",
              "      border: none;\n",
              "      border-radius: 50%;\n",
              "      cursor: pointer;\n",
              "      display: none;\n",
              "      fill: #1967D2;\n",
              "      height: 32px;\n",
              "      padding: 0 0 0 0;\n",
              "      width: 32px;\n",
              "    }\n",
              "\n",
              "    .colab-df-convert:hover {\n",
              "      background-color: #E2EBFA;\n",
              "      box-shadow: 0px 1px 2px rgba(60, 64, 67, 0.3), 0px 1px 3px 1px rgba(60, 64, 67, 0.15);\n",
              "      fill: #174EA6;\n",
              "    }\n",
              "\n",
              "    [theme=dark] .colab-df-convert {\n",
              "      background-color: #3B4455;\n",
              "      fill: #D2E3FC;\n",
              "    }\n",
              "\n",
              "    [theme=dark] .colab-df-convert:hover {\n",
              "      background-color: #434B5C;\n",
              "      box-shadow: 0px 1px 3px 1px rgba(0, 0, 0, 0.15);\n",
              "      filter: drop-shadow(0px 1px 2px rgba(0, 0, 0, 0.3));\n",
              "      fill: #FFFFFF;\n",
              "    }\n",
              "  </style>\n",
              "\n",
              "      <script>\n",
              "        const buttonEl =\n",
              "          document.querySelector('#df-c5450d1a-e738-46d7-a4a3-969a39d5c86e button.colab-df-convert');\n",
              "        buttonEl.style.display =\n",
              "          google.colab.kernel.accessAllowed ? 'block' : 'none';\n",
              "\n",
              "        async function convertToInteractive(key) {\n",
              "          const element = document.querySelector('#df-c5450d1a-e738-46d7-a4a3-969a39d5c86e');\n",
              "          const dataTable =\n",
              "            await google.colab.kernel.invokeFunction('convertToInteractive',\n",
              "                                                     [key], {});\n",
              "          if (!dataTable) return;\n",
              "\n",
              "          const docLinkHtml = 'Like what you see? Visit the ' +\n",
              "            '<a target=\"_blank\" href=https://colab.research.google.com/notebooks/data_table.ipynb>data table notebook</a>'\n",
              "            + ' to learn more about interactive tables.';\n",
              "          element.innerHTML = '';\n",
              "          dataTable['output_type'] = 'display_data';\n",
              "          await google.colab.output.renderOutput(dataTable, element);\n",
              "          const docLink = document.createElement('div');\n",
              "          docLink.innerHTML = docLinkHtml;\n",
              "          element.appendChild(docLink);\n",
              "        }\n",
              "      </script>\n",
              "    </div>\n",
              "  </div>\n",
              "  "
            ]
          },
          "metadata": {},
          "execution_count": 1185
        }
      ]
    },
    {
      "cell_type": "markdown",
      "source": [
        "# Implementing FCMeans"
      ],
      "metadata": {
        "id": "xyCmqHwV1nQg"
      }
    },
    {
      "cell_type": "code",
      "source": [
        "from fcmeans import FCM\n",
        "fcm = FCM(n_clusters = 5)\n",
        "fcm.fit(X)\n",
        "y_pred = fcm.predict(X)"
      ],
      "metadata": {
        "id": "OvT_XH0a1nQg"
      },
      "execution_count": 1186,
      "outputs": []
    },
    {
      "cell_type": "code",
      "source": [
        "df = pd.DataFrame(y_pred, columns=['Class'])\n",
        "y_pred = df.replace({y_pred[0]: y[0], y_pred[6]: y[6], y_pred[11]: y[11], y_pred[16]: y[16],y_pred[21]: y[21]}).to_numpy()"
      ],
      "metadata": {
        "id": "av2y7a-m1nQg"
      },
      "execution_count": 1187,
      "outputs": []
    },
    {
      "cell_type": "markdown",
      "source": [
        "### Metrics for FCMeans"
      ],
      "metadata": {
        "id": "b4x80DoU1nQg"
      }
    },
    {
      "cell_type": "code",
      "source": [
        "cm = multilabel_confusion_matrix(y, y_pred, labels= range(5))\n",
        "\n",
        "res = []\n",
        "\n",
        "for l in range(5):\n",
        "    x = cm[l]\n",
        "    tn, fp = x[0]\n",
        "    fn, tp = x[1]\n",
        "    sensitivity = tp / (tp + fn)\n",
        "    specificity = tn / (tn + fp)\n",
        "    precision = tp / (tp + fp)\n",
        "    f1 = (2 * precision * sensitivity) / (precision + sensitivity)\n",
        "    res.append([l+1,sensitivity, specificity, f1])\n",
        "\n",
        "performance = pd.DataFrame(res, columns = ['Class','Sensitivity(Recall)','Specificity', 'F1 score'])\n",
        "\n",
        "performance['F1 score'] = performance['F1 score'].fillna(0)\n",
        "performance['Sensitivity(Recall)'] = performance['Sensitivity(Recall)'].fillna(0)\n",
        "performance['Specificity'] = performance['Specificity'].fillna(0)\n",
        "\n",
        "total_accuracy = accuracy_score(y, y_pred)\n",
        "print(\"The total accuracy is\", total_accuracy)\n",
        "performance"
      ],
      "metadata": {
        "id": "sAai-OZC1nQg",
        "colab": {
          "base_uri": "https://localhost:8080/",
          "height": 224
        },
        "outputId": "60071e34-b014-493a-ab37-0b2f5a03d118"
      },
      "execution_count": 1188,
      "outputs": [
        {
          "output_type": "stream",
          "name": "stdout",
          "text": [
            "The total accuracy is 0.88\n"
          ]
        },
        {
          "output_type": "execute_result",
          "data": {
            "text/plain": [
              "   Class  Sensitivity(Recall)  Specificity  F1 score\n",
              "0      1                  0.4         1.00  0.571429\n",
              "1      2                  1.0         1.00  1.000000\n",
              "2      3                  1.0         0.85  0.769231\n",
              "3      4                  1.0         1.00  1.000000\n",
              "4      5                  1.0         1.00  1.000000"
            ],
            "text/html": [
              "\n",
              "  <div id=\"df-f46a891d-df30-4a2e-bd09-0c8dda81119e\">\n",
              "    <div class=\"colab-df-container\">\n",
              "      <div>\n",
              "<style scoped>\n",
              "    .dataframe tbody tr th:only-of-type {\n",
              "        vertical-align: middle;\n",
              "    }\n",
              "\n",
              "    .dataframe tbody tr th {\n",
              "        vertical-align: top;\n",
              "    }\n",
              "\n",
              "    .dataframe thead th {\n",
              "        text-align: right;\n",
              "    }\n",
              "</style>\n",
              "<table border=\"1\" class=\"dataframe\">\n",
              "  <thead>\n",
              "    <tr style=\"text-align: right;\">\n",
              "      <th></th>\n",
              "      <th>Class</th>\n",
              "      <th>Sensitivity(Recall)</th>\n",
              "      <th>Specificity</th>\n",
              "      <th>F1 score</th>\n",
              "    </tr>\n",
              "  </thead>\n",
              "  <tbody>\n",
              "    <tr>\n",
              "      <th>0</th>\n",
              "      <td>1</td>\n",
              "      <td>0.4</td>\n",
              "      <td>1.00</td>\n",
              "      <td>0.571429</td>\n",
              "    </tr>\n",
              "    <tr>\n",
              "      <th>1</th>\n",
              "      <td>2</td>\n",
              "      <td>1.0</td>\n",
              "      <td>1.00</td>\n",
              "      <td>1.000000</td>\n",
              "    </tr>\n",
              "    <tr>\n",
              "      <th>2</th>\n",
              "      <td>3</td>\n",
              "      <td>1.0</td>\n",
              "      <td>0.85</td>\n",
              "      <td>0.769231</td>\n",
              "    </tr>\n",
              "    <tr>\n",
              "      <th>3</th>\n",
              "      <td>4</td>\n",
              "      <td>1.0</td>\n",
              "      <td>1.00</td>\n",
              "      <td>1.000000</td>\n",
              "    </tr>\n",
              "    <tr>\n",
              "      <th>4</th>\n",
              "      <td>5</td>\n",
              "      <td>1.0</td>\n",
              "      <td>1.00</td>\n",
              "      <td>1.000000</td>\n",
              "    </tr>\n",
              "  </tbody>\n",
              "</table>\n",
              "</div>\n",
              "      <button class=\"colab-df-convert\" onclick=\"convertToInteractive('df-f46a891d-df30-4a2e-bd09-0c8dda81119e')\"\n",
              "              title=\"Convert this dataframe to an interactive table.\"\n",
              "              style=\"display:none;\">\n",
              "        \n",
              "  <svg xmlns=\"http://www.w3.org/2000/svg\" height=\"24px\"viewBox=\"0 0 24 24\"\n",
              "       width=\"24px\">\n",
              "    <path d=\"M0 0h24v24H0V0z\" fill=\"none\"/>\n",
              "    <path d=\"M18.56 5.44l.94 2.06.94-2.06 2.06-.94-2.06-.94-.94-2.06-.94 2.06-2.06.94zm-11 1L8.5 8.5l.94-2.06 2.06-.94-2.06-.94L8.5 2.5l-.94 2.06-2.06.94zm10 10l.94 2.06.94-2.06 2.06-.94-2.06-.94-.94-2.06-.94 2.06-2.06.94z\"/><path d=\"M17.41 7.96l-1.37-1.37c-.4-.4-.92-.59-1.43-.59-.52 0-1.04.2-1.43.59L10.3 9.45l-7.72 7.72c-.78.78-.78 2.05 0 2.83L4 21.41c.39.39.9.59 1.41.59.51 0 1.02-.2 1.41-.59l7.78-7.78 2.81-2.81c.8-.78.8-2.07 0-2.86zM5.41 20L4 18.59l7.72-7.72 1.47 1.35L5.41 20z\"/>\n",
              "  </svg>\n",
              "      </button>\n",
              "      \n",
              "  <style>\n",
              "    .colab-df-container {\n",
              "      display:flex;\n",
              "      flex-wrap:wrap;\n",
              "      gap: 12px;\n",
              "    }\n",
              "\n",
              "    .colab-df-convert {\n",
              "      background-color: #E8F0FE;\n",
              "      border: none;\n",
              "      border-radius: 50%;\n",
              "      cursor: pointer;\n",
              "      display: none;\n",
              "      fill: #1967D2;\n",
              "      height: 32px;\n",
              "      padding: 0 0 0 0;\n",
              "      width: 32px;\n",
              "    }\n",
              "\n",
              "    .colab-df-convert:hover {\n",
              "      background-color: #E2EBFA;\n",
              "      box-shadow: 0px 1px 2px rgba(60, 64, 67, 0.3), 0px 1px 3px 1px rgba(60, 64, 67, 0.15);\n",
              "      fill: #174EA6;\n",
              "    }\n",
              "\n",
              "    [theme=dark] .colab-df-convert {\n",
              "      background-color: #3B4455;\n",
              "      fill: #D2E3FC;\n",
              "    }\n",
              "\n",
              "    [theme=dark] .colab-df-convert:hover {\n",
              "      background-color: #434B5C;\n",
              "      box-shadow: 0px 1px 3px 1px rgba(0, 0, 0, 0.15);\n",
              "      filter: drop-shadow(0px 1px 2px rgba(0, 0, 0, 0.3));\n",
              "      fill: #FFFFFF;\n",
              "    }\n",
              "  </style>\n",
              "\n",
              "      <script>\n",
              "        const buttonEl =\n",
              "          document.querySelector('#df-f46a891d-df30-4a2e-bd09-0c8dda81119e button.colab-df-convert');\n",
              "        buttonEl.style.display =\n",
              "          google.colab.kernel.accessAllowed ? 'block' : 'none';\n",
              "\n",
              "        async function convertToInteractive(key) {\n",
              "          const element = document.querySelector('#df-f46a891d-df30-4a2e-bd09-0c8dda81119e');\n",
              "          const dataTable =\n",
              "            await google.colab.kernel.invokeFunction('convertToInteractive',\n",
              "                                                     [key], {});\n",
              "          if (!dataTable) return;\n",
              "\n",
              "          const docLinkHtml = 'Like what you see? Visit the ' +\n",
              "            '<a target=\"_blank\" href=https://colab.research.google.com/notebooks/data_table.ipynb>data table notebook</a>'\n",
              "            + ' to learn more about interactive tables.';\n",
              "          element.innerHTML = '';\n",
              "          dataTable['output_type'] = 'display_data';\n",
              "          await google.colab.output.renderOutput(dataTable, element);\n",
              "          const docLink = document.createElement('div');\n",
              "          docLink.innerHTML = docLinkHtml;\n",
              "          element.appendChild(docLink);\n",
              "        }\n",
              "      </script>\n",
              "    </div>\n",
              "  </div>\n",
              "  "
            ]
          },
          "metadata": {},
          "execution_count": 1188
        }
      ]
    },
    {
      "cell_type": "markdown",
      "source": [
        "# Part 2: Combining all dataset"
      ],
      "metadata": {
        "id": "yyeOqNaPpZU8"
      }
    },
    {
      "cell_type": "code",
      "source": [
        "# We have datasets in df_3, df_6, df_7, df_10 and df_12\n",
        "df_3.iloc[:, : -1].columns"
      ],
      "metadata": {
        "colab": {
          "base_uri": "https://localhost:8080/"
        },
        "id": "bwAkzV_cqwmH",
        "outputId": "d0484053-7e9c-4bfc-c275-3bfb90b18dd0"
      },
      "execution_count": 1189,
      "outputs": [
        {
          "output_type": "execute_result",
          "data": {
            "text/plain": [
              "Index(['0.799_0.201', '0.799_0.201.1', '0.700_0.300', '0.700_0.300.1',\n",
              "       '0.600_0.400', '0.600_0.400.1', '0.501_0.499', '0.501_0.499.1',\n",
              "       '0.400_0.600', '0.400_0.600.1'],\n",
              "      dtype='object')"
            ]
          },
          "metadata": {},
          "execution_count": 1189
        }
      ]
    },
    {
      "cell_type": "code",
      "source": [
        "df = pd.concat([df_3.iloc[:, : -1], df_6.iloc[:, : -1], df_7.iloc[:, : -1], df_10.iloc[:, : -1], df_12], axis = 1)"
      ],
      "metadata": {
        "id": "PDdKr6iusuMG"
      },
      "execution_count": 1190,
      "outputs": []
    },
    {
      "cell_type": "code",
      "source": [
        "df.shape"
      ],
      "metadata": {
        "colab": {
          "base_uri": "https://localhost:8080/"
        },
        "id": "Ae1I-j2FtLAu",
        "outputId": "fc71c3ad-2a8f-4da5-c85f-792e0b14a7ac"
      },
      "execution_count": 1191,
      "outputs": [
        {
          "output_type": "execute_result",
          "data": {
            "text/plain": [
              "(25, 51)"
            ]
          },
          "metadata": {},
          "execution_count": 1191
        }
      ]
    },
    {
      "cell_type": "code",
      "source": [
        "# Outputting the dataframe to run in matlab\n",
        "from pathlib import Path  \n",
        "filepath = Path('./out.csv')  \n",
        "filepath.parent.mkdir(parents=True, exist_ok=True)  \n",
        "df.to_csv(filepath)  "
      ],
      "metadata": {
        "id": "2_BfjOjjtLir"
      },
      "execution_count": 1192,
      "outputs": []
    },
    {
      "cell_type": "code",
      "source": [
        "# Separating X and training value\n",
        "X = df.iloc[:, :-1]\n",
        "y = df['Class']"
      ],
      "metadata": {
        "id": "LEHBElPvFs3j"
      },
      "execution_count": 1193,
      "outputs": []
    },
    {
      "cell_type": "markdown",
      "source": [
        "# Implementing the Minimum Redundancy Maximum Relevance on Matlab, we set the indexes variable to the rank after implementing MRMR"
      ],
      "metadata": {
        "id": "OHjW4AyQCrrG"
      }
    },
    {
      "cell_type": "code",
      "source": [
        "mrmr_indexes = [4,49,41,30,45,2,23,20,1,34,43,46,14,32,42,\n",
        "          29,12,24,36,21,47,48,22,\n",
        "           6, 5,28,33,50,31,15,27,3,35,44,11,13,18,19,\n",
        "           9,17,39,16,8,40,10,25,7,37,38,26]\n",
        "# It is 1-based indexing"
      ],
      "metadata": {
        "id": "dwwunO6AvAQu"
      },
      "execution_count": 1194,
      "outputs": []
    },
    {
      "cell_type": "code",
      "source": [
        "# Converting to 0 based indexing\n",
        "mrmr_indexes[:] = [index - 1 for index in mrmr_indexes]"
      ],
      "metadata": {
        "id": "0FNpcLCwGj6H"
      },
      "execution_count": 1195,
      "outputs": []
    },
    {
      "cell_type": "code",
      "source": [
        "# Model for evaluating a classifier\n",
        "def evaluate_classififer(classifier, X, y):\n",
        "  X_train, X_test, y_train, y_test = train_test_split(X, y, test_size=0.20, random_state = 10, stratify = y)\n",
        "  classifier.fit(X_train, y_train)\n",
        "  y_pred = classifier.predict(X_test)\n",
        "  return accuracy_score(y_test, y_pred)"
      ],
      "metadata": {
        "id": "_PTY1yXuG58i"
      },
      "execution_count": 1196,
      "outputs": []
    },
    {
      "cell_type": "code",
      "source": [
        "# Model for evaluating a classifier values\n",
        "def evaluate_classififer_values(classifier, X, y):\n",
        "  X_train, X_test, y_train, y_test = train_test_split(X, y, test_size=0.20, random_state = 10, stratify = y)\n",
        "  classifier.fit(X_train, y_train)\n",
        "  y_pred = classifier.predict(X_test)\n",
        "  return y_test, y_pred"
      ],
      "metadata": {
        "id": "raom1CLvpq__"
      },
      "execution_count": 1197,
      "outputs": []
    },
    {
      "cell_type": "code",
      "source": [
        "# Evaluate Kmeans classifier\n",
        "def evaluate_kmeans(X,y):\n",
        "  y = y.to_numpy()\n",
        "  X_train, X_test, y_train, y_test = train_test_split(X, y, test_size=0.20, random_state = 10, stratify = y)\n",
        "  kmeans = KMeans(n_clusters = 5, random_state=0).fit(X_train)\n",
        "  y_pred_train = kmeans.predict(X_train)\n",
        "  y_pred = kmeans.predict(X_test)\n",
        "  df = pd.DataFrame(y_pred, columns=['Class'])\n",
        "\n",
        "  l = y_pred_train.tolist()\n",
        "  m = y_train.tolist()\n",
        "  \n",
        "  index_list = list()\n",
        "  \n",
        "  # For all classes\n",
        "  for x in range(5):\n",
        "    # Getting Indexes\n",
        "    index = m.index(x)\n",
        "    index_list.append(index)\n",
        "  y_pred = df.replace({0: l[index_list[0]], 1: l[index_list[1]], 2: l[index_list[2]], 3: l[index_list[3]], 4: l[index_list[4]]})\n",
        "  # print(\"accuracy for kmeans\", accuracy_score(y_test, y_pred))\n",
        "  return accuracy_score(y_test, y_pred)"
      ],
      "metadata": {
        "id": "ueQU4GSiQr20"
      },
      "execution_count": 1198,
      "outputs": []
    },
    {
      "cell_type": "code",
      "source": [
        "# Get featurse from indexes\n",
        "def get_features(all_features, indexes):\n",
        "  df = pd.DataFrame()\n",
        "  for x in indexes:\n",
        "    df = pd.concat([df, all_features.iloc[:,x]], axis = 1)\n",
        "  return df"
      ],
      "metadata": {
        "id": "A-5VY_N6MGnH"
      },
      "execution_count": 1199,
      "outputs": []
    },
    {
      "cell_type": "code",
      "source": [
        "# Evaluate FCMeans Classifier\n",
        "def evaluate_fcmmeans(X,y):\n",
        "  # print(X)\n",
        "  y = y.to_numpy()\n",
        "  X = X.to_numpy()\n",
        "  X_train, X_test, y_train, y_test = train_test_split(X, y, test_size=0.20, random_state = 10, stratify = y)\n",
        "  fcm = FCM(n_clusters = 5)\n",
        "  fcm.fit(X_train)\n",
        "  y_pred_train = fcm.predict(X_train)\n",
        "  y_pred = fcm.predict(X_test)\n",
        "  df = pd.DataFrame(y_pred, columns=['Class'])\n",
        "\n",
        "  l = y_pred_train.tolist()\n",
        "  m = y_train.tolist()\n",
        "  \n",
        "  index_list = list()\n",
        "  \n",
        "  # For all classes\n",
        "  for x in range(5):\n",
        "    # Getting Indexes\n",
        "    index = m.index(x)\n",
        "    index_list.append(index)\n",
        "  y_pred = df.replace({0: l[index_list[0]], 1: l[index_list[1]], 2: l[index_list[2]], 3: l[index_list[3]], 4: l[index_list[4]]})\n",
        "  return accuracy_score(y_test, y_pred)"
      ],
      "metadata": {
        "id": "i5g3sMKkQx4e"
      },
      "execution_count": 1200,
      "outputs": []
    },
    {
      "cell_type": "code",
      "source": [
        "# Evaluate FCMeans Classifier value\n",
        "def evaluate_fcmmeans_values(X,y):\n",
        "  y = y.to_numpy()\n",
        "  X = X.to_numpy()\n",
        "  X_train, X_test, y_train, y_test = train_test_split(X, y, test_size=0.20, random_state = 10, stratify = y)\n",
        "  fcm = FCM(n_clusters = 5)\n",
        "  fcm.fit(X_train)\n",
        "  y_pred_train = fcm.predict(X_train)\n",
        "  y_pred = fcm.predict(X_test)\n",
        "  df = pd.DataFrame(y_pred, columns=['Class'])\n",
        "\n",
        "  l = y_pred_train.tolist()\n",
        "  m = y_train.tolist()\n",
        "  \n",
        "  index_list = list()\n",
        "  \n",
        "  # For all classes\n",
        "  for x in range(5):\n",
        "    # Getting Indexes\n",
        "    index = m.index(x)\n",
        "    index_list.append(index)\n",
        "  y_pred = df.replace({0: l[index_list[0]], 1: l[index_list[1]], 2: l[index_list[2]], 3: l[index_list[3]], 4: l[index_list[4]]})\n",
        "  return y_test, y_pred"
      ],
      "metadata": {
        "id": "nQmsIgk6plBg"
      },
      "execution_count": 1201,
      "outputs": []
    },
    {
      "cell_type": "code",
      "source": [
        "# Evaluate Kmeans Classifier value\n",
        "def evaluate_kmeans_values(X,y):\n",
        "  # y = y.to_numpy()\n",
        "  # if type(y) ==\n",
        "  X_train, X_test, y_train, y_test = train_test_split(X, y, test_size=0.20, random_state = 10, stratify = y)\n",
        "  kmeans = KMeans(n_clusters = 5, random_state=0).fit(X_train)\n",
        "  y_pred_train = kmeans.predict(X_train)\n",
        "  y_pred = kmeans.predict(X_test)\n",
        "  df = pd.DataFrame(y_pred, columns=['Class'])\n",
        "\n",
        "  l = y_pred_train.tolist()\n",
        "  m = y_train.tolist()\n",
        "  \n",
        "  index_list = list()\n",
        "  \n",
        "  # For all classes\n",
        "  for x in range(5):\n",
        "    # Getting Indexes\n",
        "    index = m.index(x)\n",
        "    index_list.append(index)\n",
        "  y_pred = df.replace({0: l[index_list[0]], 1: l[index_list[1]], 2: l[index_list[2]], 3: l[index_list[3]], 4: l[index_list[4]]})\n",
        "  # print(\"accuracy for kmeans\", accuracy_score(y_test, y_pred))\n",
        "  return y_test, y_pred"
      ],
      "metadata": {
        "id": "FMHsZCo_pPV6"
      },
      "execution_count": 1202,
      "outputs": []
    },
    {
      "cell_type": "markdown",
      "source": [
        "## Implementing feature selection with MRMR\n",
        "\n"
      ],
      "metadata": {
        "id": "7iR4LhkyFURt"
      }
    },
    {
      "cell_type": "code",
      "source": [
        "MLP_scores = list()\n",
        "SVC_scores = list()\n",
        "Kmeans_scores = list()\n",
        "FCMeans_scores = list()\n",
        "\n",
        "MLP_max = 0\n",
        "MLP_feature = 0\n",
        "SVM_max = 0\n",
        "SVM_feature = 0\n",
        "Kmeans_max = 0\n",
        "Kmeans_feature = 0\n",
        "FCMeans_max = 0\n",
        "FCMeans_feature = 0\n",
        "\n",
        "# Looping through number of features\n",
        "for n_feature in range(1, X.shape[1]):\n",
        "  # Getting features indexes\n",
        "  features_indexes = mrmr_indexes[:n_feature]\n",
        "  # Getting feature values\n",
        "  features = get_features(X, features_indexes)\n",
        "\n",
        "  # MLP\n",
        "  mlp_acc = evaluate_classififer(MLPClassifier(), features, y)\n",
        "  MLP_feature = n_feature if mlp_acc > MLP_max else MLP_feature\n",
        "  MLP_max = mlp_acc if mlp_acc > MLP_max else MLP_max\n",
        "  MLP_scores.append(mlp_acc)\n",
        "\n",
        "  # SVC\n",
        "  svc_acc = evaluate_classififer(SVC(), features, y)\n",
        "  SVM_feature = n_feature if svc_acc > SVM_max else SVM_feature\n",
        "  SVM_max = mlp_acc if svc_acc > SVM_max else SVM_max\n",
        "  SVC_scores.append(svc_acc)\n",
        "\n",
        "  # K Means\n",
        "  kmeans_acc = evaluate_kmeans(features, y)\n",
        "  Kmeans_feature = n_feature if mlp_acc > Kmeans_max else Kmeans_feature\n",
        "  Kmeans_max = mlp_acc if mlp_acc > Kmeans_max else Kmeans_max\n",
        "  Kmeans_scores.append(kmeans_acc)\n",
        "\n",
        "  # FCMeans\n",
        "  FCmeans_acc = evaluate_fcmmeans(features, y)\n",
        "  FCMeans_feature = n_feature if mlp_acc > FCMeans_max else FCMeans_feature\n",
        "  FCMeans_max = mlp_acc if mlp_acc > FCMeans_max else FCMeans_max\n",
        "  FCMeans_scores.append(FCmeans_acc)"
      ],
      "metadata": {
        "id": "oroUaEjcFTFC"
      },
      "execution_count": 1203,
      "outputs": []
    },
    {
      "cell_type": "markdown",
      "source": [
        "## Plotting the MLP accuracy graph"
      ],
      "metadata": {
        "id": "57GbcYUJQAbx"
      }
    },
    {
      "cell_type": "code",
      "source": [
        "p = sns.lineplot(x=range(1,50), y = MLP_scores)\n",
        "p.set_xlabel(\"Number of Features\")\n",
        "p.set_ylabel(\"Accuracy\")\n",
        "features_indexes = mrmr_indexes[:MLP_feature]\n",
        "test, pred = evaluate_classififer_values(MLPClassifier(), get_features(X, features_indexes), y)\n",
        "print(\"Best case for MLP Classifier\")\n",
        "metricCalculation(test.to_numpy(), pred)"
      ],
      "metadata": {
        "colab": {
          "base_uri": "https://localhost:8080/",
          "height": 418
        },
        "id": "AHUvwknQO8rz",
        "outputId": "d836c986-5cca-44f3-84a8-7946a1aa0d1a"
      },
      "execution_count": 1204,
      "outputs": [
        {
          "output_type": "stream",
          "name": "stdout",
          "text": [
            "Best case for MLP Classifier\n",
            "The total accuracy is 1.0\n",
            "   Class  Sensitivity(Recall)  Specificity  F1 score\n",
            "0      1                  1.0          1.0       1.0\n",
            "1      2                  1.0          1.0       1.0\n",
            "2      3                  1.0          1.0       1.0\n",
            "3      4                  1.0          1.0       1.0\n",
            "4      5                  1.0          1.0       1.0\n"
          ]
        },
        {
          "output_type": "display_data",
          "data": {
            "text/plain": [
              "<Figure size 432x288 with 1 Axes>"
            ],
            "image/png": "[encoded data removed]"
          },
          "metadata": {
            "needs_background": "light"
          }
        }
      ]
    },
    {
      "cell_type": "markdown",
      "source": [
        "## Plotting the SVM accuracy graph"
      ],
      "metadata": {
        "id": "hK_7PyrCQDtU"
      }
    },
    {
      "cell_type": "code",
      "source": [
        "p = sns.lineplot(x=range(1,50), y=SVC_scores)\n",
        "p.set_xlabel(\"Number of Features\")\n",
        "p.set_ylabel(\"Accuracy\")\n",
        "features_indexes = mrmr_indexes[:SVM_feature]\n",
        "test, pred = evaluate_classififer_values(SVC(), get_features(X, features_indexes), y)\n",
        "print(\"Best case for SVM Classifier\")\n",
        "metricCalculation(test.to_numpy(), pred)"
      ],
      "metadata": {
        "colab": {
          "base_uri": "https://localhost:8080/",
          "height": 418
        },
        "id": "231dIgqrQGgY",
        "outputId": "2cc2c529-b365-444c-e998-999c09c6f385"
      },
      "execution_count": 1205,
      "outputs": [
        {
          "output_type": "stream",
          "name": "stdout",
          "text": [
            "Best case for SVM Classifier\n",
            "The total accuracy is 1.0\n",
            "   Class  Sensitivity(Recall)  Specificity  F1 score\n",
            "0      1                  1.0          1.0       1.0\n",
            "1      2                  1.0          1.0       1.0\n",
            "2      3                  1.0          1.0       1.0\n",
            "3      4                  1.0          1.0       1.0\n",
            "4      5                  1.0          1.0       1.0\n"
          ]
        },
        {
          "output_type": "display_data",
          "data": {
            "text/plain": [
              "<Figure size 432x288 with 1 Axes>"
            ],
            "image/png": "[encoded data removed]"
          },
          "metadata": {
            "needs_background": "light"
          }
        }
      ]
    },
    {
      "cell_type": "markdown",
      "source": [
        "## Plotting the Kmeans accuracy graph"
      ],
      "metadata": {
        "id": "77fzfE56bEoz"
      }
    },
    {
      "cell_type": "code",
      "source": [
        "p = sns.lineplot(x=range(1,50), y = Kmeans_scores)\n",
        "p.set_xlabel(\"Number of Features\")\n",
        "p.set_ylabel(\"Accuracy\")\n",
        "features_indexes = mrmr_indexes[:Kmeans_feature]\n",
        "test, pred = evaluate_kmeans_values(get_features(X, features_indexes), y)\n",
        "print(\"Best case for Kmeans Classifier\")\n",
        "metricCalculation(test.to_numpy(), pred)"
      ],
      "metadata": {
        "colab": {
          "base_uri": "https://localhost:8080/",
          "height": 418
        },
        "id": "RJR5ZYSPbKaA",
        "outputId": "3a9cc1ba-0ad5-4077-ec5b-f51faa8089ec"
      },
      "execution_count": 1206,
      "outputs": [
        {
          "output_type": "stream",
          "name": "stdout",
          "text": [
            "Best case for Kmeans Classifier\n",
            "The total accuracy is 0.0\n",
            "   Class  Sensitivity(Recall)  Specificity  F1 score\n",
            "0      1                  0.0         0.75       0.0\n",
            "1      2                  0.0         0.75       0.0\n",
            "2      3                  0.0         0.75       0.0\n",
            "3      4                  0.0         0.75       0.0\n",
            "4      5                  0.0         0.75       0.0\n"
          ]
        },
        {
          "output_type": "display_data",
          "data": {
            "text/plain": [
              "<Figure size 432x288 with 1 Axes>"
            ],
            "image/png": "[encoded data removed]"
          },
          "metadata": {
            "needs_background": "light"
          }
        }
      ]
    },
    {
      "cell_type": "markdown",
      "source": [
        "## Plotting the FCMeans accuracy graph"
      ],
      "metadata": {
        "id": "YPEPB-MAbHtl"
      }
    },
    {
      "cell_type": "code",
      "source": [
        "p = sns.lineplot(x=range(1,50), y = FCMeans_scores)\n",
        "p.set_xlabel(\"Number of Features\")\n",
        "p.set_ylabel(\"Accuracy\")\n",
        "features_indexes = mrmr_indexes[:FCMeans_feature]\n",
        "test, pred = evaluate_fcmmeans_values(get_features(X, features_indexes), y)\n",
        "print(\"Best case for FCMeans Classifier\")\n",
        "metricCalculation(test, pred)"
      ],
      "metadata": {
        "colab": {
          "base_uri": "https://localhost:8080/",
          "height": 418
        },
        "id": "EZ1z_v1bbOX8",
        "outputId": "74dcf516-ab54-4a56-e68d-5ef967dd266a"
      },
      "execution_count": 1207,
      "outputs": [
        {
          "output_type": "stream",
          "name": "stdout",
          "text": [
            "Best case for FCMeans Classifier\n",
            "The total accuracy is 0.4\n",
            "   Class  Sensitivity(Recall)  Specificity  F1 score\n",
            "0      1                  0.0         1.00       0.0\n",
            "1      2                  1.0         0.50       0.5\n",
            "2      3                  0.0         1.00       0.0\n",
            "3      4                  0.0         0.75       0.0\n",
            "4      5                  1.0         1.00       1.0\n"
          ]
        },
        {
          "output_type": "display_data",
          "data": {
            "text/plain": [
              "<Figure size 432x288 with 1 Axes>"
            ],
            "image/png": "[encoded data removed]"
          },
          "metadata": {
            "needs_background": "light"
          }
        }
      ]
    },
    {
      "cell_type": "markdown",
      "source": [
        "# Implementing Relief Feature Selection"
      ],
      "metadata": {
        "id": "KmcfqvUrDwnX"
      }
    },
    {
      "cell_type": "code",
      "source": [
        "from ReliefF import ReliefF\n",
        "# fs = ReliefF(n_neighbors = 5)\n",
        "# X_train = fs.fit_transform(df.to_numpy(), y)\n",
        "\n",
        "MLP_scores = list()\n",
        "SVC_scores = list()\n",
        "Kmeans_scores = list()\n",
        "FCMeans_scores = list()\n",
        "\n",
        "MLP_max = 0\n",
        "MLP_feature = 0\n",
        "SVM_max = 0\n",
        "SVM_feature = 0\n",
        "Kmeans_max = 0\n",
        "Kmeans_feature = 0\n",
        "FCMeans_max = 0\n",
        "FCMeans_feature = 0\n",
        "\n",
        "# Looping through number of features\n",
        "for n_feature in range(1, X.shape[1]):\n",
        "  fs = ReliefF(n_neighbors = 5, n_features_to_keep = n_feature)\n",
        "  features = fs.fit_transform(df.to_numpy(), y)\n",
        "\n",
        "  # MLP\n",
        "  mlp_acc = evaluate_classififer(MLPClassifier(), features, y)\n",
        "  MLP_feature = n_feature if mlp_acc > MLP_max else MLP_feature\n",
        "  MLP_max = mlp_acc if mlp_acc > MLP_max else MLP_max\n",
        "  MLP_scores.append(mlp_acc)\n",
        "\n",
        "  # SVC\n",
        "  svc_acc = evaluate_classififer(SVC(), features, y)\n",
        "  SVM_feature = n_feature if svc_acc > SVM_max else SVM_feature\n",
        "  SVM_max = mlp_acc if svc_acc > SVM_max else SVM_max\n",
        "  SVC_scores.append(svc_acc)\n",
        "\n",
        "  # K Means\n",
        "  kmeans_acc = evaluate_kmeans(features, y)\n",
        "  Kmeans_feature = n_feature if mlp_acc > Kmeans_max else Kmeans_feature\n",
        "  Kmeans_max = mlp_acc if mlp_acc > Kmeans_max else Kmeans_max\n",
        "  Kmeans_scores.append(kmeans_acc)\n",
        "\n",
        "  # FCMeans\n",
        "  FCmeans_acc = evaluate_fcmmeans(pd.DataFrame(features), y)\n",
        "  FCMeans_feature = n_feature if mlp_acc > FCMeans_max else FCMeans_feature\n",
        "  FCMeans_max = mlp_acc if mlp_acc > FCMeans_max else FCMeans_max\n",
        "  FCMeans_scores.append(FCmeans_acc)"
      ],
      "metadata": {
        "id": "U4NLHyUJDe50"
      },
      "execution_count": 1208,
      "outputs": []
    },
    {
      "cell_type": "markdown",
      "source": [
        "## Plotting the MLP accuracy graph"
      ],
      "metadata": {
        "id": "LuwrIazugY9f"
      }
    },
    {
      "cell_type": "code",
      "source": [
        "p = sns.lineplot(x=range(1,50), y = MLP_scores)\n",
        "p.set_xlabel(\"Number of Features\")\n",
        "p.set_ylabel(\"Accuracy\")\n",
        "fs = ReliefF(n_neighbors = 5, n_features_to_keep = MLP_feature)\n",
        "features = fs.fit_transform(df.to_numpy(), y)\n",
        "test, pred = evaluate_classififer_values(MLPClassifier(), features, y)\n",
        "print(\"Best case for MLP Classifier\")\n",
        "metricCalculation(test.to_numpy(), pred)"
      ],
      "metadata": {
        "colab": {
          "base_uri": "https://localhost:8080/",
          "height": 418
        },
        "id": "mRteT2c4gjnz",
        "outputId": "e9938f15-482e-4d0e-dcac-1457832ea436"
      },
      "execution_count": 1209,
      "outputs": [
        {
          "output_type": "stream",
          "name": "stdout",
          "text": [
            "Best case for MLP Classifier\n",
            "The total accuracy is 0.8\n",
            "   Class  Sensitivity(Recall)  Specificity  F1 score\n",
            "0      1                  1.0         1.00  1.000000\n",
            "1      2                  1.0         0.75  0.666667\n",
            "2      3                  0.0         1.00  0.000000\n",
            "3      4                  1.0         1.00  1.000000\n",
            "4      5                  1.0         1.00  1.000000\n"
          ]
        },
        {
          "output_type": "display_data",
          "data": {
            "text/plain": [
              "<Figure size 432x288 with 1 Axes>"
            ],
            "image/png": "[encoded data removed]"
          },
          "metadata": {
            "needs_background": "light"
          }
        }
      ]
    },
    {
      "cell_type": "markdown",
      "source": [
        "## Plotting the SVM accuracy graph"
      ],
      "metadata": {
        "id": "3-zXegtNgeKf"
      }
    },
    {
      "cell_type": "code",
      "source": [
        "p = sns.lineplot(x=range(1,50), y = SVC_scores)\n",
        "p.set_xlabel(\"Number of Features\")\n",
        "p.set_ylabel(\"Accuracy\")\n",
        "fs = ReliefF(n_neighbors = 5, n_features_to_keep = SVM_feature)\n",
        "features = fs.fit_transform(df.to_numpy(), y)\n",
        "test, pred = evaluate_classififer_values(MLPClassifier(), features, y)\n",
        "print(\"Best case for SVM Classifier\")\n",
        "metricCalculation(test.to_numpy(), pred)"
      ],
      "metadata": {
        "colab": {
          "base_uri": "https://localhost:8080/",
          "height": 418
        },
        "id": "W1EipzV-gkUm",
        "outputId": "4e989214-80d2-4419-e144-ed1fc41626e8"
      },
      "execution_count": 1210,
      "outputs": [
        {
          "output_type": "stream",
          "name": "stdout",
          "text": [
            "Best case for SVM Classifier\n",
            "The total accuracy is 0.2\n",
            "   Class  Sensitivity(Recall)  Specificity  F1 score\n",
            "0      1                  0.0         1.00       0.0\n",
            "1      2                  1.0         0.50       0.5\n",
            "2      3                  0.0         0.75       0.0\n",
            "3      4                  0.0         1.00       0.0\n",
            "4      5                  0.0         0.75       0.0\n"
          ]
        },
        {
          "output_type": "display_data",
          "data": {
            "text/plain": [
              "<Figure size 432x288 with 1 Axes>"
            ],
            "image/png": "[encoded data removed]"
          },
          "metadata": {
            "needs_background": "light"
          }
        }
      ]
    },
    {
      "cell_type": "markdown",
      "source": [
        "## Plotting the Kmeans accuracy graph"
      ],
      "metadata": {
        "id": "YKfHalyvgf5f"
      }
    },
    {
      "cell_type": "code",
      "source": [
        "p = sns.lineplot(x=range(1,50), y = Kmeans_scores)\n",
        "p.set_xlabel(\"Number of Features\")\n",
        "p.set_ylabel(\"Accuracy\")\n",
        "fs = ReliefF(n_neighbors = 5, n_features_to_keep = SVM_feature)\n",
        "features = fs.fit_transform(df.to_numpy(), y)\n",
        "test, pred = evaluate_kmeans_values(features, y)\n",
        "print(\"Best case for Kmeans Classifier\")\n",
        "metricCalculation(test.to_numpy(), pred)"
      ],
      "metadata": {
        "colab": {
          "base_uri": "https://localhost:8080/",
          "height": 418
        },
        "id": "5LVn32z8gsAr",
        "outputId": "d8cb3367-dc05-46dc-f73e-e6c6160faec9"
      },
      "execution_count": 1211,
      "outputs": [
        {
          "output_type": "stream",
          "name": "stdout",
          "text": [
            "Best case for Kmeans Classifier\n",
            "The total accuracy is 0.2\n",
            "   Class  Sensitivity(Recall)  Specificity  F1 score\n",
            "0      1                  0.0         0.75       0.0\n",
            "1      2                  0.0         0.75       0.0\n",
            "2      3                  0.0         0.75       0.0\n",
            "3      4                  0.0         0.75       0.0\n",
            "4      5                  1.0         1.00       1.0\n"
          ]
        },
        {
          "output_type": "display_data",
          "data": {
            "text/plain": [
              "<Figure size 432x288 with 1 Axes>"
            ],
            "image/png": "[encoded data removed]"
          },
          "metadata": {
            "needs_background": "light"
          }
        }
      ]
    },
    {
      "cell_type": "markdown",
      "source": [
        "## Plotting the FCMeans accuracy graph"
      ],
      "metadata": {
        "id": "bZbj9KzvghOL"
      }
    },
    {
      "cell_type": "code",
      "source": [
        "p = sns.lineplot(x=range(1,50), y = FCMeans_scores)\n",
        "p.set_xlabel(\"Number of Features\")\n",
        "p.set_ylabel(\"Accuracy\")\n",
        "\n",
        "fs = ReliefF(n_neighbors = 5, n_features_to_keep = SVM_feature)\n",
        "features = fs.fit_transform(df.to_numpy(), y)\n",
        "test, pred = evaluate_fcmmeans_values(pd.DataFrame(features), y)\n",
        "print(\"Best case for FCmeans\")\n",
        "metricCalculation(test, pred)"
      ],
      "metadata": {
        "colab": {
          "base_uri": "https://localhost:8080/",
          "height": 418
        },
        "id": "V05ZuFPXEdu9",
        "outputId": "4f8c4234-5da0-4251-bd5c-86df48f9d21a"
      },
      "execution_count": 1212,
      "outputs": [
        {
          "output_type": "stream",
          "name": "stdout",
          "text": [
            "Best case for FCmeans\n",
            "The total accuracy is 0.0\n",
            "   Class  Sensitivity(Recall)  Specificity  F1 score\n",
            "0      1                  0.0         0.75       0.0\n",
            "1      2                  0.0         0.75       0.0\n",
            "2      3                  0.0         0.75       0.0\n",
            "3      4                  0.0         0.50       0.0\n",
            "4      5                  0.0         1.00       0.0\n"
          ]
        },
        {
          "output_type": "display_data",
          "data": {
            "text/plain": [
              "<Figure size 432x288 with 1 Axes>"
            ],
            "image/png": "[encoded data removed]"
          },
          "metadata": {
            "needs_background": "light"
          }
        }
      ]
    }
  ]
}